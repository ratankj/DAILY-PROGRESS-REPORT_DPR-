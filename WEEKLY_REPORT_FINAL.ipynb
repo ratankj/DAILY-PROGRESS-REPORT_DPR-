{
 "cells": [
  {
   "cell_type": "code",
   "execution_count": 1,
   "metadata": {},
   "outputs": [],
   "source": [
    "import pandas as pd\n",
    "import pandas as pd\n",
    "import numpy as np\n",
    "import os\n",
    "from datetime import datetime, timedelta\n",
    "pd.set_option('display.max_columns', None)"
   ]
  },
  {
   "cell_type": "code",
   "execution_count": null,
   "metadata": {},
   "outputs": [],
   "source": []
  },
  {
   "cell_type": "code",
   "execution_count": 2,
   "metadata": {},
   "outputs": [
    {
     "name": "stdout",
     "output_type": "stream",
     "text": [
      "DIVISION_MASTER_TABLE data is done\n",
      "WEEKLY_REPORT\n",
      "Orgwise_Privilege_group_status data \n",
      "Working on HES data\n"
     ]
    }
   ],
   "source": [
    "# DIVISION TABLE\n",
    "\n",
    "DIVISION_MASTER_TABLE =pd.read_csv(r\"C:\\Users\\Ratan Kumar Jha\\Desktop\\Daily progress report\\WEEKLY REPORT\\INPUT FILE\\DIVISION_MASTER.CSV\")\n",
    "print(\"DIVISION_MASTER_TABLE data is done\")\n",
    "WEEKLY_REPORT =  pd.read_excel(r\"C:\\Users\\Ratan Kumar Jha\\Desktop\\Daily progress report\\WEEKLY REPORT\\INPUT FILE\\Division Master table.xlsx\")\n",
    "WEEKLY_REPORT.to_csv(r\"C:\\PYTHON\\EDF_CODE_AUTOMATION_PYTHON\\DAILY-PROGRESS-REPORT_DPR-\\output_folder_weekly_report\\WEEKLY_REPORT.csv\",index=False)\n",
    "WEEKLY_REPORT=pd.read_csv(r\"C:\\PYTHON\\EDF_CODE_AUTOMATION_PYTHON\\DAILY-PROGRESS-REPORT_DPR-\\output_folder_weekly_report\\WEEKLY_REPORT.csv\")\n",
    "\n",
    "\n",
    "print('WEEKLY_REPORT')\n",
    "\n",
    "\n",
    "# ----------------------------------------------------------------------------------------------------------------------------------\n",
    "Orgwise_Privilege_group_status_SB=pd.read_csv(r\"C:\\Users\\Ratan Kumar Jha\\Desktop\\Daily progress report\\RC_DC_TRACKER\\RC_DC_INPUT_FILE\\Orgwise_Privilege_group_status_SB.csv\")\n",
    "Orgwise_Privilege_group_status_NB=pd.read_csv(r\"C:\\Users\\Ratan Kumar Jha\\Desktop\\Daily progress report\\RC_DC_TRACKER\\RC_DC_INPUT_FILE\\Orgwise_Privilege_group_status_NB.csv\")\n",
    "\n",
    "\n",
    "print(\"Orgwise_Privilege_group_status data \")\n",
    "# ----------------------------------------------------------------------------------------------------------------------------------\n",
    "\n",
    "\n",
    "# HES DATA\n",
    "\n",
    "print(\"Working on HES data\")\n",
    "\n",
    "Infrastructure_Devices_NB=pd.read_csv(r\"C:\\Users\\Ratan Kumar Jha\\Desktop\\Daily progress report\\WEEKLY REPORT\\INPUT FILE\\Infrastructure_Devices_NB.csv\",sep=';')\n",
    "Infrastructure_Devices_SB=pd.read_csv(r\"C:\\Users\\Ratan Kumar Jha\\Desktop\\Daily progress report\\WEEKLY REPORT\\INPUT FILE\\Infrastructure_Devices_SB.csv\",sep=';')\n",
    "\n",
    "Infrastructure_Devices_NB.drop(columns=['Unnamed: 13'],axis=1,inplace=True)\n",
    "Infrastructure_Devices_SB.drop(columns=['Unnamed: 13'],axis=1,inplace=True)\n"
   ]
  },
  {
   "cell_type": "code",
   "execution_count": 3,
   "metadata": {},
   "outputs": [
    {
     "name": "stdout",
     "output_type": "stream",
     "text": [
      "2021 data is done\n",
      "2022 data is done\n",
      "2023 data is done\n",
      "2024 data is done\n",
      "All file convert into CSV format\n"
     ]
    }
   ],
   "source": [
    "# METER COMPILATION DATA\n",
    "\n",
    "\n",
    "COMPILED_METER_2021=pd.read_excel(r\"C:\\Users\\Ratan Kumar Jha\\Desktop\\Daily progress report\\RC_DC_TRACKER\\COMPILED_METER_INSTALLATION_ALL\\compiled_Data_2021.xlsx\")\n",
    "print(\"2021 data is done\")\n",
    "COMPLIED_METER_2022=pd.read_excel(r\"C:\\Users\\Ratan Kumar Jha\\Desktop\\Daily progress report\\RC_DC_TRACKER\\COMPILED_METER_INSTALLATION_ALL\\compiled_Data_2022.xlsx\")\n",
    "print(\"2022 data is done\")\n",
    "COMPLIED_METER_2023=pd.read_excel(r\"C:\\Users\\Ratan Kumar Jha\\Desktop\\Daily progress report\\RC_DC_TRACKER\\COMPILED_METER_INSTALLATION_ALL\\compiled_Data_2023.xlsx\")\n",
    "print(\"2023 data is done\")\n",
    "COMPLIED_METER_2024=pd.read_excel(r\"C:\\Users\\Ratan Kumar Jha\\Desktop\\Daily progress report\\RC_DC_TRACKER\\COMPILED_METER_INSTALLATION_ALL\\complied_Data_2024.xlsx\")\n",
    "print(\"2024 data is done\")\n",
    "\n",
    "\n",
    "#-------------------------------------------------------------------------------------------------------------------------------------------------------------------------\n",
    "\n",
    "#convert to csv\n",
    "\n",
    "COMPILED_METER_2021.to_csv(r\"C:\\PYTHON\\EDF_CODE_AUTOMATION_PYTHON\\DAILY-PROGRESS-REPORT_DPR-\\output_folder_data_compliation\\COMPILED_METER_2021.csv\",index=False)\n",
    "COMPLIED_METER_2022.to_csv(r\"C:\\PYTHON\\EDF_CODE_AUTOMATION_PYTHON\\DAILY-PROGRESS-REPORT_DPR-\\output_folder_data_compliation\\COMPLIED_METER_2022.csv\",index=False)\n",
    "COMPLIED_METER_2023.to_csv(r\"C:\\PYTHON\\EDF_CODE_AUTOMATION_PYTHON\\DAILY-PROGRESS-REPORT_DPR-\\output_folder_data_compliation\\COMPLIED_METER_2023.csv\",index=False)\n",
    "COMPLIED_METER_2024.to_csv(r\"C:\\PYTHON\\EDF_CODE_AUTOMATION_PYTHON\\DAILY-PROGRESS-REPORT_DPR-\\output_folder_data_compliation\\COMPLIED_METER_2024.csv\",index=False)\n",
    "\n",
    "\n",
    "print(\"All file convert into CSV format\")"
   ]
  },
  {
   "cell_type": "code",
   "execution_count": 4,
   "metadata": {},
   "outputs": [
    {
     "name": "stderr",
     "output_type": "stream",
     "text": [
      "C:\\Users\\Ratan Kumar Jha\\AppData\\Local\\Temp\\ipykernel_17620\\3065272073.py:1: DtypeWarning: Columns (7,11,15) have mixed types. Specify dtype option on import or set low_memory=False.\n",
      "  COMPILED_METER_2021=pd.read_csv(r\"C:\\PYTHON\\EDF_CODE_AUTOMATION_PYTHON\\DAILY-PROGRESS-REPORT_DPR-\\output_folder_data_compliation\\COMPILED_METER_2021.csv\")\n",
      "C:\\Users\\Ratan Kumar Jha\\AppData\\Local\\Temp\\ipykernel_17620\\3065272073.py:2: DtypeWarning: Columns (7,11) have mixed types. Specify dtype option on import or set low_memory=False.\n",
      "  COMPLIED_METER_2022=pd.read_csv(r\"C:\\PYTHON\\EDF_CODE_AUTOMATION_PYTHON\\DAILY-PROGRESS-REPORT_DPR-\\output_folder_data_compliation\\COMPLIED_METER_2022.csv\")\n",
      "C:\\Users\\Ratan Kumar Jha\\AppData\\Local\\Temp\\ipykernel_17620\\3065272073.py:3: DtypeWarning: Columns (18) have mixed types. Specify dtype option on import or set low_memory=False.\n",
      "  COMPLIED_METER_2023=pd.read_csv(r\"C:\\PYTHON\\EDF_CODE_AUTOMATION_PYTHON\\DAILY-PROGRESS-REPORT_DPR-\\output_folder_data_compliation\\COMPLIED_METER_2023.csv\")\n"
     ]
    },
    {
     "name": "stdout",
     "output_type": "stream",
     "text": [
      "Read compilation csv file\n"
     ]
    }
   ],
   "source": [
    "COMPILED_METER_2021=pd.read_csv(r\"C:\\PYTHON\\EDF_CODE_AUTOMATION_PYTHON\\DAILY-PROGRESS-REPORT_DPR-\\output_folder_data_compliation\\COMPILED_METER_2021.csv\")\n",
    "COMPLIED_METER_2022=pd.read_csv(r\"C:\\PYTHON\\EDF_CODE_AUTOMATION_PYTHON\\DAILY-PROGRESS-REPORT_DPR-\\output_folder_data_compliation\\COMPLIED_METER_2022.csv\")\n",
    "COMPLIED_METER_2023=pd.read_csv(r\"C:\\PYTHON\\EDF_CODE_AUTOMATION_PYTHON\\DAILY-PROGRESS-REPORT_DPR-\\output_folder_data_compliation\\COMPLIED_METER_2023.csv\")\n",
    "COMPLIED_METER_2024=pd.read_csv(r\"C:\\PYTHON\\EDF_CODE_AUTOMATION_PYTHON\\DAILY-PROGRESS-REPORT_DPR-\\output_folder_data_compliation\\COMPLIED_METER_2024.csv\")\n",
    "\n",
    "\n",
    "print(\"Read compilation csv file\")"
   ]
  },
  {
   "cell_type": "code",
   "execution_count": 5,
   "metadata": {},
   "outputs": [
    {
     "name": "stdout",
     "output_type": "stream",
     "text": [
      "Merge 2021,2022,2023\n",
      "merge all data and 2024 data\n",
      "short the complilation data on the basis of replacement date\n",
      "Shape of compilation data is : (1740039, 28) \n"
     ]
    }
   ],
   "source": [
    "# compiled data\n",
    "ALL_DATA_COMPILATION_MERGE_2023 = pd.concat([COMPILED_METER_2021, COMPLIED_METER_2022,COMPLIED_METER_2023], ignore_index=True)\n",
    "\n",
    "print(\"Merge 2021,2022,2023\")\n",
    "\n",
    "# DATA COMPILATION MERGE\n",
    "\n",
    "ALL_DATA_COMPILATION_MERGE = pd.concat([ALL_DATA_COMPILATION_MERGE_2023,COMPLIED_METER_2024], ignore_index=True)\n",
    "\n",
    "print(\"merge all data and 2024 data\")\n",
    "\n",
    "\n",
    "# changes in dataset like :- UPPER, SPACE REMOVAL , DATATYPE\n",
    "\n",
    "ALL_DATA_COMPILATION_MERGE = ALL_DATA_COMPILATION_MERGE.astype(str)\n",
    "ALL_DATA_COMPILATION_MERGE.columns = ALL_DATA_COMPILATION_MERGE.columns.str.upper()\n",
    "ALL_DATA_COMPILATION_MERGE = ALL_DATA_COMPILATION_MERGE.apply(lambda x: x.str.strip() if x.dtype == 'O' else x)\n",
    "ALL_DATA_COMPILATION_MERGE.columns = ALL_DATA_COMPILATION_MERGE.columns.str.strip()\n",
    "\n",
    "\n",
    "# --------------------------------------------------------------------------------------------------------------------------------\n",
    "#  FOR THIS CODE WE WILL NOT REMOVE  THE DUPLICATE METER ON THE BASIS OF REPLACEMENT DATE\n",
    "\n",
    "# CONVERT INTO DATETIME, SORT VALUES AND DROP DUPLICATES\n",
    "ALL_DATA_COMPILATION_MERGE['REPLACEMENT DATE'] = pd.to_datetime(ALL_DATA_COMPILATION_MERGE['REPLACEMENT DATE'])\n",
    "\n",
    "# This is for replacement date in desc order\n",
    "#ALL_DATA_COMPILATION_MERGE.sort_values(by=['REPLACEMENT DATE'],ascending=False,inplace= True)\n",
    "\n",
    "print(\"short the complilation data on the basis of replacement date\")\n",
    "\n",
    "\n",
    "\n",
    "# drop duplicate keep first , other drop\n",
    "\n",
    "#ALL_DATA_COMPILATION_MERGE.drop_duplicates(subset=['NEW METER NO'], keep='first', inplace=True, ignore_index=True)\n",
    "\n",
    "#print(\"Remove duplicate data\")\n",
    "\n",
    "\n",
    "print(f\"Shape of compilation data is : {ALL_DATA_COMPILATION_MERGE.shape} \")\n"
   ]
  },
  {
   "cell_type": "code",
   "execution_count": null,
   "metadata": {},
   "outputs": [],
   "source": []
  },
  {
   "cell_type": "code",
   "execution_count": null,
   "metadata": {},
   "outputs": [],
   "source": [
    "ALL_DATA_COMPILATION_MERGE['FULL_METER_NUMBER'] = ALL_DATA_COMPILATION_MERGE['NEW METER NO']"
   ]
  },
  {
   "cell_type": "code",
   "execution_count": 6,
   "metadata": {},
   "outputs": [],
   "source": [
    "\n",
    "# Custom function to update meter numbers\n",
    "def update_meter_number(meter_number):\n",
    "    if meter_number.startswith('GP') or meter_number.startswith('GL'):\n",
    "        return 'GOE' + meter_number\n",
    "    elif meter_number.startswith('LT'):\n",
    "        return 'LNT' + meter_number\n",
    "    else:\n",
    "        return meter_number\n",
    "\n",
    "# Apply the custom function to each element in the 'METER NO.' column\n",
    "ALL_DATA_COMPILATION_MERGE['FULL_METER_NUMBER'] = ALL_DATA_COMPILATION_MERGE['NEW METER NO'].apply(update_meter_number)\n"
   ]
  },
  {
   "cell_type": "markdown",
   "metadata": {},
   "source": [
    "#### copy data"
   ]
  },
  {
   "cell_type": "code",
   "execution_count": 7,
   "metadata": {},
   "outputs": [],
   "source": [
    "# createing a duplicate copy for ALL_DATA_COMPILATION_MERGE data\n",
    "\n",
    "ALL_DATA_COMPILATION_MERGE_COPY =  ALL_DATA_COMPILATION_MERGE"
   ]
  },
  {
   "cell_type": "code",
   "execution_count": 8,
   "metadata": {},
   "outputs": [
    {
     "name": "stdout",
     "output_type": "stream",
     "text": [
      "short the complilation data on the basis of replacement date\n"
     ]
    }
   ],
   "source": [
    "\n",
    "ALL_DATA_COMPILATION_MERGE_COPY = ALL_DATA_COMPILATION_MERGE_COPY.astype(str)\n",
    "ALL_DATA_COMPILATION_MERGE_COPY.columns = ALL_DATA_COMPILATION_MERGE_COPY.columns.str.upper()\n",
    "ALL_DATA_COMPILATION_MERGE_COPY = ALL_DATA_COMPILATION_MERGE_COPY.apply(lambda x: x.str.strip() if x.dtype == 'O' else x)\n",
    "ALL_DATA_COMPILATION_MERGE_COPY.columns = ALL_DATA_COMPILATION_MERGE_COPY.columns.str.strip()\n",
    "\n",
    "\n",
    "# ----------------------------------------------------------------------------------------------------------------------\n",
    "ALL_DATA_COMPILATION_MERGE_COPY['REPLACEMENT DATE'] = pd.to_datetime(ALL_DATA_COMPILATION_MERGE_COPY['REPLACEMENT DATE'])\n",
    "\n",
    "# This is for replacement date in desc order\n",
    "ALL_DATA_COMPILATION_MERGE_COPY.sort_values(by=['REPLACEMENT DATE'],ascending=False,inplace= True)\n",
    "\n",
    "print(\"short the complilation data on the basis of replacement date\")\n",
    "\n",
    "# drop duplicate keep first , other drop\n",
    "\n",
    "ALL_DATA_COMPILATION_MERGE_COPY.drop_duplicates(subset=['NEW METER NO'], keep='first', inplace=True, ignore_index=True)"
   ]
  },
  {
   "cell_type": "code",
   "execution_count": 10,
   "metadata": {},
   "outputs": [
    {
     "name": "stdout",
     "output_type": "stream",
     "text": [
      "ALL_DATA_COMPILATION_MERGE data size is : (1740039, 29)\n",
      "ALL_DATA_COMPILATION_MERGE_COPY data size is : (1670223, 29)\n"
     ]
    }
   ],
   "source": [
    "\n",
    "# In this data we dont remove \n",
    "print(f\"ALL_DATA_COMPILATION_MERGE data size is : {ALL_DATA_COMPILATION_MERGE.shape}\")\n",
    "\n",
    "# after removing duplicate data\n",
    "print(f\"ALL_DATA_COMPILATION_MERGE_COPY data size is : {ALL_DATA_COMPILATION_MERGE_COPY.shape}\")\n",
    "\n"
   ]
  },
  {
   "cell_type": "code",
   "execution_count": null,
   "metadata": {},
   "outputs": [],
   "source": []
  },
  {
   "cell_type": "markdown",
   "metadata": {},
   "source": [
    "# Division  data "
   ]
  },
  {
   "cell_type": "code",
   "execution_count": 11,
   "metadata": {},
   "outputs": [
    {
     "name": "stdout",
     "output_type": "stream",
     "text": [
      "Working on division master table\n"
     ]
    }
   ],
   "source": [
    "# dropping column\n",
    "\n",
    "print(\"Working on division master table\")\n",
    "\n",
    "DIVISION_MASTER_TABLE.drop(['Unnamed: 0'], axis=1, inplace=True)"
   ]
  },
  {
   "cell_type": "code",
   "execution_count": null,
   "metadata": {},
   "outputs": [
    {
     "data": {
      "text/html": [
       "<div>\n",
       "<style scoped>\n",
       "    .dataframe tbody tr th:only-of-type {\n",
       "        vertical-align: middle;\n",
       "    }\n",
       "\n",
       "    .dataframe tbody tr th {\n",
       "        vertical-align: top;\n",
       "    }\n",
       "\n",
       "    .dataframe thead th {\n",
       "        text-align: right;\n",
       "    }\n",
       "</style>\n",
       "<table border=\"1\" class=\"dataframe\">\n",
       "  <thead>\n",
       "    <tr style=\"text-align: right;\">\n",
       "      <th></th>\n",
       "      <th>Division</th>\n",
       "      <th>Division_new</th>\n",
       "    </tr>\n",
       "  </thead>\n",
       "  <tbody>\n",
       "    <tr>\n",
       "      <th>0</th>\n",
       "      <td>BETTIAH</td>\n",
       "      <td>BETTIAH</td>\n",
       "    </tr>\n",
       "  </tbody>\n",
       "</table>\n",
       "</div>"
      ],
      "text/plain": [
       "  Division Division_new\n",
       "0  BETTIAH      BETTIAH"
      ]
     },
     "execution_count": 10,
     "metadata": {},
     "output_type": "execute_result"
    }
   ],
   "source": [
    "WEEKLY_REPORT.head(1)"
   ]
  },
  {
   "cell_type": "code",
   "execution_count": 12,
   "metadata": {},
   "outputs": [
    {
     "data": {
      "text/plain": [
       "(122, 1)"
      ]
     },
     "execution_count": 12,
     "metadata": {},
     "output_type": "execute_result"
    }
   ],
   "source": [
    "DIVISION_MASTER_TABLE.shape"
   ]
  },
  {
   "cell_type": "code",
   "execution_count": 13,
   "metadata": {},
   "outputs": [
    {
     "data": {
      "text/html": [
       "<div>\n",
       "<style scoped>\n",
       "    .dataframe tbody tr th:only-of-type {\n",
       "        vertical-align: middle;\n",
       "    }\n",
       "\n",
       "    .dataframe tbody tr th {\n",
       "        vertical-align: top;\n",
       "    }\n",
       "\n",
       "    .dataframe thead th {\n",
       "        text-align: right;\n",
       "    }\n",
       "</style>\n",
       "<table border=\"1\" class=\"dataframe\">\n",
       "  <thead>\n",
       "    <tr style=\"text-align: right;\">\n",
       "      <th></th>\n",
       "      <th>Division_new_check</th>\n",
       "    </tr>\n",
       "  </thead>\n",
       "  <tbody>\n",
       "    <tr>\n",
       "      <th>0</th>\n",
       "      <td>BETTIAH</td>\n",
       "    </tr>\n",
       "  </tbody>\n",
       "</table>\n",
       "</div>"
      ],
      "text/plain": [
       "  Division_new_check\n",
       "0            BETTIAH"
      ]
     },
     "execution_count": 13,
     "metadata": {},
     "output_type": "execute_result"
    }
   ],
   "source": [
    "DIVISION_MASTER_TABLE.head(1)"
   ]
  },
  {
   "cell_type": "code",
   "execution_count": 14,
   "metadata": {},
   "outputs": [
    {
     "name": "stdout",
     "output_type": "stream",
     "text": [
      "change in upper string\n"
     ]
    }
   ],
   "source": [
    "# upper\n",
    "\n",
    "DIVISION_MASTER_TABLE['Division_new_check'] =  DIVISION_MASTER_TABLE['Division_new_check'].str.upper()\n",
    "WEEKLY_REPORT['Division'] =  WEEKLY_REPORT['Division'].str.upper()\n",
    "WEEKLY_REPORT['Division_new'] =  WEEKLY_REPORT['Division_new'].str.upper()\n",
    "\n",
    "print(\"change in upper string\")"
   ]
  },
  {
   "cell_type": "code",
   "execution_count": 15,
   "metadata": {},
   "outputs": [
    {
     "name": "stdout",
     "output_type": "stream",
     "text": [
      "Merge done for DIVISION_MASTER_TABLE  &  WEEKLY_REPORT\n"
     ]
    }
   ],
   "source": [
    "After_merge_check_data = pd.merge(DIVISION_MASTER_TABLE['Division_new_check'],WEEKLY_REPORT['Division'],left_on=['Division_new_check'],right_on=['Division'], how = 'left')\n",
    "\n",
    "print(\"Merge done for DIVISION_MASTER_TABLE  &  WEEKLY_REPORT\")"
   ]
  },
  {
   "cell_type": "code",
   "execution_count": 16,
   "metadata": {},
   "outputs": [
    {
     "name": "stdout",
     "output_type": "stream",
     "text": [
      "Total shape of divison master  data is :  82\n"
     ]
    }
   ],
   "source": [
    "print(f\"Total shape of divison master  data is :  {After_merge_check_data['Division'].unique().shape[0]}\")\n",
    "\n"
   ]
  },
  {
   "cell_type": "code",
   "execution_count": null,
   "metadata": {},
   "outputs": [],
   "source": []
  },
  {
   "cell_type": "markdown",
   "metadata": {},
   "source": [
    "# working on DIVISION COLUMN in compilation data"
   ]
  },
  {
   "cell_type": "code",
   "execution_count": 17,
   "metadata": {},
   "outputs": [
    {
     "data": {
      "text/html": [
       "<div>\n",
       "<style scoped>\n",
       "    .dataframe tbody tr th:only-of-type {\n",
       "        vertical-align: middle;\n",
       "    }\n",
       "\n",
       "    .dataframe tbody tr th {\n",
       "        vertical-align: top;\n",
       "    }\n",
       "\n",
       "    .dataframe thead th {\n",
       "        text-align: right;\n",
       "    }\n",
       "</style>\n",
       "<table border=\"1\" class=\"dataframe\">\n",
       "  <thead>\n",
       "    <tr style=\"text-align: right;\">\n",
       "      <th></th>\n",
       "      <th>SL</th>\n",
       "      <th>SECTION ID</th>\n",
       "      <th>CLUSTER</th>\n",
       "      <th>CATEGORY</th>\n",
       "      <th>WO STATUS</th>\n",
       "      <th>WORK ORDER TYPE</th>\n",
       "      <th>NEW METER NO</th>\n",
       "      <th>CONSUMER ID</th>\n",
       "      <th>INSTALLATION_NUMBER</th>\n",
       "      <th>NAME</th>\n",
       "      <th>ADDRESS</th>\n",
       "      <th>MOBILE NUMBER</th>\n",
       "      <th>UTILITY NAME</th>\n",
       "      <th>REPLACEMENT DATE</th>\n",
       "      <th>MRU</th>\n",
       "      <th>LAT</th>\n",
       "      <th>LONG</th>\n",
       "      <th>CATEGORY NAME</th>\n",
       "      <th>PHASE</th>\n",
       "      <th>TOWN</th>\n",
       "      <th>VENDOR NAME</th>\n",
       "      <th>SECTION</th>\n",
       "      <th>DIVISION</th>\n",
       "      <th>STATUS</th>\n",
       "      <th>VENDOR_MANAGER</th>\n",
       "      <th>VENDOR_PLANNER</th>\n",
       "      <th>DUPLICATE</th>\n",
       "      <th>SECTION_ID</th>\n",
       "      <th>FULL_METER_NUMBER</th>\n",
       "    </tr>\n",
       "  </thead>\n",
       "  <tbody>\n",
       "    <tr>\n",
       "      <th>0</th>\n",
       "      <td>1</td>\n",
       "      <td>23231</td>\n",
       "      <td>Non-Pesu</td>\n",
       "      <td>End To End</td>\n",
       "      <td>nan</td>\n",
       "      <td>Meter Replacement</td>\n",
       "      <td>GP4970536</td>\n",
       "      <td>23230000588</td>\n",
       "      <td>nan</td>\n",
       "      <td>ALIMUDDIN ANSARI</td>\n",
       "      <td>Baidrabad - Arwal Road, Makhdumpur, Bihar 8044...</td>\n",
       "      <td>8051964279.0</td>\n",
       "      <td>SBPD</td>\n",
       "      <td>2019-08-01</td>\n",
       "      <td>IP_ARW_PURANIMOHALLA</td>\n",
       "      <td>25.2426776885986</td>\n",
       "      <td>84.6566467285156</td>\n",
       "      <td>DS2D</td>\n",
       "      <td>1</td>\n",
       "      <td>Arwal</td>\n",
       "      <td>GLM</td>\n",
       "      <td>Arwal</td>\n",
       "      <td>Arwal</td>\n",
       "      <td>Closed</td>\n",
       "      <td>nan</td>\n",
       "      <td>nan</td>\n",
       "      <td>nan</td>\n",
       "      <td>nan</td>\n",
       "      <td>GOEGP4970536</td>\n",
       "    </tr>\n",
       "  </tbody>\n",
       "</table>\n",
       "</div>"
      ],
      "text/plain": [
       "  SL SECTION ID   CLUSTER    CATEGORY WO STATUS    WORK ORDER TYPE  \\\n",
       "0  1      23231  Non-Pesu  End To End       nan  Meter Replacement   \n",
       "\n",
       "  NEW METER NO  CONSUMER ID INSTALLATION_NUMBER              NAME  \\\n",
       "0    GP4970536  23230000588                 nan  ALIMUDDIN ANSARI   \n",
       "\n",
       "                                             ADDRESS MOBILE NUMBER  \\\n",
       "0  Baidrabad - Arwal Road, Makhdumpur, Bihar 8044...  8051964279.0   \n",
       "\n",
       "  UTILITY NAME REPLACEMENT DATE                   MRU               LAT  \\\n",
       "0         SBPD       2019-08-01  IP_ARW_PURANIMOHALLA  25.2426776885986   \n",
       "\n",
       "               LONG CATEGORY NAME PHASE   TOWN VENDOR NAME SECTION DIVISION  \\\n",
       "0  84.6566467285156          DS2D     1  Arwal         GLM   Arwal    Arwal   \n",
       "\n",
       "   STATUS VENDOR_MANAGER VENDOR_PLANNER DUPLICATE SECTION_ID FULL_METER_NUMBER  \n",
       "0  Closed            nan            nan       nan        nan      GOEGP4970536  "
      ]
     },
     "execution_count": 17,
     "metadata": {},
     "output_type": "execute_result"
    }
   ],
   "source": [
    "ALL_DATA_COMPILATION_MERGE.head(1)"
   ]
  },
  {
   "cell_type": "code",
   "execution_count": 18,
   "metadata": {},
   "outputs": [],
   "source": [
    "# convert into upper char\n",
    "\n",
    "ALL_DATA_COMPILATION_MERGE['DIVISION'] = ALL_DATA_COMPILATION_MERGE['DIVISION'].str.upper()"
   ]
  },
  {
   "cell_type": "code",
   "execution_count": 19,
   "metadata": {},
   "outputs": [],
   "source": [
    "# change the division_name old name to new name\n",
    "\n",
    "ALL_DATA_COMPILATION_MERGE['DIVISION'] = ALL_DATA_COMPILATION_MERGE['DIVISION'].replace(['BAGAHA'], 'BAGHA')\n",
    "\n",
    "\n",
    "ALL_DATA_COMPILATION_MERGE['DIVISION'] = ALL_DATA_COMPILATION_MERGE['DIVISION'].replace(['ARA'], 'ARRAH')\n",
    "ALL_DATA_COMPILATION_MERGE['DIVISION'] = ALL_DATA_COMPILATION_MERGE['DIVISION'].replace(['ARRAH'], 'ARRAH')\n",
    "\n",
    "\n",
    "ALL_DATA_COMPILATION_MERGE['DIVISION'] = ALL_DATA_COMPILATION_MERGE['DIVISION'].replace(['BHABUA'], 'BHABHUA')\n",
    "\n",
    "\n",
    "ALL_DATA_COMPILATION_MERGE['DIVISION'] = ALL_DATA_COMPILATION_MERGE['DIVISION'].replace(['BHAGALPUR(E)'], 'BHAGALPUR')\n",
    "ALL_DATA_COMPILATION_MERGE['DIVISION'] = ALL_DATA_COMPILATION_MERGE['DIVISION'].replace(['BHAGALPUR(U)'], 'BHAGALPUR')\n",
    "ALL_DATA_COMPILATION_MERGE['DIVISION'] = ALL_DATA_COMPILATION_MERGE['DIVISION'].replace(['BHAGALPUR(URBAN)'], 'BHAGALPUR')\n",
    "\n",
    "\n",
    "ALL_DATA_COMPILATION_MERGE['DIVISION'] = ALL_DATA_COMPILATION_MERGE['DIVISION'].replace(['BIHARSHARIF'], 'BIHARSARIF')\n",
    "ALL_DATA_COMPILATION_MERGE['DIVISION'] = ALL_DATA_COMPILATION_MERGE['DIVISION'].replace(['BIHARSHARIFF'], 'BIHARSARIF')\n",
    "\n",
    "\n",
    "\n",
    "ALL_DATA_COMPILATION_MERGE['DIVISION'] = ALL_DATA_COMPILATION_MERGE['DIVISION'].replace(['CHAPRA(E)'], 'CHAPRA')\n",
    "ALL_DATA_COMPILATION_MERGE['DIVISION'] = ALL_DATA_COMPILATION_MERGE['DIVISION'].replace(['CHAPRA(EAST)'], 'CHAPRA')\n",
    "ALL_DATA_COMPILATION_MERGE['DIVISION'] = ALL_DATA_COMPILATION_MERGE['DIVISION'].replace(['CHAPRA(W)'], 'CHAPRA')\n",
    "ALL_DATA_COMPILATION_MERGE['DIVISION'] = ALL_DATA_COMPILATION_MERGE['DIVISION'].replace(['CHAPRA(WEST)'], 'CHAPRA')\n",
    "ALL_DATA_COMPILATION_MERGE['DIVISION'] = ALL_DATA_COMPILATION_MERGE['DIVISION'].replace(['MAHARAJGANJ'], 'CHAPRA')\n",
    "ALL_DATA_COMPILATION_MERGE['DIVISION'] = ALL_DATA_COMPILATION_MERGE['DIVISION'].replace(['MIRGANJ'], 'CHAPRA')\n",
    "ALL_DATA_COMPILATION_MERGE['DIVISION'] = ALL_DATA_COMPILATION_MERGE['DIVISION'].replace(['SONPUR'], 'CHAPRA')\n",
    "ALL_DATA_COMPILATION_MERGE['DIVISION'] = ALL_DATA_COMPILATION_MERGE['DIVISION'].replace(['CHAPRA'], 'CHAPRA')\n",
    "\n",
    "\n",
    "ALL_DATA_COMPILATION_MERGE['DIVISION'] = ALL_DATA_COMPILATION_MERGE['DIVISION'].replace(['DARBHANAGA(U)'], 'DARBHANGA')\n",
    "ALL_DATA_COMPILATION_MERGE['DIVISION'] = ALL_DATA_COMPILATION_MERGE['DIVISION'].replace(['DARBHANGA(R)'], 'DARBHANGA')\n",
    "ALL_DATA_COMPILATION_MERGE['DIVISION'] = ALL_DATA_COMPILATION_MERGE['DIVISION'].replace(['DARBHANGA'], 'DARBHANGA')\n",
    "\n",
    "\n",
    "ALL_DATA_COMPILATION_MERGE['DIVISION'] = ALL_DATA_COMPILATION_MERGE['DIVISION'].replace(['DALSINGHSARAI'], 'DALSINGSARAI')\n",
    "\n",
    "ALL_DATA_COMPILATION_MERGE['DIVISION'] = ALL_DATA_COMPILATION_MERGE['DIVISION'].replace(['DEHRI'], 'DEHRIONSONE')\n",
    "ALL_DATA_COMPILATION_MERGE['DIVISION'] = ALL_DATA_COMPILATION_MERGE['DIVISION'].replace(['DEHRIONSONE'], 'DEHRIONSONE')\n",
    "\n",
    "\n",
    "ALL_DATA_COMPILATION_MERGE['DIVISION'] = ALL_DATA_COMPILATION_MERGE['DIVISION'].replace(['EAST CHAMPARAN'], 'MOTIHARI')\n",
    "\n",
    "\n",
    "ALL_DATA_COMPILATION_MERGE['DIVISION'] = ALL_DATA_COMPILATION_MERGE['DIVISION'].replace(['GAYA(R)'], 'GAYA')\n",
    "ALL_DATA_COMPILATION_MERGE['DIVISION'] = ALL_DATA_COMPILATION_MERGE['DIVISION'].replace(['GAYA(U)'], 'GAYA')\n",
    "\n",
    "\n",
    "ALL_DATA_COMPILATION_MERGE['DIVISION'] = ALL_DATA_COMPILATION_MERGE['DIVISION'].replace(['GOPALGUNJ'], 'GOPALGANJ')\n",
    "ALL_DATA_COMPILATION_MERGE['DIVISION'] = ALL_DATA_COMPILATION_MERGE['DIVISION'].replace(['HAZIPUR'], 'HAJIPUR')\n",
    "ALL_DATA_COMPILATION_MERGE['DIVISION'] = ALL_DATA_COMPILATION_MERGE['DIVISION'].replace(['JEHANABAD'], 'JAHANABAD')\n",
    "\n",
    "ALL_DATA_COMPILATION_MERGE['DIVISION'] = ALL_DATA_COMPILATION_MERGE['DIVISION'].replace(['MASAURI'], 'MASAURHI')\n",
    "\n",
    "ALL_DATA_COMPILATION_MERGE['DIVISION'] = ALL_DATA_COMPILATION_MERGE['DIVISION'].replace(['MUZAFFARPUR(E)'], 'MUZAFFARPUR')\n",
    "ALL_DATA_COMPILATION_MERGE['DIVISION'] = ALL_DATA_COMPILATION_MERGE['DIVISION'].replace(['MUZAFFARPUR(U-I)'], 'MUZAFFARPUR')\n",
    "ALL_DATA_COMPILATION_MERGE['DIVISION'] = ALL_DATA_COMPILATION_MERGE['DIVISION'].replace(['MUZAFFARPUR(U-II)'], 'MUZAFFARPUR')\n",
    "ALL_DATA_COMPILATION_MERGE['DIVISION'] = ALL_DATA_COMPILATION_MERGE['DIVISION'].replace(['MUZAFFARPUR(W)'], 'MUZAFFARPUR')\n",
    "\n",
    "\n",
    "ALL_DATA_COMPILATION_MERGE['DIVISION'] = ALL_DATA_COMPILATION_MERGE['DIVISION'].replace(['NAUGACHHIYA'], 'NAUGACHIA')\n",
    "ALL_DATA_COMPILATION_MERGE['DIVISION'] = ALL_DATA_COMPILATION_MERGE['DIVISION'].replace(['NAWADAH'], 'NAWADA')\n",
    "ALL_DATA_COMPILATION_MERGE['DIVISION'] = ALL_DATA_COMPILATION_MERGE['DIVISION'].replace(['PATLIPUTRA'], 'PATALIPUTRA')\n",
    "ALL_DATA_COMPILATION_MERGE['DIVISION'] = ALL_DATA_COMPILATION_MERGE['DIVISION'].replace(['PESU WEST'], 'DANAPUR')\n",
    "ALL_DATA_COMPILATION_MERGE['DIVISION'] = ALL_DATA_COMPILATION_MERGE['DIVISION'].replace(['PIRO'], 'SASARAM')\n",
    "\n",
    "\n",
    "ALL_DATA_COMPILATION_MERGE['DIVISION'] = ALL_DATA_COMPILATION_MERGE['DIVISION'].replace(['PURNEA (EAST)'], 'PURNEA')\n",
    "ALL_DATA_COMPILATION_MERGE['DIVISION'] = ALL_DATA_COMPILATION_MERGE['DIVISION'].replace(['PURNEA(E)'], 'PURNEA')\n",
    "ALL_DATA_COMPILATION_MERGE['DIVISION'] = ALL_DATA_COMPILATION_MERGE['DIVISION'].replace(['PURNEA(W)'], 'PURNEA')\n",
    "\n",
    "\n",
    "ALL_DATA_COMPILATION_MERGE['DIVISION'] = ALL_DATA_COMPILATION_MERGE['DIVISION'].replace(['ROHTAS'], 'SASARAM')\n",
    "\n",
    "\n",
    "\n",
    "ALL_DATA_COMPILATION_MERGE['DIVISION'] = ALL_DATA_COMPILATION_MERGE['DIVISION'].replace(['EAST CHAMPARAN'], 'MOTIHARI')\n",
    "ALL_DATA_COMPILATION_MERGE['DIVISION'] = ALL_DATA_COMPILATION_MERGE['DIVISION'].replace(['WEST CHAMPARAN'], 'MOTIHARI')\n",
    "\n",
    "\n",
    "ALL_DATA_COMPILATION_MERGE['DIVISION'] = ALL_DATA_COMPILATION_MERGE['DIVISION'].replace(['KHEMICHAK'], 'PATNA')\n",
    "\n",
    "\n",
    "ALL_DATA_COMPILATION_MERGE['DIVISION'] = ALL_DATA_COMPILATION_MERGE['DIVISION'].replace(['DHAKA'], 'DHAKA')\n",
    "\n",
    "#ALL_DATA_COMPILATION_MERGE['DIVISION'] = ALL_DATA_COMPILATION_MERGE['DIVISION'].replace(['BAGAHA'], 'BAGHA')\n",
    "#ALL_DATA_COMPILATION_MERGE['DIVISION'] = ALL_DATA_COMPILATION_MERGE['DIVISION'].replace(['BAGAHA'], 'BAGHA')\n",
    "#ALL_DATA_COMPILATION_MERGE['DIVISION'] = ALL_DATA_COMPILATION_MERGE['DIVISION'].replace(['BAGAHA'], 'BAGHA')\n",
    "#ALL_DATA_COMPILATION_MERGE['DIVISION'] = ALL_DATA_COMPILATION_MERGE['DIVISION'].replace(['BAGAHA'], 'BAGHA')\n",
    "#ALL_DATA_COMPILATION_MERGE['DIVISION'] = ALL_DATA_COMPILATION_MERGE['DIVISION'].replace(['BAGAHA'], 'BAGHA')\n",
    "#ALL_DATA_COMPILATION_MERGE['DIVISION'] = ALL_DATA_COMPILATION_MERGE['DIVISION'].replace(['BAGAHA'], 'BAGHA') \n",
    "\n"
   ]
  },
  {
   "cell_type": "code",
   "execution_count": 20,
   "metadata": {},
   "outputs": [],
   "source": [
    "ALL_DATA_COMPILATION_MERGE_COPY['DIVISION'] = ALL_DATA_COMPILATION_MERGE_COPY['DIVISION'].str.upper()"
   ]
  },
  {
   "cell_type": "code",
   "execution_count": 21,
   "metadata": {},
   "outputs": [],
   "source": [
    "# change the division_name old name to new name\n",
    "\n",
    "ALL_DATA_COMPILATION_MERGE_COPY['DIVISION'] = ALL_DATA_COMPILATION_MERGE_COPY['DIVISION'].replace(['BAGAHA'], 'BAGHA')\n",
    "\n",
    "\n",
    "ALL_DATA_COMPILATION_MERGE_COPY['DIVISION'] = ALL_DATA_COMPILATION_MERGE_COPY['DIVISION'].replace(['ARA'], 'ARRAH')\n",
    "ALL_DATA_COMPILATION_MERGE_COPY['DIVISION'] = ALL_DATA_COMPILATION_MERGE_COPY['DIVISION'].replace(['ARRAH'], 'ARRAH')\n",
    "\n",
    "\n",
    "ALL_DATA_COMPILATION_MERGE_COPY['DIVISION'] = ALL_DATA_COMPILATION_MERGE_COPY['DIVISION'].replace(['BHABUA'], 'BHABHUA')\n",
    "\n",
    "\n",
    "ALL_DATA_COMPILATION_MERGE_COPY['DIVISION'] = ALL_DATA_COMPILATION_MERGE_COPY['DIVISION'].replace(['BHAGALPUR(E)'], 'BHAGALPUR')\n",
    "ALL_DATA_COMPILATION_MERGE_COPY['DIVISION'] = ALL_DATA_COMPILATION_MERGE_COPY['DIVISION'].replace(['BHAGALPUR(U)'], 'BHAGALPUR')\n",
    "ALL_DATA_COMPILATION_MERGE_COPY['DIVISION'] = ALL_DATA_COMPILATION_MERGE_COPY['DIVISION'].replace(['BHAGALPUR(URBAN)'], 'BHAGALPUR')\n",
    "\n",
    "\n",
    "ALL_DATA_COMPILATION_MERGE_COPY['DIVISION'] = ALL_DATA_COMPILATION_MERGE_COPY['DIVISION'].replace(['BIHARSHARIF'], 'BIHARSARIF')\n",
    "ALL_DATA_COMPILATION_MERGE_COPY['DIVISION'] = ALL_DATA_COMPILATION_MERGE_COPY['DIVISION'].replace(['BIHARSHARIFF'], 'BIHARSARIF')\n",
    "\n",
    "\n",
    "\n",
    "ALL_DATA_COMPILATION_MERGE_COPY['DIVISION'] = ALL_DATA_COMPILATION_MERGE_COPY['DIVISION'].replace(['CHAPRA(E)'], 'CHAPRA')\n",
    "ALL_DATA_COMPILATION_MERGE_COPY['DIVISION'] = ALL_DATA_COMPILATION_MERGE_COPY['DIVISION'].replace(['CHAPRA(EAST)'], 'CHAPRA')\n",
    "ALL_DATA_COMPILATION_MERGE_COPY['DIVISION'] = ALL_DATA_COMPILATION_MERGE_COPY['DIVISION'].replace(['CHAPRA(W)'], 'CHAPRA')\n",
    "ALL_DATA_COMPILATION_MERGE_COPY['DIVISION'] = ALL_DATA_COMPILATION_MERGE_COPY['DIVISION'].replace(['CHAPRA(WEST)'], 'CHAPRA')\n",
    "ALL_DATA_COMPILATION_MERGE_COPY['DIVISION'] = ALL_DATA_COMPILATION_MERGE_COPY['DIVISION'].replace(['MAHARAJGANJ'], 'CHAPRA')\n",
    "ALL_DATA_COMPILATION_MERGE_COPY['DIVISION'] = ALL_DATA_COMPILATION_MERGE_COPY['DIVISION'].replace(['MIRGANJ'], 'CHAPRA')\n",
    "ALL_DATA_COMPILATION_MERGE_COPY['DIVISION'] = ALL_DATA_COMPILATION_MERGE_COPY['DIVISION'].replace(['SONPUR'], 'CHAPRA')\n",
    "ALL_DATA_COMPILATION_MERGE_COPY['DIVISION'] = ALL_DATA_COMPILATION_MERGE_COPY['DIVISION'].replace(['CHAPRA'], 'CHAPRA')\n",
    "\n",
    "\n",
    "ALL_DATA_COMPILATION_MERGE_COPY['DIVISION'] = ALL_DATA_COMPILATION_MERGE_COPY['DIVISION'].replace(['DARBHANAGA(U)'], 'DARBHANGA')\n",
    "ALL_DATA_COMPILATION_MERGE_COPY['DIVISION'] = ALL_DATA_COMPILATION_MERGE_COPY['DIVISION'].replace(['DARBHANGA(R)'], 'DARBHANGA')\n",
    "ALL_DATA_COMPILATION_MERGE_COPY['DIVISION'] = ALL_DATA_COMPILATION_MERGE_COPY['DIVISION'].replace(['DARBHANGA'], 'DARBHANGA')\n",
    "\n",
    "\n",
    "ALL_DATA_COMPILATION_MERGE_COPY['DIVISION'] = ALL_DATA_COMPILATION_MERGE_COPY['DIVISION'].replace(['DALSINGHSARAI'], 'DALSINGSARAI')\n",
    "\n",
    "ALL_DATA_COMPILATION_MERGE_COPY['DIVISION'] = ALL_DATA_COMPILATION_MERGE_COPY['DIVISION'].replace(['DEHRI'], 'DEHRIONSONE')\n",
    "ALL_DATA_COMPILATION_MERGE_COPY['DIVISION'] = ALL_DATA_COMPILATION_MERGE_COPY['DIVISION'].replace(['DEHRIONSONE'], 'DEHRIONSONE')\n",
    "\n",
    "\n",
    "ALL_DATA_COMPILATION_MERGE_COPY['DIVISION'] = ALL_DATA_COMPILATION_MERGE_COPY['DIVISION'].replace(['EAST CHAMPARAN'], 'MOTIHARI')\n",
    "\n",
    "\n",
    "ALL_DATA_COMPILATION_MERGE_COPY['DIVISION'] = ALL_DATA_COMPILATION_MERGE_COPY['DIVISION'].replace(['GAYA(R)'], 'GAYA')\n",
    "ALL_DATA_COMPILATION_MERGE_COPY['DIVISION'] = ALL_DATA_COMPILATION_MERGE_COPY['DIVISION'].replace(['GAYA(U)'], 'GAYA')\n",
    "\n",
    "\n",
    "ALL_DATA_COMPILATION_MERGE_COPY['DIVISION'] = ALL_DATA_COMPILATION_MERGE_COPY['DIVISION'].replace(['GOPALGUNJ'], 'GOPALGANJ')\n",
    "ALL_DATA_COMPILATION_MERGE_COPY['DIVISION'] = ALL_DATA_COMPILATION_MERGE_COPY['DIVISION'].replace(['HAZIPUR'], 'HAJIPUR')\n",
    "ALL_DATA_COMPILATION_MERGE_COPY['DIVISION'] = ALL_DATA_COMPILATION_MERGE_COPY['DIVISION'].replace(['JEHANABAD'], 'JAHANABAD')\n",
    "\n",
    "ALL_DATA_COMPILATION_MERGE_COPY['DIVISION'] = ALL_DATA_COMPILATION_MERGE_COPY['DIVISION'].replace(['MASAURI'], 'MASAURHI')\n",
    "\n",
    "ALL_DATA_COMPILATION_MERGE_COPY['DIVISION'] = ALL_DATA_COMPILATION_MERGE_COPY['DIVISION'].replace(['MUZAFFARPUR(E)'], 'MUZAFFARPUR')\n",
    "ALL_DATA_COMPILATION_MERGE_COPY['DIVISION'] = ALL_DATA_COMPILATION_MERGE_COPY['DIVISION'].replace(['MUZAFFARPUR(U-I)'], 'MUZAFFARPUR')\n",
    "ALL_DATA_COMPILATION_MERGE_COPY['DIVISION'] = ALL_DATA_COMPILATION_MERGE_COPY['DIVISION'].replace(['MUZAFFARPUR(U-II)'], 'MUZAFFARPUR')\n",
    "ALL_DATA_COMPILATION_MERGE_COPY['DIVISION'] = ALL_DATA_COMPILATION_MERGE_COPY['DIVISION'].replace(['MUZAFFARPUR(W)'], 'MUZAFFARPUR')\n",
    "\n",
    "\n",
    "ALL_DATA_COMPILATION_MERGE_COPY['DIVISION'] = ALL_DATA_COMPILATION_MERGE_COPY['DIVISION'].replace(['NAUGACHHIYA'], 'NAUGACHIA')\n",
    "ALL_DATA_COMPILATION_MERGE_COPY['DIVISION'] = ALL_DATA_COMPILATION_MERGE_COPY['DIVISION'].replace(['NAWADAH'], 'NAWADA')\n",
    "ALL_DATA_COMPILATION_MERGE_COPY['DIVISION'] = ALL_DATA_COMPILATION_MERGE_COPY['DIVISION'].replace(['PATLIPUTRA'], 'PATALIPUTRA')\n",
    "ALL_DATA_COMPILATION_MERGE_COPY['DIVISION'] = ALL_DATA_COMPILATION_MERGE_COPY['DIVISION'].replace(['PESU WEST'], 'DANAPUR')\n",
    "ALL_DATA_COMPILATION_MERGE_COPY['DIVISION'] = ALL_DATA_COMPILATION_MERGE_COPY['DIVISION'].replace(['PIRO'], 'SASARAM')\n",
    "\n",
    "\n",
    "ALL_DATA_COMPILATION_MERGE_COPY['DIVISION'] = ALL_DATA_COMPILATION_MERGE_COPY['DIVISION'].replace(['PURNEA (EAST)'], 'PURNEA')\n",
    "ALL_DATA_COMPILATION_MERGE_COPY['DIVISION'] = ALL_DATA_COMPILATION_MERGE_COPY['DIVISION'].replace(['PURNEA(E)'], 'PURNEA')\n",
    "ALL_DATA_COMPILATION_MERGE_COPY['DIVISION'] = ALL_DATA_COMPILATION_MERGE_COPY['DIVISION'].replace(['PURNEA(W)'], 'PURNEA')\n",
    "\n",
    "\n",
    "ALL_DATA_COMPILATION_MERGE_COPY['DIVISION'] = ALL_DATA_COMPILATION_MERGE_COPY['DIVISION'].replace(['ROHTAS'], 'SASARAM')\n",
    "\n",
    "\n",
    "\n",
    "ALL_DATA_COMPILATION_MERGE_COPY['DIVISION'] = ALL_DATA_COMPILATION_MERGE_COPY['DIVISION'].replace(['EAST CHAMPARAN'], 'MOTIHARI')\n",
    "ALL_DATA_COMPILATION_MERGE_COPY['DIVISION'] = ALL_DATA_COMPILATION_MERGE_COPY['DIVISION'].replace(['WEST CHAMPARAN'], 'MOTIHARI')\n",
    "\n",
    "\n",
    "ALL_DATA_COMPILATION_MERGE_COPY['DIVISION'] = ALL_DATA_COMPILATION_MERGE_COPY['DIVISION'].replace(['KHEMICHAK'], 'PATNA')\n",
    "\n",
    "\n",
    "ALL_DATA_COMPILATION_MERGE_COPY['DIVISION'] = ALL_DATA_COMPILATION_MERGE_COPY['DIVISION'].replace(['DHAKA'], 'DHAKA')\n",
    "\n",
    "#ALL_DATA_COMPILATION_MERGE['DIVISION'] = ALL_DATA_COMPILATION_MERGE['DIVISION'].replace(['BAGAHA'], 'BAGHA')\n",
    "#ALL_DATA_COMPILATION_MERGE['DIVISION'] = ALL_DATA_COMPILATION_MERGE['DIVISION'].replace(['BAGAHA'], 'BAGHA')\n",
    "#ALL_DATA_COMPILATION_MERGE['DIVISION'] = ALL_DATA_COMPILATION_MERGE['DIVISION'].replace(['BAGAHA'], 'BAGHA')\n",
    "#ALL_DATA_COMPILATION_MERGE['DIVISION'] = ALL_DATA_COMPILATION_MERGE['DIVISION'].replace(['BAGAHA'], 'BAGHA')\n",
    "#ALL_DATA_COMPILATION_MERGE['DIVISION'] = ALL_DATA_COMPILATION_MERGE['DIVISION'].replace(['BAGAHA'], 'BAGHA')\n",
    "#ALL_DATA_COMPILATION_MERGE['DIVISION'] = ALL_DATA_COMPILATION_MERGE['DIVISION'].replace(['BAGAHA'], 'BAGHA') \n",
    "\n"
   ]
  },
  {
   "cell_type": "code",
   "execution_count": 22,
   "metadata": {},
   "outputs": [
    {
     "data": {
      "text/plain": [
       "(1740039, 29)"
      ]
     },
     "execution_count": 22,
     "metadata": {},
     "output_type": "execute_result"
    }
   ],
   "source": [
    "ALL_DATA_COMPILATION_MERGE.shape"
   ]
  },
  {
   "cell_type": "code",
   "execution_count": 24,
   "metadata": {},
   "outputs": [
    {
     "name": "stdout",
     "output_type": "stream",
     "text": [
      "UNIQUE DIVISION COUNT IN ALL_DATA_COMPILATION_MERGE : (82,)\n",
      "UNIQUE DIVISION COUNT IN ALL_DATA_COMPILATION_MERGE_COPY : (82,)\n"
     ]
    }
   ],
   "source": [
    "print(f\"UNIQUE DIVISION COUNT IN ALL_DATA_COMPILATION_MERGE : {ALL_DATA_COMPILATION_MERGE['DIVISION'].unique().shape}\")\n",
    "\n",
    "print(f\"UNIQUE DIVISION COUNT IN ALL_DATA_COMPILATION_MERGE_COPY : {ALL_DATA_COMPILATION_MERGE_COPY['DIVISION'].unique().shape}\")"
   ]
  },
  {
   "cell_type": "markdown",
   "metadata": {},
   "source": [
    "## Weekly report division table"
   ]
  },
  {
   "cell_type": "code",
   "execution_count": 25,
   "metadata": {},
   "outputs": [
    {
     "data": {
      "text/plain": [
       "(119, 2)"
      ]
     },
     "execution_count": 25,
     "metadata": {},
     "output_type": "execute_result"
    }
   ],
   "source": [
    "WEEKLY_REPORT.shape"
   ]
  },
  {
   "cell_type": "code",
   "execution_count": 26,
   "metadata": {},
   "outputs": [
    {
     "data": {
      "text/html": [
       "<div>\n",
       "<style scoped>\n",
       "    .dataframe tbody tr th:only-of-type {\n",
       "        vertical-align: middle;\n",
       "    }\n",
       "\n",
       "    .dataframe tbody tr th {\n",
       "        vertical-align: top;\n",
       "    }\n",
       "\n",
       "    .dataframe thead th {\n",
       "        text-align: right;\n",
       "    }\n",
       "</style>\n",
       "<table border=\"1\" class=\"dataframe\">\n",
       "  <thead>\n",
       "    <tr style=\"text-align: right;\">\n",
       "      <th></th>\n",
       "      <th>Division</th>\n",
       "      <th>Division_new</th>\n",
       "    </tr>\n",
       "  </thead>\n",
       "  <tbody>\n",
       "    <tr>\n",
       "      <th>0</th>\n",
       "      <td>BETTIAH</td>\n",
       "      <td>BETTIAH</td>\n",
       "    </tr>\n",
       "    <tr>\n",
       "      <th>1</th>\n",
       "      <td>MOTIHARI</td>\n",
       "      <td>MOTIHARI</td>\n",
       "    </tr>\n",
       "    <tr>\n",
       "      <th>2</th>\n",
       "      <td>SHERGHATI</td>\n",
       "      <td>SHERGHATI</td>\n",
       "    </tr>\n",
       "    <tr>\n",
       "      <th>3</th>\n",
       "      <td>GAYA(R)</td>\n",
       "      <td>GAYA</td>\n",
       "    </tr>\n",
       "    <tr>\n",
       "      <th>4</th>\n",
       "      <td>BARH</td>\n",
       "      <td>BARH</td>\n",
       "    </tr>\n",
       "  </tbody>\n",
       "</table>\n",
       "</div>"
      ],
      "text/plain": [
       "    Division Division_new\n",
       "0    BETTIAH      BETTIAH\n",
       "1   MOTIHARI     MOTIHARI\n",
       "2  SHERGHATI    SHERGHATI\n",
       "3    GAYA(R)         GAYA\n",
       "4       BARH         BARH"
      ]
     },
     "execution_count": 26,
     "metadata": {},
     "output_type": "execute_result"
    }
   ],
   "source": [
    "WEEKLY_REPORT.head()"
   ]
  },
  {
   "cell_type": "code",
   "execution_count": 27,
   "metadata": {},
   "outputs": [],
   "source": [
    "# drop division\n",
    "\n",
    "WEEKLY_REPORT.drop(['Division'], axis=1, inplace=True)\n",
    "\n",
    "# rename division_new  : -    Division\n",
    "\n",
    "WEEKLY_REPORT.rename(\n",
    "    columns={\"Division_new\": \"DIVISION\"},\n",
    "    inplace=True\n",
    ")\n",
    "\n",
    "\n",
    "# drop duplicated value from division\n",
    "\n",
    "WEEKLY_REPORT.drop_duplicates(subset=['DIVISION'],inplace=True)"
   ]
  },
  {
   "cell_type": "code",
   "execution_count": 28,
   "metadata": {},
   "outputs": [
    {
     "data": {
      "text/plain": [
       "(82, 1)"
      ]
     },
     "execution_count": 28,
     "metadata": {},
     "output_type": "execute_result"
    }
   ],
   "source": [
    "WEEKLY_REPORT.shape"
   ]
  },
  {
   "cell_type": "markdown",
   "metadata": {},
   "source": [
    "# Update  division and category on infra hes file"
   ]
  },
  {
   "cell_type": "code",
   "execution_count": 29,
   "metadata": {},
   "outputs": [
    {
     "name": "stdout",
     "output_type": "stream",
     "text": [
      "Hes infra file concat complete\n",
      "adding a new column FULL_METER_NUMBER_INFRA\n"
     ]
    }
   ],
   "source": [
    "# compile Infra NB & SB data\n",
    "\n",
    "COMPILE_INFRA_DATA_NB_SB = pd.concat([Infrastructure_Devices_NB, Infrastructure_Devices_SB], ignore_index=True)\n",
    "\n",
    "print(\"Hes infra file concat complete\")\n",
    "\n",
    "\n",
    "\n",
    "# Custom function to update meter numbers\n",
    "\n",
    "def update_meter_number(meter_number):\n",
    "    if meter_number.startswith('GP') or meter_number.startswith('GL'):\n",
    "        return 'GOE' + meter_number\n",
    "    elif meter_number.startswith('LT'):\n",
    "        return 'LNT' + meter_number\n",
    "    else:\n",
    "        return meter_number\n",
    "\n",
    "# Apply the custom function to each element in the 'METER NO.' column\n",
    "COMPILE_INFRA_DATA_NB_SB['FULL_METER_NUMBER_INFRA'] = COMPILE_INFRA_DATA_NB_SB['SerialNumber'].apply(update_meter_number)\n",
    "\n",
    "print(\"adding a new column FULL_METER_NUMBER_INFRA\")\n"
   ]
  },
  {
   "cell_type": "code",
   "execution_count": 30,
   "metadata": {},
   "outputs": [
    {
     "data": {
      "text/plain": [
       "(1573401, 14)"
      ]
     },
     "execution_count": 30,
     "metadata": {},
     "output_type": "execute_result"
    }
   ],
   "source": [
    "COMPILE_INFRA_DATA_NB_SB.shape"
   ]
  },
  {
   "cell_type": "code",
   "execution_count": 31,
   "metadata": {},
   "outputs": [
    {
     "name": "stderr",
     "output_type": "stream",
     "text": [
      "C:\\Users\\Ratan Kumar Jha\\AppData\\Local\\Temp\\ipykernel_17620\\3279055606.py:1: UserWarning: Could not infer format, so each element will be parsed individually, falling back to `dateutil`. To ensure parsing is consistent and as-expected, please specify a format.\n",
      "  COMPILE_INFRA_DATA_NB_SB['InstallationDatetime'] = pd.to_datetime(COMPILE_INFRA_DATA_NB_SB['InstallationDatetime'])\n",
      "C:\\Users\\Ratan Kumar Jha\\AppData\\Local\\Temp\\ipykernel_17620\\3279055606.py:2: UserWarning: Could not infer format, so each element will be parsed individually, falling back to `dateutil`. To ensure parsing is consistent and as-expected, please specify a format.\n",
      "  COMPILE_INFRA_DATA_NB_SB['EntryDatetime'] = pd.to_datetime(COMPILE_INFRA_DATA_NB_SB['EntryDatetime'])\n",
      "C:\\Users\\Ratan Kumar Jha\\AppData\\Local\\Temp\\ipykernel_17620\\3279055606.py:3: UserWarning: Could not infer format, so each element will be parsed individually, falling back to `dateutil`. To ensure parsing is consistent and as-expected, please specify a format.\n",
      "  COMPILE_INFRA_DATA_NB_SB['LastS05'] = pd.to_datetime(COMPILE_INFRA_DATA_NB_SB['LastS05'])\n",
      "C:\\Users\\Ratan Kumar Jha\\AppData\\Local\\Temp\\ipykernel_17620\\3279055606.py:4: UserWarning: Could not infer format, so each element will be parsed individually, falling back to `dateutil`. To ensure parsing is consistent and as-expected, please specify a format.\n",
      "  COMPILE_INFRA_DATA_NB_SB['LastS02'] = pd.to_datetime(COMPILE_INFRA_DATA_NB_SB['LastS02'])\n",
      "C:\\Users\\Ratan Kumar Jha\\AppData\\Local\\Temp\\ipykernel_17620\\3279055606.py:5: UserWarning: Could not infer format, so each element will be parsed individually, falling back to `dateutil`. To ensure parsing is consistent and as-expected, please specify a format.\n",
      "  COMPILE_INFRA_DATA_NB_SB['LastS04'] = pd.to_datetime(COMPILE_INFRA_DATA_NB_SB['LastS04'])\n"
     ]
    }
   ],
   "source": [
    "COMPILE_INFRA_DATA_NB_SB['InstallationDatetime'] = pd.to_datetime(COMPILE_INFRA_DATA_NB_SB['InstallationDatetime'])\n",
    "COMPILE_INFRA_DATA_NB_SB['EntryDatetime'] = pd.to_datetime(COMPILE_INFRA_DATA_NB_SB['EntryDatetime'])\n",
    "COMPILE_INFRA_DATA_NB_SB['LastS05'] = pd.to_datetime(COMPILE_INFRA_DATA_NB_SB['LastS05'])\n",
    "COMPILE_INFRA_DATA_NB_SB['LastS02'] = pd.to_datetime(COMPILE_INFRA_DATA_NB_SB['LastS02'])\n",
    "COMPILE_INFRA_DATA_NB_SB['LastS04'] = pd.to_datetime(COMPILE_INFRA_DATA_NB_SB['LastS04'])"
   ]
  },
  {
   "cell_type": "code",
   "execution_count": 32,
   "metadata": {},
   "outputs": [
    {
     "data": {
      "text/html": [
       "<div>\n",
       "<style scoped>\n",
       "    .dataframe tbody tr th:only-of-type {\n",
       "        vertical-align: middle;\n",
       "    }\n",
       "\n",
       "    .dataframe tbody tr th {\n",
       "        vertical-align: top;\n",
       "    }\n",
       "\n",
       "    .dataframe thead th {\n",
       "        text-align: right;\n",
       "    }\n",
       "</style>\n",
       "<table border=\"1\" class=\"dataframe\">\n",
       "  <thead>\n",
       "    <tr style=\"text-align: right;\">\n",
       "      <th></th>\n",
       "      <th>InstallationDatetime</th>\n",
       "      <th>EntryDatetime</th>\n",
       "      <th>Utility</th>\n",
       "      <th>UtilitySiteId</th>\n",
       "      <th>UtilityDeviceId</th>\n",
       "      <th>SerialNumber</th>\n",
       "      <th>LastS05</th>\n",
       "      <th>LastS02</th>\n",
       "      <th>LastS04</th>\n",
       "      <th>CoordinateX</th>\n",
       "      <th>CoordinateY</th>\n",
       "      <th>StateName</th>\n",
       "      <th>Ip</th>\n",
       "      <th>FULL_METER_NUMBER_INFRA</th>\n",
       "    </tr>\n",
       "  </thead>\n",
       "  <tbody>\n",
       "    <tr>\n",
       "      <th>0</th>\n",
       "      <td>2024-01-03 22:49:59</td>\n",
       "      <td>2023-10-24 22:04:41</td>\n",
       "      <td>NBPDCL</td>\n",
       "      <td>5001461671</td>\n",
       "      <td>LNTLT8069351</td>\n",
       "      <td>LT8069351</td>\n",
       "      <td>2024-04-08</td>\n",
       "      <td>NaT</td>\n",
       "      <td>2024-04-01</td>\n",
       "      <td>85.12826</td>\n",
       "      <td>25.58438</td>\n",
       "      <td>Imported&amp;&amp;Installed</td>\n",
       "      <td>2405:0203:0535:37E5:0000:0000:0000:0010</td>\n",
       "      <td>LNTLT8069351</td>\n",
       "    </tr>\n",
       "  </tbody>\n",
       "</table>\n",
       "</div>"
      ],
      "text/plain": [
       "  InstallationDatetime       EntryDatetime Utility UtilitySiteId  \\\n",
       "0  2024-01-03 22:49:59 2023-10-24 22:04:41  NBPDCL    5001461671   \n",
       "\n",
       "  UtilityDeviceId SerialNumber    LastS05 LastS02    LastS04  CoordinateX  \\\n",
       "0    LNTLT8069351    LT8069351 2024-04-08     NaT 2024-04-01     85.12826   \n",
       "\n",
       "   CoordinateY            StateName                                       Ip  \\\n",
       "0     25.58438  Imported&&Installed  2405:0203:0535:37E5:0000:0000:0000:0010   \n",
       "\n",
       "  FULL_METER_NUMBER_INFRA  \n",
       "0            LNTLT8069351  "
      ]
     },
     "execution_count": 32,
     "metadata": {},
     "output_type": "execute_result"
    }
   ],
   "source": [
    "COMPILE_INFRA_DATA_NB_SB.head(1)"
   ]
  },
  {
   "cell_type": "code",
   "execution_count": 33,
   "metadata": {},
   "outputs": [
    {
     "data": {
      "text/html": [
       "<div>\n",
       "<style scoped>\n",
       "    .dataframe tbody tr th:only-of-type {\n",
       "        vertical-align: middle;\n",
       "    }\n",
       "\n",
       "    .dataframe tbody tr th {\n",
       "        vertical-align: top;\n",
       "    }\n",
       "\n",
       "    .dataframe thead th {\n",
       "        text-align: right;\n",
       "    }\n",
       "</style>\n",
       "<table border=\"1\" class=\"dataframe\">\n",
       "  <thead>\n",
       "    <tr style=\"text-align: right;\">\n",
       "      <th></th>\n",
       "      <th>SL</th>\n",
       "      <th>SECTION ID</th>\n",
       "      <th>CLUSTER</th>\n",
       "      <th>CATEGORY</th>\n",
       "      <th>WO STATUS</th>\n",
       "      <th>WORK ORDER TYPE</th>\n",
       "      <th>NEW METER NO</th>\n",
       "      <th>CONSUMER ID</th>\n",
       "      <th>INSTALLATION_NUMBER</th>\n",
       "      <th>NAME</th>\n",
       "      <th>ADDRESS</th>\n",
       "      <th>MOBILE NUMBER</th>\n",
       "      <th>UTILITY NAME</th>\n",
       "      <th>REPLACEMENT DATE</th>\n",
       "      <th>MRU</th>\n",
       "      <th>LAT</th>\n",
       "      <th>LONG</th>\n",
       "      <th>CATEGORY NAME</th>\n",
       "      <th>PHASE</th>\n",
       "      <th>TOWN</th>\n",
       "      <th>VENDOR NAME</th>\n",
       "      <th>SECTION</th>\n",
       "      <th>DIVISION</th>\n",
       "      <th>STATUS</th>\n",
       "      <th>VENDOR_MANAGER</th>\n",
       "      <th>VENDOR_PLANNER</th>\n",
       "      <th>DUPLICATE</th>\n",
       "      <th>SECTION_ID</th>\n",
       "      <th>FULL_METER_NUMBER</th>\n",
       "    </tr>\n",
       "  </thead>\n",
       "  <tbody>\n",
       "    <tr>\n",
       "      <th>0</th>\n",
       "      <td>78183</td>\n",
       "      <td>nan</td>\n",
       "      <td>NBPDCL-West</td>\n",
       "      <td>End To End</td>\n",
       "      <td>FW NMI Complete</td>\n",
       "      <td>New Meter Installation</td>\n",
       "      <td>GL9078091</td>\n",
       "      <td>nan</td>\n",
       "      <td>522112759709</td>\n",
       "      <td>Manisha Kumari</td>\n",
       "      <td>Ward no 17, nand chowk</td>\n",
       "      <td>8092431718</td>\n",
       "      <td>NBPD</td>\n",
       "      <td>2024-04-07</td>\n",
       "      <td>nan</td>\n",
       "      <td>25.7536154</td>\n",
       "      <td>86.0303386</td>\n",
       "      <td>NDS2D</td>\n",
       "      <td>1</td>\n",
       "      <td>Samastipur</td>\n",
       "      <td>Aman</td>\n",
       "      <td>ROSRA(U)</td>\n",
       "      <td>ROSERA</td>\n",
       "      <td>Open</td>\n",
       "      <td>aman_vm_rosera</td>\n",
       "      <td>aman_rosera_vp1</td>\n",
       "      <td>1.0</td>\n",
       "      <td>11411</td>\n",
       "      <td>GOEGL9078091</td>\n",
       "    </tr>\n",
       "  </tbody>\n",
       "</table>\n",
       "</div>"
      ],
      "text/plain": [
       "      SL SECTION ID      CLUSTER    CATEGORY        WO STATUS  \\\n",
       "0  78183        nan  NBPDCL-West  End To End  FW NMI Complete   \n",
       "\n",
       "          WORK ORDER TYPE NEW METER NO CONSUMER ID INSTALLATION_NUMBER  \\\n",
       "0  New Meter Installation    GL9078091         nan        522112759709   \n",
       "\n",
       "             NAME                 ADDRESS MOBILE NUMBER UTILITY NAME  \\\n",
       "0  Manisha Kumari  Ward no 17, nand chowk    8092431718         NBPD   \n",
       "\n",
       "  REPLACEMENT DATE  MRU         LAT        LONG CATEGORY NAME PHASE  \\\n",
       "0       2024-04-07  nan  25.7536154  86.0303386         NDS2D     1   \n",
       "\n",
       "         TOWN VENDOR NAME   SECTION DIVISION STATUS  VENDOR_MANAGER  \\\n",
       "0  Samastipur        Aman  ROSRA(U)   ROSERA   Open  aman_vm_rosera   \n",
       "\n",
       "    VENDOR_PLANNER DUPLICATE SECTION_ID FULL_METER_NUMBER  \n",
       "0  aman_rosera_vp1       1.0      11411      GOEGL9078091  "
      ]
     },
     "execution_count": 33,
     "metadata": {},
     "output_type": "execute_result"
    }
   ],
   "source": [
    "ALL_DATA_COMPILATION_MERGE_COPY.head(1)"
   ]
  },
  {
   "cell_type": "code",
   "execution_count": 34,
   "metadata": {},
   "outputs": [
    {
     "name": "stdout",
     "output_type": "stream",
     "text": [
      "Infra and Compilation data is merged for category and divison wise \n"
     ]
    }
   ],
   "source": [
    "# merge data with compilation data for Status and Category\n",
    "\n",
    "\n",
    "MERGE_INFRA_DATA_AND_COMPILATION_DATA = pd.merge(COMPILE_INFRA_DATA_NB_SB,ALL_DATA_COMPILATION_MERGE_COPY[['FULL_METER_NUMBER','DIVISION','CATEGORY NAME']], \n",
    "                                                 left_on=['FULL_METER_NUMBER_INFRA'], right_on=['FULL_METER_NUMBER'], how='left')\n",
    "\n",
    "\n",
    "print(\"Infra and Compilation data is merged for category and divison wise \")"
   ]
  },
  {
   "cell_type": "code",
   "execution_count": 38,
   "metadata": {},
   "outputs": [
    {
     "data": {
      "text/html": [
       "<div>\n",
       "<style scoped>\n",
       "    .dataframe tbody tr th:only-of-type {\n",
       "        vertical-align: middle;\n",
       "    }\n",
       "\n",
       "    .dataframe tbody tr th {\n",
       "        vertical-align: top;\n",
       "    }\n",
       "\n",
       "    .dataframe thead th {\n",
       "        text-align: right;\n",
       "    }\n",
       "</style>\n",
       "<table border=\"1\" class=\"dataframe\">\n",
       "  <thead>\n",
       "    <tr style=\"text-align: right;\">\n",
       "      <th></th>\n",
       "      <th>InstallationDatetime</th>\n",
       "      <th>EntryDatetime</th>\n",
       "      <th>Utility</th>\n",
       "      <th>UtilitySiteId</th>\n",
       "      <th>UtilityDeviceId</th>\n",
       "      <th>SerialNumber</th>\n",
       "      <th>LastS05</th>\n",
       "      <th>LastS02</th>\n",
       "      <th>LastS04</th>\n",
       "      <th>CoordinateX</th>\n",
       "      <th>CoordinateY</th>\n",
       "      <th>StateName</th>\n",
       "      <th>Ip</th>\n",
       "      <th>FULL_METER_NUMBER_INFRA</th>\n",
       "      <th>FULL_METER_NUMBER</th>\n",
       "      <th>DIVISION</th>\n",
       "      <th>CATEGORY NAME</th>\n",
       "    </tr>\n",
       "  </thead>\n",
       "  <tbody>\n",
       "    <tr>\n",
       "      <th>0</th>\n",
       "      <td>2024-01-03 22:49:59</td>\n",
       "      <td>2023-10-24 22:04:41</td>\n",
       "      <td>NBPDCL</td>\n",
       "      <td>5001461671</td>\n",
       "      <td>LNTLT8069351</td>\n",
       "      <td>LT8069351</td>\n",
       "      <td>2024-04-08</td>\n",
       "      <td>NaT</td>\n",
       "      <td>2024-04-01</td>\n",
       "      <td>85.12826</td>\n",
       "      <td>25.58438</td>\n",
       "      <td>Imported&amp;&amp;Installed</td>\n",
       "      <td>2405:0203:0535:37E5:0000:0000:0000:0010</td>\n",
       "      <td>LNTLT8069351</td>\n",
       "      <td>LNTLT8069351</td>\n",
       "      <td>GARDANIBAGH</td>\n",
       "      <td>DS-IID</td>\n",
       "    </tr>\n",
       "  </tbody>\n",
       "</table>\n",
       "</div>"
      ],
      "text/plain": [
       "  InstallationDatetime       EntryDatetime Utility UtilitySiteId  \\\n",
       "0  2024-01-03 22:49:59 2023-10-24 22:04:41  NBPDCL    5001461671   \n",
       "\n",
       "  UtilityDeviceId SerialNumber    LastS05 LastS02    LastS04  CoordinateX  \\\n",
       "0    LNTLT8069351    LT8069351 2024-04-08     NaT 2024-04-01     85.12826   \n",
       "\n",
       "   CoordinateY            StateName                                       Ip  \\\n",
       "0     25.58438  Imported&&Installed  2405:0203:0535:37E5:0000:0000:0000:0010   \n",
       "\n",
       "  FULL_METER_NUMBER_INFRA FULL_METER_NUMBER     DIVISION CATEGORY NAME  \n",
       "0            LNTLT8069351      LNTLT8069351  GARDANIBAGH        DS-IID  "
      ]
     },
     "execution_count": 38,
     "metadata": {},
     "output_type": "execute_result"
    }
   ],
   "source": [
    "MERGE_INFRA_DATA_AND_COMPILATION_DATA.head(1)"
   ]
  },
  {
   "cell_type": "code",
   "execution_count": 39,
   "metadata": {},
   "outputs": [
    {
     "name": "stdout",
     "output_type": "stream",
     "text": [
      "This much rows is blank where division is null :- (299, 17)\n"
     ]
    }
   ],
   "source": [
    "# removing rows where division is blank\n",
    "\n",
    "# NULL & NOT NULL ROWS\n",
    "\n",
    "MERGE_INFRA_DATA_AND_COMPILATION_DATA_NULL_ROWS=MERGE_INFRA_DATA_AND_COMPILATION_DATA[MERGE_INFRA_DATA_AND_COMPILATION_DATA['DIVISION'].isnull()]\n",
    "MERGE_INFRA_DATA_AND_COMPILATION_DATA_NOT_NULL= MERGE_INFRA_DATA_AND_COMPILATION_DATA[~MERGE_INFRA_DATA_AND_COMPILATION_DATA['DIVISION'].isnull()]\n",
    "\n",
    "\n",
    "# null data\n",
    "\n",
    "print(f\"This much rows is blank where division is null :- {MERGE_INFRA_DATA_AND_COMPILATION_DATA_NULL_ROWS.shape}\")"
   ]
  },
  {
   "cell_type": "markdown",
   "metadata": {},
   "source": [
    "#### privilege file"
   ]
  },
  {
   "cell_type": "code",
   "execution_count": 40,
   "metadata": {},
   "outputs": [
    {
     "data": {
      "text/plain": [
       "(1570605, 14)"
      ]
     },
     "execution_count": 40,
     "metadata": {},
     "output_type": "execute_result"
    }
   ],
   "source": [
    "# HERE WILL JOIN THE REMAINING NULL DIVISION ROWS WITH HELP OF PRIVILEGE DATA\n",
    "\n",
    "\n",
    "# concat data  concat_Orgwise_Privilege_group_status_NB_SB\n",
    "concat_Orgwise_Privilege_group_status_NB_SB = pd.concat([Orgwise_Privilege_group_status_SB,Orgwise_Privilege_group_status_NB],ignore_index=True)\n",
    "\n",
    "# dop duplicate in  concat_Orgwise_Privilege_group_status_NB_SB\n",
    "concat_Orgwise_Privilege_group_status_NB_SB.drop_duplicates(subset=['METERNO'], keep='first', inplace=True, ignore_index=True)\n",
    "\n",
    "\n",
    "# upper letter\n",
    "concat_Orgwise_Privilege_group_status_NB_SB.columns = concat_Orgwise_Privilege_group_status_NB_SB.columns.str.upper()\n",
    "\n",
    "\n",
    "# Remove leading and trailing whitespaces from all columns where dtype is 'O'\n",
    "concat_Orgwise_Privilege_group_status_NB_SB = concat_Orgwise_Privilege_group_status_NB_SB.apply(lambda x: x.str.strip() if x.dtype == 'O' else x)\n",
    "\n",
    "\n",
    "\n",
    "\n",
    "\n",
    "concat_Orgwise_Privilege_group_status_NB_SB.shape"
   ]
  },
  {
   "cell_type": "code",
   "execution_count": 41,
   "metadata": {},
   "outputs": [
    {
     "data": {
      "text/html": [
       "<div>\n",
       "<style scoped>\n",
       "    .dataframe tbody tr th:only-of-type {\n",
       "        vertical-align: middle;\n",
       "    }\n",
       "\n",
       "    .dataframe tbody tr th {\n",
       "        vertical-align: top;\n",
       "    }\n",
       "\n",
       "    .dataframe thead th {\n",
       "        text-align: right;\n",
       "    }\n",
       "</style>\n",
       "<table border=\"1\" class=\"dataframe\">\n",
       "  <thead>\n",
       "    <tr style=\"text-align: right;\">\n",
       "      <th></th>\n",
       "      <th>UTILITY</th>\n",
       "      <th>INSTALLATIONNUMBER</th>\n",
       "      <th>CONSUMERNO</th>\n",
       "      <th>METERNO</th>\n",
       "      <th>INSTALLATIONDATE</th>\n",
       "      <th>CONSUMERTYPE</th>\n",
       "      <th>PRIVILEGEGROUP</th>\n",
       "      <th>CURRENTBALANCE</th>\n",
       "      <th>CONNECTEDSTATUS</th>\n",
       "      <th>NETMETERING</th>\n",
       "      <th>LASTRECHARGEDATE</th>\n",
       "      <th>LASTRECHARGEAMOUNT</th>\n",
       "      <th>DIVISION</th>\n",
       "      <th>CATEGORY</th>\n",
       "    </tr>\n",
       "  </thead>\n",
       "  <tbody>\n",
       "    <tr>\n",
       "      <th>0</th>\n",
       "      <td>SBPDCL</td>\n",
       "      <td>ARWARL15956</td>\n",
       "      <td>23230039685</td>\n",
       "      <td>GOEGP4970511</td>\n",
       "      <td>9/6/2019 12:00:00 AM</td>\n",
       "      <td>Prepaid</td>\n",
       "      <td>N</td>\n",
       "      <td>-138.81</td>\n",
       "      <td>Y</td>\n",
       "      <td>N</td>\n",
       "      <td>12/29/2023 3:41:00 PM</td>\n",
       "      <td>1000.0</td>\n",
       "      <td>ARWAL</td>\n",
       "      <td>NDS2D</td>\n",
       "    </tr>\n",
       "    <tr>\n",
       "      <th>1</th>\n",
       "      <td>SBPDCL</td>\n",
       "      <td>ARWARL1255</td>\n",
       "      <td>23230000081</td>\n",
       "      <td>GOEGP4969868</td>\n",
       "      <td>9/8/2019 12:00:00 AM</td>\n",
       "      <td>Prepaid</td>\n",
       "      <td>N</td>\n",
       "      <td>1021.96</td>\n",
       "      <td>Y</td>\n",
       "      <td>N</td>\n",
       "      <td>3/11/2024 3:21:58 PM</td>\n",
       "      <td>500.0</td>\n",
       "      <td>ARWAL</td>\n",
       "      <td>DS2D</td>\n",
       "    </tr>\n",
       "  </tbody>\n",
       "</table>\n",
       "</div>"
      ],
      "text/plain": [
       "  UTILITY INSTALLATIONNUMBER   CONSUMERNO       METERNO      INSTALLATIONDATE  \\\n",
       "0  SBPDCL        ARWARL15956  23230039685  GOEGP4970511  9/6/2019 12:00:00 AM   \n",
       "1  SBPDCL         ARWARL1255  23230000081  GOEGP4969868  9/8/2019 12:00:00 AM   \n",
       "\n",
       "  CONSUMERTYPE PRIVILEGEGROUP  CURRENTBALANCE CONNECTEDSTATUS NETMETERING  \\\n",
       "0      Prepaid              N         -138.81               Y           N   \n",
       "1      Prepaid              N         1021.96               Y           N   \n",
       "\n",
       "        LASTRECHARGEDATE  LASTRECHARGEAMOUNT DIVISION CATEGORY  \n",
       "0  12/29/2023 3:41:00 PM              1000.0    ARWAL    NDS2D  \n",
       "1   3/11/2024 3:21:58 PM               500.0    ARWAL     DS2D  "
      ]
     },
     "execution_count": 41,
     "metadata": {},
     "output_type": "execute_result"
    }
   ],
   "source": [
    "concat_Orgwise_Privilege_group_status_NB_SB.head(2)"
   ]
  },
  {
   "cell_type": "code",
   "execution_count": 42,
   "metadata": {},
   "outputs": [
    {
     "data": {
      "text/html": [
       "<div>\n",
       "<style scoped>\n",
       "    .dataframe tbody tr th:only-of-type {\n",
       "        vertical-align: middle;\n",
       "    }\n",
       "\n",
       "    .dataframe tbody tr th {\n",
       "        vertical-align: top;\n",
       "    }\n",
       "\n",
       "    .dataframe thead th {\n",
       "        text-align: right;\n",
       "    }\n",
       "</style>\n",
       "<table border=\"1\" class=\"dataframe\">\n",
       "  <thead>\n",
       "    <tr style=\"text-align: right;\">\n",
       "      <th></th>\n",
       "      <th>InstallationDatetime</th>\n",
       "      <th>EntryDatetime</th>\n",
       "      <th>Utility</th>\n",
       "      <th>UtilitySiteId</th>\n",
       "      <th>UtilityDeviceId</th>\n",
       "      <th>SerialNumber</th>\n",
       "      <th>LastS05</th>\n",
       "      <th>LastS02</th>\n",
       "      <th>LastS04</th>\n",
       "      <th>CoordinateX</th>\n",
       "      <th>CoordinateY</th>\n",
       "      <th>StateName</th>\n",
       "      <th>Ip</th>\n",
       "      <th>FULL_METER_NUMBER_INFRA</th>\n",
       "      <th>FULL_METER_NUMBER</th>\n",
       "      <th>DIVISION</th>\n",
       "      <th>CATEGORY NAME</th>\n",
       "    </tr>\n",
       "  </thead>\n",
       "  <tbody>\n",
       "    <tr>\n",
       "      <th>14087</th>\n",
       "      <td>2023-01-23 12:13:25</td>\n",
       "      <td>2022-12-24 22:38:35</td>\n",
       "      <td>NBPDCL</td>\n",
       "      <td>5003511955</td>\n",
       "      <td>LNTLT1059623</td>\n",
       "      <td>LT1059623</td>\n",
       "      <td>2023-08-21</td>\n",
       "      <td>2023-08-21</td>\n",
       "      <td>2023-08-01</td>\n",
       "      <td>84.71236</td>\n",
       "      <td>25.78829</td>\n",
       "      <td>Imported&amp;&amp;Installed</td>\n",
       "      <td>2405:0203:0531:7BDB:0000:0000:0000:0010</td>\n",
       "      <td>LNTLT1059623</td>\n",
       "      <td>NaN</td>\n",
       "      <td>NaN</td>\n",
       "      <td>NaN</td>\n",
       "    </tr>\n",
       "  </tbody>\n",
       "</table>\n",
       "</div>"
      ],
      "text/plain": [
       "      InstallationDatetime       EntryDatetime Utility UtilitySiteId  \\\n",
       "14087  2023-01-23 12:13:25 2022-12-24 22:38:35  NBPDCL    5003511955   \n",
       "\n",
       "      UtilityDeviceId SerialNumber    LastS05    LastS02    LastS04  \\\n",
       "14087    LNTLT1059623    LT1059623 2023-08-21 2023-08-21 2023-08-01   \n",
       "\n",
       "       CoordinateX  CoordinateY            StateName  \\\n",
       "14087     84.71236     25.78829  Imported&&Installed   \n",
       "\n",
       "                                            Ip FULL_METER_NUMBER_INFRA  \\\n",
       "14087  2405:0203:0531:7BDB:0000:0000:0000:0010            LNTLT1059623   \n",
       "\n",
       "      FULL_METER_NUMBER DIVISION CATEGORY NAME  \n",
       "14087               NaN      NaN           NaN  "
      ]
     },
     "execution_count": 42,
     "metadata": {},
     "output_type": "execute_result"
    }
   ],
   "source": [
    "MERGE_INFRA_DATA_AND_COMPILATION_DATA_NULL_ROWS.head(1)"
   ]
  },
  {
   "cell_type": "code",
   "execution_count": 43,
   "metadata": {},
   "outputs": [
    {
     "name": "stderr",
     "output_type": "stream",
     "text": [
      "C:\\Users\\Ratan Kumar Jha\\AppData\\Local\\Temp\\ipykernel_17620\\2556484142.py:3: SettingWithCopyWarning: \n",
      "A value is trying to be set on a copy of a slice from a DataFrame\n",
      "\n",
      "See the caveats in the documentation: https://pandas.pydata.org/pandas-docs/stable/user_guide/indexing.html#returning-a-view-versus-a-copy\n",
      "  MERGE_INFRA_DATA_AND_COMPILATION_DATA_NULL_ROWS.drop(['DIVISION', 'CATEGORY NAME','FULL_METER_NUMBER'], axis=1, inplace=True)\n"
     ]
    }
   ],
   "source": [
    "# DROP EXTRA COLUMN OF  LEFT_JOIN_WITH_RC_DC_MODIFIED_ALL_DATA_COMPILATION_NULL_ROWS\n",
    "\n",
    "MERGE_INFRA_DATA_AND_COMPILATION_DATA_NULL_ROWS.drop(['DIVISION', 'CATEGORY NAME','FULL_METER_NUMBER'], axis=1, inplace=True)\n",
    "\n",
    "# merge rc_Dc and privilege for division and category\n",
    "MERGE_INFRA_DATA_AND_COMPILATION_DATA_NULL_ROWS_PRIVILEGED=pd.merge(MERGE_INFRA_DATA_AND_COMPILATION_DATA_NULL_ROWS, concat_Orgwise_Privilege_group_status_NB_SB[['METERNO','DIVISION','CATEGORY']], left_on=['FULL_METER_NUMBER_INFRA'], right_on=['METERNO'], how='left')\n",
    "\n",
    "\n",
    "# rename the column  from METERNO to FULL_METER_NUMBER\n",
    "MERGE_INFRA_DATA_AND_COMPILATION_DATA_NULL_ROWS_PRIVILEGED.rename(columns={'METERNO':'FULL_METER_NUMBER'},inplace=True)\n",
    "MERGE_INFRA_DATA_AND_COMPILATION_DATA_NULL_ROWS_PRIVILEGED.rename(columns={'CATEGORY':'CATEGORY NAME'},inplace=True)"
   ]
  },
  {
   "cell_type": "markdown",
   "metadata": {},
   "source": [
    "#### concat data  MERGE_INFRA_DATA_AND_COMPILATION_DATA_NULL_ROWS_PRIVILEGED and MERGE_INFRA_DATA_AND_COMPILATION_DATA_NOT_NULL"
   ]
  },
  {
   "cell_type": "code",
   "execution_count": 44,
   "metadata": {},
   "outputs": [],
   "source": [
    "MERGE_INFRA_COMIPLATION_PRIVILEGE_FOR_DIVISION_CATEGORY_MAPPING=pd.concat([MERGE_INFRA_DATA_AND_COMPILATION_DATA_NOT_NULL,MERGE_INFRA_DATA_AND_COMPILATION_DATA_NULL_ROWS_PRIVILEGED],ignore_index=True)\n",
    "\n",
    "MERGE_INFRA_DATA_AND_COMPILATION_DATA_MAP_DIVISION_CATEGORY=MERGE_INFRA_COMIPLATION_PRIVILEGE_FOR_DIVISION_CATEGORY_MAPPING[~MERGE_INFRA_COMIPLATION_PRIVILEGE_FOR_DIVISION_CATEGORY_MAPPING['DIVISION'].isnull()]"
   ]
  },
  {
   "cell_type": "code",
   "execution_count": 45,
   "metadata": {},
   "outputs": [
    {
     "data": {
      "text/html": [
       "<div>\n",
       "<style scoped>\n",
       "    .dataframe tbody tr th:only-of-type {\n",
       "        vertical-align: middle;\n",
       "    }\n",
       "\n",
       "    .dataframe tbody tr th {\n",
       "        vertical-align: top;\n",
       "    }\n",
       "\n",
       "    .dataframe thead th {\n",
       "        text-align: right;\n",
       "    }\n",
       "</style>\n",
       "<table border=\"1\" class=\"dataframe\">\n",
       "  <thead>\n",
       "    <tr style=\"text-align: right;\">\n",
       "      <th></th>\n",
       "      <th>InstallationDatetime</th>\n",
       "      <th>EntryDatetime</th>\n",
       "      <th>Utility</th>\n",
       "      <th>UtilitySiteId</th>\n",
       "      <th>UtilityDeviceId</th>\n",
       "      <th>SerialNumber</th>\n",
       "      <th>LastS05</th>\n",
       "      <th>LastS02</th>\n",
       "      <th>LastS04</th>\n",
       "      <th>CoordinateX</th>\n",
       "      <th>CoordinateY</th>\n",
       "      <th>StateName</th>\n",
       "      <th>Ip</th>\n",
       "      <th>FULL_METER_NUMBER_INFRA</th>\n",
       "      <th>FULL_METER_NUMBER</th>\n",
       "      <th>DIVISION</th>\n",
       "      <th>CATEGORY NAME</th>\n",
       "    </tr>\n",
       "  </thead>\n",
       "  <tbody>\n",
       "    <tr>\n",
       "      <th>0</th>\n",
       "      <td>2024-01-03 22:49:59</td>\n",
       "      <td>2023-10-24 22:04:41</td>\n",
       "      <td>NBPDCL</td>\n",
       "      <td>5001461671</td>\n",
       "      <td>LNTLT8069351</td>\n",
       "      <td>LT8069351</td>\n",
       "      <td>2024-04-08</td>\n",
       "      <td>NaT</td>\n",
       "      <td>2024-04-01</td>\n",
       "      <td>85.12826</td>\n",
       "      <td>25.58438</td>\n",
       "      <td>Imported&amp;&amp;Installed</td>\n",
       "      <td>2405:0203:0535:37E5:0000:0000:0000:0010</td>\n",
       "      <td>LNTLT8069351</td>\n",
       "      <td>LNTLT8069351</td>\n",
       "      <td>GARDANIBAGH</td>\n",
       "      <td>DS-IID</td>\n",
       "    </tr>\n",
       "  </tbody>\n",
       "</table>\n",
       "</div>"
      ],
      "text/plain": [
       "  InstallationDatetime       EntryDatetime Utility UtilitySiteId  \\\n",
       "0  2024-01-03 22:49:59 2023-10-24 22:04:41  NBPDCL    5001461671   \n",
       "\n",
       "  UtilityDeviceId SerialNumber    LastS05 LastS02    LastS04  CoordinateX  \\\n",
       "0    LNTLT8069351    LT8069351 2024-04-08     NaT 2024-04-01     85.12826   \n",
       "\n",
       "   CoordinateY            StateName                                       Ip  \\\n",
       "0     25.58438  Imported&&Installed  2405:0203:0535:37E5:0000:0000:0000:0010   \n",
       "\n",
       "  FULL_METER_NUMBER_INFRA FULL_METER_NUMBER     DIVISION CATEGORY NAME  \n",
       "0            LNTLT8069351      LNTLT8069351  GARDANIBAGH        DS-IID  "
      ]
     },
     "execution_count": 45,
     "metadata": {},
     "output_type": "execute_result"
    }
   ],
   "source": [
    "# This data has both \n",
    "\n",
    "MERGE_INFRA_DATA_AND_COMPILATION_DATA_MAP_DIVISION_CATEGORY.head(1)"
   ]
  },
  {
   "cell_type": "code",
   "execution_count": 52,
   "metadata": {},
   "outputs": [
    {
     "data": {
      "text/plain": [
       "(1573395, 17)"
      ]
     },
     "execution_count": 52,
     "metadata": {},
     "output_type": "execute_result"
    }
   ],
   "source": [
    "MERGE_INFRA_DATA_AND_COMPILATION_DATA_MAP_DIVISION_CATEGORY.shape"
   ]
  },
  {
   "cell_type": "markdown",
   "metadata": {},
   "source": [
    "### Null and not null as per lastso5 column"
   ]
  },
  {
   "cell_type": "code",
   "execution_count": 46,
   "metadata": {},
   "outputs": [
    {
     "name": "stdout",
     "output_type": "stream",
     "text": [
      "Categories null and not null\n"
     ]
    }
   ],
   "source": [
    "# HES INFRA DATA NB & SB\n",
    "\n",
    "\n",
    "COMPILE_INFRA_NB_SB_NULL_DATA=MERGE_INFRA_DATA_AND_COMPILATION_DATA_MAP_DIVISION_CATEGORY[MERGE_INFRA_DATA_AND_COMPILATION_DATA_MAP_DIVISION_CATEGORY['LastS05'].isnull()]\n",
    "COMPILE_INFRA_NB_SB_NOT_NULL_DATA=MERGE_INFRA_DATA_AND_COMPILATION_DATA_MAP_DIVISION_CATEGORY[~MERGE_INFRA_DATA_AND_COMPILATION_DATA_MAP_DIVISION_CATEGORY['LastS05'].isnull()]\n",
    "\n",
    "print(\"Categories null and not null\")"
   ]
  },
  {
   "cell_type": "code",
   "execution_count": null,
   "metadata": {},
   "outputs": [
    {
     "ename": "SyntaxError",
     "evalue": "invalid syntax (2220977292.py, line 1)",
     "output_type": "error",
     "traceback": [
      "\u001b[1;36m  Cell \u001b[1;32mIn[37], line 1\u001b[1;36m\u001b[0m\n\u001b[1;33m    daf a fa f afds\u001b[0m\n\u001b[1;37m        ^\u001b[0m\n\u001b[1;31mSyntaxError\u001b[0m\u001b[1;31m:\u001b[0m invalid syntax\n"
     ]
    }
   ],
   "source": []
  },
  {
   "cell_type": "code",
   "execution_count": null,
   "metadata": {},
   "outputs": [],
   "source": []
  },
  {
   "cell_type": "markdown",
   "metadata": {},
   "source": [
    "# Report column"
   ]
  },
  {
   "cell_type": "code",
   "execution_count": null,
   "metadata": {},
   "outputs": [],
   "source": []
  },
  {
   "cell_type": "markdown",
   "metadata": {},
   "source": [
    "# 1"
   ]
  },
  {
   "cell_type": "code",
   "execution_count": 47,
   "metadata": {},
   "outputs": [],
   "source": [
    "ALL_DATA_COMPILATION_MERGE_WITHOUT_SSR = ALL_DATA_COMPILATION_MERGE[ALL_DATA_COMPILATION_MERGE['WORK ORDER TYPE'] != 'SSR']\n",
    "ALL_DATA_COMPILATION_MERGE_WITHOUT_SSR_COUNT = ALL_DATA_COMPILATION_MERGE_WITHOUT_SSR.groupby(['DIVISION'])['NEW METER NO'].count()\n",
    "\n",
    "\n",
    "#LEFT JOIN\n",
    "\n",
    "METER_WISE_DIVISION_COUNT_COMPILED_DATA = pd.merge(ALL_DATA_COMPILATION_MERGE_WITHOUT_SSR_COUNT,WEEKLY_REPORT,left_on=['DIVISION'],right_on=['DIVISION'], how = 'left')\n"
   ]
  },
  {
   "cell_type": "code",
   "execution_count": 48,
   "metadata": {},
   "outputs": [
    {
     "data": {
      "text/plain": [
       "(1596515, 29)"
      ]
     },
     "execution_count": 48,
     "metadata": {},
     "output_type": "execute_result"
    }
   ],
   "source": [
    "ALL_DATA_COMPILATION_MERGE_WITHOUT_SSR.shape"
   ]
  },
  {
   "cell_type": "code",
   "execution_count": 49,
   "metadata": {},
   "outputs": [
    {
     "data": {
      "text/html": [
       "<div>\n",
       "<style scoped>\n",
       "    .dataframe tbody tr th:only-of-type {\n",
       "        vertical-align: middle;\n",
       "    }\n",
       "\n",
       "    .dataframe tbody tr th {\n",
       "        vertical-align: top;\n",
       "    }\n",
       "\n",
       "    .dataframe thead th {\n",
       "        text-align: right;\n",
       "    }\n",
       "</style>\n",
       "<table border=\"1\" class=\"dataframe\">\n",
       "  <thead>\n",
       "    <tr style=\"text-align: right;\">\n",
       "      <th></th>\n",
       "      <th>DIVISION</th>\n",
       "      <th>NEW METER NO</th>\n",
       "    </tr>\n",
       "  </thead>\n",
       "  <tbody>\n",
       "    <tr>\n",
       "      <th>0</th>\n",
       "      <td>AMARPUR</td>\n",
       "      <td>3323</td>\n",
       "    </tr>\n",
       "  </tbody>\n",
       "</table>\n",
       "</div>"
      ],
      "text/plain": [
       "  DIVISION  NEW METER NO\n",
       "0  AMARPUR          3323"
      ]
     },
     "execution_count": 49,
     "metadata": {},
     "output_type": "execute_result"
    }
   ],
   "source": [
    "METER_WISE_DIVISION_COUNT_COMPILED_DATA.head(1)"
   ]
  },
  {
   "cell_type": "markdown",
   "metadata": {},
   "source": [
    "# 2"
   ]
  },
  {
   "cell_type": "code",
   "execution_count": null,
   "metadata": {},
   "outputs": [
    {
     "data": {
      "text/html": [
       "<div>\n",
       "<style scoped>\n",
       "    .dataframe tbody tr th:only-of-type {\n",
       "        vertical-align: middle;\n",
       "    }\n",
       "\n",
       "    .dataframe tbody tr th {\n",
       "        vertical-align: top;\n",
       "    }\n",
       "\n",
       "    .dataframe thead th {\n",
       "        text-align: right;\n",
       "    }\n",
       "</style>\n",
       "<table border=\"1\" class=\"dataframe\">\n",
       "  <thead>\n",
       "    <tr style=\"text-align: right;\">\n",
       "      <th></th>\n",
       "      <th>InstallationDatetime</th>\n",
       "      <th>EntryDatetime</th>\n",
       "      <th>Utility</th>\n",
       "      <th>UtilitySiteId</th>\n",
       "      <th>UtilityDeviceId</th>\n",
       "      <th>SerialNumber</th>\n",
       "      <th>LastS05</th>\n",
       "      <th>LastS02</th>\n",
       "      <th>LastS04</th>\n",
       "      <th>CoordinateX</th>\n",
       "      <th>CoordinateY</th>\n",
       "      <th>StateName</th>\n",
       "      <th>Ip</th>\n",
       "      <th>FULL_METER_NUMBER_INFRA</th>\n",
       "      <th>NEW METER NO</th>\n",
       "      <th>DIVISION</th>\n",
       "      <th>CATEGORY NAME</th>\n",
       "    </tr>\n",
       "  </thead>\n",
       "  <tbody>\n",
       "    <tr>\n",
       "      <th>0</th>\n",
       "      <td>2024-01-03 22:49:59</td>\n",
       "      <td>2023-10-24 22:04:41</td>\n",
       "      <td>NBPDCL</td>\n",
       "      <td>5001461671</td>\n",
       "      <td>LNTLT8069351</td>\n",
       "      <td>LT8069351</td>\n",
       "      <td>2024-03-19</td>\n",
       "      <td>NaT</td>\n",
       "      <td>2024-03-01</td>\n",
       "      <td>85.12826</td>\n",
       "      <td>25.58438</td>\n",
       "      <td>Imported&amp;&amp;Installed</td>\n",
       "      <td>2405:0203:0535:37E5:0000:0000:0000:0010</td>\n",
       "      <td>LNTLT8069351</td>\n",
       "      <td>LT8069351</td>\n",
       "      <td>GARDANIBAGH</td>\n",
       "      <td>DS-IID</td>\n",
       "    </tr>\n",
       "  </tbody>\n",
       "</table>\n",
       "</div>"
      ],
      "text/plain": [
       "  InstallationDatetime       EntryDatetime Utility UtilitySiteId  \\\n",
       "0  2024-01-03 22:49:59 2023-10-24 22:04:41  NBPDCL    5001461671   \n",
       "\n",
       "  UtilityDeviceId SerialNumber    LastS05 LastS02    LastS04  CoordinateX  \\\n",
       "0    LNTLT8069351    LT8069351 2024-03-19     NaT 2024-03-01     85.12826   \n",
       "\n",
       "   CoordinateY            StateName                                       Ip  \\\n",
       "0     25.58438  Imported&&Installed  2405:0203:0535:37E5:0000:0000:0000:0010   \n",
       "\n",
       "  FULL_METER_NUMBER_INFRA NEW METER NO     DIVISION CATEGORY NAME  \n",
       "0            LNTLT8069351    LT8069351  GARDANIBAGH        DS-IID  "
      ]
     },
     "execution_count": 25,
     "metadata": {},
     "output_type": "execute_result"
    }
   ],
   "source": [
    "MERGE_INFRA_DATA_AND_COMPILATION_DATA.head(1)"
   ]
  },
  {
   "cell_type": "code",
   "execution_count": null,
   "metadata": {},
   "outputs": [],
   "source": [
    "#METER_WISE_DIVISION_COUNT_LEFT['Infra_total_count']\n",
    "\n",
    "METER_WISE_DIVISION_COUNT_INFRA= MERGE_INFRA_DATA_AND_COMPILATION_DATA_MAP_DIVISION_CATEGORY.groupby(['DIVISION'])['FULL_METER_NUMBER_INFRA'].count()\n",
    "\n",
    "# Merge data  METER_WISE_DIVISION_COUNT_LEFT,   METER_WISE_DIVISION_COUNT_INFRA  on the basis of division\n",
    "\n",
    "WEEKLY_REPORT_FINAL_DATA=pd.merge(METER_WISE_DIVISION_COUNT_COMPILED_DATA,METER_WISE_DIVISION_COUNT_INFRA,left_on=['DIVISION'],right_on=['DIVISION'],how='left')"
   ]
  },
  {
   "cell_type": "code",
   "execution_count": null,
   "metadata": {},
   "outputs": [],
   "source": [
    "# column rename\n",
    "\n",
    "WEEKLY_REPORT_FINAL_DATA.rename(columns={'FULL_METER_NUMBER_INFRA':'Total_meter_count_infra_file'},inplace=True)"
   ]
  },
  {
   "cell_type": "code",
   "execution_count": null,
   "metadata": {},
   "outputs": [
    {
     "data": {
      "text/html": [
       "<div>\n",
       "<style scoped>\n",
       "    .dataframe tbody tr th:only-of-type {\n",
       "        vertical-align: middle;\n",
       "    }\n",
       "\n",
       "    .dataframe tbody tr th {\n",
       "        vertical-align: top;\n",
       "    }\n",
       "\n",
       "    .dataframe thead th {\n",
       "        text-align: right;\n",
       "    }\n",
       "</style>\n",
       "<table border=\"1\" class=\"dataframe\">\n",
       "  <thead>\n",
       "    <tr style=\"text-align: right;\">\n",
       "      <th></th>\n",
       "      <th>DIVISION</th>\n",
       "      <th>NEW METER NO</th>\n",
       "      <th>Total_meter_count_infra_file</th>\n",
       "    </tr>\n",
       "  </thead>\n",
       "  <tbody>\n",
       "    <tr>\n",
       "      <th>0</th>\n",
       "      <td>AMARPUR</td>\n",
       "      <td>3317</td>\n",
       "      <td>3311</td>\n",
       "    </tr>\n",
       "    <tr>\n",
       "      <th>1</th>\n",
       "      <td>ARARIA</td>\n",
       "      <td>379</td>\n",
       "      <td>379</td>\n",
       "    </tr>\n",
       "    <tr>\n",
       "      <th>2</th>\n",
       "      <td>ARRAH</td>\n",
       "      <td>20812</td>\n",
       "      <td>22244</td>\n",
       "    </tr>\n",
       "    <tr>\n",
       "      <th>3</th>\n",
       "      <td>ARWAL</td>\n",
       "      <td>9251</td>\n",
       "      <td>10308</td>\n",
       "    </tr>\n",
       "    <tr>\n",
       "      <th>4</th>\n",
       "      <td>ASHIYANA</td>\n",
       "      <td>44386</td>\n",
       "      <td>45381</td>\n",
       "    </tr>\n",
       "  </tbody>\n",
       "</table>\n",
       "</div>"
      ],
      "text/plain": [
       "   DIVISION  NEW METER NO  Total_meter_count_infra_file\n",
       "0   AMARPUR          3317                          3311\n",
       "1    ARARIA           379                           379\n",
       "2     ARRAH         20812                         22244\n",
       "3     ARWAL          9251                         10308\n",
       "4  ASHIYANA         44386                         45381"
      ]
     },
     "execution_count": 28,
     "metadata": {},
     "output_type": "execute_result"
    }
   ],
   "source": [
    "WEEKLY_REPORT_FINAL_DATA.head()"
   ]
  },
  {
   "cell_type": "code",
   "execution_count": null,
   "metadata": {},
   "outputs": [],
   "source": []
  },
  {
   "cell_type": "markdown",
   "metadata": {},
   "source": [
    "# 3"
   ]
  },
  {
   "cell_type": "code",
   "execution_count": null,
   "metadata": {},
   "outputs": [],
   "source": [
    "# Communicating count within 7 days\n"
   ]
  },
  {
   "cell_type": "code",
   "execution_count": null,
   "metadata": {},
   "outputs": [],
   "source": [
    "# Calculate the date 7 days ago\n",
    "seven_days_ago = datetime.now() - timedelta(days=7)\n",
    "\n",
    "\n",
    "# Filter the DataFrame to keep only rows before the last 7 days\n",
    "COMPILE_DATA_NB_SB_NOT_NULL_DATA_LAST_7_DAY = COMPILE_INFRA_NB_SB_NOT_NULL_DATA[COMPILE_INFRA_NB_SB_NOT_NULL_DATA['LastS05'] > seven_days_ago]\n",
    "\n",
    "# Display the filtered DataFrame\n",
    "#COMPILE_DATA_NB_SB_NOT_NULL_DATA_LAST_7_DAY.head()\n",
    "\n",
    "\n",
    "# COMMUNICATING METER COUNT\n",
    "\n",
    "COMMUNICATING_METER_PER_DIVISION_COUNT = COMPILE_DATA_NB_SB_NOT_NULL_DATA_LAST_7_DAY.groupby(['DIVISION'])['FULL_METER_NUMBER_INFRA'].count()\n",
    "\n",
    "# merge data with weekly report data\n",
    "\n",
    "WEEKLY_REPORT_FINAL_DATA=pd.merge(WEEKLY_REPORT_FINAL_DATA,COMMUNICATING_METER_PER_DIVISION_COUNT,left_on=['DIVISION'],right_on=['DIVISION'],how='left')"
   ]
  },
  {
   "cell_type": "code",
   "execution_count": null,
   "metadata": {},
   "outputs": [],
   "source": [
    "# column rename\n",
    "\n",
    "WEEKLY_REPORT_FINAL_DATA.rename(columns={'FULL_METER_NUMBER_INFRA':'Total_meter_count_infra_file_less_than_7_Day'},inplace=True)"
   ]
  },
  {
   "cell_type": "code",
   "execution_count": null,
   "metadata": {},
   "outputs": [
    {
     "data": {
      "text/html": [
       "<div>\n",
       "<style scoped>\n",
       "    .dataframe tbody tr th:only-of-type {\n",
       "        vertical-align: middle;\n",
       "    }\n",
       "\n",
       "    .dataframe tbody tr th {\n",
       "        vertical-align: top;\n",
       "    }\n",
       "\n",
       "    .dataframe thead th {\n",
       "        text-align: right;\n",
       "    }\n",
       "</style>\n",
       "<table border=\"1\" class=\"dataframe\">\n",
       "  <thead>\n",
       "    <tr style=\"text-align: right;\">\n",
       "      <th></th>\n",
       "      <th>DIVISION</th>\n",
       "      <th>NEW METER NO</th>\n",
       "      <th>Total_meter_count_infra_file</th>\n",
       "      <th>Total_meter_count_infra_file_less_than_7_Day</th>\n",
       "    </tr>\n",
       "  </thead>\n",
       "  <tbody>\n",
       "    <tr>\n",
       "      <th>0</th>\n",
       "      <td>AMARPUR</td>\n",
       "      <td>3317</td>\n",
       "      <td>3311</td>\n",
       "      <td>2980</td>\n",
       "    </tr>\n",
       "    <tr>\n",
       "      <th>1</th>\n",
       "      <td>ARARIA</td>\n",
       "      <td>379</td>\n",
       "      <td>379</td>\n",
       "      <td>105</td>\n",
       "    </tr>\n",
       "    <tr>\n",
       "      <th>2</th>\n",
       "      <td>ARRAH</td>\n",
       "      <td>20812</td>\n",
       "      <td>22244</td>\n",
       "      <td>19608</td>\n",
       "    </tr>\n",
       "    <tr>\n",
       "      <th>3</th>\n",
       "      <td>ARWAL</td>\n",
       "      <td>9251</td>\n",
       "      <td>10308</td>\n",
       "      <td>8912</td>\n",
       "    </tr>\n",
       "    <tr>\n",
       "      <th>4</th>\n",
       "      <td>ASHIYANA</td>\n",
       "      <td>44386</td>\n",
       "      <td>45381</td>\n",
       "      <td>44428</td>\n",
       "    </tr>\n",
       "  </tbody>\n",
       "</table>\n",
       "</div>"
      ],
      "text/plain": [
       "   DIVISION  NEW METER NO  Total_meter_count_infra_file  \\\n",
       "0   AMARPUR          3317                          3311   \n",
       "1    ARARIA           379                           379   \n",
       "2     ARRAH         20812                         22244   \n",
       "3     ARWAL          9251                         10308   \n",
       "4  ASHIYANA         44386                         45381   \n",
       "\n",
       "   Total_meter_count_infra_file_less_than_7_Day  \n",
       "0                                          2980  \n",
       "1                                           105  \n",
       "2                                         19608  \n",
       "3                                          8912  \n",
       "4                                         44428  "
      ]
     },
     "execution_count": 32,
     "metadata": {},
     "output_type": "execute_result"
    }
   ],
   "source": [
    "WEEKLY_REPORT_FINAL_DATA.head()"
   ]
  },
  {
   "cell_type": "markdown",
   "metadata": {},
   "source": [
    "# 4"
   ]
  },
  {
   "cell_type": "code",
   "execution_count": null,
   "metadata": {},
   "outputs": [],
   "source": [
    "# Calculate the date 7 days ago\n",
    "seven_days_ago = datetime.now() - timedelta(days=7)\n",
    "Fifteen_days_ago = datetime.now() - timedelta(days=15)\n",
    "\n",
    "\n",
    "# Filter the DataFrame to keep only rows before the last 7 days\n",
    "COMPILE_DATA_NB_SB_NOT_NULL_DATA_LAST_7_TO_15_DAYS = COMPILE_INFRA_NB_SB_NOT_NULL_DATA[(COMPILE_INFRA_NB_SB_NOT_NULL_DATA['LastS05'] < seven_days_ago) & (COMPILE_INFRA_NB_SB_NOT_NULL_DATA['LastS05'] > Fifteen_days_ago)]\n",
    "\n",
    "# Display the filtered DataFrame\n",
    "#COMPILE_DATA_NB_SB_NOT_NULL_DATA_LAST_7_DAY.head()\n",
    "\n",
    "\n",
    "# COMMUNICATING METER COUNT\n",
    "\n",
    "COMMUNICATING_METER_PER_DIVISION_COUNT_7_15_DAYS = COMPILE_DATA_NB_SB_NOT_NULL_DATA_LAST_7_TO_15_DAYS.groupby(['DIVISION'])['FULL_METER_NUMBER_INFRA'].count()\n",
    "\n",
    "# merge data with weekly report data\n",
    "\n",
    "WEEKLY_REPORT_FINAL_DATA=pd.merge(WEEKLY_REPORT_FINAL_DATA,COMMUNICATING_METER_PER_DIVISION_COUNT_7_15_DAYS,left_on=['DIVISION'],right_on=['DIVISION'],how='left')"
   ]
  },
  {
   "cell_type": "code",
   "execution_count": null,
   "metadata": {},
   "outputs": [],
   "source": [
    "# column rename\n",
    "\n",
    "WEEKLY_REPORT_FINAL_DATA.rename(columns={'FULL_METER_NUMBER_INFRA':'Total_meter_count_infra_file_between_7_15_Days'},inplace=True)"
   ]
  },
  {
   "cell_type": "markdown",
   "metadata": {},
   "source": [
    "# 5"
   ]
  },
  {
   "cell_type": "code",
   "execution_count": null,
   "metadata": {},
   "outputs": [],
   "source": [
    "# Calculate the date 7 days ago\n",
    "Sixteen_days_ago = datetime.now() - timedelta(days=16)\n",
    "Thirty_days_ago = datetime.now() - timedelta(days=30)\n",
    "\n",
    "\n",
    "# Filter the DataFrame to keep only rows before the last 7 days\n",
    "COMPILE_DATA_NB_SB_NOT_NULL_DATA_LAST_16_TO_30_DAYS = COMPILE_INFRA_NB_SB_NOT_NULL_DATA[(COMPILE_INFRA_NB_SB_NOT_NULL_DATA['LastS05'] < Sixteen_days_ago) & (COMPILE_INFRA_NB_SB_NOT_NULL_DATA['LastS05'] > Thirty_days_ago)]\n",
    "\n",
    "# Display the filtered DataFrame\n",
    "#COMPILE_DATA_NB_SB_NOT_NULL_DATA_LAST_7_DAY.head()\n",
    "\n",
    "\n",
    "# COMMUNICATING METER COUNT\n",
    "\n",
    "COMPILE_DATA_NB_SB_NOT_NULL_DATA_LAST_16_TO_30_DAYS = COMPILE_DATA_NB_SB_NOT_NULL_DATA_LAST_16_TO_30_DAYS.groupby(['DIVISION'])['FULL_METER_NUMBER_INFRA'].count()\n",
    "\n",
    "# merge data with weekly report data\n",
    "\n",
    "WEEKLY_REPORT_FINAL_DATA=pd.merge(WEEKLY_REPORT_FINAL_DATA,COMPILE_DATA_NB_SB_NOT_NULL_DATA_LAST_16_TO_30_DAYS,left_on=['DIVISION'],right_on=['DIVISION'],how='left')"
   ]
  },
  {
   "cell_type": "code",
   "execution_count": null,
   "metadata": {},
   "outputs": [],
   "source": [
    "# column rename\n",
    "\n",
    "WEEKLY_REPORT_FINAL_DATA.rename(columns={'FULL_METER_NUMBER_INFRA':'Total_meter_count_infra_file_between_16_30_Days'},inplace=True)"
   ]
  },
  {
   "cell_type": "code",
   "execution_count": null,
   "metadata": {},
   "outputs": [
    {
     "data": {
      "text/html": [
       "<div>\n",
       "<style scoped>\n",
       "    .dataframe tbody tr th:only-of-type {\n",
       "        vertical-align: middle;\n",
       "    }\n",
       "\n",
       "    .dataframe tbody tr th {\n",
       "        vertical-align: top;\n",
       "    }\n",
       "\n",
       "    .dataframe thead th {\n",
       "        text-align: right;\n",
       "    }\n",
       "</style>\n",
       "<table border=\"1\" class=\"dataframe\">\n",
       "  <thead>\n",
       "    <tr style=\"text-align: right;\">\n",
       "      <th></th>\n",
       "      <th>DIVISION</th>\n",
       "      <th>NEW METER NO</th>\n",
       "      <th>Total_meter_count_infra_file</th>\n",
       "      <th>Total_meter_count_infra_file_less_than_7_Day</th>\n",
       "      <th>Total_meter_count_infra_file_between_7_15_Days</th>\n",
       "      <th>Total_meter_count_infra_file_between_16_30_Days</th>\n",
       "    </tr>\n",
       "  </thead>\n",
       "  <tbody>\n",
       "    <tr>\n",
       "      <th>0</th>\n",
       "      <td>AMARPUR</td>\n",
       "      <td>3317</td>\n",
       "      <td>3311</td>\n",
       "      <td>2980</td>\n",
       "      <td>12.0</td>\n",
       "      <td>30.0</td>\n",
       "    </tr>\n",
       "    <tr>\n",
       "      <th>1</th>\n",
       "      <td>ARARIA</td>\n",
       "      <td>379</td>\n",
       "      <td>379</td>\n",
       "      <td>105</td>\n",
       "      <td>15.0</td>\n",
       "      <td>23.0</td>\n",
       "    </tr>\n",
       "    <tr>\n",
       "      <th>2</th>\n",
       "      <td>ARRAH</td>\n",
       "      <td>20812</td>\n",
       "      <td>22244</td>\n",
       "      <td>19608</td>\n",
       "      <td>107.0</td>\n",
       "      <td>164.0</td>\n",
       "    </tr>\n",
       "    <tr>\n",
       "      <th>3</th>\n",
       "      <td>ARWAL</td>\n",
       "      <td>9251</td>\n",
       "      <td>10308</td>\n",
       "      <td>8912</td>\n",
       "      <td>118.0</td>\n",
       "      <td>154.0</td>\n",
       "    </tr>\n",
       "    <tr>\n",
       "      <th>4</th>\n",
       "      <td>ASHIYANA</td>\n",
       "      <td>44386</td>\n",
       "      <td>45381</td>\n",
       "      <td>44428</td>\n",
       "      <td>127.0</td>\n",
       "      <td>130.0</td>\n",
       "    </tr>\n",
       "    <tr>\n",
       "      <th>...</th>\n",
       "      <td>...</td>\n",
       "      <td>...</td>\n",
       "      <td>...</td>\n",
       "      <td>...</td>\n",
       "      <td>...</td>\n",
       "      <td>...</td>\n",
       "    </tr>\n",
       "    <tr>\n",
       "      <th>77</th>\n",
       "      <td>SHERGHATI</td>\n",
       "      <td>7063</td>\n",
       "      <td>7161</td>\n",
       "      <td>6061</td>\n",
       "      <td>19.0</td>\n",
       "      <td>97.0</td>\n",
       "    </tr>\n",
       "    <tr>\n",
       "      <th>78</th>\n",
       "      <td>SIMRI BAKHTIYARPUR</td>\n",
       "      <td>147</td>\n",
       "      <td>147</td>\n",
       "      <td>36</td>\n",
       "      <td>6.0</td>\n",
       "      <td>38.0</td>\n",
       "    </tr>\n",
       "    <tr>\n",
       "      <th>79</th>\n",
       "      <td>SITAMARHI</td>\n",
       "      <td>33137</td>\n",
       "      <td>34719</td>\n",
       "      <td>33056</td>\n",
       "      <td>73.0</td>\n",
       "      <td>95.0</td>\n",
       "    </tr>\n",
       "    <tr>\n",
       "      <th>80</th>\n",
       "      <td>SIWAN</td>\n",
       "      <td>23119</td>\n",
       "      <td>24226</td>\n",
       "      <td>22710</td>\n",
       "      <td>63.0</td>\n",
       "      <td>100.0</td>\n",
       "    </tr>\n",
       "    <tr>\n",
       "      <th>81</th>\n",
       "      <td>SUPAUL</td>\n",
       "      <td>15318</td>\n",
       "      <td>15569</td>\n",
       "      <td>14771</td>\n",
       "      <td>73.0</td>\n",
       "      <td>137.0</td>\n",
       "    </tr>\n",
       "  </tbody>\n",
       "</table>\n",
       "<p>82 rows × 6 columns</p>\n",
       "</div>"
      ],
      "text/plain": [
       "              DIVISION  NEW METER NO  Total_meter_count_infra_file  \\\n",
       "0              AMARPUR          3317                          3311   \n",
       "1               ARARIA           379                           379   \n",
       "2                ARRAH         20812                         22244   \n",
       "3                ARWAL          9251                         10308   \n",
       "4             ASHIYANA         44386                         45381   \n",
       "..                 ...           ...                           ...   \n",
       "77           SHERGHATI          7063                          7161   \n",
       "78  SIMRI BAKHTIYARPUR           147                           147   \n",
       "79           SITAMARHI         33137                         34719   \n",
       "80               SIWAN         23119                         24226   \n",
       "81              SUPAUL         15318                         15569   \n",
       "\n",
       "    Total_meter_count_infra_file_less_than_7_Day  \\\n",
       "0                                           2980   \n",
       "1                                            105   \n",
       "2                                          19608   \n",
       "3                                           8912   \n",
       "4                                          44428   \n",
       "..                                           ...   \n",
       "77                                          6061   \n",
       "78                                            36   \n",
       "79                                         33056   \n",
       "80                                         22710   \n",
       "81                                         14771   \n",
       "\n",
       "    Total_meter_count_infra_file_between_7_15_Days  \\\n",
       "0                                             12.0   \n",
       "1                                             15.0   \n",
       "2                                            107.0   \n",
       "3                                            118.0   \n",
       "4                                            127.0   \n",
       "..                                             ...   \n",
       "77                                            19.0   \n",
       "78                                             6.0   \n",
       "79                                            73.0   \n",
       "80                                            63.0   \n",
       "81                                            73.0   \n",
       "\n",
       "    Total_meter_count_infra_file_between_16_30_Days  \n",
       "0                                              30.0  \n",
       "1                                              23.0  \n",
       "2                                             164.0  \n",
       "3                                             154.0  \n",
       "4                                             130.0  \n",
       "..                                              ...  \n",
       "77                                             97.0  \n",
       "78                                             38.0  \n",
       "79                                             95.0  \n",
       "80                                            100.0  \n",
       "81                                            137.0  \n",
       "\n",
       "[82 rows x 6 columns]"
      ]
     },
     "execution_count": 45,
     "metadata": {},
     "output_type": "execute_result"
    }
   ],
   "source": [
    "WEEKLY_REPORT_FINAL_DATA"
   ]
  },
  {
   "cell_type": "code",
   "execution_count": null,
   "metadata": {},
   "outputs": [],
   "source": []
  },
  {
   "cell_type": "markdown",
   "metadata": {},
   "source": [
    "# 6"
   ]
  },
  {
   "cell_type": "code",
   "execution_count": null,
   "metadata": {},
   "outputs": [
    {
     "data": {
      "text/plain": [
       "(86078, 17)"
      ]
     },
     "execution_count": 54,
     "metadata": {},
     "output_type": "execute_result"
    }
   ],
   "source": [
    "# Calculate the date 7 days ago\n",
    "\n",
    "Thirty_days_ago = datetime.now() - timedelta(days=30)\n",
    "\n",
    "\n",
    "# Filter the DataFrame to keep only rows before the last 7 days\n",
    "COMPILE_DATA_NB_SB_NOT_NULL_DATA_MORE_THAN_30_DAYS = COMPILE_INFRA_NB_SB_NOT_NULL_DATA[COMPILE_INFRA_NB_SB_NOT_NULL_DATA['LastS05'] < Thirty_days_ago]\n",
    "\n",
    "COMPILE_DATA_NB_SB_NOT_NULL_DATA_MORE_THAN_30_DAYS.shape"
   ]
  },
  {
   "cell_type": "code",
   "execution_count": null,
   "metadata": {},
   "outputs": [],
   "source": [
    "# Calculate the date 7 days ago\n",
    "\n",
    "Thirty_days_ago = datetime.now() - timedelta(days=30)\n",
    "\n",
    "\n",
    "# Filter the DataFrame to keep only rows before the last 7 days\n",
    "COMPILE_DATA_NB_SB_NOT_NULL_DATA_MORE_THAN_30_DAYS = COMPILE_INFRA_NB_SB_NOT_NULL_DATA[COMPILE_INFRA_NB_SB_NOT_NULL_DATA['LastS05'] < Thirty_days_ago]\n",
    "\n",
    "# Display the filtered DataFrame\n",
    "#COMPILE_DATA_NB_SB_NOT_NULL_DATA_LAST_7_DAY.head()\n",
    "\n",
    "\n",
    "# COMMUNICATING METER COUNT\n",
    "\n",
    "COMPILE_DATA_NB_SB_NOT_NULL_DATA_MORE_THAN_30_DAYS = COMPILE_DATA_NB_SB_NOT_NULL_DATA_MORE_THAN_30_DAYS.groupby(['DIVISION'])['FULL_METER_NUMBER_INFRA'].count()\n",
    "\n",
    "# merge data with weekly report data\n",
    "\n",
    "WEEKLY_REPORT_FINAL_DATA=pd.merge(WEEKLY_REPORT_FINAL_DATA,COMPILE_DATA_NB_SB_NOT_NULL_DATA_MORE_THAN_30_DAYS,left_on=['DIVISION'],right_on=['DIVISION'],how='left')"
   ]
  },
  {
   "cell_type": "code",
   "execution_count": null,
   "metadata": {},
   "outputs": [],
   "source": [
    "# column rename\n",
    "\n",
    "WEEKLY_REPORT_FINAL_DATA.rename(columns={'FULL_METER_NUMBER_INFRA':'Total_meter_count_infra_file_more_than_30_Days'},inplace=True)"
   ]
  },
  {
   "cell_type": "code",
   "execution_count": null,
   "metadata": {},
   "outputs": [
    {
     "data": {
      "text/html": [
       "<div>\n",
       "<style scoped>\n",
       "    .dataframe tbody tr th:only-of-type {\n",
       "        vertical-align: middle;\n",
       "    }\n",
       "\n",
       "    .dataframe tbody tr th {\n",
       "        vertical-align: top;\n",
       "    }\n",
       "\n",
       "    .dataframe thead th {\n",
       "        text-align: right;\n",
       "    }\n",
       "</style>\n",
       "<table border=\"1\" class=\"dataframe\">\n",
       "  <thead>\n",
       "    <tr style=\"text-align: right;\">\n",
       "      <th></th>\n",
       "      <th>DIVISION</th>\n",
       "      <th>NEW METER NO</th>\n",
       "      <th>Total_meter_count_infra_file</th>\n",
       "      <th>Total_meter_count_infra_file_less_than_7_Day</th>\n",
       "      <th>Total_meter_count_infra_file_between_7_15_Days</th>\n",
       "      <th>Total_meter_count_infra_file_between_16_30_Days</th>\n",
       "      <th>Total_meter_count_infra_file_more_than_30_Days</th>\n",
       "    </tr>\n",
       "  </thead>\n",
       "  <tbody>\n",
       "    <tr>\n",
       "      <th>0</th>\n",
       "      <td>AMARPUR</td>\n",
       "      <td>3317</td>\n",
       "      <td>3311</td>\n",
       "      <td>2980</td>\n",
       "      <td>12.0</td>\n",
       "      <td>30.0</td>\n",
       "      <td>276</td>\n",
       "    </tr>\n",
       "    <tr>\n",
       "      <th>1</th>\n",
       "      <td>ARARIA</td>\n",
       "      <td>379</td>\n",
       "      <td>379</td>\n",
       "      <td>105</td>\n",
       "      <td>15.0</td>\n",
       "      <td>23.0</td>\n",
       "      <td>166</td>\n",
       "    </tr>\n",
       "    <tr>\n",
       "      <th>2</th>\n",
       "      <td>ARRAH</td>\n",
       "      <td>20812</td>\n",
       "      <td>22244</td>\n",
       "      <td>19608</td>\n",
       "      <td>107.0</td>\n",
       "      <td>164.0</td>\n",
       "      <td>2271</td>\n",
       "    </tr>\n",
       "    <tr>\n",
       "      <th>3</th>\n",
       "      <td>ARWAL</td>\n",
       "      <td>9251</td>\n",
       "      <td>10308</td>\n",
       "      <td>8912</td>\n",
       "      <td>118.0</td>\n",
       "      <td>154.0</td>\n",
       "      <td>1081</td>\n",
       "    </tr>\n",
       "    <tr>\n",
       "      <th>4</th>\n",
       "      <td>ASHIYANA</td>\n",
       "      <td>44386</td>\n",
       "      <td>45381</td>\n",
       "      <td>44428</td>\n",
       "      <td>127.0</td>\n",
       "      <td>130.0</td>\n",
       "      <td>659</td>\n",
       "    </tr>\n",
       "  </tbody>\n",
       "</table>\n",
       "</div>"
      ],
      "text/plain": [
       "   DIVISION  NEW METER NO  Total_meter_count_infra_file  \\\n",
       "0   AMARPUR          3317                          3311   \n",
       "1    ARARIA           379                           379   \n",
       "2     ARRAH         20812                         22244   \n",
       "3     ARWAL          9251                         10308   \n",
       "4  ASHIYANA         44386                         45381   \n",
       "\n",
       "   Total_meter_count_infra_file_less_than_7_Day  \\\n",
       "0                                          2980   \n",
       "1                                           105   \n",
       "2                                         19608   \n",
       "3                                          8912   \n",
       "4                                         44428   \n",
       "\n",
       "   Total_meter_count_infra_file_between_7_15_Days  \\\n",
       "0                                            12.0   \n",
       "1                                            15.0   \n",
       "2                                           107.0   \n",
       "3                                           118.0   \n",
       "4                                           127.0   \n",
       "\n",
       "   Total_meter_count_infra_file_between_16_30_Days  \\\n",
       "0                                             30.0   \n",
       "1                                             23.0   \n",
       "2                                            164.0   \n",
       "3                                            154.0   \n",
       "4                                            130.0   \n",
       "\n",
       "   Total_meter_count_infra_file_more_than_30_Days  \n",
       "0                                             276  \n",
       "1                                             166  \n",
       "2                                            2271  \n",
       "3                                            1081  \n",
       "4                                             659  "
      ]
     },
     "execution_count": 57,
     "metadata": {},
     "output_type": "execute_result"
    }
   ],
   "source": [
    "WEEKLY_REPORT_FINAL_DATA.head()"
   ]
  },
  {
   "cell_type": "code",
   "execution_count": null,
   "metadata": {},
   "outputs": [],
   "source": []
  }
 ],
 "metadata": {
  "kernelspec": {
   "display_name": "Python 3",
   "language": "python",
   "name": "python3"
  },
  "language_info": {
   "codemirror_mode": {
    "name": "ipython",
    "version": 3
   },
   "file_extension": ".py",
   "mimetype": "text/x-python",
   "name": "python",
   "nbconvert_exporter": "python",
   "pygments_lexer": "ipython3",
   "version": "3.9.18"
  }
 },
 "nbformat": 4,
 "nbformat_minor": 2
}
