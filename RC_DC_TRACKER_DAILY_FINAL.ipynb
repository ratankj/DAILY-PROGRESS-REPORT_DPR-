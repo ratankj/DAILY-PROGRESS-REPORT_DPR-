{
 "cells": [
  {
   "cell_type": "code",
   "execution_count": 576,
   "metadata": {},
   "outputs": [],
   "source": [
    "import pandas as pd\n",
    "import numpy as np\n",
    "import os\n",
    "from datetime import datetime, timedelta\n",
    "pd.set_option('display.max_columns', None)"
   ]
  },
  {
   "cell_type": "code",
   "execution_count": 577,
   "metadata": {},
   "outputs": [],
   "source": [
    "# DAYS CAN BE CHANGE FROM HERE\n",
    "\n",
    "START_DATE = 6\n",
    "START_DATE_PLUS_ONE = 7"
   ]
  },
  {
   "cell_type": "code",
   "execution_count": null,
   "metadata": {},
   "outputs": [],
   "source": []
  },
  {
   "cell_type": "code",
   "execution_count": 578,
   "metadata": {},
   "outputs": [
    {
     "name": "stdout",
     "output_type": "stream",
     "text": [
      "File renamed to Modified_DISCONNECTION_RECONNECTION_REPORT_for_all_requests\n",
      "File path  C:\\Users\\Ratan Kumar Jha\\Desktop\\Daily progress report\\RC_DC_TRACKER\\RC_DC_INPUT_FILE\\Modified_DISCONNECTION_RECONNECTION_REPORT_for_all_requests.csv\n",
      "File renamed to RECHARGE_DETAILS_FOR_ALL_WITHOUT_HIERARCHY\n",
      "File path  C:\\Users\\Ratan Kumar Jha\\Desktop\\Daily progress report\\RC_DC_TRACKER\\RC_DC_INPUT_FILE\\RECHARGE_DETAILS_FOR_ALL_WITHOUT_HIERARCHY.csv\n"
     ]
    }
   ],
   "source": [
    "import os\n",
    "import glob\n",
    "\n",
    "base_file_path = r'C:\\Users\\Ratan Kumar Jha\\Desktop\\Daily progress report\\RC_DC_TRACKER\\RC_DC_INPUT_FILE'\n",
    "fixed_file_name_rc_dc = 'Modified_DISCONNECTION_RECONNECTION_REPORT_for_all_requests'\n",
    "fixed_file_name_recharge = 'RECHARGE_DETAILS_FOR_ALL_WITHOUT_HIERARCHY'\n",
    "\n",
    "# List all files in the base path\n",
    "files_in_base_path = glob.glob(os.path.join(base_file_path, '*'))\n",
    "\n",
    "# Find and rename files with the changing name for Modified_DISCONNECTION_RECONNECTION_REPORT\n",
    "matching_files_rc_dc = [file for file in files_in_base_path if fixed_file_name_rc_dc.lower() in file.lower()]\n",
    "\n",
    "for changing_name_file in matching_files_rc_dc:\n",
    "    new_file_path = os.path.join(base_file_path, f\"{fixed_file_name_rc_dc}.csv\")\n",
    "    os.rename(changing_name_file, new_file_path)\n",
    "    print(f\"File renamed to {fixed_file_name_rc_dc}\")\n",
    "    print(f\"File path  {new_file_path}\")\n",
    "\n",
    "# Find and rename files with the changing name for RECHARGE_DETAILS_FOR_ALL_WITHOUT_HIERARCHY\n",
    "matching_files_recharge = [file for file in files_in_base_path if fixed_file_name_recharge.lower() in file.lower()]\n",
    "\n",
    "for changing_name_file in matching_files_recharge:\n",
    "    new_file_path = os.path.join(base_file_path, f\"{fixed_file_name_recharge}.csv\")\n",
    "    os.rename(changing_name_file, new_file_path)\n",
    "    print(f\"File renamed to {fixed_file_name_recharge}\")\n",
    "    print(f\"File path  {new_file_path}\")\n",
    "\n",
    "if not matching_files_rc_dc and not matching_files_recharge:\n",
    "    print(\"No files with changing names found in the base path.\")\n"
   ]
  },
  {
   "cell_type": "code",
   "execution_count": null,
   "metadata": {},
   "outputs": [],
   "source": []
  },
  {
   "cell_type": "code",
   "execution_count": null,
   "metadata": {},
   "outputs": [],
   "source": []
  },
  {
   "cell_type": "code",
   "execution_count": 579,
   "metadata": {},
   "outputs": [
    {
     "name": "stderr",
     "output_type": "stream",
     "text": [
      "C:\\Users\\Ratan Kumar Jha\\AppData\\Local\\Temp\\ipykernel_36668\\1226762718.py:4: DtypeWarning: Columns (2) have mixed types. Specify dtype option on import or set low_memory=False.\n",
      "  Orgwise_Privilege_group_status_SB=pd.read_csv(r\"C:\\Users\\Ratan Kumar Jha\\Desktop\\Daily progress report\\RC_DC_TRACKER\\RC_DC_INPUT_FILE\\Orgwise_Privilege_group_status_SB.csv\")\n",
      "C:\\Users\\Ratan Kumar Jha\\AppData\\Local\\Temp\\ipykernel_36668\\1226762718.py:5: DtypeWarning: Columns (2) have mixed types. Specify dtype option on import or set low_memory=False.\n",
      "  Orgwise_Privilege_group_status_NB=pd.read_csv(r\"C:\\Users\\Ratan Kumar Jha\\Desktop\\Daily progress report\\RC_DC_TRACKER\\RC_DC_INPUT_FILE\\Orgwise_Privilege_group_status_NB.csv\")\n",
      "C:\\Users\\Ratan Kumar Jha\\AppData\\Local\\Temp\\ipykernel_36668\\1226762718.py:6: DtypeWarning: Columns (1) have mixed types. Specify dtype option on import or set low_memory=False.\n",
      "  RECHARGE_DETAILS_FOR_ALL_WITHOUT_HIERARCHY=pd.read_csv(r\"C:\\Users\\Ratan Kumar Jha\\Desktop\\Daily progress report\\RC_DC_TRACKER\\RC_DC_INPUT_FILE\\RECHARGE_DETAILS_FOR_ALL_WITHOUT_HIERARCHY.csv\")\n"
     ]
    }
   ],
   "source": [
    "# RC_DC_REPORT , PRIVILEGE_GROUP_STATUS ,  RECHARGE DETAILS\n",
    "\n",
    "Modified_DISCONNECTION_RECONNECTION_REPORT_for_all_requests=pd.read_csv(r\"C:\\Users\\Ratan Kumar Jha\\Desktop\\Daily progress report\\RC_DC_TRACKER\\RC_DC_INPUT_FILE\\Modified_DISCONNECTION_RECONNECTION_REPORT_for_all_requests.csv\")\n",
    "Orgwise_Privilege_group_status_SB=pd.read_csv(r\"C:\\Users\\Ratan Kumar Jha\\Desktop\\Daily progress report\\RC_DC_TRACKER\\RC_DC_INPUT_FILE\\Orgwise_Privilege_group_status_SB.csv\")\n",
    "Orgwise_Privilege_group_status_NB=pd.read_csv(r\"C:\\Users\\Ratan Kumar Jha\\Desktop\\Daily progress report\\RC_DC_TRACKER\\RC_DC_INPUT_FILE\\Orgwise_Privilege_group_status_NB.csv\")\n",
    "RECHARGE_DETAILS_FOR_ALL_WITHOUT_HIERARCHY=pd.read_csv(r\"C:\\Users\\Ratan Kumar Jha\\Desktop\\Daily progress report\\RC_DC_TRACKER\\RC_DC_INPUT_FILE\\RECHARGE_DETAILS_FOR_ALL_WITHOUT_HIERARCHY.csv\")"
   ]
  },
  {
   "cell_type": "code",
   "execution_count": null,
   "metadata": {},
   "outputs": [],
   "source": []
  },
  {
   "cell_type": "code",
   "execution_count": null,
   "metadata": {},
   "outputs": [],
   "source": []
  },
  {
   "cell_type": "code",
   "execution_count": 580,
   "metadata": {},
   "outputs": [
    {
     "name": "stderr",
     "output_type": "stream",
     "text": [
      "C:\\Users\\Ratan Kumar Jha\\AppData\\Local\\Temp\\ipykernel_36668\\567392238.py:1: DtypeWarning: Columns (7,11,15) have mixed types. Specify dtype option on import or set low_memory=False.\n",
      "  COMPILED_METER_2021=pd.read_csv(r\"C:\\PYTHON\\EDF_CODE_AUTOMATION_PYTHON\\DAILY-PROGRESS-REPORT_DPR-\\output_folder_data_compliation\\COMPILED_METER_2021.csv\")\n",
      "C:\\Users\\Ratan Kumar Jha\\AppData\\Local\\Temp\\ipykernel_36668\\567392238.py:2: DtypeWarning: Columns (7,11) have mixed types. Specify dtype option on import or set low_memory=False.\n",
      "  COMPLIED_METER_2022=pd.read_csv(r\"C:\\PYTHON\\EDF_CODE_AUTOMATION_PYTHON\\DAILY-PROGRESS-REPORT_DPR-\\output_folder_data_compliation\\COMPLIED_METER_2022.csv\")\n",
      "C:\\Users\\Ratan Kumar Jha\\AppData\\Local\\Temp\\ipykernel_36668\\567392238.py:3: DtypeWarning: Columns (18) have mixed types. Specify dtype option on import or set low_memory=False.\n",
      "  COMPLIED_METER_2023=pd.read_csv(r\"C:\\PYTHON\\EDF_CODE_AUTOMATION_PYTHON\\DAILY-PROGRESS-REPORT_DPR-\\output_folder_data_compliation\\COMPLIED_METER_2023.csv\")\n"
     ]
    }
   ],
   "source": [
    "COMPILED_METER_2021=pd.read_csv(r\"C:\\PYTHON\\EDF_CODE_AUTOMATION_PYTHON\\DAILY-PROGRESS-REPORT_DPR-\\output_folder_data_compliation\\COMPILED_METER_2021.csv\")\n",
    "COMPLIED_METER_2022=pd.read_csv(r\"C:\\PYTHON\\EDF_CODE_AUTOMATION_PYTHON\\DAILY-PROGRESS-REPORT_DPR-\\output_folder_data_compliation\\COMPLIED_METER_2022.csv\")\n",
    "COMPLIED_METER_2023=pd.read_csv(r\"C:\\PYTHON\\EDF_CODE_AUTOMATION_PYTHON\\DAILY-PROGRESS-REPORT_DPR-\\output_folder_data_compliation\\COMPLIED_METER_2023.csv\")\n",
    "COMPLIED_METER_2024=pd.read_csv(r\"C:\\PYTHON\\EDF_CODE_AUTOMATION_PYTHON\\DAILY-PROGRESS-REPORT_DPR-\\output_folder_data_compliation\\COMPLIED_METER_2024.csv\")"
   ]
  },
  {
   "cell_type": "code",
   "execution_count": 581,
   "metadata": {},
   "outputs": [],
   "source": [
    "# compiled data\n",
    "ALL_DATA_COMPILATION_MERGE_2023 = pd.concat([COMPILED_METER_2021, COMPLIED_METER_2022,COMPLIED_METER_2023], ignore_index=True)\n",
    "\n",
    "# DATA COMPILATION MERGE\n",
    "\n",
    "ALL_DATA_COMPILATION_MERGE = pd.concat([ALL_DATA_COMPILATION_MERGE_2023,COMPLIED_METER_2024], ignore_index=True)\n",
    "\n",
    "\n",
    "# changes in dataset like :- UPPER, SPACE REMOVAL , DATATYPE\n",
    "\n",
    "ALL_DATA_COMPILATION_MERGE = ALL_DATA_COMPILATION_MERGE.astype(str)\n",
    "ALL_DATA_COMPILATION_MERGE.columns = ALL_DATA_COMPILATION_MERGE.columns.str.upper()\n",
    "ALL_DATA_COMPILATION_MERGE = ALL_DATA_COMPILATION_MERGE.apply(lambda x: x.str.strip() if x.dtype == 'O' else x)\n",
    "ALL_DATA_COMPILATION_MERGE.columns = ALL_DATA_COMPILATION_MERGE.columns.str.strip()\n",
    "\n",
    "\n",
    "# CONVERT INTO DATETIME, SORT VALUES AND DROP DUPLICATES\n",
    "ALL_DATA_COMPILATION_MERGE['REPLACEMENT DATE'] = pd.to_datetime(ALL_DATA_COMPILATION_MERGE['REPLACEMENT DATE'])\n",
    "ALL_DATA_COMPILATION_MERGE.sort_values(by=['REPLACEMENT DATE'],ascending=False,inplace= True)\n",
    "\n",
    "# drop duplicate keep first , other drop\n",
    "\n",
    "ALL_DATA_COMPILATION_MERGE.drop_duplicates(subset=['NEW METER NO'], keep='first', inplace=True, ignore_index=True)\n"
   ]
  },
  {
   "cell_type": "code",
   "execution_count": 582,
   "metadata": {},
   "outputs": [
    {
     "data": {
      "text/html": [
       "<div>\n",
       "<style scoped>\n",
       "    .dataframe tbody tr th:only-of-type {\n",
       "        vertical-align: middle;\n",
       "    }\n",
       "\n",
       "    .dataframe tbody tr th {\n",
       "        vertical-align: top;\n",
       "    }\n",
       "\n",
       "    .dataframe thead th {\n",
       "        text-align: right;\n",
       "    }\n",
       "</style>\n",
       "<table border=\"1\" class=\"dataframe\">\n",
       "  <thead>\n",
       "    <tr style=\"text-align: right;\">\n",
       "      <th></th>\n",
       "      <th>SL</th>\n",
       "      <th>SECTION ID</th>\n",
       "      <th>CLUSTER</th>\n",
       "      <th>CATEGORY</th>\n",
       "      <th>WO STATUS</th>\n",
       "      <th>WORK ORDER TYPE</th>\n",
       "      <th>NEW METER NO</th>\n",
       "      <th>CONSUMER ID</th>\n",
       "      <th>INSTALLATION_NUMBER</th>\n",
       "      <th>NAME</th>\n",
       "      <th>ADDRESS</th>\n",
       "      <th>MOBILE NUMBER</th>\n",
       "      <th>UTILITY NAME</th>\n",
       "      <th>REPLACEMENT DATE</th>\n",
       "      <th>MRU</th>\n",
       "      <th>LAT</th>\n",
       "      <th>LONG</th>\n",
       "      <th>CATEGORY NAME</th>\n",
       "      <th>PHASE</th>\n",
       "      <th>TOWN</th>\n",
       "      <th>VENDOR NAME</th>\n",
       "      <th>SECTION</th>\n",
       "      <th>DIVISION</th>\n",
       "      <th>STATUS</th>\n",
       "      <th>VENDOR_MANAGER</th>\n",
       "      <th>VENDOR_PLANNER</th>\n",
       "      <th>DUPLICATE</th>\n",
       "      <th>SECTION_ID</th>\n",
       "    </tr>\n",
       "  </thead>\n",
       "  <tbody>\n",
       "  </tbody>\n",
       "</table>\n",
       "</div>"
      ],
      "text/plain": [
       "Empty DataFrame\n",
       "Columns: [SL, SECTION ID, CLUSTER, CATEGORY, WO STATUS, WORK ORDER TYPE, NEW METER NO, CONSUMER ID, INSTALLATION_NUMBER, NAME, ADDRESS, MOBILE NUMBER, UTILITY NAME, REPLACEMENT DATE, MRU, LAT, LONG, CATEGORY NAME, PHASE, TOWN, VENDOR NAME, SECTION, DIVISION, STATUS, VENDOR_MANAGER, VENDOR_PLANNER, DUPLICATE, SECTION_ID]\n",
       "Index: []"
      ]
     },
     "execution_count": 582,
     "metadata": {},
     "output_type": "execute_result"
    }
   ],
   "source": [
    "ALL_DATA_COMPILATION_MERGE[ALL_DATA_COMPILATION_MERGE.duplicated(subset=['NEW METER NO'],keep=False)].sort_values(by=['NEW METER NO','REPLACEMENT DATE'],ascending=[True,False]).head(10)"
   ]
  },
  {
   "cell_type": "code",
   "execution_count": 583,
   "metadata": {},
   "outputs": [],
   "source": [
    "\n",
    "# Custom function to update meter numbers\n",
    "def update_meter_number(meter_number):\n",
    "    if meter_number.startswith('GP') or meter_number.startswith('GL'):\n",
    "        return 'GOE' + meter_number\n",
    "    elif meter_number.startswith('LT'):\n",
    "        return 'LNT' + meter_number\n",
    "    else:\n",
    "        return meter_number\n",
    "\n",
    "# Apply the custom function to each element in the 'METER NO.' column\n",
    "ALL_DATA_COMPILATION_MERGE['FULL_METER_NUMBER'] = ALL_DATA_COMPILATION_MERGE['NEW METER NO'].apply(update_meter_number)\n"
   ]
  },
  {
   "cell_type": "code",
   "execution_count": 584,
   "metadata": {},
   "outputs": [
    {
     "data": {
      "text/plain": [
       "(1711870, 29)"
      ]
     },
     "execution_count": 584,
     "metadata": {},
     "output_type": "execute_result"
    }
   ],
   "source": [
    "ALL_DATA_COMPILATION_MERGE.shape"
   ]
  },
  {
   "cell_type": "code",
   "execution_count": null,
   "metadata": {},
   "outputs": [],
   "source": []
  },
  {
   "cell_type": "markdown",
   "metadata": {},
   "source": [
    "# CHECK DATE"
   ]
  },
  {
   "cell_type": "code",
   "execution_count": 585,
   "metadata": {},
   "outputs": [],
   "source": [
    "Modified_DISCONNECTION_RECONNECTION_REPORT_for_all_requests['OPEN_TIME'] = pd.to_datetime(Modified_DISCONNECTION_RECONNECTION_REPORT_for_all_requests['OPEN_TIME'])\n",
    "Modified_DISCONNECTION_RECONNECTION_REPORT_for_all_requests['CLOSE_TIME'] = pd.to_datetime(Modified_DISCONNECTION_RECONNECTION_REPORT_for_all_requests['CLOSE_TIME'])\n",
    "\n",
    "\n",
    "\n",
    "\n",
    "# fetch data where close time is not null\n",
    "Modified_DISCONNECTION_RECONNECTION_REPORT_for_all_requests_not_null_close_time_WITH_TODAY_YESTERDAY = Modified_DISCONNECTION_RECONNECTION_REPORT_for_all_requests[~Modified_DISCONNECTION_RECONNECTION_REPORT_for_all_requests['CLOSE_TIME'].isnull()]\n",
    "yesterday = datetime.now() - timedelta(days=START_DATE)\n",
    "yesterday_date = yesterday.date()\n",
    "Modified_DISCONNECTION_RECONNECTION_REPORT_for_all_requests_not_null_close_time = Modified_DISCONNECTION_RECONNECTION_REPORT_for_all_requests_not_null_close_time_WITH_TODAY_YESTERDAY[Modified_DISCONNECTION_RECONNECTION_REPORT_for_all_requests_not_null_close_time_WITH_TODAY_YESTERDAY['CLOSE_TIME'].dt.date == yesterday_date]\n",
    "Modified_DISCONNECTION_RECONNECTION_REPORT_for_all_requests_not_null_close_time['day']=Modified_DISCONNECTION_RECONNECTION_REPORT_for_all_requests_not_null_close_time['CLOSE_TIME'].dt.day \n",
    "Modified_DISCONNECTION_RECONNECTION_REPORT_for_all_requests_not_null_close_time['previous day'] = (Modified_DISCONNECTION_RECONNECTION_REPORT_for_all_requests_not_null_close_time['CLOSE_TIME'] - pd.to_timedelta(1, unit='d')).dt.day\n",
    "\n",
    "\n",
    "# convert into int type\n",
    "Modified_DISCONNECTION_RECONNECTION_REPORT_for_all_requests_not_null_close_time['previous day']=Modified_DISCONNECTION_RECONNECTION_REPORT_for_all_requests_not_null_close_time['previous day'].astype('Int32')\n",
    "Modified_DISCONNECTION_RECONNECTION_REPORT_for_all_requests_not_null_close_time['day']=Modified_DISCONNECTION_RECONNECTION_REPORT_for_all_requests_not_null_close_time['day'].astype('Int32')\n"
   ]
  },
  {
   "cell_type": "code",
   "execution_count": 586,
   "metadata": {},
   "outputs": [
    {
     "data": {
      "text/plain": [
       "<IntegerArray>\n",
       "[]\n",
       "Length: 0, dtype: Int32"
      ]
     },
     "execution_count": 586,
     "metadata": {},
     "output_type": "execute_result"
    }
   ],
   "source": [
    "Modified_DISCONNECTION_RECONNECTION_REPORT_for_all_requests_not_null_close_time['day'].unique()"
   ]
  },
  {
   "cell_type": "code",
   "execution_count": 587,
   "metadata": {},
   "outputs": [
    {
     "data": {
      "text/plain": [
       "(0, 15)"
      ]
     },
     "execution_count": 587,
     "metadata": {},
     "output_type": "execute_result"
    }
   ],
   "source": [
    "Modified_DISCONNECTION_RECONNECTION_REPORT_for_all_requests_not_null_close_time.shape"
   ]
  },
  {
   "cell_type": "markdown",
   "metadata": {},
   "source": [
    "# merge"
   ]
  },
  {
   "cell_type": "code",
   "execution_count": 588,
   "metadata": {},
   "outputs": [],
   "source": [
    "# merge data  : RC_DC  AND ALL DATA COMPILATION\n",
    "\n",
    "LEFT_JOIN_WITH_RC_DC_MODIFIED_ALL_DATA_COMPILATION = pd.merge(Modified_DISCONNECTION_RECONNECTION_REPORT_for_all_requests_not_null_close_time, ALL_DATA_COMPILATION_MERGE[['DIVISION','CATEGORY NAME','FULL_METER_NUMBER']], left_on=['UDC_ID_1'], right_on=['FULL_METER_NUMBER'], how='left')"
   ]
  },
  {
   "cell_type": "code",
   "execution_count": 589,
   "metadata": {},
   "outputs": [],
   "source": [
    "# NULL & NOT NULL ROWS\n",
    "\n",
    "LEFT_JOIN_WITH_RC_DC_MODIFIED_ALL_DATA_COMPILATION_NULL_ROWS=LEFT_JOIN_WITH_RC_DC_MODIFIED_ALL_DATA_COMPILATION[LEFT_JOIN_WITH_RC_DC_MODIFIED_ALL_DATA_COMPILATION['DIVISION'].isnull()]\n",
    "LEFT_JOIN_WITH_RC_DC_MODIFIED_ALL_DATA_COMPILATION_NOT_NULL= LEFT_JOIN_WITH_RC_DC_MODIFIED_ALL_DATA_COMPILATION[~LEFT_JOIN_WITH_RC_DC_MODIFIED_ALL_DATA_COMPILATION['DIVISION'].isnull()]"
   ]
  },
  {
   "cell_type": "markdown",
   "metadata": {},
   "source": [
    "# PRIVILAGE DATA"
   ]
  },
  {
   "cell_type": "code",
   "execution_count": 590,
   "metadata": {},
   "outputs": [
    {
     "data": {
      "text/plain": [
       "(1614246, 14)"
      ]
     },
     "execution_count": 590,
     "metadata": {},
     "output_type": "execute_result"
    }
   ],
   "source": [
    "\n",
    "# concat data  concat_Orgwise_Privilege_group_status_NB_SB\n",
    "concat_Orgwise_Privilege_group_status_NB_SB = pd.concat([Orgwise_Privilege_group_status_SB,Orgwise_Privilege_group_status_NB],ignore_index=True)\n",
    "\n",
    "# dop duplicate in  concat_Orgwise_Privilege_group_status_NB_SB\n",
    "concat_Orgwise_Privilege_group_status_NB_SB.drop_duplicates(subset=['METERNO'], keep='first', inplace=True, ignore_index=True)\n",
    "\n",
    "concat_Orgwise_Privilege_group_status_NB_SB.shape"
   ]
  },
  {
   "cell_type": "code",
   "execution_count": 591,
   "metadata": {},
   "outputs": [],
   "source": [
    "# upper letter\n",
    "concat_Orgwise_Privilege_group_status_NB_SB.columns = concat_Orgwise_Privilege_group_status_NB_SB.columns.str.upper()\n",
    "\n",
    "\n",
    "# Remove leading and trailing whitespaces from all columns where dtype is 'O'\n",
    "concat_Orgwise_Privilege_group_status_NB_SB = concat_Orgwise_Privilege_group_status_NB_SB.apply(lambda x: x.str.strip() if x.dtype == 'O' else x)\n",
    "\n",
    "\n"
   ]
  },
  {
   "cell_type": "markdown",
   "metadata": {},
   "source": [
    "# MERGE"
   ]
  },
  {
   "cell_type": "code",
   "execution_count": 592,
   "metadata": {},
   "outputs": [],
   "source": [
    "# DROP EXTRA COLUMN OF  LEFT_JOIN_WITH_RC_DC_MODIFIED_ALL_DATA_COMPILATION_NULL_ROWS\n",
    "\n",
    "LEFT_JOIN_WITH_RC_DC_MODIFIED_ALL_DATA_COMPILATION_NULL_ROWS.drop(['DIVISION', 'CATEGORY NAME','FULL_METER_NUMBER'], axis=1, inplace=True)\n",
    "\n",
    "# merge rc_Dc and privilege for division and category\n",
    "LEFT_JOIN_WITH_RC_DC_MODIFIED_ALL_DATA_COMPILATION_NULL_ROWS_PRIVILEGED=pd.merge(LEFT_JOIN_WITH_RC_DC_MODIFIED_ALL_DATA_COMPILATION_NULL_ROWS, concat_Orgwise_Privilege_group_status_NB_SB[['DIVISION','CATEGORY','METERNO']], left_on=['UDC_ID_1'], right_on=['METERNO'], how='left')\n",
    "\n"
   ]
  },
  {
   "cell_type": "markdown",
   "metadata": {},
   "source": [
    "# IT SHOULD BE ZERO"
   ]
  },
  {
   "cell_type": "code",
   "execution_count": 593,
   "metadata": {},
   "outputs": [
    {
     "data": {
      "text/plain": [
       "(0, 18)"
      ]
     },
     "execution_count": 593,
     "metadata": {},
     "output_type": "execute_result"
    }
   ],
   "source": [
    "LEFT_JOIN_WITH_RC_DC_MODIFIED_ALL_DATA_COMPILATION_NULL_ROWS_PRIVILEGED[LEFT_JOIN_WITH_RC_DC_MODIFIED_ALL_DATA_COMPILATION_NULL_ROWS_PRIVILEGED['DIVISION'].isnull()].shape"
   ]
  },
  {
   "cell_type": "code",
   "execution_count": 594,
   "metadata": {},
   "outputs": [],
   "source": [
    "LEFT_JOIN_WITH_RC_DC_MODIFIED_ALL_DATA_COMPILATION_NULL_ROWS_PRIVILEGED.rename(\n",
    "    columns={\"DIVISION\": \"DIVISION\", \"CATEGORY\": \"CATEGORY NAME\", \"METERNO\": \"FULL_METER_NUMBER\"},\n",
    "    inplace=True\n",
    ")\n"
   ]
  },
  {
   "cell_type": "code",
   "execution_count": 595,
   "metadata": {},
   "outputs": [
    {
     "data": {
      "text/plain": [
       "Index(['UDC_ID', 'UDC_ID_1', 'TYPE_CD', 'SUB_TYPE_CD', 'STATUS_CD',\n",
       "       'OUTCOME_CD', 'ALT_OUTCOME_REASON_CD', 'ORG_ID', 'OPEN_TIME',\n",
       "       'CLOSE_TIME', 'NAME', 'BALANCE', 'LOAD_STATUS', 'day', 'previous day',\n",
       "       'DIVISION', 'CATEGORY NAME', 'FULL_METER_NUMBER'],\n",
       "      dtype='object')"
      ]
     },
     "execution_count": 595,
     "metadata": {},
     "output_type": "execute_result"
    }
   ],
   "source": [
    "LEFT_JOIN_WITH_RC_DC_MODIFIED_ALL_DATA_COMPILATION_NULL_ROWS_PRIVILEGED.columns"
   ]
  },
  {
   "cell_type": "code",
   "execution_count": 596,
   "metadata": {},
   "outputs": [
    {
     "data": {
      "text/plain": [
       "Index(['UDC_ID', 'UDC_ID_1', 'TYPE_CD', 'SUB_TYPE_CD', 'STATUS_CD',\n",
       "       'OUTCOME_CD', 'ALT_OUTCOME_REASON_CD', 'ORG_ID', 'OPEN_TIME',\n",
       "       'CLOSE_TIME', 'NAME', 'BALANCE', 'LOAD_STATUS', 'day', 'previous day',\n",
       "       'DIVISION', 'CATEGORY NAME', 'FULL_METER_NUMBER'],\n",
       "      dtype='object')"
      ]
     },
     "execution_count": 596,
     "metadata": {},
     "output_type": "execute_result"
    }
   ],
   "source": [
    "LEFT_JOIN_WITH_RC_DC_MODIFIED_ALL_DATA_COMPILATION_NOT_NULL.columns"
   ]
  },
  {
   "cell_type": "code",
   "execution_count": 597,
   "metadata": {},
   "outputs": [],
   "source": [
    "CONCAT_NOT_NULL_AND_PRIVILAGE_MERGE_DATA = pd.concat([LEFT_JOIN_WITH_RC_DC_MODIFIED_ALL_DATA_COMPILATION_NOT_NULL, LEFT_JOIN_WITH_RC_DC_MODIFIED_ALL_DATA_COMPILATION_NULL_ROWS_PRIVILEGED], ignore_index=True)"
   ]
  },
  {
   "cell_type": "code",
   "execution_count": 598,
   "metadata": {},
   "outputs": [
    {
     "data": {
      "text/plain": [
       "(0, 18)"
      ]
     },
     "execution_count": 598,
     "metadata": {},
     "output_type": "execute_result"
    }
   ],
   "source": [
    "CONCAT_NOT_NULL_AND_PRIVILAGE_MERGE_DATA.shape"
   ]
  },
  {
   "cell_type": "code",
   "execution_count": 599,
   "metadata": {},
   "outputs": [
    {
     "data": {
      "text/plain": [
       "array([], dtype=object)"
      ]
     },
     "execution_count": 599,
     "metadata": {},
     "output_type": "execute_result"
    }
   ],
   "source": [
    "CONCAT_NOT_NULL_AND_PRIVILAGE_MERGE_DATA['SUB_TYPE_CD'].unique()"
   ]
  },
  {
   "cell_type": "code",
   "execution_count": null,
   "metadata": {},
   "outputs": [],
   "source": []
  },
  {
   "cell_type": "markdown",
   "metadata": {},
   "source": [
    "#  disconnected part"
   ]
  },
  {
   "cell_type": "code",
   "execution_count": 600,
   "metadata": {},
   "outputs": [
    {
     "data": {
      "text/plain": [
       "array([], dtype=object)"
      ]
     },
     "execution_count": 600,
     "metadata": {},
     "output_type": "execute_result"
    }
   ],
   "source": [
    "# for disconnected part\n",
    "\n",
    "CONCAT_NOT_NULL_AND_PRIVILAGE_MERGE_DATA_DIS = CONCAT_NOT_NULL_AND_PRIVILAGE_MERGE_DATA[CONCAT_NOT_NULL_AND_PRIVILAGE_MERGE_DATA['SUB_TYPE_CD']=='Load - Disconnect']\n",
    "CONCAT_NOT_NULL_AND_PRIVILAGE_MERGE_DATA_DIS['SUB_TYPE_CD'].unique()"
   ]
  },
  {
   "cell_type": "code",
   "execution_count": 601,
   "metadata": {},
   "outputs": [
    {
     "data": {
      "text/plain": [
       "(0, 18)"
      ]
     },
     "execution_count": 601,
     "metadata": {},
     "output_type": "execute_result"
    }
   ],
   "source": [
    "CONCAT_NOT_NULL_AND_PRIVILAGE_MERGE_DATA_DIS.shape"
   ]
  },
  {
   "cell_type": "code",
   "execution_count": 602,
   "metadata": {},
   "outputs": [],
   "source": [
    "\n",
    "CONCAT_NOT_NULL_AND_PRIVILAGE_MERGE_DATA_DIS.sort_values(by=['OUTCOME_CD'], ascending=False,inplace = True)"
   ]
  },
  {
   "cell_type": "code",
   "execution_count": 603,
   "metadata": {},
   "outputs": [
    {
     "data": {
      "text/plain": [
       "(0, 18)"
      ]
     },
     "execution_count": 603,
     "metadata": {},
     "output_type": "execute_result"
    }
   ],
   "source": [
    "CONCAT_NOT_NULL_AND_PRIVILAGE_MERGE_DATA_DIS.shape"
   ]
  },
  {
   "cell_type": "code",
   "execution_count": 604,
   "metadata": {},
   "outputs": [
    {
     "data": {
      "text/html": [
       "<div>\n",
       "<style scoped>\n",
       "    .dataframe tbody tr th:only-of-type {\n",
       "        vertical-align: middle;\n",
       "    }\n",
       "\n",
       "    .dataframe tbody tr th {\n",
       "        vertical-align: top;\n",
       "    }\n",
       "\n",
       "    .dataframe thead th {\n",
       "        text-align: right;\n",
       "    }\n",
       "</style>\n",
       "<table border=\"1\" class=\"dataframe\">\n",
       "  <thead>\n",
       "    <tr style=\"text-align: right;\">\n",
       "      <th></th>\n",
       "      <th>UDC_ID</th>\n",
       "      <th>UDC_ID_1</th>\n",
       "      <th>TYPE_CD</th>\n",
       "      <th>SUB_TYPE_CD</th>\n",
       "      <th>STATUS_CD</th>\n",
       "      <th>OUTCOME_CD</th>\n",
       "      <th>ALT_OUTCOME_REASON_CD</th>\n",
       "      <th>ORG_ID</th>\n",
       "      <th>OPEN_TIME</th>\n",
       "      <th>CLOSE_TIME</th>\n",
       "      <th>NAME</th>\n",
       "      <th>BALANCE</th>\n",
       "      <th>LOAD_STATUS</th>\n",
       "      <th>day</th>\n",
       "      <th>previous day</th>\n",
       "      <th>DIVISION</th>\n",
       "      <th>CATEGORY NAME</th>\n",
       "      <th>FULL_METER_NUMBER</th>\n",
       "    </tr>\n",
       "  </thead>\n",
       "  <tbody>\n",
       "  </tbody>\n",
       "</table>\n",
       "</div>"
      ],
      "text/plain": [
       "Empty DataFrame\n",
       "Columns: [UDC_ID, UDC_ID_1, TYPE_CD, SUB_TYPE_CD, STATUS_CD, OUTCOME_CD, ALT_OUTCOME_REASON_CD, ORG_ID, OPEN_TIME, CLOSE_TIME, NAME, BALANCE, LOAD_STATUS, day, previous day, DIVISION, CATEGORY NAME, FULL_METER_NUMBER]\n",
       "Index: []"
      ]
     },
     "execution_count": 604,
     "metadata": {},
     "output_type": "execute_result"
    }
   ],
   "source": [
    "CONCAT_NOT_NULL_AND_PRIVILAGE_MERGE_DATA_DIS.head(1)"
   ]
  },
  {
   "cell_type": "code",
   "execution_count": 605,
   "metadata": {},
   "outputs": [
    {
     "data": {
      "text/html": [
       "<div>\n",
       "<style scoped>\n",
       "    .dataframe tbody tr th:only-of-type {\n",
       "        vertical-align: middle;\n",
       "    }\n",
       "\n",
       "    .dataframe tbody tr th {\n",
       "        vertical-align: top;\n",
       "    }\n",
       "\n",
       "    .dataframe thead th {\n",
       "        text-align: right;\n",
       "    }\n",
       "</style>\n",
       "<table border=\"1\" class=\"dataframe\">\n",
       "  <thead>\n",
       "    <tr style=\"text-align: right;\">\n",
       "      <th></th>\n",
       "      <th>UDC_ID</th>\n",
       "      <th>UDC_ID_1</th>\n",
       "      <th>TYPE_CD</th>\n",
       "      <th>SUB_TYPE_CD</th>\n",
       "      <th>STATUS_CD</th>\n",
       "      <th>OUTCOME_CD</th>\n",
       "      <th>ALT_OUTCOME_REASON_CD</th>\n",
       "      <th>ORG_ID</th>\n",
       "      <th>OPEN_TIME</th>\n",
       "      <th>CLOSE_TIME</th>\n",
       "      <th>NAME</th>\n",
       "      <th>BALANCE</th>\n",
       "      <th>LOAD_STATUS</th>\n",
       "      <th>day</th>\n",
       "      <th>previous day</th>\n",
       "      <th>DIVISION</th>\n",
       "      <th>CATEGORY NAME</th>\n",
       "      <th>FULL_METER_NUMBER</th>\n",
       "    </tr>\n",
       "  </thead>\n",
       "  <tbody>\n",
       "  </tbody>\n",
       "</table>\n",
       "</div>"
      ],
      "text/plain": [
       "Empty DataFrame\n",
       "Columns: [UDC_ID, UDC_ID_1, TYPE_CD, SUB_TYPE_CD, STATUS_CD, OUTCOME_CD, ALT_OUTCOME_REASON_CD, ORG_ID, OPEN_TIME, CLOSE_TIME, NAME, BALANCE, LOAD_STATUS, day, previous day, DIVISION, CATEGORY NAME, FULL_METER_NUMBER]\n",
       "Index: []"
      ]
     },
     "execution_count": 605,
     "metadata": {},
     "output_type": "execute_result"
    }
   ],
   "source": [
    "CONCAT_NOT_NULL_AND_PRIVILAGE_MERGE_DATA_DIS.drop_duplicates(subset=['UDC_ID_1'],keep='first', inplace=True)"
   ]
  },
  {
   "cell_type": "code",
   "execution_count": 606,
   "metadata": {},
   "outputs": [
    {
     "data": {
      "text/html": [
       "<div>\n",
       "<style scoped>\n",
       "    .dataframe tbody tr th:only-of-type {\n",
       "        vertical-align: middle;\n",
       "    }\n",
       "\n",
       "    .dataframe tbody tr th {\n",
       "        vertical-align: top;\n",
       "    }\n",
       "\n",
       "    .dataframe thead th {\n",
       "        text-align: right;\n",
       "    }\n",
       "</style>\n",
       "<table border=\"1\" class=\"dataframe\">\n",
       "  <thead>\n",
       "    <tr style=\"text-align: right;\">\n",
       "      <th></th>\n",
       "      <th>UDC_ID</th>\n",
       "      <th>UDC_ID_1</th>\n",
       "      <th>TYPE_CD</th>\n",
       "      <th>SUB_TYPE_CD</th>\n",
       "      <th>STATUS_CD</th>\n",
       "      <th>OUTCOME_CD</th>\n",
       "      <th>ALT_OUTCOME_REASON_CD</th>\n",
       "      <th>ORG_ID</th>\n",
       "      <th>OPEN_TIME</th>\n",
       "      <th>CLOSE_TIME</th>\n",
       "      <th>NAME</th>\n",
       "      <th>BALANCE</th>\n",
       "      <th>LOAD_STATUS</th>\n",
       "      <th>day</th>\n",
       "      <th>previous day</th>\n",
       "      <th>DIVISION</th>\n",
       "      <th>CATEGORY NAME</th>\n",
       "      <th>FULL_METER_NUMBER</th>\n",
       "    </tr>\n",
       "  </thead>\n",
       "  <tbody>\n",
       "  </tbody>\n",
       "</table>\n",
       "</div>"
      ],
      "text/plain": [
       "Empty DataFrame\n",
       "Columns: [UDC_ID, UDC_ID_1, TYPE_CD, SUB_TYPE_CD, STATUS_CD, OUTCOME_CD, ALT_OUTCOME_REASON_CD, ORG_ID, OPEN_TIME, CLOSE_TIME, NAME, BALANCE, LOAD_STATUS, day, previous day, DIVISION, CATEGORY NAME, FULL_METER_NUMBER]\n",
       "Index: []"
      ]
     },
     "execution_count": 606,
     "metadata": {},
     "output_type": "execute_result"
    }
   ],
   "source": [
    "CONCAT_NOT_NULL_AND_PRIVILAGE_MERGE_DATA_DIS.head()"
   ]
  },
  {
   "cell_type": "code",
   "execution_count": 607,
   "metadata": {},
   "outputs": [
    {
     "data": {
      "text/plain": [
       "(0, 18)"
      ]
     },
     "execution_count": 607,
     "metadata": {},
     "output_type": "execute_result"
    }
   ],
   "source": [
    "CONCAT_NOT_NULL_AND_PRIVILAGE_MERGE_DATA_DIS.shape"
   ]
  },
  {
   "cell_type": "code",
   "execution_count": 608,
   "metadata": {},
   "outputs": [],
   "source": [
    "# group by\n",
    "\n",
    "#CONCAT_NOT_NULL_AND_PRIVILAGE_MERGE_DATA_DIS.groupby()\n",
    "#qtr_wise_status_bar_chart=ticket_df[ticket_df['year'].isin(option_year)].groupby(['year','yr_qtr','Status'])['Ticket No'].count()"
   ]
  },
  {
   "cell_type": "code",
   "execution_count": 609,
   "metadata": {},
   "outputs": [],
   "source": [
    "CONCAT_NOT_NULL_AND_PRIVILAGE_MERGE_DATA_DIS.to_csv (r\"C:\\Users\\Ratan Kumar Jha\\Desktop\\Daily progress report\\RC_DC_TRACKER\\OUTPUT FILE\\CONCAT_NOT_NULL_AND_PRIVILAGE_MERGE_DATA_DIS.csv\",index= False)"
   ]
  },
  {
   "cell_type": "code",
   "execution_count": 610,
   "metadata": {},
   "outputs": [
    {
     "data": {
      "text/plain": [
       "(0, 18)"
      ]
     },
     "execution_count": 610,
     "metadata": {},
     "output_type": "execute_result"
    }
   ],
   "source": [
    "CONCAT_NOT_NULL_AND_PRIVILAGE_MERGE_DATA_DIS.shape"
   ]
  },
  {
   "cell_type": "code",
   "execution_count": 611,
   "metadata": {},
   "outputs": [],
   "source": [
    "DISCONNECTION_FINAL_DATA = CONCAT_NOT_NULL_AND_PRIVILAGE_MERGE_DATA_DIS"
   ]
  },
  {
   "cell_type": "code",
   "execution_count": 612,
   "metadata": {},
   "outputs": [],
   "source": [
    "DISCONNECTION_FINAL_DATA.to_csv (r\"C:\\Users\\Ratan Kumar Jha\\Desktop\\Daily progress report\\RC_DC_TRACKER\\OUTPUT FILE\\DISCONNECTION_FINAL_DATA.csv\",index= False)"
   ]
  },
  {
   "cell_type": "code",
   "execution_count": null,
   "metadata": {},
   "outputs": [],
   "source": []
  },
  {
   "cell_type": "markdown",
   "metadata": {},
   "source": [
    "# reconnection data"
   ]
  },
  {
   "cell_type": "code",
   "execution_count": 613,
   "metadata": {},
   "outputs": [
    {
     "data": {
      "text/plain": [
       "array([], dtype=object)"
      ]
     },
     "execution_count": 613,
     "metadata": {},
     "output_type": "execute_result"
    }
   ],
   "source": [
    "# for disconnected part\n",
    "\n",
    "CONCAT_NOT_NULL_AND_PRIVILAGE_MERGE_DATA_RECONNECTION = CONCAT_NOT_NULL_AND_PRIVILAGE_MERGE_DATA[CONCAT_NOT_NULL_AND_PRIVILAGE_MERGE_DATA['SUB_TYPE_CD']=='Load - Hard Reconnect']\n",
    "CONCAT_NOT_NULL_AND_PRIVILAGE_MERGE_DATA_RECONNECTION['SUB_TYPE_CD'].unique()"
   ]
  },
  {
   "cell_type": "code",
   "execution_count": 614,
   "metadata": {},
   "outputs": [
    {
     "data": {
      "text/plain": [
       "(0, 18)"
      ]
     },
     "execution_count": 614,
     "metadata": {},
     "output_type": "execute_result"
    }
   ],
   "source": [
    "CONCAT_NOT_NULL_AND_PRIVILAGE_MERGE_DATA_RECONNECTION.shape"
   ]
  },
  {
   "cell_type": "code",
   "execution_count": 615,
   "metadata": {},
   "outputs": [
    {
     "data": {
      "text/html": [
       "<div>\n",
       "<style scoped>\n",
       "    .dataframe tbody tr th:only-of-type {\n",
       "        vertical-align: middle;\n",
       "    }\n",
       "\n",
       "    .dataframe tbody tr th {\n",
       "        vertical-align: top;\n",
       "    }\n",
       "\n",
       "    .dataframe thead th {\n",
       "        text-align: right;\n",
       "    }\n",
       "</style>\n",
       "<table border=\"1\" class=\"dataframe\">\n",
       "  <thead>\n",
       "    <tr style=\"text-align: right;\">\n",
       "      <th></th>\n",
       "      <th>UDC_ID</th>\n",
       "      <th>UDC_ID_1</th>\n",
       "      <th>TYPE_CD</th>\n",
       "      <th>SUB_TYPE_CD</th>\n",
       "      <th>STATUS_CD</th>\n",
       "      <th>OUTCOME_CD</th>\n",
       "      <th>ALT_OUTCOME_REASON_CD</th>\n",
       "      <th>ORG_ID</th>\n",
       "      <th>OPEN_TIME</th>\n",
       "      <th>CLOSE_TIME</th>\n",
       "      <th>NAME</th>\n",
       "      <th>BALANCE</th>\n",
       "      <th>LOAD_STATUS</th>\n",
       "      <th>day</th>\n",
       "      <th>previous day</th>\n",
       "      <th>DIVISION</th>\n",
       "      <th>CATEGORY NAME</th>\n",
       "      <th>FULL_METER_NUMBER</th>\n",
       "    </tr>\n",
       "  </thead>\n",
       "  <tbody>\n",
       "  </tbody>\n",
       "</table>\n",
       "</div>"
      ],
      "text/plain": [
       "Empty DataFrame\n",
       "Columns: [UDC_ID, UDC_ID_1, TYPE_CD, SUB_TYPE_CD, STATUS_CD, OUTCOME_CD, ALT_OUTCOME_REASON_CD, ORG_ID, OPEN_TIME, CLOSE_TIME, NAME, BALANCE, LOAD_STATUS, day, previous day, DIVISION, CATEGORY NAME, FULL_METER_NUMBER]\n",
       "Index: []"
      ]
     },
     "execution_count": 615,
     "metadata": {},
     "output_type": "execute_result"
    }
   ],
   "source": [
    "CONCAT_NOT_NULL_AND_PRIVILAGE_MERGE_DATA_RECONNECTION.head()"
   ]
  },
  {
   "cell_type": "code",
   "execution_count": 616,
   "metadata": {},
   "outputs": [
    {
     "data": {
      "text/plain": [
       "(0, 18)"
      ]
     },
     "execution_count": 616,
     "metadata": {},
     "output_type": "execute_result"
    }
   ],
   "source": [
    "CONCAT_NOT_NULL_AND_PRIVILAGE_MERGE_DATA_RECONNECTION.shape"
   ]
  },
  {
   "cell_type": "code",
   "execution_count": 617,
   "metadata": {},
   "outputs": [],
   "source": [
    "#check_data = CONCAT_NOT_NULL_AND_PRIVILAGE_MERGE_DATA_RECONNECTION[CONCAT_NOT_NULL_AND_PRIVILAGE_MERGE_DATA_RECONNECTION.duplicated(keep=False)].sort_values(by=['CLOSE_TIME'],ascending=True)"
   ]
  },
  {
   "cell_type": "code",
   "execution_count": 618,
   "metadata": {},
   "outputs": [],
   "source": [
    "\n",
    "CONCAT_NOT_NULL_AND_PRIVILAGE_MERGE_DATA_RECONNECTION.sort_values(by=['OUTCOME_CD'], ascending=False,inplace = True)\n",
    "#CONCAT_NOT_NULL_AND_PRIVILAGE_MERGE_DATA_RECONNECTION.drop_duplicates(keep='first', inplace=True)"
   ]
  },
  {
   "cell_type": "code",
   "execution_count": 619,
   "metadata": {},
   "outputs": [
    {
     "data": {
      "text/plain": [
       "(0, 18)"
      ]
     },
     "execution_count": 619,
     "metadata": {},
     "output_type": "execute_result"
    }
   ],
   "source": [
    "CONCAT_NOT_NULL_AND_PRIVILAGE_MERGE_DATA_RECONNECTION.shape"
   ]
  },
  {
   "cell_type": "code",
   "execution_count": 620,
   "metadata": {},
   "outputs": [],
   "source": [
    "\n",
    "#CONCAT_NOT_NULL_AND_PRIVILAGE_MERGE_DATA_RECONNECTION.sort_values(by=['OUTCOME_CD','CLOSE_TIME'], ascending=[False,True],inplace = True)\n",
    "#CONCAT_NOT_NULL_AND_PRIVILAGE_MERGE_DATA_RECONNECTION.drop_duplicates(keep='first', inplace=True)"
   ]
  },
  {
   "cell_type": "code",
   "execution_count": 621,
   "metadata": {},
   "outputs": [
    {
     "data": {
      "text/html": [
       "<div>\n",
       "<style scoped>\n",
       "    .dataframe tbody tr th:only-of-type {\n",
       "        vertical-align: middle;\n",
       "    }\n",
       "\n",
       "    .dataframe tbody tr th {\n",
       "        vertical-align: top;\n",
       "    }\n",
       "\n",
       "    .dataframe thead th {\n",
       "        text-align: right;\n",
       "    }\n",
       "</style>\n",
       "<table border=\"1\" class=\"dataframe\">\n",
       "  <thead>\n",
       "    <tr style=\"text-align: right;\">\n",
       "      <th></th>\n",
       "      <th>UDC_ID</th>\n",
       "      <th>UDC_ID_1</th>\n",
       "      <th>TYPE_CD</th>\n",
       "      <th>SUB_TYPE_CD</th>\n",
       "      <th>STATUS_CD</th>\n",
       "      <th>OUTCOME_CD</th>\n",
       "      <th>ALT_OUTCOME_REASON_CD</th>\n",
       "      <th>ORG_ID</th>\n",
       "      <th>OPEN_TIME</th>\n",
       "      <th>CLOSE_TIME</th>\n",
       "      <th>NAME</th>\n",
       "      <th>BALANCE</th>\n",
       "      <th>LOAD_STATUS</th>\n",
       "      <th>day</th>\n",
       "      <th>previous day</th>\n",
       "      <th>DIVISION</th>\n",
       "      <th>CATEGORY NAME</th>\n",
       "      <th>FULL_METER_NUMBER</th>\n",
       "    </tr>\n",
       "  </thead>\n",
       "  <tbody>\n",
       "  </tbody>\n",
       "</table>\n",
       "</div>"
      ],
      "text/plain": [
       "Empty DataFrame\n",
       "Columns: [UDC_ID, UDC_ID_1, TYPE_CD, SUB_TYPE_CD, STATUS_CD, OUTCOME_CD, ALT_OUTCOME_REASON_CD, ORG_ID, OPEN_TIME, CLOSE_TIME, NAME, BALANCE, LOAD_STATUS, day, previous day, DIVISION, CATEGORY NAME, FULL_METER_NUMBER]\n",
       "Index: []"
      ]
     },
     "execution_count": 621,
     "metadata": {},
     "output_type": "execute_result"
    }
   ],
   "source": [
    "CONCAT_NOT_NULL_AND_PRIVILAGE_MERGE_DATA_RECONNECTION.head(2)"
   ]
  },
  {
   "cell_type": "code",
   "execution_count": 622,
   "metadata": {},
   "outputs": [],
   "source": [
    "CONCAT_NOT_NULL_AND_PRIVILAGE_MERGE_DATA_RECONNECTION['DIFF_OPEN_CLOSE'] = CONCAT_NOT_NULL_AND_PRIVILAGE_MERGE_DATA_RECONNECTION['CLOSE_TIME'] - CONCAT_NOT_NULL_AND_PRIVILAGE_MERGE_DATA_RECONNECTION['OPEN_TIME']"
   ]
  },
  {
   "cell_type": "code",
   "execution_count": 623,
   "metadata": {},
   "outputs": [
    {
     "data": {
      "text/html": [
       "<div>\n",
       "<style scoped>\n",
       "    .dataframe tbody tr th:only-of-type {\n",
       "        vertical-align: middle;\n",
       "    }\n",
       "\n",
       "    .dataframe tbody tr th {\n",
       "        vertical-align: top;\n",
       "    }\n",
       "\n",
       "    .dataframe thead th {\n",
       "        text-align: right;\n",
       "    }\n",
       "</style>\n",
       "<table border=\"1\" class=\"dataframe\">\n",
       "  <thead>\n",
       "    <tr style=\"text-align: right;\">\n",
       "      <th></th>\n",
       "      <th>UDC_ID</th>\n",
       "      <th>UDC_ID_1</th>\n",
       "      <th>TYPE_CD</th>\n",
       "      <th>SUB_TYPE_CD</th>\n",
       "      <th>STATUS_CD</th>\n",
       "      <th>OUTCOME_CD</th>\n",
       "      <th>ALT_OUTCOME_REASON_CD</th>\n",
       "      <th>ORG_ID</th>\n",
       "      <th>OPEN_TIME</th>\n",
       "      <th>CLOSE_TIME</th>\n",
       "      <th>NAME</th>\n",
       "      <th>BALANCE</th>\n",
       "      <th>LOAD_STATUS</th>\n",
       "      <th>day</th>\n",
       "      <th>previous day</th>\n",
       "      <th>DIVISION</th>\n",
       "      <th>CATEGORY NAME</th>\n",
       "      <th>FULL_METER_NUMBER</th>\n",
       "      <th>DIFF_OPEN_CLOSE</th>\n",
       "    </tr>\n",
       "  </thead>\n",
       "  <tbody>\n",
       "  </tbody>\n",
       "</table>\n",
       "</div>"
      ],
      "text/plain": [
       "Empty DataFrame\n",
       "Columns: [UDC_ID, UDC_ID_1, TYPE_CD, SUB_TYPE_CD, STATUS_CD, OUTCOME_CD, ALT_OUTCOME_REASON_CD, ORG_ID, OPEN_TIME, CLOSE_TIME, NAME, BALANCE, LOAD_STATUS, day, previous day, DIVISION, CATEGORY NAME, FULL_METER_NUMBER, DIFF_OPEN_CLOSE]\n",
       "Index: []"
      ]
     },
     "execution_count": 623,
     "metadata": {},
     "output_type": "execute_result"
    }
   ],
   "source": [
    "CONCAT_NOT_NULL_AND_PRIVILAGE_MERGE_DATA_RECONNECTION.head(2)"
   ]
  },
  {
   "cell_type": "code",
   "execution_count": 624,
   "metadata": {},
   "outputs": [
    {
     "data": {
      "text/plain": [
       "(0, 19)"
      ]
     },
     "execution_count": 624,
     "metadata": {},
     "output_type": "execute_result"
    }
   ],
   "source": [
    "CONCAT_NOT_NULL_AND_PRIVILAGE_MERGE_DATA_RECONNECTION.shape"
   ]
  },
  {
   "cell_type": "code",
   "execution_count": 625,
   "metadata": {},
   "outputs": [
    {
     "data": {
      "text/html": [
       "<div>\n",
       "<style scoped>\n",
       "    .dataframe tbody tr th:only-of-type {\n",
       "        vertical-align: middle;\n",
       "    }\n",
       "\n",
       "    .dataframe tbody tr th {\n",
       "        vertical-align: top;\n",
       "    }\n",
       "\n",
       "    .dataframe thead th {\n",
       "        text-align: right;\n",
       "    }\n",
       "</style>\n",
       "<table border=\"1\" class=\"dataframe\">\n",
       "  <thead>\n",
       "    <tr style=\"text-align: right;\">\n",
       "      <th></th>\n",
       "      <th>UDC_ID</th>\n",
       "      <th>UDC_ID_1</th>\n",
       "      <th>TYPE_CD</th>\n",
       "      <th>SUB_TYPE_CD</th>\n",
       "      <th>STATUS_CD</th>\n",
       "      <th>OUTCOME_CD</th>\n",
       "      <th>ALT_OUTCOME_REASON_CD</th>\n",
       "      <th>ORG_ID</th>\n",
       "      <th>OPEN_TIME</th>\n",
       "      <th>CLOSE_TIME</th>\n",
       "      <th>NAME</th>\n",
       "      <th>BALANCE</th>\n",
       "      <th>LOAD_STATUS</th>\n",
       "      <th>day</th>\n",
       "      <th>previous day</th>\n",
       "      <th>DIVISION</th>\n",
       "      <th>CATEGORY NAME</th>\n",
       "      <th>FULL_METER_NUMBER</th>\n",
       "      <th>DIFF_OPEN_CLOSE</th>\n",
       "    </tr>\n",
       "  </thead>\n",
       "  <tbody>\n",
       "  </tbody>\n",
       "</table>\n",
       "</div>"
      ],
      "text/plain": [
       "Empty DataFrame\n",
       "Columns: [UDC_ID, UDC_ID_1, TYPE_CD, SUB_TYPE_CD, STATUS_CD, OUTCOME_CD, ALT_OUTCOME_REASON_CD, ORG_ID, OPEN_TIME, CLOSE_TIME, NAME, BALANCE, LOAD_STATUS, day, previous day, DIVISION, CATEGORY NAME, FULL_METER_NUMBER, DIFF_OPEN_CLOSE]\n",
       "Index: []"
      ]
     },
     "execution_count": 625,
     "metadata": {},
     "output_type": "execute_result"
    }
   ],
   "source": [
    "CONCAT_NOT_NULL_AND_PRIVILAGE_MERGE_DATA_RECONNECTION.sort_values(by=['OUTCOME_CD','UDC_ID_1','CLOSE_TIME'], ascending=[False,True,True],inplace=True)\n",
    "CONCAT_NOT_NULL_AND_PRIVILAGE_MERGE_DATA_RECONNECTION.drop_duplicates(subset=['UDC_ID_1'],keep='first', inplace=True)"
   ]
  },
  {
   "cell_type": "code",
   "execution_count": 626,
   "metadata": {},
   "outputs": [
    {
     "data": {
      "text/plain": [
       "(0, 19)"
      ]
     },
     "execution_count": 626,
     "metadata": {},
     "output_type": "execute_result"
    }
   ],
   "source": [
    "CONCAT_NOT_NULL_AND_PRIVILAGE_MERGE_DATA_RECONNECTION.shape"
   ]
  },
  {
   "cell_type": "code",
   "execution_count": 627,
   "metadata": {},
   "outputs": [
    {
     "data": {
      "text/html": [
       "<div>\n",
       "<style scoped>\n",
       "    .dataframe tbody tr th:only-of-type {\n",
       "        vertical-align: middle;\n",
       "    }\n",
       "\n",
       "    .dataframe tbody tr th {\n",
       "        vertical-align: top;\n",
       "    }\n",
       "\n",
       "    .dataframe thead th {\n",
       "        text-align: right;\n",
       "    }\n",
       "</style>\n",
       "<table border=\"1\" class=\"dataframe\">\n",
       "  <thead>\n",
       "    <tr style=\"text-align: right;\">\n",
       "      <th></th>\n",
       "      <th>UDC_ID</th>\n",
       "      <th>UDC_ID_1</th>\n",
       "      <th>TYPE_CD</th>\n",
       "      <th>SUB_TYPE_CD</th>\n",
       "      <th>STATUS_CD</th>\n",
       "      <th>OUTCOME_CD</th>\n",
       "      <th>ALT_OUTCOME_REASON_CD</th>\n",
       "      <th>ORG_ID</th>\n",
       "      <th>OPEN_TIME</th>\n",
       "      <th>CLOSE_TIME</th>\n",
       "      <th>NAME</th>\n",
       "      <th>BALANCE</th>\n",
       "      <th>LOAD_STATUS</th>\n",
       "      <th>day</th>\n",
       "      <th>previous day</th>\n",
       "      <th>DIVISION</th>\n",
       "      <th>CATEGORY NAME</th>\n",
       "      <th>FULL_METER_NUMBER</th>\n",
       "      <th>DIFF_OPEN_CLOSE</th>\n",
       "    </tr>\n",
       "  </thead>\n",
       "  <tbody>\n",
       "  </tbody>\n",
       "</table>\n",
       "</div>"
      ],
      "text/plain": [
       "Empty DataFrame\n",
       "Columns: [UDC_ID, UDC_ID_1, TYPE_CD, SUB_TYPE_CD, STATUS_CD, OUTCOME_CD, ALT_OUTCOME_REASON_CD, ORG_ID, OPEN_TIME, CLOSE_TIME, NAME, BALANCE, LOAD_STATUS, day, previous day, DIVISION, CATEGORY NAME, FULL_METER_NUMBER, DIFF_OPEN_CLOSE]\n",
       "Index: []"
      ]
     },
     "execution_count": 627,
     "metadata": {},
     "output_type": "execute_result"
    }
   ],
   "source": [
    "CONCAT_NOT_NULL_AND_PRIVILAGE_MERGE_DATA_RECONNECTION.head(1)"
   ]
  },
  {
   "cell_type": "code",
   "execution_count": null,
   "metadata": {},
   "outputs": [],
   "source": []
  },
  {
   "cell_type": "code",
   "execution_count": null,
   "metadata": {},
   "outputs": [],
   "source": []
  },
  {
   "cell_type": "markdown",
   "metadata": {},
   "source": []
  },
  {
   "cell_type": "markdown",
   "metadata": {},
   "source": [
    "# Recharge data"
   ]
  },
  {
   "cell_type": "code",
   "execution_count": 628,
   "metadata": {},
   "outputs": [
    {
     "data": {
      "text/html": [
       "<div>\n",
       "<style scoped>\n",
       "    .dataframe tbody tr th:only-of-type {\n",
       "        vertical-align: middle;\n",
       "    }\n",
       "\n",
       "    .dataframe tbody tr th {\n",
       "        vertical-align: top;\n",
       "    }\n",
       "\n",
       "    .dataframe thead th {\n",
       "        text-align: right;\n",
       "    }\n",
       "</style>\n",
       "<table border=\"1\" class=\"dataframe\">\n",
       "  <thead>\n",
       "    <tr style=\"text-align: right;\">\n",
       "      <th></th>\n",
       "      <th>Org Name</th>\n",
       "      <th>Mobile</th>\n",
       "      <th>Meter No</th>\n",
       "      <th>TRANSACTION_ID</th>\n",
       "      <th>Amount</th>\n",
       "      <th>ACCOUNT_UDC_ID</th>\n",
       "      <th>Recharge Date</th>\n",
       "      <th>SECTION_NAME</th>\n",
       "      <th>DIVISION_NAME</th>\n",
       "      <th>SUBDIVISION_NAME</th>\n",
       "    </tr>\n",
       "  </thead>\n",
       "  <tbody>\n",
       "    <tr>\n",
       "      <th>0</th>\n",
       "      <td>SBPDCL</td>\n",
       "      <td>9955771396</td>\n",
       "      <td>LNTLT1063439</td>\n",
       "      <td>113327738273</td>\n",
       "      <td>500</td>\n",
       "      <td>240210554896</td>\n",
       "      <td>6/13/2024 1:00:41 AM</td>\n",
       "      <td>WALMI</td>\n",
       "      <td>KHAGAUL</td>\n",
       "      <td>PHULWARISHARIF</td>\n",
       "    </tr>\n",
       "    <tr>\n",
       "      <th>1</th>\n",
       "      <td>SBPDCL</td>\n",
       "      <td>9931858157</td>\n",
       "      <td>GOEGP7543640</td>\n",
       "      <td>113327737049</td>\n",
       "      <td>500</td>\n",
       "      <td>101315886</td>\n",
       "      <td>6/13/2024 1:00:41 AM</td>\n",
       "      <td>Sec-Buddha colony</td>\n",
       "      <td>New Capital</td>\n",
       "      <td>New Capital</td>\n",
       "    </tr>\n",
       "    <tr>\n",
       "      <th>2</th>\n",
       "      <td>SBPDCL</td>\n",
       "      <td>9939077788</td>\n",
       "      <td>GOEGL8616363</td>\n",
       "      <td>113327737543</td>\n",
       "      <td>1000</td>\n",
       "      <td>101094514</td>\n",
       "      <td>6/13/2024 1:00:41 AM</td>\n",
       "      <td>Sec-Kankarbhagh(E)</td>\n",
       "      <td>Kankarbagh</td>\n",
       "      <td>Kankarbagh</td>\n",
       "    </tr>\n",
       "    <tr>\n",
       "      <th>3</th>\n",
       "      <td>SBPDCL</td>\n",
       "      <td>9931607128</td>\n",
       "      <td>GOEGL8908882</td>\n",
       "      <td>113327738080</td>\n",
       "      <td>500</td>\n",
       "      <td>100691495</td>\n",
       "      <td>6/13/2024 1:00:41 AM</td>\n",
       "      <td>Sec-Jakkanpura</td>\n",
       "      <td>Gardanibagh</td>\n",
       "      <td>Jakkanpura</td>\n",
       "    </tr>\n",
       "    <tr>\n",
       "      <th>4</th>\n",
       "      <td>NBPDCL</td>\n",
       "      <td>9708542003</td>\n",
       "      <td>LNTLT0882697</td>\n",
       "      <td>113327712364</td>\n",
       "      <td>50</td>\n",
       "      <td>10640004728</td>\n",
       "      <td>6/13/2024 1:00:41 AM</td>\n",
       "      <td>Nirmali_New</td>\n",
       "      <td>Raghopur</td>\n",
       "      <td>Nirmali_New</td>\n",
       "    </tr>\n",
       "  </tbody>\n",
       "</table>\n",
       "</div>"
      ],
      "text/plain": [
       "  Org Name      Mobile      Meter No TRANSACTION_ID  Amount  ACCOUNT_UDC_ID  \\\n",
       "0   SBPDCL  9955771396  LNTLT1063439   113327738273     500    240210554896   \n",
       "1   SBPDCL  9931858157  GOEGP7543640   113327737049     500       101315886   \n",
       "2   SBPDCL  9939077788  GOEGL8616363   113327737543    1000       101094514   \n",
       "3   SBPDCL  9931607128  GOEGL8908882   113327738080     500       100691495   \n",
       "4   NBPDCL  9708542003  LNTLT0882697   113327712364      50     10640004728   \n",
       "\n",
       "          Recharge Date        SECTION_NAME DIVISION_NAME SUBDIVISION_NAME  \n",
       "0  6/13/2024 1:00:41 AM               WALMI       KHAGAUL   PHULWARISHARIF  \n",
       "1  6/13/2024 1:00:41 AM   Sec-Buddha colony   New Capital      New Capital  \n",
       "2  6/13/2024 1:00:41 AM  Sec-Kankarbhagh(E)    Kankarbagh       Kankarbagh  \n",
       "3  6/13/2024 1:00:41 AM      Sec-Jakkanpura   Gardanibagh       Jakkanpura  \n",
       "4  6/13/2024 1:00:41 AM         Nirmali_New      Raghopur      Nirmali_New  "
      ]
     },
     "execution_count": 628,
     "metadata": {},
     "output_type": "execute_result"
    }
   ],
   "source": [
    "RECHARGE_DETAILS_FOR_ALL_WITHOUT_HIERARCHY.head()"
   ]
  },
  {
   "cell_type": "code",
   "execution_count": 629,
   "metadata": {},
   "outputs": [],
   "source": [
    "\n",
    "\n",
    "# changes in dataset like :- UPPER, SPACE REMOVAL , DATATYPE\n",
    "\n",
    "RECHARGE_DETAILS_FOR_ALL_WITHOUT_HIERARCHY = RECHARGE_DETAILS_FOR_ALL_WITHOUT_HIERARCHY.astype(str)\n",
    "RECHARGE_DETAILS_FOR_ALL_WITHOUT_HIERARCHY.columns = RECHARGE_DETAILS_FOR_ALL_WITHOUT_HIERARCHY.columns.str.upper()\n",
    "RECHARGE_DETAILS_FOR_ALL_WITHOUT_HIERARCHY = RECHARGE_DETAILS_FOR_ALL_WITHOUT_HIERARCHY.apply(lambda x: x.str.strip() if x.dtype == 'O' else x)\n",
    "RECHARGE_DETAILS_FOR_ALL_WITHOUT_HIERARCHY.columns = RECHARGE_DETAILS_FOR_ALL_WITHOUT_HIERARCHY.columns.str.strip()"
   ]
  },
  {
   "cell_type": "code",
   "execution_count": 630,
   "metadata": {},
   "outputs": [],
   "source": [
    "# change data type for recharge date\n",
    "\n",
    "RECHARGE_DETAILS_FOR_ALL_WITHOUT_HIERARCHY['RECHARGE DATE'] = pd.to_datetime(RECHARGE_DETAILS_FOR_ALL_WITHOUT_HIERARCHY['RECHARGE DATE'])"
   ]
  },
  {
   "cell_type": "code",
   "execution_count": null,
   "metadata": {},
   "outputs": [],
   "source": []
  },
  {
   "cell_type": "markdown",
   "metadata": {},
   "source": [
    "# CHECK DATE "
   ]
  },
  {
   "cell_type": "code",
   "execution_count": 631,
   "metadata": {},
   "outputs": [],
   "source": [
    "yesterday = datetime.now() - timedelta(days=START_DATE)\n",
    "yesterday_date = yesterday.date()\n",
    "RECHARGE_DETAILS_FOR_ALL_WITHOUT_HIERARCHY_YESTERDAY = RECHARGE_DETAILS_FOR_ALL_WITHOUT_HIERARCHY[RECHARGE_DETAILS_FOR_ALL_WITHOUT_HIERARCHY['RECHARGE DATE'].dt.date == yesterday_date]"
   ]
  },
  {
   "cell_type": "code",
   "execution_count": 632,
   "metadata": {},
   "outputs": [
    {
     "data": {
      "text/html": [
       "<div>\n",
       "<style scoped>\n",
       "    .dataframe tbody tr th:only-of-type {\n",
       "        vertical-align: middle;\n",
       "    }\n",
       "\n",
       "    .dataframe tbody tr th {\n",
       "        vertical-align: top;\n",
       "    }\n",
       "\n",
       "    .dataframe thead th {\n",
       "        text-align: right;\n",
       "    }\n",
       "</style>\n",
       "<table border=\"1\" class=\"dataframe\">\n",
       "  <thead>\n",
       "    <tr style=\"text-align: right;\">\n",
       "      <th></th>\n",
       "      <th>ORG NAME</th>\n",
       "      <th>MOBILE</th>\n",
       "      <th>METER NO</th>\n",
       "      <th>TRANSACTION_ID</th>\n",
       "      <th>AMOUNT</th>\n",
       "      <th>ACCOUNT_UDC_ID</th>\n",
       "      <th>RECHARGE DATE</th>\n",
       "      <th>SECTION_NAME</th>\n",
       "      <th>DIVISION_NAME</th>\n",
       "      <th>SUBDIVISION_NAME</th>\n",
       "    </tr>\n",
       "  </thead>\n",
       "  <tbody>\n",
       "    <tr>\n",
       "      <th>0</th>\n",
       "      <td>SBPDCL</td>\n",
       "      <td>9955771396</td>\n",
       "      <td>LNTLT1063439</td>\n",
       "      <td>113327738273</td>\n",
       "      <td>500</td>\n",
       "      <td>240210554896</td>\n",
       "      <td>2024-06-13 01:00:41</td>\n",
       "      <td>WALMI</td>\n",
       "      <td>KHAGAUL</td>\n",
       "      <td>PHULWARISHARIF</td>\n",
       "    </tr>\n",
       "    <tr>\n",
       "      <th>1</th>\n",
       "      <td>SBPDCL</td>\n",
       "      <td>9931858157</td>\n",
       "      <td>GOEGP7543640</td>\n",
       "      <td>113327737049</td>\n",
       "      <td>500</td>\n",
       "      <td>101315886</td>\n",
       "      <td>2024-06-13 01:00:41</td>\n",
       "      <td>Sec-Buddha colony</td>\n",
       "      <td>New Capital</td>\n",
       "      <td>New Capital</td>\n",
       "    </tr>\n",
       "    <tr>\n",
       "      <th>2</th>\n",
       "      <td>SBPDCL</td>\n",
       "      <td>9939077788</td>\n",
       "      <td>GOEGL8616363</td>\n",
       "      <td>113327737543</td>\n",
       "      <td>1000</td>\n",
       "      <td>101094514</td>\n",
       "      <td>2024-06-13 01:00:41</td>\n",
       "      <td>Sec-Kankarbhagh(E)</td>\n",
       "      <td>Kankarbagh</td>\n",
       "      <td>Kankarbagh</td>\n",
       "    </tr>\n",
       "    <tr>\n",
       "      <th>3</th>\n",
       "      <td>SBPDCL</td>\n",
       "      <td>9931607128</td>\n",
       "      <td>GOEGL8908882</td>\n",
       "      <td>113327738080</td>\n",
       "      <td>500</td>\n",
       "      <td>100691495</td>\n",
       "      <td>2024-06-13 01:00:41</td>\n",
       "      <td>Sec-Jakkanpura</td>\n",
       "      <td>Gardanibagh</td>\n",
       "      <td>Jakkanpura</td>\n",
       "    </tr>\n",
       "    <tr>\n",
       "      <th>4</th>\n",
       "      <td>NBPDCL</td>\n",
       "      <td>9708542003</td>\n",
       "      <td>LNTLT0882697</td>\n",
       "      <td>113327712364</td>\n",
       "      <td>50</td>\n",
       "      <td>10640004728</td>\n",
       "      <td>2024-06-13 01:00:41</td>\n",
       "      <td>Nirmali_New</td>\n",
       "      <td>Raghopur</td>\n",
       "      <td>Nirmali_New</td>\n",
       "    </tr>\n",
       "  </tbody>\n",
       "</table>\n",
       "</div>"
      ],
      "text/plain": [
       "  ORG NAME      MOBILE      METER NO TRANSACTION_ID AMOUNT ACCOUNT_UDC_ID  \\\n",
       "0   SBPDCL  9955771396  LNTLT1063439   113327738273    500   240210554896   \n",
       "1   SBPDCL  9931858157  GOEGP7543640   113327737049    500      101315886   \n",
       "2   SBPDCL  9939077788  GOEGL8616363   113327737543   1000      101094514   \n",
       "3   SBPDCL  9931607128  GOEGL8908882   113327738080    500      100691495   \n",
       "4   NBPDCL  9708542003  LNTLT0882697   113327712364     50    10640004728   \n",
       "\n",
       "        RECHARGE DATE        SECTION_NAME DIVISION_NAME SUBDIVISION_NAME  \n",
       "0 2024-06-13 01:00:41               WALMI       KHAGAUL   PHULWARISHARIF  \n",
       "1 2024-06-13 01:00:41   Sec-Buddha colony   New Capital      New Capital  \n",
       "2 2024-06-13 01:00:41  Sec-Kankarbhagh(E)    Kankarbagh       Kankarbagh  \n",
       "3 2024-06-13 01:00:41      Sec-Jakkanpura   Gardanibagh       Jakkanpura  \n",
       "4 2024-06-13 01:00:41         Nirmali_New      Raghopur      Nirmali_New  "
      ]
     },
     "execution_count": 632,
     "metadata": {},
     "output_type": "execute_result"
    }
   ],
   "source": [
    "RECHARGE_DETAILS_FOR_ALL_WITHOUT_HIERARCHY_YESTERDAY.head()"
   ]
  },
  {
   "cell_type": "code",
   "execution_count": 633,
   "metadata": {},
   "outputs": [
    {
     "name": "stderr",
     "output_type": "stream",
     "text": [
      "C:\\Users\\Ratan Kumar Jha\\AppData\\Local\\Temp\\ipykernel_36668\\4179711044.py:1: SettingWithCopyWarning: \n",
      "A value is trying to be set on a copy of a slice from a DataFrame.\n",
      "Try using .loc[row_indexer,col_indexer] = value instead\n",
      "\n",
      "See the caveats in the documentation: https://pandas.pydata.org/pandas-docs/stable/user_guide/indexing.html#returning-a-view-versus-a-copy\n",
      "  RECHARGE_DETAILS_FOR_ALL_WITHOUT_HIERARCHY_YESTERDAY['day_new']=RECHARGE_DETAILS_FOR_ALL_WITHOUT_HIERARCHY_YESTERDAY['RECHARGE DATE'].dt.day\n"
     ]
    },
    {
     "data": {
      "text/plain": [
       "array([13])"
      ]
     },
     "execution_count": 633,
     "metadata": {},
     "output_type": "execute_result"
    }
   ],
   "source": [
    "RECHARGE_DETAILS_FOR_ALL_WITHOUT_HIERARCHY_YESTERDAY['day_new']=RECHARGE_DETAILS_FOR_ALL_WITHOUT_HIERARCHY_YESTERDAY['RECHARGE DATE'].dt.day \n",
    "RECHARGE_DETAILS_FOR_ALL_WITHOUT_HIERARCHY_YESTERDAY['day_new'].unique()"
   ]
  },
  {
   "cell_type": "code",
   "execution_count": 634,
   "metadata": {},
   "outputs": [
    {
     "data": {
      "text/plain": [
       "(99645, 11)"
      ]
     },
     "execution_count": 634,
     "metadata": {},
     "output_type": "execute_result"
    }
   ],
   "source": [
    "RECHARGE_DETAILS_FOR_ALL_WITHOUT_HIERARCHY_YESTERDAY.shape"
   ]
  },
  {
   "cell_type": "code",
   "execution_count": 635,
   "metadata": {},
   "outputs": [
    {
     "name": "stderr",
     "output_type": "stream",
     "text": [
      "C:\\Users\\Ratan Kumar Jha\\AppData\\Local\\Temp\\ipykernel_36668\\1893061207.py:3: SettingWithCopyWarning: \n",
      "A value is trying to be set on a copy of a slice from a DataFrame\n",
      "\n",
      "See the caveats in the documentation: https://pandas.pydata.org/pandas-docs/stable/user_guide/indexing.html#returning-a-view-versus-a-copy\n",
      "  RECHARGE_DETAILS_FOR_ALL_WITHOUT_HIERARCHY_YESTERDAY.sort_values(by=['RECHARGE DATE'], ascending=False,inplace=True)\n"
     ]
    }
   ],
   "source": [
    "# sort data based on recahrge date ,  latest to oldest\n",
    "\n",
    "RECHARGE_DETAILS_FOR_ALL_WITHOUT_HIERARCHY_YESTERDAY.sort_values(by=['RECHARGE DATE'], ascending=False,inplace=True)"
   ]
  },
  {
   "cell_type": "code",
   "execution_count": 636,
   "metadata": {},
   "outputs": [
    {
     "data": {
      "text/html": [
       "<div>\n",
       "<style scoped>\n",
       "    .dataframe tbody tr th:only-of-type {\n",
       "        vertical-align: middle;\n",
       "    }\n",
       "\n",
       "    .dataframe tbody tr th {\n",
       "        vertical-align: top;\n",
       "    }\n",
       "\n",
       "    .dataframe thead th {\n",
       "        text-align: right;\n",
       "    }\n",
       "</style>\n",
       "<table border=\"1\" class=\"dataframe\">\n",
       "  <thead>\n",
       "    <tr style=\"text-align: right;\">\n",
       "      <th></th>\n",
       "      <th>ORG NAME</th>\n",
       "      <th>MOBILE</th>\n",
       "      <th>METER NO</th>\n",
       "      <th>TRANSACTION_ID</th>\n",
       "      <th>AMOUNT</th>\n",
       "      <th>ACCOUNT_UDC_ID</th>\n",
       "      <th>RECHARGE DATE</th>\n",
       "      <th>SECTION_NAME</th>\n",
       "      <th>DIVISION_NAME</th>\n",
       "      <th>SUBDIVISION_NAME</th>\n",
       "      <th>day_new</th>\n",
       "    </tr>\n",
       "  </thead>\n",
       "  <tbody>\n",
       "    <tr>\n",
       "      <th>99644</th>\n",
       "      <td>SBPDCL</td>\n",
       "      <td>9934041784</td>\n",
       "      <td>LNTLT0636157</td>\n",
       "      <td>113329329107</td>\n",
       "      <td>668</td>\n",
       "      <td>21750035068</td>\n",
       "      <td>2024-06-13 23:00:12</td>\n",
       "      <td>BIHIYA</td>\n",
       "      <td>JAGDISHPUR</td>\n",
       "      <td>JAGDISHPUR</td>\n",
       "      <td>13</td>\n",
       "    </tr>\n",
       "  </tbody>\n",
       "</table>\n",
       "</div>"
      ],
      "text/plain": [
       "      ORG NAME      MOBILE      METER NO TRANSACTION_ID AMOUNT ACCOUNT_UDC_ID  \\\n",
       "99644   SBPDCL  9934041784  LNTLT0636157   113329329107    668    21750035068   \n",
       "\n",
       "            RECHARGE DATE SECTION_NAME DIVISION_NAME SUBDIVISION_NAME  day_new  \n",
       "99644 2024-06-13 23:00:12       BIHIYA    JAGDISHPUR       JAGDISHPUR       13  "
      ]
     },
     "execution_count": 636,
     "metadata": {},
     "output_type": "execute_result"
    }
   ],
   "source": [
    "RECHARGE_DETAILS_FOR_ALL_WITHOUT_HIERARCHY_YESTERDAY.head(1)"
   ]
  },
  {
   "cell_type": "code",
   "execution_count": 637,
   "metadata": {},
   "outputs": [],
   "source": [
    "# merge with  CONCAT_NOT_NULL_AND_PRIVILAGE_MERGE_DATA_RECONNECTION & RECHARGE_DETAILS_FOR_ALL_WITHOUT_HIERARCHY_YESTERDAY\n",
    "\n",
    "CONCAT_NOT_NULL_AND_PRIVILAGE_MERGE_DATA_RECONNECTION_MERGE_RECHARGE=pd.merge(CONCAT_NOT_NULL_AND_PRIVILAGE_MERGE_DATA_RECONNECTION, RECHARGE_DETAILS_FOR_ALL_WITHOUT_HIERARCHY_YESTERDAY[['METER NO','RECHARGE DATE']], left_on=['UDC_ID_1'], right_on=['METER NO'], how='left')"
   ]
  },
  {
   "cell_type": "code",
   "execution_count": 638,
   "metadata": {},
   "outputs": [
    {
     "data": {
      "text/plain": [
       "Index(['UDC_ID', 'UDC_ID_1', 'TYPE_CD', 'SUB_TYPE_CD', 'STATUS_CD',\n",
       "       'OUTCOME_CD', 'ALT_OUTCOME_REASON_CD', 'ORG_ID', 'OPEN_TIME',\n",
       "       'CLOSE_TIME', 'NAME', 'BALANCE', 'LOAD_STATUS', 'day', 'previous day',\n",
       "       'DIVISION', 'CATEGORY NAME', 'FULL_METER_NUMBER', 'DIFF_OPEN_CLOSE',\n",
       "       'METER NO', 'RECHARGE DATE'],\n",
       "      dtype='object')"
      ]
     },
     "execution_count": 638,
     "metadata": {},
     "output_type": "execute_result"
    }
   ],
   "source": [
    "CONCAT_NOT_NULL_AND_PRIVILAGE_MERGE_DATA_RECONNECTION_MERGE_RECHARGE.columns"
   ]
  },
  {
   "cell_type": "code",
   "execution_count": 639,
   "metadata": {},
   "outputs": [
    {
     "data": {
      "text/plain": [
       "(0, 21)"
      ]
     },
     "execution_count": 639,
     "metadata": {},
     "output_type": "execute_result"
    }
   ],
   "source": [
    "CONCAT_NOT_NULL_AND_PRIVILAGE_MERGE_DATA_RECONNECTION_MERGE_RECHARGE.shape"
   ]
  },
  {
   "cell_type": "code",
   "execution_count": null,
   "metadata": {},
   "outputs": [],
   "source": []
  },
  {
   "cell_type": "code",
   "execution_count": 640,
   "metadata": {},
   "outputs": [
    {
     "data": {
      "text/html": [
       "<div>\n",
       "<style scoped>\n",
       "    .dataframe tbody tr th:only-of-type {\n",
       "        vertical-align: middle;\n",
       "    }\n",
       "\n",
       "    .dataframe tbody tr th {\n",
       "        vertical-align: top;\n",
       "    }\n",
       "\n",
       "    .dataframe thead th {\n",
       "        text-align: right;\n",
       "    }\n",
       "</style>\n",
       "<table border=\"1\" class=\"dataframe\">\n",
       "  <thead>\n",
       "    <tr style=\"text-align: right;\">\n",
       "      <th></th>\n",
       "      <th>UDC_ID</th>\n",
       "      <th>UDC_ID_1</th>\n",
       "      <th>TYPE_CD</th>\n",
       "      <th>SUB_TYPE_CD</th>\n",
       "      <th>STATUS_CD</th>\n",
       "      <th>OUTCOME_CD</th>\n",
       "      <th>ALT_OUTCOME_REASON_CD</th>\n",
       "      <th>ORG_ID</th>\n",
       "      <th>OPEN_TIME</th>\n",
       "      <th>CLOSE_TIME</th>\n",
       "      <th>NAME</th>\n",
       "      <th>BALANCE</th>\n",
       "      <th>LOAD_STATUS</th>\n",
       "      <th>day</th>\n",
       "      <th>previous day</th>\n",
       "      <th>DIVISION</th>\n",
       "      <th>CATEGORY NAME</th>\n",
       "      <th>FULL_METER_NUMBER</th>\n",
       "      <th>DIFF_OPEN_CLOSE</th>\n",
       "      <th>METER NO</th>\n",
       "      <th>RECHARGE DATE</th>\n",
       "    </tr>\n",
       "  </thead>\n",
       "  <tbody>\n",
       "  </tbody>\n",
       "</table>\n",
       "</div>"
      ],
      "text/plain": [
       "Empty DataFrame\n",
       "Columns: [UDC_ID, UDC_ID_1, TYPE_CD, SUB_TYPE_CD, STATUS_CD, OUTCOME_CD, ALT_OUTCOME_REASON_CD, ORG_ID, OPEN_TIME, CLOSE_TIME, NAME, BALANCE, LOAD_STATUS, day, previous day, DIVISION, CATEGORY NAME, FULL_METER_NUMBER, DIFF_OPEN_CLOSE, METER NO, RECHARGE DATE]\n",
       "Index: []"
      ]
     },
     "execution_count": 640,
     "metadata": {},
     "output_type": "execute_result"
    }
   ],
   "source": [
    "CONCAT_NOT_NULL_AND_PRIVILAGE_MERGE_DATA_RECONNECTION_MERGE_RECHARGE[CONCAT_NOT_NULL_AND_PRIVILAGE_MERGE_DATA_RECONNECTION_MERGE_RECHARGE.duplicated(keep=False)].head()"
   ]
  },
  {
   "cell_type": "code",
   "execution_count": 641,
   "metadata": {},
   "outputs": [
    {
     "data": {
      "text/html": [
       "<div>\n",
       "<style scoped>\n",
       "    .dataframe tbody tr th:only-of-type {\n",
       "        vertical-align: middle;\n",
       "    }\n",
       "\n",
       "    .dataframe tbody tr th {\n",
       "        vertical-align: top;\n",
       "    }\n",
       "\n",
       "    .dataframe thead th {\n",
       "        text-align: right;\n",
       "    }\n",
       "</style>\n",
       "<table border=\"1\" class=\"dataframe\">\n",
       "  <thead>\n",
       "    <tr style=\"text-align: right;\">\n",
       "      <th></th>\n",
       "      <th>UDC_ID</th>\n",
       "      <th>UDC_ID_1</th>\n",
       "      <th>TYPE_CD</th>\n",
       "      <th>SUB_TYPE_CD</th>\n",
       "      <th>STATUS_CD</th>\n",
       "      <th>OUTCOME_CD</th>\n",
       "      <th>ALT_OUTCOME_REASON_CD</th>\n",
       "      <th>ORG_ID</th>\n",
       "      <th>OPEN_TIME</th>\n",
       "      <th>CLOSE_TIME</th>\n",
       "      <th>NAME</th>\n",
       "      <th>BALANCE</th>\n",
       "      <th>LOAD_STATUS</th>\n",
       "      <th>day</th>\n",
       "      <th>previous day</th>\n",
       "      <th>DIVISION</th>\n",
       "      <th>CATEGORY NAME</th>\n",
       "      <th>FULL_METER_NUMBER</th>\n",
       "      <th>DIFF_OPEN_CLOSE</th>\n",
       "      <th>METER NO</th>\n",
       "      <th>RECHARGE DATE</th>\n",
       "    </tr>\n",
       "  </thead>\n",
       "  <tbody>\n",
       "  </tbody>\n",
       "</table>\n",
       "</div>"
      ],
      "text/plain": [
       "Empty DataFrame\n",
       "Columns: [UDC_ID, UDC_ID_1, TYPE_CD, SUB_TYPE_CD, STATUS_CD, OUTCOME_CD, ALT_OUTCOME_REASON_CD, ORG_ID, OPEN_TIME, CLOSE_TIME, NAME, BALANCE, LOAD_STATUS, day, previous day, DIVISION, CATEGORY NAME, FULL_METER_NUMBER, DIFF_OPEN_CLOSE, METER NO, RECHARGE DATE]\n",
       "Index: []"
      ]
     },
     "execution_count": 641,
     "metadata": {},
     "output_type": "execute_result"
    }
   ],
   "source": [
    "CONCAT_NOT_NULL_AND_PRIVILAGE_MERGE_DATA_RECONNECTION_MERGE_RECHARGE[CONCAT_NOT_NULL_AND_PRIVILAGE_MERGE_DATA_RECONNECTION_MERGE_RECHARGE.duplicated(keep=False)].sort_values(by=['UDC_ID_1','RECHARGE DATE'], ascending=[True,False]).head()"
   ]
  },
  {
   "cell_type": "code",
   "execution_count": 642,
   "metadata": {},
   "outputs": [],
   "source": [
    "#CONCAT_NOT_NULL_AND_PRIVILAGE_MERGE_DATA_RECONNECTION_MERGE_RECHARGE[CONCAT_NOT_NULL_AND_PRIVILAGE_MERGE_DATA_RECONNECTION_MERGE_RECHARGE['UDC_ID_1']=='GOEGL8569390']"
   ]
  },
  {
   "cell_type": "code",
   "execution_count": 643,
   "metadata": {},
   "outputs": [
    {
     "data": {
      "text/html": [
       "<div>\n",
       "<style scoped>\n",
       "    .dataframe tbody tr th:only-of-type {\n",
       "        vertical-align: middle;\n",
       "    }\n",
       "\n",
       "    .dataframe tbody tr th {\n",
       "        vertical-align: top;\n",
       "    }\n",
       "\n",
       "    .dataframe thead th {\n",
       "        text-align: right;\n",
       "    }\n",
       "</style>\n",
       "<table border=\"1\" class=\"dataframe\">\n",
       "  <thead>\n",
       "    <tr style=\"text-align: right;\">\n",
       "      <th></th>\n",
       "      <th>UDC_ID</th>\n",
       "      <th>UDC_ID_1</th>\n",
       "      <th>TYPE_CD</th>\n",
       "      <th>SUB_TYPE_CD</th>\n",
       "      <th>STATUS_CD</th>\n",
       "      <th>OUTCOME_CD</th>\n",
       "      <th>ALT_OUTCOME_REASON_CD</th>\n",
       "      <th>ORG_ID</th>\n",
       "      <th>OPEN_TIME</th>\n",
       "      <th>CLOSE_TIME</th>\n",
       "      <th>NAME</th>\n",
       "      <th>BALANCE</th>\n",
       "      <th>LOAD_STATUS</th>\n",
       "      <th>day</th>\n",
       "      <th>previous day</th>\n",
       "      <th>DIVISION</th>\n",
       "      <th>CATEGORY NAME</th>\n",
       "      <th>FULL_METER_NUMBER</th>\n",
       "      <th>DIFF_OPEN_CLOSE</th>\n",
       "      <th>METER NO</th>\n",
       "      <th>RECHARGE DATE</th>\n",
       "    </tr>\n",
       "  </thead>\n",
       "  <tbody>\n",
       "  </tbody>\n",
       "</table>\n",
       "</div>"
      ],
      "text/plain": [
       "Empty DataFrame\n",
       "Columns: [UDC_ID, UDC_ID_1, TYPE_CD, SUB_TYPE_CD, STATUS_CD, OUTCOME_CD, ALT_OUTCOME_REASON_CD, ORG_ID, OPEN_TIME, CLOSE_TIME, NAME, BALANCE, LOAD_STATUS, day, previous day, DIVISION, CATEGORY NAME, FULL_METER_NUMBER, DIFF_OPEN_CLOSE, METER NO, RECHARGE DATE]\n",
       "Index: []"
      ]
     },
     "execution_count": 643,
     "metadata": {},
     "output_type": "execute_result"
    }
   ],
   "source": [
    "CONCAT_NOT_NULL_AND_PRIVILAGE_MERGE_DATA_RECONNECTION_MERGE_RECHARGE.head(2)\n"
   ]
  },
  {
   "cell_type": "code",
   "execution_count": 644,
   "metadata": {},
   "outputs": [
    {
     "data": {
      "text/html": [
       "<div>\n",
       "<style scoped>\n",
       "    .dataframe tbody tr th:only-of-type {\n",
       "        vertical-align: middle;\n",
       "    }\n",
       "\n",
       "    .dataframe tbody tr th {\n",
       "        vertical-align: top;\n",
       "    }\n",
       "\n",
       "    .dataframe thead th {\n",
       "        text-align: right;\n",
       "    }\n",
       "</style>\n",
       "<table border=\"1\" class=\"dataframe\">\n",
       "  <thead>\n",
       "    <tr style=\"text-align: right;\">\n",
       "      <th></th>\n",
       "      <th>UDC_ID</th>\n",
       "      <th>UDC_ID_1</th>\n",
       "      <th>TYPE_CD</th>\n",
       "      <th>SUB_TYPE_CD</th>\n",
       "      <th>STATUS_CD</th>\n",
       "      <th>OUTCOME_CD</th>\n",
       "      <th>ALT_OUTCOME_REASON_CD</th>\n",
       "      <th>ORG_ID</th>\n",
       "      <th>OPEN_TIME</th>\n",
       "      <th>CLOSE_TIME</th>\n",
       "      <th>NAME</th>\n",
       "      <th>BALANCE</th>\n",
       "      <th>LOAD_STATUS</th>\n",
       "      <th>day</th>\n",
       "      <th>previous day</th>\n",
       "      <th>DIVISION</th>\n",
       "      <th>CATEGORY NAME</th>\n",
       "      <th>FULL_METER_NUMBER</th>\n",
       "      <th>DIFF_OPEN_CLOSE</th>\n",
       "      <th>METER NO</th>\n",
       "      <th>RECHARGE DATE</th>\n",
       "    </tr>\n",
       "  </thead>\n",
       "  <tbody>\n",
       "  </tbody>\n",
       "</table>\n",
       "</div>"
      ],
      "text/plain": [
       "Empty DataFrame\n",
       "Columns: [UDC_ID, UDC_ID_1, TYPE_CD, SUB_TYPE_CD, STATUS_CD, OUTCOME_CD, ALT_OUTCOME_REASON_CD, ORG_ID, OPEN_TIME, CLOSE_TIME, NAME, BALANCE, LOAD_STATUS, day, previous day, DIVISION, CATEGORY NAME, FULL_METER_NUMBER, DIFF_OPEN_CLOSE, METER NO, RECHARGE DATE]\n",
       "Index: []"
      ]
     },
     "execution_count": 644,
     "metadata": {},
     "output_type": "execute_result"
    }
   ],
   "source": [
    "# SORT VALUES ON THE BASIS OF METER AND RECHARGE DATA\n",
    "CONCAT_NOT_NULL_AND_PRIVILAGE_MERGE_DATA_RECONNECTION_MERGE_RECHARGE.sort_values(by=['UDC_ID_1','RECHARGE DATE'], ascending=[True,False],inplace=True)\n",
    "#RECHARGE_DETAILS_FOR_ALL_WITHOUT_HIERARCHY_YESTERDAY.sort_values(by=['RECHARGE DATE'], ascending=False,inplace=True)\n",
    "\n",
    "\n",
    "# SAVING DATA AT OUTPUT FOLDER \n",
    "\n",
    "CONCAT_NOT_NULL_AND_PRIVILAGE_MERGE_DATA_RECONNECTION_MERGE_RECHARGE.to_csv (r\"C:\\Users\\Ratan Kumar Jha\\Desktop\\Daily progress report\\RC_DC_TRACKER\\OUTPUT FILE\\CONCAT_NOT_NULL_AND_PRIVILAGE_MERGE_DATA_RECONNECTION_MERGE_RECHARGE.csv\",index= False)\n",
    "\n",
    "\n",
    "# drop duplicate , and keep first\n",
    "\n",
    "CONCAT_NOT_NULL_AND_PRIVILAGE_MERGE_DATA_RECONNECTION_MERGE_RECHARGE.drop_duplicates(subset=['UDC_ID_1'], keep='first', inplace=True, ignore_index=True)"
   ]
  },
  {
   "cell_type": "code",
   "execution_count": 645,
   "metadata": {},
   "outputs": [
    {
     "data": {
      "text/plain": [
       "(0, 21)"
      ]
     },
     "execution_count": 645,
     "metadata": {},
     "output_type": "execute_result"
    }
   ],
   "source": [
    "CONCAT_NOT_NULL_AND_PRIVILAGE_MERGE_DATA_RECONNECTION_MERGE_RECHARGE.shape\n"
   ]
  },
  {
   "cell_type": "code",
   "execution_count": 646,
   "metadata": {},
   "outputs": [],
   "source": [
    "# where diff in close and rechage data is is negative \n",
    "\n",
    "CONCAT_NOT_NULL_AND_PRIVILAGE_MERGE_DATA_RECONNECTION_MERGE_RECHARGE['DIFF_CLOSE_RECHARGE'] = CONCAT_NOT_NULL_AND_PRIVILAGE_MERGE_DATA_RECONNECTION_MERGE_RECHARGE['CLOSE_TIME'] - CONCAT_NOT_NULL_AND_PRIVILAGE_MERGE_DATA_RECONNECTION_MERGE_RECHARGE['RECHARGE DATE']\n",
    "\n"
   ]
  },
  {
   "cell_type": "code",
   "execution_count": null,
   "metadata": {},
   "outputs": [],
   "source": []
  },
  {
   "cell_type": "code",
   "execution_count": 647,
   "metadata": {},
   "outputs": [],
   "source": [
    "import pandas as pd\n",
    "\n",
    "# Assuming CONCAT_NOT_NULL_AND_PRIVILAGE_MERGE_DATA_RECONNECTION_MERGE_RECHARGE is your DataFrame\n",
    "# and 'DIFF_CLOSE_RECHARGE' is the timedelta column\n",
    "\n",
    "# Filter rows with positive diff\n",
    "POSITIVE_DIFF_CLOSE_RECHARGE_DATE = CONCAT_NOT_NULL_AND_PRIVILAGE_MERGE_DATA_RECONNECTION_MERGE_RECHARGE[\n",
    "    CONCAT_NOT_NULL_AND_PRIVILAGE_MERGE_DATA_RECONNECTION_MERGE_RECHARGE['DIFF_CLOSE_RECHARGE'] >= pd.Timedelta(0)]\n",
    "\n",
    "# Filter rows with negative diff\n",
    "NEGATIVE_DIFF_CLOSE_RECHARGE_DATE = CONCAT_NOT_NULL_AND_PRIVILAGE_MERGE_DATA_RECONNECTION_MERGE_RECHARGE[\n",
    "    CONCAT_NOT_NULL_AND_PRIVILAGE_MERGE_DATA_RECONNECTION_MERGE_RECHARGE['DIFF_CLOSE_RECHARGE'] < pd.Timedelta(0)]\n",
    "\n",
    "\n",
    "NULL_DATA_CLOSE_RECHARGE_DATE=CONCAT_NOT_NULL_AND_PRIVILAGE_MERGE_DATA_RECONNECTION_MERGE_RECHARGE[\n",
    "    CONCAT_NOT_NULL_AND_PRIVILAGE_MERGE_DATA_RECONNECTION_MERGE_RECHARGE['DIFF_CLOSE_RECHARGE'].isnull()]"
   ]
  },
  {
   "cell_type": "code",
   "execution_count": 648,
   "metadata": {},
   "outputs": [
    {
     "data": {
      "text/plain": [
       "(0, 22)"
      ]
     },
     "execution_count": 648,
     "metadata": {},
     "output_type": "execute_result"
    }
   ],
   "source": [
    "POSITIVE_DIFF_CLOSE_RECHARGE_DATE.shape"
   ]
  },
  {
   "cell_type": "code",
   "execution_count": 649,
   "metadata": {},
   "outputs": [
    {
     "data": {
      "text/plain": [
       "(0, 22)"
      ]
     },
     "execution_count": 649,
     "metadata": {},
     "output_type": "execute_result"
    }
   ],
   "source": [
    "NULL_DATA_CLOSE_RECHARGE_DATE.shape"
   ]
  },
  {
   "cell_type": "code",
   "execution_count": 650,
   "metadata": {},
   "outputs": [
    {
     "data": {
      "text/plain": [
       "(0, 22)"
      ]
     },
     "execution_count": 650,
     "metadata": {},
     "output_type": "execute_result"
    }
   ],
   "source": [
    "NEGATIVE_DIFF_CLOSE_RECHARGE_DATE.shape"
   ]
  },
  {
   "cell_type": "code",
   "execution_count": 651,
   "metadata": {},
   "outputs": [],
   "source": [
    "# DATA SAVE TO OUTPUT FOLDER\n",
    "\n",
    "CONCAT_NOT_NULL_AND_PRIVILAGE_MERGE_DATA_RECONNECTION_MERGE_RECHARGE.to_csv (r\"C:\\Users\\Ratan Kumar Jha\\Desktop\\Daily progress report\\RC_DC_TRACKER\\OUTPUT FILE\\CONCAT_NOT_NULL_AND_PRIVILAGE_MERGE_DATA_RECONNECTION_MERGE_RECHARGE.csv\",index= False)"
   ]
  },
  {
   "cell_type": "code",
   "execution_count": 652,
   "metadata": {},
   "outputs": [
    {
     "data": {
      "text/plain": [
       "(0, 22)"
      ]
     },
     "execution_count": 652,
     "metadata": {},
     "output_type": "execute_result"
    }
   ],
   "source": [
    "NULL_DATA_CLOSE_RECHARGE_DATE.shape"
   ]
  },
  {
   "cell_type": "code",
   "execution_count": null,
   "metadata": {},
   "outputs": [],
   "source": []
  },
  {
   "cell_type": "markdown",
   "metadata": {},
   "source": [
    "# FOR NEGATIVE RECHARGE DATA"
   ]
  },
  {
   "cell_type": "code",
   "execution_count": 653,
   "metadata": {},
   "outputs": [
    {
     "data": {
      "text/html": [
       "<div>\n",
       "<style scoped>\n",
       "    .dataframe tbody tr th:only-of-type {\n",
       "        vertical-align: middle;\n",
       "    }\n",
       "\n",
       "    .dataframe tbody tr th {\n",
       "        vertical-align: top;\n",
       "    }\n",
       "\n",
       "    .dataframe thead th {\n",
       "        text-align: right;\n",
       "    }\n",
       "</style>\n",
       "<table border=\"1\" class=\"dataframe\">\n",
       "  <thead>\n",
       "    <tr style=\"text-align: right;\">\n",
       "      <th></th>\n",
       "      <th>ORG NAME</th>\n",
       "      <th>MOBILE</th>\n",
       "      <th>METER NO</th>\n",
       "      <th>TRANSACTION_ID</th>\n",
       "      <th>AMOUNT</th>\n",
       "      <th>ACCOUNT_UDC_ID</th>\n",
       "      <th>RECHARGE DATE</th>\n",
       "      <th>SECTION_NAME</th>\n",
       "      <th>DIVISION_NAME</th>\n",
       "      <th>SUBDIVISION_NAME</th>\n",
       "      <th>day_new</th>\n",
       "    </tr>\n",
       "  </thead>\n",
       "  <tbody>\n",
       "    <tr>\n",
       "      <th>99644</th>\n",
       "      <td>SBPDCL</td>\n",
       "      <td>9934041784</td>\n",
       "      <td>LNTLT0636157</td>\n",
       "      <td>113329329107</td>\n",
       "      <td>668</td>\n",
       "      <td>21750035068</td>\n",
       "      <td>2024-06-13 23:00:12</td>\n",
       "      <td>BIHIYA</td>\n",
       "      <td>JAGDISHPUR</td>\n",
       "      <td>JAGDISHPUR</td>\n",
       "      <td>13</td>\n",
       "    </tr>\n",
       "    <tr>\n",
       "      <th>99643</th>\n",
       "      <td>NBPDCL</td>\n",
       "      <td>8969511508</td>\n",
       "      <td>LNTLT0542180</td>\n",
       "      <td>113329329265</td>\n",
       "      <td>200</td>\n",
       "      <td>400805521</td>\n",
       "      <td>2024-06-13 23:00:12</td>\n",
       "      <td>Sec-Kishanganj(U)</td>\n",
       "      <td>Kishanganj</td>\n",
       "      <td>Kishanganj</td>\n",
       "      <td>13</td>\n",
       "    </tr>\n",
       "    <tr>\n",
       "      <th>99642</th>\n",
       "      <td>SBPDCL</td>\n",
       "      <td>8084947921</td>\n",
       "      <td>LNTLT0591911</td>\n",
       "      <td>113329329262</td>\n",
       "      <td>200</td>\n",
       "      <td>100281302</td>\n",
       "      <td>2024-06-13 23:00:12</td>\n",
       "      <td>Sec-Arrah(W)</td>\n",
       "      <td>Arrah</td>\n",
       "      <td>Arrah(urban)-II.</td>\n",
       "      <td>13</td>\n",
       "    </tr>\n",
       "    <tr>\n",
       "      <th>99641</th>\n",
       "      <td>SBPDCL</td>\n",
       "      <td>9470808018</td>\n",
       "      <td>LNTLT0391582</td>\n",
       "      <td>113329329238</td>\n",
       "      <td>1000</td>\n",
       "      <td>101986929</td>\n",
       "      <td>2024-06-13 23:00:12</td>\n",
       "      <td>Sec-Pataliputra</td>\n",
       "      <td>Pataliputra</td>\n",
       "      <td>Pataliputra</td>\n",
       "      <td>13</td>\n",
       "    </tr>\n",
       "    <tr>\n",
       "      <th>99640</th>\n",
       "      <td>SBPDCL</td>\n",
       "      <td>9504406555</td>\n",
       "      <td>LNTLT8038906</td>\n",
       "      <td>113329329206</td>\n",
       "      <td>2000</td>\n",
       "      <td>100932244</td>\n",
       "      <td>2024-06-13 23:00:12</td>\n",
       "      <td>Sec-Saidpur</td>\n",
       "      <td>Rajendra Nagar</td>\n",
       "      <td>Rajendra Nagar</td>\n",
       "      <td>13</td>\n",
       "    </tr>\n",
       "  </tbody>\n",
       "</table>\n",
       "</div>"
      ],
      "text/plain": [
       "      ORG NAME      MOBILE      METER NO TRANSACTION_ID AMOUNT ACCOUNT_UDC_ID  \\\n",
       "99644   SBPDCL  9934041784  LNTLT0636157   113329329107    668    21750035068   \n",
       "99643   NBPDCL  8969511508  LNTLT0542180   113329329265    200      400805521   \n",
       "99642   SBPDCL  8084947921  LNTLT0591911   113329329262    200      100281302   \n",
       "99641   SBPDCL  9470808018  LNTLT0391582   113329329238   1000      101986929   \n",
       "99640   SBPDCL  9504406555  LNTLT8038906   113329329206   2000      100932244   \n",
       "\n",
       "            RECHARGE DATE       SECTION_NAME   DIVISION_NAME  \\\n",
       "99644 2024-06-13 23:00:12             BIHIYA      JAGDISHPUR   \n",
       "99643 2024-06-13 23:00:12  Sec-Kishanganj(U)      Kishanganj   \n",
       "99642 2024-06-13 23:00:12       Sec-Arrah(W)           Arrah   \n",
       "99641 2024-06-13 23:00:12    Sec-Pataliputra     Pataliputra   \n",
       "99640 2024-06-13 23:00:12        Sec-Saidpur  Rajendra Nagar   \n",
       "\n",
       "       SUBDIVISION_NAME  day_new  \n",
       "99644        JAGDISHPUR       13  \n",
       "99643        Kishanganj       13  \n",
       "99642  Arrah(urban)-II.       13  \n",
       "99641       Pataliputra       13  \n",
       "99640    Rajendra Nagar       13  "
      ]
     },
     "execution_count": 653,
     "metadata": {},
     "output_type": "execute_result"
    }
   ],
   "source": [
    "RECHARGE_DETAILS_FOR_ALL_WITHOUT_HIERARCHY_YESTERDAY.head()"
   ]
  },
  {
   "cell_type": "code",
   "execution_count": 654,
   "metadata": {},
   "outputs": [
    {
     "data": {
      "text/html": [
       "<div>\n",
       "<style scoped>\n",
       "    .dataframe tbody tr th:only-of-type {\n",
       "        vertical-align: middle;\n",
       "    }\n",
       "\n",
       "    .dataframe tbody tr th {\n",
       "        vertical-align: top;\n",
       "    }\n",
       "\n",
       "    .dataframe thead th {\n",
       "        text-align: right;\n",
       "    }\n",
       "</style>\n",
       "<table border=\"1\" class=\"dataframe\">\n",
       "  <thead>\n",
       "    <tr style=\"text-align: right;\">\n",
       "      <th></th>\n",
       "      <th>UDC_ID</th>\n",
       "      <th>UDC_ID_1</th>\n",
       "      <th>TYPE_CD</th>\n",
       "      <th>SUB_TYPE_CD</th>\n",
       "      <th>STATUS_CD</th>\n",
       "      <th>OUTCOME_CD</th>\n",
       "      <th>ALT_OUTCOME_REASON_CD</th>\n",
       "      <th>ORG_ID</th>\n",
       "      <th>OPEN_TIME</th>\n",
       "      <th>CLOSE_TIME</th>\n",
       "      <th>NAME</th>\n",
       "      <th>BALANCE</th>\n",
       "      <th>LOAD_STATUS</th>\n",
       "      <th>day</th>\n",
       "      <th>previous day</th>\n",
       "      <th>DIVISION</th>\n",
       "      <th>CATEGORY NAME</th>\n",
       "      <th>FULL_METER_NUMBER</th>\n",
       "      <th>DIFF_OPEN_CLOSE</th>\n",
       "      <th>METER NO</th>\n",
       "      <th>RECHARGE DATE</th>\n",
       "      <th>DIFF_CLOSE_RECHARGE</th>\n",
       "    </tr>\n",
       "  </thead>\n",
       "  <tbody>\n",
       "  </tbody>\n",
       "</table>\n",
       "</div>"
      ],
      "text/plain": [
       "Empty DataFrame\n",
       "Columns: [UDC_ID, UDC_ID_1, TYPE_CD, SUB_TYPE_CD, STATUS_CD, OUTCOME_CD, ALT_OUTCOME_REASON_CD, ORG_ID, OPEN_TIME, CLOSE_TIME, NAME, BALANCE, LOAD_STATUS, day, previous day, DIVISION, CATEGORY NAME, FULL_METER_NUMBER, DIFF_OPEN_CLOSE, METER NO, RECHARGE DATE, DIFF_CLOSE_RECHARGE]\n",
       "Index: []"
      ]
     },
     "execution_count": 654,
     "metadata": {},
     "output_type": "execute_result"
    }
   ],
   "source": [
    "NEGATIVE_DIFF_CLOSE_RECHARGE_DATE.head(2)"
   ]
  },
  {
   "cell_type": "code",
   "execution_count": 655,
   "metadata": {},
   "outputs": [
    {
     "name": "stderr",
     "output_type": "stream",
     "text": [
      "C:\\Users\\Ratan Kumar Jha\\AppData\\Local\\Temp\\ipykernel_36668\\475749551.py:1: SettingWithCopyWarning: \n",
      "A value is trying to be set on a copy of a slice from a DataFrame\n",
      "\n",
      "See the caveats in the documentation: https://pandas.pydata.org/pandas-docs/stable/user_guide/indexing.html#returning-a-view-versus-a-copy\n",
      "  RECHARGE_DETAILS_FOR_ALL_WITHOUT_HIERARCHY_YESTERDAY.sort_values(by=['RECHARGE DATE'], ascending=True,inplace=True)\n"
     ]
    },
    {
     "data": {
      "text/html": [
       "<div>\n",
       "<style scoped>\n",
       "    .dataframe tbody tr th:only-of-type {\n",
       "        vertical-align: middle;\n",
       "    }\n",
       "\n",
       "    .dataframe tbody tr th {\n",
       "        vertical-align: top;\n",
       "    }\n",
       "\n",
       "    .dataframe thead th {\n",
       "        text-align: right;\n",
       "    }\n",
       "</style>\n",
       "<table border=\"1\" class=\"dataframe\">\n",
       "  <thead>\n",
       "    <tr style=\"text-align: right;\">\n",
       "      <th></th>\n",
       "      <th>UDC_ID</th>\n",
       "      <th>UDC_ID_1</th>\n",
       "      <th>TYPE_CD</th>\n",
       "      <th>SUB_TYPE_CD</th>\n",
       "      <th>STATUS_CD</th>\n",
       "      <th>OUTCOME_CD</th>\n",
       "      <th>ALT_OUTCOME_REASON_CD</th>\n",
       "      <th>ORG_ID</th>\n",
       "      <th>OPEN_TIME</th>\n",
       "      <th>CLOSE_TIME</th>\n",
       "      <th>NAME</th>\n",
       "      <th>BALANCE</th>\n",
       "      <th>LOAD_STATUS</th>\n",
       "      <th>day</th>\n",
       "      <th>previous day</th>\n",
       "      <th>DIVISION</th>\n",
       "      <th>CATEGORY NAME</th>\n",
       "      <th>FULL_METER_NUMBER</th>\n",
       "      <th>DIFF_OPEN_CLOSE</th>\n",
       "      <th>METER NO</th>\n",
       "      <th>RECHARGE DATE</th>\n",
       "    </tr>\n",
       "  </thead>\n",
       "  <tbody>\n",
       "  </tbody>\n",
       "</table>\n",
       "</div>"
      ],
      "text/plain": [
       "Empty DataFrame\n",
       "Columns: [UDC_ID, UDC_ID_1, TYPE_CD, SUB_TYPE_CD, STATUS_CD, OUTCOME_CD, ALT_OUTCOME_REASON_CD, ORG_ID, OPEN_TIME, CLOSE_TIME, NAME, BALANCE, LOAD_STATUS, day, previous day, DIVISION, CATEGORY NAME, FULL_METER_NUMBER, DIFF_OPEN_CLOSE, METER NO, RECHARGE DATE]\n",
       "Index: []"
      ]
     },
     "execution_count": 655,
     "metadata": {},
     "output_type": "execute_result"
    }
   ],
   "source": [
    "\n",
    "RECHARGE_DETAILS_FOR_ALL_WITHOUT_HIERARCHY_YESTERDAY.sort_values(by=['RECHARGE DATE'], ascending=True,inplace=True)\n",
    "\n",
    "\n",
    "# DROP COLUMN FROM NEGATIVE_DIFF_CLOSE_RECHARGE_DATE\n",
    "\n",
    "NEGATIVE_DIFF_CLOSE_RECHARGE_DATE.drop(['METER NO', 'RECHARGE DATE','DIFF_CLOSE_RECHARGE'], axis=1, inplace=True)\n",
    "\n",
    "#-----------------------------------------------------------------------------------------------------------------------------------------------------------------------\n",
    "\n",
    "# merge with  NEGATIVE_DIFF_CLOSE_RECHARGE_DATE & RECHARGE_DETAILS_FOR_ALL_WITHOUT_HIERARCHY_YESTERDAY\n",
    "\n",
    "MERGE_NEGATIVE_DIFF_CLOSE_RECHARGE_DATE_RECHARGE_DETAIL=pd.merge(NEGATIVE_DIFF_CLOSE_RECHARGE_DATE, RECHARGE_DETAILS_FOR_ALL_WITHOUT_HIERARCHY_YESTERDAY[['METER NO','RECHARGE DATE']], left_on=['UDC_ID_1'], right_on=['METER NO'], how='left')\n",
    "\n",
    "\n",
    "#-----------------------------------------------------------------------------------------------------------------------------------------------------------------------\n",
    "\n",
    "# SORT VALUES ON THE BASIS OF METER AND RECHARGE DATA\n",
    "MERGE_NEGATIVE_DIFF_CLOSE_RECHARGE_DATE_RECHARGE_DETAIL.sort_values(by=['UDC_ID_1','RECHARGE DATE'], ascending=[True,True],inplace=True)\n",
    "\n",
    "MERGE_NEGATIVE_DIFF_CLOSE_RECHARGE_DATE_RECHARGE_DETAIL.drop_duplicates(subset=['UDC_ID_1'], keep='first', inplace=True, ignore_index=True)\n",
    "\n"
   ]
  },
  {
   "cell_type": "code",
   "execution_count": 656,
   "metadata": {},
   "outputs": [
    {
     "data": {
      "text/plain": [
       "(0, 21)"
      ]
     },
     "execution_count": 656,
     "metadata": {},
     "output_type": "execute_result"
    }
   ],
   "source": [
    "MERGE_NEGATIVE_DIFF_CLOSE_RECHARGE_DATE_RECHARGE_DETAIL.shape"
   ]
  },
  {
   "cell_type": "code",
   "execution_count": 657,
   "metadata": {},
   "outputs": [],
   "source": [
    "# where diff in close and rechage data is is negative \n",
    "\n",
    "MERGE_NEGATIVE_DIFF_CLOSE_RECHARGE_DATE_RECHARGE_DETAIL['DIFF_CLOSE_RECHARGE'] = MERGE_NEGATIVE_DIFF_CLOSE_RECHARGE_DATE_RECHARGE_DETAIL['CLOSE_TIME'] - MERGE_NEGATIVE_DIFF_CLOSE_RECHARGE_DATE_RECHARGE_DETAIL['RECHARGE DATE']\n",
    "\n"
   ]
  },
  {
   "cell_type": "code",
   "execution_count": 658,
   "metadata": {},
   "outputs": [],
   "source": [
    "# find the date diff\n",
    "\n",
    "POSITIVE_DIFF_CLOSE_RECHARGE_DATE_FOR_EARLIER_NEGATIVE = MERGE_NEGATIVE_DIFF_CLOSE_RECHARGE_DATE_RECHARGE_DETAIL[\n",
    "    MERGE_NEGATIVE_DIFF_CLOSE_RECHARGE_DATE_RECHARGE_DETAIL['DIFF_CLOSE_RECHARGE'] >= pd.Timedelta(0)]\n",
    "\n",
    "# Filter rows with negative diff\n",
    "NEGATIVE_DIFF_CLOSE_RECHARGE_DATE_FOR_EARLIER_NEGATIVE = MERGE_NEGATIVE_DIFF_CLOSE_RECHARGE_DATE_RECHARGE_DETAIL[\n",
    "    MERGE_NEGATIVE_DIFF_CLOSE_RECHARGE_DATE_RECHARGE_DETAIL['DIFF_CLOSE_RECHARGE'] < pd.Timedelta(0)]\n",
    "\n",
    "\n",
    "NULL_DATA_CLOSE_RECHARGE_DATE_FOR_EARLIER_NEGATIVE=MERGE_NEGATIVE_DIFF_CLOSE_RECHARGE_DATE_RECHARGE_DETAIL[\n",
    "    MERGE_NEGATIVE_DIFF_CLOSE_RECHARGE_DATE_RECHARGE_DETAIL['DIFF_CLOSE_RECHARGE'].isnull()]\n"
   ]
  },
  {
   "cell_type": "code",
   "execution_count": 659,
   "metadata": {},
   "outputs": [
    {
     "data": {
      "text/plain": [
       "(0, 22)"
      ]
     },
     "execution_count": 659,
     "metadata": {},
     "output_type": "execute_result"
    }
   ],
   "source": [
    "NEGATIVE_DIFF_CLOSE_RECHARGE_DATE_FOR_EARLIER_NEGATIVE.shape"
   ]
  },
  {
   "cell_type": "code",
   "execution_count": null,
   "metadata": {},
   "outputs": [],
   "source": []
  },
  {
   "cell_type": "code",
   "execution_count": null,
   "metadata": {},
   "outputs": [],
   "source": []
  },
  {
   "cell_type": "markdown",
   "metadata": {},
   "source": [
    "# WORKING ON NULL DATA"
   ]
  },
  {
   "cell_type": "code",
   "execution_count": 660,
   "metadata": {},
   "outputs": [
    {
     "data": {
      "text/html": [
       "<div>\n",
       "<style scoped>\n",
       "    .dataframe tbody tr th:only-of-type {\n",
       "        vertical-align: middle;\n",
       "    }\n",
       "\n",
       "    .dataframe tbody tr th {\n",
       "        vertical-align: top;\n",
       "    }\n",
       "\n",
       "    .dataframe thead th {\n",
       "        text-align: right;\n",
       "    }\n",
       "</style>\n",
       "<table border=\"1\" class=\"dataframe\">\n",
       "  <thead>\n",
       "    <tr style=\"text-align: right;\">\n",
       "      <th></th>\n",
       "      <th>UDC_ID</th>\n",
       "      <th>UDC_ID_1</th>\n",
       "      <th>TYPE_CD</th>\n",
       "      <th>SUB_TYPE_CD</th>\n",
       "      <th>STATUS_CD</th>\n",
       "      <th>OUTCOME_CD</th>\n",
       "      <th>ALT_OUTCOME_REASON_CD</th>\n",
       "      <th>ORG_ID</th>\n",
       "      <th>OPEN_TIME</th>\n",
       "      <th>CLOSE_TIME</th>\n",
       "      <th>NAME</th>\n",
       "      <th>BALANCE</th>\n",
       "      <th>LOAD_STATUS</th>\n",
       "      <th>day</th>\n",
       "      <th>previous day</th>\n",
       "      <th>DIVISION</th>\n",
       "      <th>CATEGORY NAME</th>\n",
       "      <th>FULL_METER_NUMBER</th>\n",
       "      <th>DIFF_OPEN_CLOSE</th>\n",
       "      <th>METER NO</th>\n",
       "      <th>RECHARGE DATE</th>\n",
       "      <th>DIFF_CLOSE_RECHARGE</th>\n",
       "    </tr>\n",
       "  </thead>\n",
       "  <tbody>\n",
       "  </tbody>\n",
       "</table>\n",
       "</div>"
      ],
      "text/plain": [
       "Empty DataFrame\n",
       "Columns: [UDC_ID, UDC_ID_1, TYPE_CD, SUB_TYPE_CD, STATUS_CD, OUTCOME_CD, ALT_OUTCOME_REASON_CD, ORG_ID, OPEN_TIME, CLOSE_TIME, NAME, BALANCE, LOAD_STATUS, day, previous day, DIVISION, CATEGORY NAME, FULL_METER_NUMBER, DIFF_OPEN_CLOSE, METER NO, RECHARGE DATE, DIFF_CLOSE_RECHARGE]\n",
       "Index: []"
      ]
     },
     "execution_count": 660,
     "metadata": {},
     "output_type": "execute_result"
    }
   ],
   "source": [
    "NULL_DATA_CLOSE_RECHARGE_DATE.head()"
   ]
  },
  {
   "cell_type": "code",
   "execution_count": 661,
   "metadata": {},
   "outputs": [
    {
     "data": {
      "text/plain": [
       "(0, 22)"
      ]
     },
     "execution_count": 661,
     "metadata": {},
     "output_type": "execute_result"
    }
   ],
   "source": [
    "NULL_DATA_CLOSE_RECHARGE_DATE.shape"
   ]
  },
  {
   "cell_type": "code",
   "execution_count": null,
   "metadata": {},
   "outputs": [],
   "source": []
  },
  {
   "cell_type": "markdown",
   "metadata": {},
   "source": [
    "# check date"
   ]
  },
  {
   "cell_type": "code",
   "execution_count": 662,
   "metadata": {},
   "outputs": [],
   "source": [
    "yesterday = datetime.now() - timedelta(days=START_DATE_PLUS_ONE)\n",
    "yesterday_date = yesterday.date()\n",
    "RECHARGE_DETAILS_FOR_ALL_WITHOUT_HIERARCHY_DAY_BEFORE_YESTERDAY = RECHARGE_DETAILS_FOR_ALL_WITHOUT_HIERARCHY[RECHARGE_DETAILS_FOR_ALL_WITHOUT_HIERARCHY['RECHARGE DATE'].dt.date == yesterday_date]"
   ]
  },
  {
   "cell_type": "code",
   "execution_count": 663,
   "metadata": {},
   "outputs": [
    {
     "data": {
      "text/plain": [
       "(0, 10)"
      ]
     },
     "execution_count": 663,
     "metadata": {},
     "output_type": "execute_result"
    }
   ],
   "source": [
    "RECHARGE_DETAILS_FOR_ALL_WITHOUT_HIERARCHY_DAY_BEFORE_YESTERDAY.shape"
   ]
  },
  {
   "cell_type": "code",
   "execution_count": null,
   "metadata": {},
   "outputs": [],
   "source": []
  },
  {
   "cell_type": "code",
   "execution_count": 664,
   "metadata": {},
   "outputs": [
    {
     "name": "stderr",
     "output_type": "stream",
     "text": [
      "C:\\Users\\Ratan Kumar Jha\\AppData\\Local\\Temp\\ipykernel_36668\\3315404361.py:1: SettingWithCopyWarning: \n",
      "A value is trying to be set on a copy of a slice from a DataFrame\n",
      "\n",
      "See the caveats in the documentation: https://pandas.pydata.org/pandas-docs/stable/user_guide/indexing.html#returning-a-view-versus-a-copy\n",
      "  RECHARGE_DETAILS_FOR_ALL_WITHOUT_HIERARCHY_DAY_BEFORE_YESTERDAY.sort_values(by=['RECHARGE DATE'], ascending=False,inplace=True)\n"
     ]
    }
   ],
   "source": [
    "\n",
    "RECHARGE_DETAILS_FOR_ALL_WITHOUT_HIERARCHY_DAY_BEFORE_YESTERDAY.sort_values(by=['RECHARGE DATE'], ascending=False,inplace=True)\n",
    "\n",
    "\n",
    "# DROP COLUMN FROM NEGATIVE_DIFF_CLOSE_RECHARGE_DATE\n",
    "\n",
    "NULL_DATA_CLOSE_RECHARGE_DATE.drop(['METER NO', 'RECHARGE DATE','DIFF_CLOSE_RECHARGE'], axis=1, inplace=True)"
   ]
  },
  {
   "cell_type": "code",
   "execution_count": 665,
   "metadata": {},
   "outputs": [],
   "source": [
    "\n",
    "MERGE_NULL_DATA_CLOSE_RECHARGE_DATE_RECHARGE_DETAIL=pd.merge(NULL_DATA_CLOSE_RECHARGE_DATE, RECHARGE_DETAILS_FOR_ALL_WITHOUT_HIERARCHY_DAY_BEFORE_YESTERDAY[['METER NO','RECHARGE DATE']], left_on=['UDC_ID_1'], right_on=['METER NO'], how='left')\n"
   ]
  },
  {
   "cell_type": "code",
   "execution_count": 666,
   "metadata": {},
   "outputs": [
    {
     "data": {
      "text/plain": [
       "(0, 21)"
      ]
     },
     "execution_count": 666,
     "metadata": {},
     "output_type": "execute_result"
    }
   ],
   "source": [
    "MERGE_NULL_DATA_CLOSE_RECHARGE_DATE_RECHARGE_DETAIL.shape"
   ]
  },
  {
   "cell_type": "code",
   "execution_count": 667,
   "metadata": {},
   "outputs": [],
   "source": [
    "MERGE_NULL_DATA_CLOSE_RECHARGE_DATE_RECHARGE_DETAIL.to_csv(r\"C:\\Users\\Ratan Kumar Jha\\Desktop\\Daily progress report\\RC_DC_TRACKER\\OUTPUT FILE\\MERGE_NULL_DATA_CLOSE_RECHARGE_DATE_RECHARGE_DETAIL.csv\")"
   ]
  },
  {
   "cell_type": "code",
   "execution_count": 668,
   "metadata": {},
   "outputs": [
    {
     "data": {
      "text/html": [
       "<div>\n",
       "<style scoped>\n",
       "    .dataframe tbody tr th:only-of-type {\n",
       "        vertical-align: middle;\n",
       "    }\n",
       "\n",
       "    .dataframe tbody tr th {\n",
       "        vertical-align: top;\n",
       "    }\n",
       "\n",
       "    .dataframe thead th {\n",
       "        text-align: right;\n",
       "    }\n",
       "</style>\n",
       "<table border=\"1\" class=\"dataframe\">\n",
       "  <thead>\n",
       "    <tr style=\"text-align: right;\">\n",
       "      <th></th>\n",
       "      <th>UDC_ID</th>\n",
       "      <th>UDC_ID_1</th>\n",
       "      <th>TYPE_CD</th>\n",
       "      <th>SUB_TYPE_CD</th>\n",
       "      <th>STATUS_CD</th>\n",
       "      <th>OUTCOME_CD</th>\n",
       "      <th>ALT_OUTCOME_REASON_CD</th>\n",
       "      <th>ORG_ID</th>\n",
       "      <th>OPEN_TIME</th>\n",
       "      <th>CLOSE_TIME</th>\n",
       "      <th>NAME</th>\n",
       "      <th>BALANCE</th>\n",
       "      <th>LOAD_STATUS</th>\n",
       "      <th>day</th>\n",
       "      <th>previous day</th>\n",
       "      <th>DIVISION</th>\n",
       "      <th>CATEGORY NAME</th>\n",
       "      <th>FULL_METER_NUMBER</th>\n",
       "      <th>DIFF_OPEN_CLOSE</th>\n",
       "      <th>METER NO</th>\n",
       "      <th>RECHARGE DATE</th>\n",
       "    </tr>\n",
       "  </thead>\n",
       "  <tbody>\n",
       "  </tbody>\n",
       "</table>\n",
       "</div>"
      ],
      "text/plain": [
       "Empty DataFrame\n",
       "Columns: [UDC_ID, UDC_ID_1, TYPE_CD, SUB_TYPE_CD, STATUS_CD, OUTCOME_CD, ALT_OUTCOME_REASON_CD, ORG_ID, OPEN_TIME, CLOSE_TIME, NAME, BALANCE, LOAD_STATUS, day, previous day, DIVISION, CATEGORY NAME, FULL_METER_NUMBER, DIFF_OPEN_CLOSE, METER NO, RECHARGE DATE]\n",
       "Index: []"
      ]
     },
     "execution_count": 668,
     "metadata": {},
     "output_type": "execute_result"
    }
   ],
   "source": [
    "# SORT VALUES ON THE BASIS OF METER AND RECHARGE DATA\n",
    "MERGE_NULL_DATA_CLOSE_RECHARGE_DATE_RECHARGE_DETAIL.sort_values(by=['UDC_ID_1','RECHARGE DATE'], ascending=[True,False],inplace=True)\n",
    "\n",
    "MERGE_NULL_DATA_CLOSE_RECHARGE_DATE_RECHARGE_DETAIL.drop_duplicates(subset=['UDC_ID_1'], keep='first', inplace=True, ignore_index=True)"
   ]
  },
  {
   "cell_type": "code",
   "execution_count": 669,
   "metadata": {},
   "outputs": [
    {
     "data": {
      "text/plain": [
       "(0, 21)"
      ]
     },
     "execution_count": 669,
     "metadata": {},
     "output_type": "execute_result"
    }
   ],
   "source": [
    "MERGE_NULL_DATA_CLOSE_RECHARGE_DATE_RECHARGE_DETAIL.shape"
   ]
  },
  {
   "cell_type": "code",
   "execution_count": 670,
   "metadata": {},
   "outputs": [
    {
     "name": "stdout",
     "output_type": "stream",
     "text": [
      " dataframe is of same shape\n"
     ]
    }
   ],
   "source": [
    "import os,sys\n",
    "if NULL_DATA_CLOSE_RECHARGE_DATE.shape[0] ==  MERGE_NULL_DATA_CLOSE_RECHARGE_DATE_RECHARGE_DETAIL.shape[0]:\n",
    "    print(' dataframe is of same shape')\n",
    "else:\n",
    "    #sys.exit()\n",
    "    print(\"Dataframe size is not same\")"
   ]
  },
  {
   "cell_type": "code",
   "execution_count": 671,
   "metadata": {},
   "outputs": [],
   "source": [
    "# where diff in close and rechage data is is negative \n",
    "\n",
    "MERGE_NULL_DATA_CLOSE_RECHARGE_DATE_RECHARGE_DETAIL['DIFF_CLOSE_RECHARGE'] = MERGE_NULL_DATA_CLOSE_RECHARGE_DATE_RECHARGE_DETAIL['CLOSE_TIME'] - MERGE_NULL_DATA_CLOSE_RECHARGE_DATE_RECHARGE_DETAIL['RECHARGE DATE']\n",
    "\n"
   ]
  },
  {
   "cell_type": "code",
   "execution_count": 672,
   "metadata": {},
   "outputs": [
    {
     "data": {
      "text/plain": [
       "(0, 22)"
      ]
     },
     "execution_count": 672,
     "metadata": {},
     "output_type": "execute_result"
    }
   ],
   "source": [
    "MERGE_NULL_DATA_CLOSE_RECHARGE_DATE_RECHARGE_DETAIL.shape"
   ]
  },
  {
   "cell_type": "code",
   "execution_count": null,
   "metadata": {},
   "outputs": [],
   "source": []
  },
  {
   "cell_type": "markdown",
   "metadata": {},
   "source": [
    "# concat the data"
   ]
  },
  {
   "cell_type": "code",
   "execution_count": 673,
   "metadata": {},
   "outputs": [],
   "source": [
    "CONCAT_FINAL_DATA = pd.concat([POSITIVE_DIFF_CLOSE_RECHARGE_DATE, MERGE_NULL_DATA_CLOSE_RECHARGE_DATE_RECHARGE_DETAIL,MERGE_NEGATIVE_DIFF_CLOSE_RECHARGE_DATE_RECHARGE_DETAIL], ignore_index=True)"
   ]
  },
  {
   "cell_type": "code",
   "execution_count": 674,
   "metadata": {},
   "outputs": [
    {
     "data": {
      "text/html": [
       "<div>\n",
       "<style scoped>\n",
       "    .dataframe tbody tr th:only-of-type {\n",
       "        vertical-align: middle;\n",
       "    }\n",
       "\n",
       "    .dataframe tbody tr th {\n",
       "        vertical-align: top;\n",
       "    }\n",
       "\n",
       "    .dataframe thead th {\n",
       "        text-align: right;\n",
       "    }\n",
       "</style>\n",
       "<table border=\"1\" class=\"dataframe\">\n",
       "  <thead>\n",
       "    <tr style=\"text-align: right;\">\n",
       "      <th></th>\n",
       "      <th>UDC_ID</th>\n",
       "      <th>UDC_ID_1</th>\n",
       "      <th>TYPE_CD</th>\n",
       "      <th>SUB_TYPE_CD</th>\n",
       "      <th>STATUS_CD</th>\n",
       "      <th>OUTCOME_CD</th>\n",
       "      <th>ALT_OUTCOME_REASON_CD</th>\n",
       "      <th>ORG_ID</th>\n",
       "      <th>OPEN_TIME</th>\n",
       "      <th>CLOSE_TIME</th>\n",
       "      <th>NAME</th>\n",
       "      <th>BALANCE</th>\n",
       "      <th>LOAD_STATUS</th>\n",
       "      <th>day</th>\n",
       "      <th>previous day</th>\n",
       "      <th>DIVISION</th>\n",
       "      <th>CATEGORY NAME</th>\n",
       "      <th>FULL_METER_NUMBER</th>\n",
       "      <th>DIFF_OPEN_CLOSE</th>\n",
       "      <th>METER NO</th>\n",
       "      <th>RECHARGE DATE</th>\n",
       "      <th>DIFF_CLOSE_RECHARGE</th>\n",
       "    </tr>\n",
       "  </thead>\n",
       "  <tbody>\n",
       "  </tbody>\n",
       "</table>\n",
       "</div>"
      ],
      "text/plain": [
       "Empty DataFrame\n",
       "Columns: [UDC_ID, UDC_ID_1, TYPE_CD, SUB_TYPE_CD, STATUS_CD, OUTCOME_CD, ALT_OUTCOME_REASON_CD, ORG_ID, OPEN_TIME, CLOSE_TIME, NAME, BALANCE, LOAD_STATUS, day, previous day, DIVISION, CATEGORY NAME, FULL_METER_NUMBER, DIFF_OPEN_CLOSE, METER NO, RECHARGE DATE, DIFF_CLOSE_RECHARGE]\n",
       "Index: []"
      ]
     },
     "execution_count": 674,
     "metadata": {},
     "output_type": "execute_result"
    }
   ],
   "source": [
    "CONCAT_FINAL_DATA.head(2)"
   ]
  },
  {
   "cell_type": "code",
   "execution_count": 675,
   "metadata": {},
   "outputs": [
    {
     "data": {
      "text/plain": [
       "(0, 22)"
      ]
     },
     "execution_count": 675,
     "metadata": {},
     "output_type": "execute_result"
    }
   ],
   "source": [
    "CONCAT_FINAL_DATA.shape"
   ]
  },
  {
   "cell_type": "code",
   "execution_count": 676,
   "metadata": {},
   "outputs": [],
   "source": [
    "CONCAT_FINAL_DATA['days'] = CONCAT_FINAL_DATA['DIFF_CLOSE_RECHARGE'].dt.days\n",
    "CONCAT_FINAL_DATA['hours'] = (CONCAT_FINAL_DATA['DIFF_CLOSE_RECHARGE'].dt.seconds // 3600).fillna(0).astype(int)\n",
    "CONCAT_FINAL_DATA['minutes'] = ((CONCAT_FINAL_DATA['DIFF_CLOSE_RECHARGE'].dt.seconds // 60) % 60).fillna(0).astype(int)\n"
   ]
  },
  {
   "cell_type": "code",
   "execution_count": 677,
   "metadata": {},
   "outputs": [],
   "source": [
    "CONCAT_FINAL_DATA['days_new'] = CONCAT_FINAL_DATA['days'].apply(lambda x: int(x) if pd.notna(x) else x)"
   ]
  },
  {
   "cell_type": "code",
   "execution_count": 678,
   "metadata": {},
   "outputs": [
    {
     "data": {
      "text/html": [
       "<div>\n",
       "<style scoped>\n",
       "    .dataframe tbody tr th:only-of-type {\n",
       "        vertical-align: middle;\n",
       "    }\n",
       "\n",
       "    .dataframe tbody tr th {\n",
       "        vertical-align: top;\n",
       "    }\n",
       "\n",
       "    .dataframe thead th {\n",
       "        text-align: right;\n",
       "    }\n",
       "</style>\n",
       "<table border=\"1\" class=\"dataframe\">\n",
       "  <thead>\n",
       "    <tr style=\"text-align: right;\">\n",
       "      <th></th>\n",
       "      <th>UDC_ID</th>\n",
       "      <th>UDC_ID_1</th>\n",
       "      <th>TYPE_CD</th>\n",
       "      <th>SUB_TYPE_CD</th>\n",
       "      <th>STATUS_CD</th>\n",
       "      <th>OUTCOME_CD</th>\n",
       "      <th>ALT_OUTCOME_REASON_CD</th>\n",
       "      <th>ORG_ID</th>\n",
       "      <th>OPEN_TIME</th>\n",
       "      <th>CLOSE_TIME</th>\n",
       "      <th>NAME</th>\n",
       "      <th>BALANCE</th>\n",
       "      <th>LOAD_STATUS</th>\n",
       "      <th>day</th>\n",
       "      <th>previous day</th>\n",
       "      <th>DIVISION</th>\n",
       "      <th>CATEGORY NAME</th>\n",
       "      <th>FULL_METER_NUMBER</th>\n",
       "      <th>DIFF_OPEN_CLOSE</th>\n",
       "      <th>METER NO</th>\n",
       "      <th>RECHARGE DATE</th>\n",
       "      <th>DIFF_CLOSE_RECHARGE</th>\n",
       "      <th>days</th>\n",
       "      <th>hours</th>\n",
       "      <th>minutes</th>\n",
       "      <th>days_new</th>\n",
       "    </tr>\n",
       "  </thead>\n",
       "  <tbody>\n",
       "  </tbody>\n",
       "</table>\n",
       "</div>"
      ],
      "text/plain": [
       "Empty DataFrame\n",
       "Columns: [UDC_ID, UDC_ID_1, TYPE_CD, SUB_TYPE_CD, STATUS_CD, OUTCOME_CD, ALT_OUTCOME_REASON_CD, ORG_ID, OPEN_TIME, CLOSE_TIME, NAME, BALANCE, LOAD_STATUS, day, previous day, DIVISION, CATEGORY NAME, FULL_METER_NUMBER, DIFF_OPEN_CLOSE, METER NO, RECHARGE DATE, DIFF_CLOSE_RECHARGE, days, hours, minutes, days_new]\n",
       "Index: []"
      ]
     },
     "execution_count": 678,
     "metadata": {},
     "output_type": "execute_result"
    }
   ],
   "source": [
    "CONCAT_FINAL_DATA.head(1)"
   ]
  },
  {
   "cell_type": "code",
   "execution_count": 679,
   "metadata": {},
   "outputs": [],
   "source": [
    "def SLA_COLUMN(row):\n",
    "    if (pd.isna(row['METER NO'])) or (row['DIFF_CLOSE_RECHARGE'] < pd.Timedelta(0)) or (row['hours']>= 2) :\n",
    "        return '>= 2 hr'\n",
    "    elif (pd.notna(row['METER NO']) and (row['DIFF_CLOSE_RECHARGE'] >= pd.Timedelta(0)) and  (row['hours'] < 1))  and ((row['minutes'] <= 10 ) or (row['minutes'] == 0 )) :\n",
    "        return '<= 10 min'\n",
    "    \n",
    "    elif (pd.notna(row['METER NO']) and (row['DIFF_CLOSE_RECHARGE'] >= pd.Timedelta(0)) and  (row['hours'] < 1))  and (row['minutes'] > 10 ) :\n",
    "        return '<= 1 hr'\n",
    "    \n",
    "    elif (pd.notna(row['METER NO']) and (row['DIFF_CLOSE_RECHARGE'] >= pd.Timedelta(0)) and  (row['hours'] == 1))  and (row['minutes'] == 0 ) :\n",
    "        return '<= 1 hr'\n",
    "    \n",
    "    elif (pd.notna(row['METER NO']) and (row['DIFF_CLOSE_RECHARGE'] >= pd.Timedelta(0)) and  (row['hours'] >= 1) and (row['hours'] < 2) )  and (row['minutes'] <= 60 ) :\n",
    "        return '<= 2 hr'\n",
    "    else:\n",
    "        return 'other case'\n",
    "\n",
    "CONCAT_FINAL_DATA['SLA'] = CONCAT_FINAL_DATA.apply(SLA_COLUMN, axis=1)\n",
    "\n"
   ]
  },
  {
   "cell_type": "code",
   "execution_count": 680,
   "metadata": {},
   "outputs": [
    {
     "data": {
      "text/plain": [
       "array([], dtype=float64)"
      ]
     },
     "execution_count": 680,
     "metadata": {},
     "output_type": "execute_result"
    }
   ],
   "source": [
    "#CONCAT_FINAL_DATA[CONCAT_FINAL_DATA['DIFF_CLOSE_RECHARGE'] < pd.Timedelta(0)].head()\n",
    "#CONCAT_FINAL_DATA[CONCAT_FINAL_DATA['hours']>= 2]\n",
    "CONCAT_FINAL_DATA['SLA'].unique()"
   ]
  },
  {
   "cell_type": "code",
   "execution_count": 681,
   "metadata": {},
   "outputs": [
    {
     "data": {
      "text/html": [
       "<div>\n",
       "<style scoped>\n",
       "    .dataframe tbody tr th:only-of-type {\n",
       "        vertical-align: middle;\n",
       "    }\n",
       "\n",
       "    .dataframe tbody tr th {\n",
       "        vertical-align: top;\n",
       "    }\n",
       "\n",
       "    .dataframe thead th {\n",
       "        text-align: right;\n",
       "    }\n",
       "</style>\n",
       "<table border=\"1\" class=\"dataframe\">\n",
       "  <thead>\n",
       "    <tr style=\"text-align: right;\">\n",
       "      <th></th>\n",
       "      <th>UDC_ID</th>\n",
       "      <th>UDC_ID_1</th>\n",
       "      <th>TYPE_CD</th>\n",
       "      <th>SUB_TYPE_CD</th>\n",
       "      <th>STATUS_CD</th>\n",
       "      <th>OUTCOME_CD</th>\n",
       "      <th>ALT_OUTCOME_REASON_CD</th>\n",
       "      <th>ORG_ID</th>\n",
       "      <th>OPEN_TIME</th>\n",
       "      <th>CLOSE_TIME</th>\n",
       "      <th>NAME</th>\n",
       "      <th>BALANCE</th>\n",
       "      <th>LOAD_STATUS</th>\n",
       "      <th>day</th>\n",
       "      <th>previous day</th>\n",
       "      <th>DIVISION</th>\n",
       "      <th>CATEGORY NAME</th>\n",
       "      <th>FULL_METER_NUMBER</th>\n",
       "      <th>DIFF_OPEN_CLOSE</th>\n",
       "      <th>METER NO</th>\n",
       "      <th>RECHARGE DATE</th>\n",
       "      <th>DIFF_CLOSE_RECHARGE</th>\n",
       "      <th>days</th>\n",
       "      <th>hours</th>\n",
       "      <th>minutes</th>\n",
       "      <th>days_new</th>\n",
       "      <th>SLA</th>\n",
       "    </tr>\n",
       "  </thead>\n",
       "  <tbody>\n",
       "  </tbody>\n",
       "</table>\n",
       "</div>"
      ],
      "text/plain": [
       "Empty DataFrame\n",
       "Columns: [UDC_ID, UDC_ID_1, TYPE_CD, SUB_TYPE_CD, STATUS_CD, OUTCOME_CD, ALT_OUTCOME_REASON_CD, ORG_ID, OPEN_TIME, CLOSE_TIME, NAME, BALANCE, LOAD_STATUS, day, previous day, DIVISION, CATEGORY NAME, FULL_METER_NUMBER, DIFF_OPEN_CLOSE, METER NO, RECHARGE DATE, DIFF_CLOSE_RECHARGE, days, hours, minutes, days_new, SLA]\n",
       "Index: []"
      ]
     },
     "execution_count": 681,
     "metadata": {},
     "output_type": "execute_result"
    }
   ],
   "source": [
    "CONCAT_FINAL_DATA[CONCAT_FINAL_DATA['SLA']=='other case'].head()\n",
    "#CONCAT_FINAL_DATA[CONCAT_FINAL_DATA['METER NO'].isnull()].shape"
   ]
  },
  {
   "cell_type": "code",
   "execution_count": 682,
   "metadata": {},
   "outputs": [],
   "source": [
    "RECONNECTION_FINAL_DATA=CONCAT_FINAL_DATA"
   ]
  },
  {
   "cell_type": "code",
   "execution_count": 683,
   "metadata": {},
   "outputs": [],
   "source": [
    "# save output data\n",
    "\n",
    "RECONNECTION_FINAL_DATA.to_csv(r\"C:\\Users\\Ratan Kumar Jha\\Desktop\\Daily progress report\\RC_DC_TRACKER\\OUTPUT FILE\\RECONNECTION_FINAL_DATA.csv\",index=False)"
   ]
  },
  {
   "cell_type": "code",
   "execution_count": 684,
   "metadata": {},
   "outputs": [
    {
     "data": {
      "text/plain": [
       "(0, 27)"
      ]
     },
     "execution_count": 684,
     "metadata": {},
     "output_type": "execute_result"
    }
   ],
   "source": [
    "RECONNECTION_FINAL_DATA.shape"
   ]
  },
  {
   "cell_type": "code",
   "execution_count": 685,
   "metadata": {},
   "outputs": [],
   "source": [
    "RECONNECTION_FINAL_DATA = RECONNECTION_FINAL_DATA.astype(str)\n",
    "RECONNECTION_FINAL_DATA.columns = RECONNECTION_FINAL_DATA.columns.str.upper()\n",
    "RECONNECTION_FINAL_DATA = RECONNECTION_FINAL_DATA.apply(lambda x: x.str.strip() if x.dtype == 'O' else x)\n",
    "RECONNECTION_FINAL_DATA.columns = RECONNECTION_FINAL_DATA.columns.str.strip()\n",
    "\n",
    "\n",
    "DISCONNECTION_FINAL_DATA = DISCONNECTION_FINAL_DATA.astype(str)\n",
    "DISCONNECTION_FINAL_DATA.columns = DISCONNECTION_FINAL_DATA.columns.str.upper()\n",
    "DISCONNECTION_FINAL_DATA = DISCONNECTION_FINAL_DATA.apply(lambda x: x.str.strip() if x.dtype == 'O' else x)\n",
    "DISCONNECTION_FINAL_DATA.columns = DISCONNECTION_FINAL_DATA.columns.str.strip()"
   ]
  },
  {
   "cell_type": "code",
   "execution_count": 686,
   "metadata": {},
   "outputs": [],
   "source": [
    "DISCONNECTION_FINAL_DATA['ALT_OUTCOME_REASON_CD'] = DISCONNECTION_FINAL_DATA['ALT_OUTCOME_REASON_CD'].str.replace(',', ';')\n",
    "RECONNECTION_FINAL_DATA['ALT_OUTCOME_REASON_CD'] = RECONNECTION_FINAL_DATA['ALT_OUTCOME_REASON_CD'].str.replace(',', ';')\n"
   ]
  },
  {
   "cell_type": "code",
   "execution_count": 687,
   "metadata": {},
   "outputs": [],
   "source": [
    "# save output data\n",
    "\n",
    "RECONNECTION_FINAL_DATA.to_csv(r\"C:\\Users\\Ratan Kumar Jha\\Desktop\\Daily progress report\\RC_DC_TRACKER\\OUTPUT FILE\\RECONNECTION_FINAL_DATA.csv\",index=False)\n",
    "\n",
    "# save output data\n",
    "\n",
    "DISCONNECTION_FINAL_DATA.to_csv(r\"C:\\Users\\Ratan Kumar Jha\\Desktop\\Daily progress report\\RC_DC_TRACKER\\OUTPUT FILE\\DISCONNECTION_FINAL_DATA.csv\",index=False)"
   ]
  },
  {
   "cell_type": "code",
   "execution_count": 688,
   "metadata": {},
   "outputs": [
    {
     "data": {
      "text/plain": [
       "(0, 18)"
      ]
     },
     "execution_count": 688,
     "metadata": {},
     "output_type": "execute_result"
    }
   ],
   "source": [
    "DISCONNECTION_FINAL_DATA.shape"
   ]
  },
  {
   "cell_type": "code",
   "execution_count": 689,
   "metadata": {},
   "outputs": [
    {
     "data": {
      "text/plain": [
       "(0, 27)"
      ]
     },
     "execution_count": 689,
     "metadata": {},
     "output_type": "execute_result"
    }
   ],
   "source": [
    "RECONNECTION_FINAL_DATA.shape"
   ]
  },
  {
   "cell_type": "code",
   "execution_count": 690,
   "metadata": {},
   "outputs": [
    {
     "data": {
      "text/html": [
       "<div>\n",
       "<style scoped>\n",
       "    .dataframe tbody tr th:only-of-type {\n",
       "        vertical-align: middle;\n",
       "    }\n",
       "\n",
       "    .dataframe tbody tr th {\n",
       "        vertical-align: top;\n",
       "    }\n",
       "\n",
       "    .dataframe thead th {\n",
       "        text-align: right;\n",
       "    }\n",
       "</style>\n",
       "<table border=\"1\" class=\"dataframe\">\n",
       "  <thead>\n",
       "    <tr style=\"text-align: right;\">\n",
       "      <th></th>\n",
       "      <th>UDC_ID</th>\n",
       "      <th>UDC_ID_1</th>\n",
       "      <th>TYPE_CD</th>\n",
       "      <th>SUB_TYPE_CD</th>\n",
       "      <th>STATUS_CD</th>\n",
       "      <th>OUTCOME_CD</th>\n",
       "      <th>ALT_OUTCOME_REASON_CD</th>\n",
       "      <th>ORG_ID</th>\n",
       "      <th>OPEN_TIME</th>\n",
       "      <th>CLOSE_TIME</th>\n",
       "      <th>NAME</th>\n",
       "      <th>BALANCE</th>\n",
       "      <th>LOAD_STATUS</th>\n",
       "      <th>DAY</th>\n",
       "      <th>PREVIOUS DAY</th>\n",
       "      <th>DIVISION</th>\n",
       "      <th>CATEGORY NAME</th>\n",
       "      <th>FULL_METER_NUMBER</th>\n",
       "      <th>DIFF_OPEN_CLOSE</th>\n",
       "      <th>METER NO</th>\n",
       "      <th>RECHARGE DATE</th>\n",
       "      <th>DIFF_CLOSE_RECHARGE</th>\n",
       "      <th>DAYS</th>\n",
       "      <th>HOURS</th>\n",
       "      <th>MINUTES</th>\n",
       "      <th>DAYS_NEW</th>\n",
       "      <th>SLA</th>\n",
       "    </tr>\n",
       "  </thead>\n",
       "  <tbody>\n",
       "  </tbody>\n",
       "</table>\n",
       "</div>"
      ],
      "text/plain": [
       "Empty DataFrame\n",
       "Columns: [UDC_ID, UDC_ID_1, TYPE_CD, SUB_TYPE_CD, STATUS_CD, OUTCOME_CD, ALT_OUTCOME_REASON_CD, ORG_ID, OPEN_TIME, CLOSE_TIME, NAME, BALANCE, LOAD_STATUS, DAY, PREVIOUS DAY, DIVISION, CATEGORY NAME, FULL_METER_NUMBER, DIFF_OPEN_CLOSE, METER NO, RECHARGE DATE, DIFF_CLOSE_RECHARGE, DAYS, HOURS, MINUTES, DAYS_NEW, SLA]\n",
       "Index: []"
      ]
     },
     "execution_count": 690,
     "metadata": {},
     "output_type": "execute_result"
    }
   ],
   "source": [
    "RECONNECTION_FINAL_DATA.head()\n"
   ]
  },
  {
   "cell_type": "code",
   "execution_count": null,
   "metadata": {},
   "outputs": [],
   "source": []
  },
  {
   "cell_type": "code",
   "execution_count": null,
   "metadata": {},
   "outputs": [],
   "source": []
  }
 ],
 "metadata": {
  "kernelspec": {
   "display_name": "Python 3",
   "language": "python",
   "name": "python3"
  },
  "language_info": {
   "codemirror_mode": {
    "name": "ipython",
    "version": 3
   },
   "file_extension": ".py",
   "mimetype": "text/x-python",
   "name": "python",
   "nbconvert_exporter": "python",
   "pygments_lexer": "ipython3",
   "version": "3.9.18"
  }
 },
 "nbformat": 4,
 "nbformat_minor": 2
}
