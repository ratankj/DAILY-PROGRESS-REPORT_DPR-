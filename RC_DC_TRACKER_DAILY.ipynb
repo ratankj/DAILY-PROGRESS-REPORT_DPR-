{
 "cells": [
  {
   "cell_type": "code",
   "execution_count": 34,
   "metadata": {},
   "outputs": [],
   "source": [
    "import pandas as pd\n",
    "import numpy as np\n",
    "from datetime import datetime, timedelta"
   ]
  },
  {
   "cell_type": "code",
   "execution_count": 35,
   "metadata": {},
   "outputs": [],
   "source": [
    "Modified_DISCONNECTION_RECONNECTION_REPORT_for_all_requests=pd.read_csv(r\"C:\\Users\\Ratan Kumar Jha\\Desktop\\Daily progress report\\RC_DC_TRACKER\\RC_DC_INPUT_FILE\\Modified_DISCONNECTION_RECONNECTION_REPORT_for_all_requests.csv\")"
   ]
  },
  {
   "cell_type": "code",
   "execution_count": 36,
   "metadata": {},
   "outputs": [
    {
     "data": {
      "text/html": [
       "<div>\n",
       "<style scoped>\n",
       "    .dataframe tbody tr th:only-of-type {\n",
       "        vertical-align: middle;\n",
       "    }\n",
       "\n",
       "    .dataframe tbody tr th {\n",
       "        vertical-align: top;\n",
       "    }\n",
       "\n",
       "    .dataframe thead th {\n",
       "        text-align: right;\n",
       "    }\n",
       "</style>\n",
       "<table border=\"1\" class=\"dataframe\">\n",
       "  <thead>\n",
       "    <tr style=\"text-align: right;\">\n",
       "      <th></th>\n",
       "      <th>UDC_ID</th>\n",
       "      <th>UDC_ID_1</th>\n",
       "      <th>TYPE_CD</th>\n",
       "      <th>SUB_TYPE_CD</th>\n",
       "      <th>STATUS_CD</th>\n",
       "      <th>OUTCOME_CD</th>\n",
       "      <th>ALT_OUTCOME_REASON_CD</th>\n",
       "      <th>ORG_ID</th>\n",
       "      <th>OPEN_TIME</th>\n",
       "      <th>CLOSE_TIME</th>\n",
       "      <th>NAME</th>\n",
       "      <th>BALANCE</th>\n",
       "      <th>LOAD_STATUS</th>\n",
       "    </tr>\n",
       "  </thead>\n",
       "  <tbody>\n",
       "    <tr>\n",
       "      <th>0</th>\n",
       "      <td>100686192</td>\n",
       "      <td>GOEGL8548411</td>\n",
       "      <td>Meter Service</td>\n",
       "      <td>Load - Disconnect</td>\n",
       "      <td>Done</td>\n",
       "      <td>Success</td>\n",
       "      <td>0</td>\n",
       "      <td>52</td>\n",
       "      <td>1/18/2024 10:00:11 AM</td>\n",
       "      <td>1/18/2024 10:05:14 AM</td>\n",
       "      <td>SBPDCL</td>\n",
       "      <td>-138555.7</td>\n",
       "      <td>N</td>\n",
       "    </tr>\n",
       "  </tbody>\n",
       "</table>\n",
       "</div>"
      ],
      "text/plain": [
       "      UDC_ID      UDC_ID_1        TYPE_CD        SUB_TYPE_CD STATUS_CD  \\\n",
       "0  100686192  GOEGL8548411  Meter Service  Load - Disconnect      Done   \n",
       "\n",
       "  OUTCOME_CD ALT_OUTCOME_REASON_CD  ORG_ID              OPEN_TIME  \\\n",
       "0    Success                     0      52  1/18/2024 10:00:11 AM   \n",
       "\n",
       "              CLOSE_TIME    NAME   BALANCE LOAD_STATUS  \n",
       "0  1/18/2024 10:05:14 AM  SBPDCL -138555.7           N  "
      ]
     },
     "execution_count": 36,
     "metadata": {},
     "output_type": "execute_result"
    }
   ],
   "source": [
    "Modified_DISCONNECTION_RECONNECTION_REPORT_for_all_requests.head(1)"
   ]
  },
  {
   "cell_type": "code",
   "execution_count": 37,
   "metadata": {},
   "outputs": [
    {
     "name": "stdout",
     "output_type": "stream",
     "text": [
      "<class 'pandas.core.frame.DataFrame'>\n",
      "RangeIndex: 108675 entries, 0 to 108674\n",
      "Data columns (total 13 columns):\n",
      " #   Column                 Non-Null Count   Dtype  \n",
      "---  ------                 --------------   -----  \n",
      " 0   UDC_ID                 108675 non-null  int64  \n",
      " 1   UDC_ID_1               108675 non-null  object \n",
      " 2   TYPE_CD                108675 non-null  object \n",
      " 3   SUB_TYPE_CD            108675 non-null  object \n",
      " 4   STATUS_CD              108675 non-null  object \n",
      " 5   OUTCOME_CD             106079 non-null  object \n",
      " 6   ALT_OUTCOME_REASON_CD  106005 non-null  object \n",
      " 7   ORG_ID                 108675 non-null  int64  \n",
      " 8   OPEN_TIME              108675 non-null  object \n",
      " 9   CLOSE_TIME             106005 non-null  object \n",
      " 10  NAME                   108675 non-null  object \n",
      " 11  BALANCE                108675 non-null  float64\n",
      " 12  LOAD_STATUS            108675 non-null  object \n",
      "dtypes: float64(1), int64(2), object(10)\n",
      "memory usage: 10.8+ MB\n"
     ]
    }
   ],
   "source": [
    "Modified_DISCONNECTION_RECONNECTION_REPORT_for_all_requests.info()"
   ]
  },
  {
   "cell_type": "code",
   "execution_count": 38,
   "metadata": {},
   "outputs": [],
   "source": [
    "Modified_DISCONNECTION_RECONNECTION_REPORT_for_all_requests['OPEN_TIME'] = pd.to_datetime(Modified_DISCONNECTION_RECONNECTION_REPORT_for_all_requests['OPEN_TIME'])\n",
    "Modified_DISCONNECTION_RECONNECTION_REPORT_for_all_requests['CLOSE_TIME'] = pd.to_datetime(Modified_DISCONNECTION_RECONNECTION_REPORT_for_all_requests['CLOSE_TIME'])\n",
    "Modified_DISCONNECTION_RECONNECTION_REPORT_for_all_requests['day']=Modified_DISCONNECTION_RECONNECTION_REPORT_for_all_requests['CLOSE_TIME'].dt.day \n",
    "\n",
    "Modified_DISCONNECTION_RECONNECTION_REPORT_for_all_requests['previous day'] = (Modified_DISCONNECTION_RECONNECTION_REPORT_for_all_requests['CLOSE_TIME'] - pd.to_timedelta(1, unit='d')).dt.day\n",
    "\n"
   ]
  },
  {
   "cell_type": "code",
   "execution_count": 39,
   "metadata": {},
   "outputs": [
    {
     "data": {
      "text/html": [
       "<div>\n",
       "<style scoped>\n",
       "    .dataframe tbody tr th:only-of-type {\n",
       "        vertical-align: middle;\n",
       "    }\n",
       "\n",
       "    .dataframe tbody tr th {\n",
       "        vertical-align: top;\n",
       "    }\n",
       "\n",
       "    .dataframe thead th {\n",
       "        text-align: right;\n",
       "    }\n",
       "</style>\n",
       "<table border=\"1\" class=\"dataframe\">\n",
       "  <thead>\n",
       "    <tr style=\"text-align: right;\">\n",
       "      <th></th>\n",
       "      <th>UDC_ID</th>\n",
       "      <th>UDC_ID_1</th>\n",
       "      <th>TYPE_CD</th>\n",
       "      <th>SUB_TYPE_CD</th>\n",
       "      <th>STATUS_CD</th>\n",
       "      <th>OUTCOME_CD</th>\n",
       "      <th>ALT_OUTCOME_REASON_CD</th>\n",
       "      <th>ORG_ID</th>\n",
       "      <th>OPEN_TIME</th>\n",
       "      <th>CLOSE_TIME</th>\n",
       "      <th>NAME</th>\n",
       "      <th>BALANCE</th>\n",
       "      <th>LOAD_STATUS</th>\n",
       "      <th>day</th>\n",
       "      <th>previous day</th>\n",
       "    </tr>\n",
       "  </thead>\n",
       "  <tbody>\n",
       "    <tr>\n",
       "      <th>0</th>\n",
       "      <td>100686192</td>\n",
       "      <td>GOEGL8548411</td>\n",
       "      <td>Meter Service</td>\n",
       "      <td>Load - Disconnect</td>\n",
       "      <td>Done</td>\n",
       "      <td>Success</td>\n",
       "      <td>0</td>\n",
       "      <td>52</td>\n",
       "      <td>2024-01-18 10:00:11</td>\n",
       "      <td>2024-01-18 10:05:14</td>\n",
       "      <td>SBPDCL</td>\n",
       "      <td>-138555.7</td>\n",
       "      <td>N</td>\n",
       "      <td>18.0</td>\n",
       "      <td>17.0</td>\n",
       "    </tr>\n",
       "    <tr>\n",
       "      <th>1</th>\n",
       "      <td>100686192</td>\n",
       "      <td>GOEGL8548411</td>\n",
       "      <td>Meter Service</td>\n",
       "      <td>Load - Disconnect</td>\n",
       "      <td>Done</td>\n",
       "      <td>Success</td>\n",
       "      <td>0</td>\n",
       "      <td>52</td>\n",
       "      <td>2024-01-18 10:00:11</td>\n",
       "      <td>2024-01-18 10:05:14</td>\n",
       "      <td>SBPDCL</td>\n",
       "      <td>-138555.7</td>\n",
       "      <td>N</td>\n",
       "      <td>18.0</td>\n",
       "      <td>17.0</td>\n",
       "    </tr>\n",
       "  </tbody>\n",
       "</table>\n",
       "</div>"
      ],
      "text/plain": [
       "      UDC_ID      UDC_ID_1        TYPE_CD        SUB_TYPE_CD STATUS_CD  \\\n",
       "0  100686192  GOEGL8548411  Meter Service  Load - Disconnect      Done   \n",
       "1  100686192  GOEGL8548411  Meter Service  Load - Disconnect      Done   \n",
       "\n",
       "  OUTCOME_CD ALT_OUTCOME_REASON_CD  ORG_ID           OPEN_TIME  \\\n",
       "0    Success                     0      52 2024-01-18 10:00:11   \n",
       "1    Success                     0      52 2024-01-18 10:00:11   \n",
       "\n",
       "           CLOSE_TIME    NAME   BALANCE LOAD_STATUS   day  previous day  \n",
       "0 2024-01-18 10:05:14  SBPDCL -138555.7           N  18.0          17.0  \n",
       "1 2024-01-18 10:05:14  SBPDCL -138555.7           N  18.0          17.0  "
      ]
     },
     "execution_count": 39,
     "metadata": {},
     "output_type": "execute_result"
    }
   ],
   "source": [
    "Modified_DISCONNECTION_RECONNECTION_REPORT_for_all_requests.head(2)"
   ]
  },
  {
   "cell_type": "code",
   "execution_count": 40,
   "metadata": {},
   "outputs": [
    {
     "name": "stderr",
     "output_type": "stream",
     "text": [
      "C:\\Users\\Ratan Kumar Jha\\AppData\\Local\\Temp\\ipykernel_9396\\1256154368.py:2: SettingWithCopyWarning: \n",
      "A value is trying to be set on a copy of a slice from a DataFrame.\n",
      "Try using .loc[row_indexer,col_indexer] = value instead\n",
      "\n",
      "See the caveats in the documentation: https://pandas.pydata.org/pandas-docs/stable/user_guide/indexing.html#returning-a-view-versus-a-copy\n",
      "  Modified_DISCONNECTION_RECONNECTION_REPORT_for_all_requests_not_null_close_time['previous day']=Modified_DISCONNECTION_RECONNECTION_REPORT_for_all_requests_not_null_close_time['previous day'].astype('Int32')\n",
      "C:\\Users\\Ratan Kumar Jha\\AppData\\Local\\Temp\\ipykernel_9396\\1256154368.py:3: SettingWithCopyWarning: \n",
      "A value is trying to be set on a copy of a slice from a DataFrame.\n",
      "Try using .loc[row_indexer,col_indexer] = value instead\n",
      "\n",
      "See the caveats in the documentation: https://pandas.pydata.org/pandas-docs/stable/user_guide/indexing.html#returning-a-view-versus-a-copy\n",
      "  Modified_DISCONNECTION_RECONNECTION_REPORT_for_all_requests_not_null_close_time['day']=Modified_DISCONNECTION_RECONNECTION_REPORT_for_all_requests_not_null_close_time['day'].astype('Int32')\n"
     ]
    }
   ],
   "source": [
    "Modified_DISCONNECTION_RECONNECTION_REPORT_for_all_requests_not_null_close_time = Modified_DISCONNECTION_RECONNECTION_REPORT_for_all_requests[~Modified_DISCONNECTION_RECONNECTION_REPORT_for_all_requests['CLOSE_TIME'].isnull()]\n",
    "Modified_DISCONNECTION_RECONNECTION_REPORT_for_all_requests_not_null_close_time['previous day']=Modified_DISCONNECTION_RECONNECTION_REPORT_for_all_requests_not_null_close_time['previous day'].astype('Int32')\n",
    "Modified_DISCONNECTION_RECONNECTION_REPORT_for_all_requests_not_null_close_time['day']=Modified_DISCONNECTION_RECONNECTION_REPORT_for_all_requests_not_null_close_time['day'].astype('Int32')"
   ]
  },
  {
   "cell_type": "code",
   "execution_count": 41,
   "metadata": {},
   "outputs": [
    {
     "name": "stdout",
     "output_type": "stream",
     "text": [
      "<class 'pandas.core.frame.DataFrame'>\n",
      "Index: 106005 entries, 0 to 108674\n",
      "Data columns (total 15 columns):\n",
      " #   Column                 Non-Null Count   Dtype         \n",
      "---  ------                 --------------   -----         \n",
      " 0   UDC_ID                 106005 non-null  int64         \n",
      " 1   UDC_ID_1               106005 non-null  object        \n",
      " 2   TYPE_CD                106005 non-null  object        \n",
      " 3   SUB_TYPE_CD            106005 non-null  object        \n",
      " 4   STATUS_CD              106005 non-null  object        \n",
      " 5   OUTCOME_CD             106005 non-null  object        \n",
      " 6   ALT_OUTCOME_REASON_CD  106005 non-null  object        \n",
      " 7   ORG_ID                 106005 non-null  int64         \n",
      " 8   OPEN_TIME              106005 non-null  datetime64[ns]\n",
      " 9   CLOSE_TIME             106005 non-null  datetime64[ns]\n",
      " 10  NAME                   106005 non-null  object        \n",
      " 11  BALANCE                106005 non-null  float64       \n",
      " 12  LOAD_STATUS            106005 non-null  object        \n",
      " 13  day                    106005 non-null  Int32         \n",
      " 14  previous day           106005 non-null  Int32         \n",
      "dtypes: Int32(2), datetime64[ns](2), float64(1), int64(2), object(8)\n",
      "memory usage: 12.3+ MB\n"
     ]
    }
   ],
   "source": [
    "Modified_DISCONNECTION_RECONNECTION_REPORT_for_all_requests_not_null_close_time.info()"
   ]
  },
  {
   "cell_type": "code",
   "execution_count": null,
   "metadata": {},
   "outputs": [],
   "source": []
  },
  {
   "cell_type": "code",
   "execution_count": null,
   "metadata": {},
   "outputs": [],
   "source": []
  },
  {
   "cell_type": "code",
   "execution_count": null,
   "metadata": {},
   "outputs": [],
   "source": []
  }
 ],
 "metadata": {
  "kernelspec": {
   "display_name": "Python 3",
   "language": "python",
   "name": "python3"
  },
  "language_info": {
   "codemirror_mode": {
    "name": "ipython",
    "version": 3
   },
   "file_extension": ".py",
   "mimetype": "text/x-python",
   "name": "python",
   "nbconvert_exporter": "python",
   "pygments_lexer": "ipython3",
   "version": "3.9.18"
  }
 },
 "nbformat": 4,
 "nbformat_minor": 2
}
