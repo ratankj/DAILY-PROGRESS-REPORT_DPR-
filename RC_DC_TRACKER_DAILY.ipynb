{
 "cells": [
  {
   "cell_type": "code",
   "execution_count": 1,
   "metadata": {},
   "outputs": [],
   "source": [
    "import pandas as pd\n",
    "import numpy as np\n",
    "import os\n",
    "from datetime import datetime, timedelta\n",
    "pd.set_option('display.max_columns', None)"
   ]
  },
  {
   "cell_type": "code",
   "execution_count": null,
   "metadata": {},
   "outputs": [],
   "source": []
  },
  {
   "cell_type": "code",
   "execution_count": 83,
   "metadata": {},
   "outputs": [
    {
     "name": "stdout",
     "output_type": "stream",
     "text": [
      "File renamed to Modified_DISCONNECTION_RECONNECTION_REPORT_for_all_requests\n",
      "File path  C:\\Users\\Ratan Kumar Jha\\Desktop\\Daily progress report\\RC_DC_TRACKER\\RC_DC_INPUT_FILE\\Modified_DISCONNECTION_RECONNECTION_REPORT_for_all_requests.csv\n",
      "File renamed to RECHARGE_DETAILS_FOR_ALL_WITHOUT_HIERARCHY\n",
      "File path  C:\\Users\\Ratan Kumar Jha\\Desktop\\Daily progress report\\RC_DC_TRACKER\\RC_DC_INPUT_FILE\\RECHARGE_DETAILS_FOR_ALL_WITHOUT_HIERARCHY.csv\n"
     ]
    }
   ],
   "source": [
    "import os\n",
    "import glob\n",
    "\n",
    "base_file_path = r'C:\\Users\\Ratan Kumar Jha\\Desktop\\Daily progress report\\RC_DC_TRACKER\\RC_DC_INPUT_FILE'\n",
    "fixed_file_name_rc_dc = 'Modified_DISCONNECTION_RECONNECTION_REPORT_for_all_requests'\n",
    "fixed_file_name_recharge = 'RECHARGE_DETAILS_FOR_ALL_WITHOUT_HIERARCHY'\n",
    "\n",
    "# List all files in the base path\n",
    "files_in_base_path = glob.glob(os.path.join(base_file_path, '*'))\n",
    "\n",
    "# Find and rename files with the changing name for Modified_DISCONNECTION_RECONNECTION_REPORT\n",
    "matching_files_rc_dc = [file for file in files_in_base_path if fixed_file_name_rc_dc.lower() in file.lower()]\n",
    "\n",
    "for changing_name_file in matching_files_rc_dc:\n",
    "    new_file_path = os.path.join(base_file_path, f\"{fixed_file_name_rc_dc}.csv\")\n",
    "    os.rename(changing_name_file, new_file_path)\n",
    "    print(f\"File renamed to {fixed_file_name_rc_dc}\")\n",
    "    print(f\"File path  {new_file_path}\")\n",
    "\n",
    "# Find and rename files with the changing name for RECHARGE_DETAILS_FOR_ALL_WITHOUT_HIERARCHY\n",
    "matching_files_recharge = [file for file in files_in_base_path if fixed_file_name_recharge.lower() in file.lower()]\n",
    "\n",
    "for changing_name_file in matching_files_recharge:\n",
    "    new_file_path = os.path.join(base_file_path, f\"{fixed_file_name_recharge}.csv\")\n",
    "    os.rename(changing_name_file, new_file_path)\n",
    "    print(f\"File renamed to {fixed_file_name_recharge}\")\n",
    "    print(f\"File path  {new_file_path}\")\n",
    "\n",
    "if not matching_files_rc_dc and not matching_files_recharge:\n",
    "    print(\"No files with changing names found in the base path.\")\n"
   ]
  },
  {
   "cell_type": "code",
   "execution_count": null,
   "metadata": {},
   "outputs": [],
   "source": []
  },
  {
   "cell_type": "code",
   "execution_count": null,
   "metadata": {},
   "outputs": [],
   "source": []
  },
  {
   "cell_type": "code",
   "execution_count": 2,
   "metadata": {},
   "outputs": [],
   "source": [
    "# RC_DC_REPORT , PRIVILEGE_GROUP_STATUS ,  RECHARGE DETAILS\n",
    "\n",
    "Modified_DISCONNECTION_RECONNECTION_REPORT_for_all_requests=pd.read_csv(r\"C:\\Users\\Ratan Kumar Jha\\Desktop\\Daily progress report\\RC_DC_TRACKER\\RC_DC_INPUT_FILE\\Modified_DISCONNECTION_RECONNECTION_REPORT_for_all_requests.csv\")\n",
    "Orgwise_Privilege_group_status_SB=pd.read_csv(r\"C:\\Users\\Ratan Kumar Jha\\Desktop\\Daily progress report\\RC_DC_TRACKER\\RC_DC_INPUT_FILE\\Orgwise_Privilege_group_status_SB.csv\")\n",
    "Orgwise_Privilege_group_status_NB=pd.read_csv(r\"C:\\Users\\Ratan Kumar Jha\\Desktop\\Daily progress report\\RC_DC_TRACKER\\RC_DC_INPUT_FILE\\Orgwise_Privilege_group_status_NB.csv\")\n",
    "RECHARGE_DETAILS_FOR_ALL_WITHOUT_HIERARCHY=pd.read_csv(r\"C:\\Users\\Ratan Kumar Jha\\Desktop\\Daily progress report\\RC_DC_TRACKER\\RC_DC_INPUT_FILE\\RECHARGE_DETAILS_FOR_ALL_WITHOUT_HIERARCHY.csv\")"
   ]
  },
  {
   "cell_type": "code",
   "execution_count": 3,
   "metadata": {},
   "outputs": [],
   "source": [
    "# METER COMPILATION DATA\n",
    "\n",
    "\n",
    "COMPILED_METER_2021=pd.read_excel(r\"C:\\Users\\Ratan Kumar Jha\\Desktop\\Daily progress report\\RC_DC_TRACKER\\COMPILED_METER_INSTALLATION_ALL\\compiled_Data_2021.xlsx\")\n",
    "\n",
    "COMPLIED_METER_2022=pd.read_excel(r\"C:\\Users\\Ratan Kumar Jha\\Desktop\\Daily progress report\\RC_DC_TRACKER\\COMPILED_METER_INSTALLATION_ALL\\compiled_Data_2022.xlsx\")\n",
    "COMPLIED_METER_2023=pd.read_excel(r\"C:\\Users\\Ratan Kumar Jha\\Desktop\\Daily progress report\\RC_DC_TRACKER\\COMPILED_METER_INSTALLATION_ALL\\compiled_Data_2023.xlsx\")\n",
    "COMPLIED_METER_2024=pd.read_excel(r\"C:\\Users\\Ratan Kumar Jha\\Desktop\\Daily progress report\\RC_DC_TRACKER\\COMPILED_METER_INSTALLATION_ALL\\complied_Data_2024.xlsx\")"
   ]
  },
  {
   "cell_type": "code",
   "execution_count": null,
   "metadata": {},
   "outputs": [],
   "source": []
  },
  {
   "cell_type": "code",
   "execution_count": 4,
   "metadata": {},
   "outputs": [],
   "source": [
    "#convert to csv\n",
    "\n",
    "COMPILED_METER_2021.to_csv(r\"C:\\PYTHON\\EDF_CODE_AUTOMATION_PYTHON\\DAILY-PROGRESS-REPORT_DPR-\\output_folder_data_compliation\\COMPILED_METER_2021.csv\",index=False)\n",
    "COMPLIED_METER_2022.to_csv(r\"C:\\PYTHON\\EDF_CODE_AUTOMATION_PYTHON\\DAILY-PROGRESS-REPORT_DPR-\\output_folder_data_compliation\\COMPLIED_METER_2022.csv\",index=False)\n",
    "COMPLIED_METER_2023.to_csv(r\"C:\\PYTHON\\EDF_CODE_AUTOMATION_PYTHON\\DAILY-PROGRESS-REPORT_DPR-\\output_folder_data_compliation\\COMPLIED_METER_2023.csv\",index=False)\n",
    "COMPLIED_METER_2024.to_csv(r\"C:\\PYTHON\\EDF_CODE_AUTOMATION_PYTHON\\DAILY-PROGRESS-REPORT_DPR-\\output_folder_data_compliation\\COMPLIED_METER_2024.csv\",index=False)"
   ]
  },
  {
   "cell_type": "code",
   "execution_count": 5,
   "metadata": {},
   "outputs": [
    {
     "name": "stderr",
     "output_type": "stream",
     "text": [
      "C:\\Users\\Ratan Kumar Jha\\AppData\\Local\\Temp\\ipykernel_26800\\567392238.py:1: DtypeWarning: Columns (7,11,15) have mixed types. Specify dtype option on import or set low_memory=False.\n",
      "  COMPILED_METER_2021=pd.read_csv(r\"C:\\PYTHON\\EDF_CODE_AUTOMATION_PYTHON\\DAILY-PROGRESS-REPORT_DPR-\\output_folder_data_compliation\\COMPILED_METER_2021.csv\")\n",
      "C:\\Users\\Ratan Kumar Jha\\AppData\\Local\\Temp\\ipykernel_26800\\567392238.py:2: DtypeWarning: Columns (7,11) have mixed types. Specify dtype option on import or set low_memory=False.\n",
      "  COMPLIED_METER_2022=pd.read_csv(r\"C:\\PYTHON\\EDF_CODE_AUTOMATION_PYTHON\\DAILY-PROGRESS-REPORT_DPR-\\output_folder_data_compliation\\COMPLIED_METER_2022.csv\")\n",
      "C:\\Users\\Ratan Kumar Jha\\AppData\\Local\\Temp\\ipykernel_26800\\567392238.py:3: DtypeWarning: Columns (18) have mixed types. Specify dtype option on import or set low_memory=False.\n",
      "  COMPLIED_METER_2023=pd.read_csv(r\"C:\\PYTHON\\EDF_CODE_AUTOMATION_PYTHON\\DAILY-PROGRESS-REPORT_DPR-\\output_folder_data_compliation\\COMPLIED_METER_2023.csv\")\n"
     ]
    }
   ],
   "source": [
    "COMPILED_METER_2021=pd.read_csv(r\"C:\\PYTHON\\EDF_CODE_AUTOMATION_PYTHON\\DAILY-PROGRESS-REPORT_DPR-\\output_folder_data_compliation\\COMPILED_METER_2021.csv\")\n",
    "COMPLIED_METER_2022=pd.read_csv(r\"C:\\PYTHON\\EDF_CODE_AUTOMATION_PYTHON\\DAILY-PROGRESS-REPORT_DPR-\\output_folder_data_compliation\\COMPLIED_METER_2022.csv\")\n",
    "COMPLIED_METER_2023=pd.read_csv(r\"C:\\PYTHON\\EDF_CODE_AUTOMATION_PYTHON\\DAILY-PROGRESS-REPORT_DPR-\\output_folder_data_compliation\\COMPLIED_METER_2023.csv\")\n",
    "COMPLIED_METER_2024=pd.read_csv(r\"C:\\PYTHON\\EDF_CODE_AUTOMATION_PYTHON\\DAILY-PROGRESS-REPORT_DPR-\\output_folder_data_compliation\\COMPLIED_METER_2024.csv\")"
   ]
  },
  {
   "cell_type": "code",
   "execution_count": 6,
   "metadata": {},
   "outputs": [],
   "source": [
    "# compiled data\n",
    "ALL_DATA_COMPILATION_MERGE_2023 = pd.concat([COMPILED_METER_2021, COMPLIED_METER_2022,COMPLIED_METER_2023], ignore_index=True)\n",
    "\n",
    "# DATA COMPILATION MERGE\n",
    "\n",
    "ALL_DATA_COMPILATION_MERGE = pd.concat([ALL_DATA_COMPILATION_MERGE_2023,COMPLIED_METER_2024], ignore_index=True)\n",
    "\n",
    "\n",
    "# changes in dataset like :- UPPER, SPACE REMOVAL , DATATYPE\n",
    "\n",
    "ALL_DATA_COMPILATION_MERGE = ALL_DATA_COMPILATION_MERGE.astype(str)\n",
    "ALL_DATA_COMPILATION_MERGE.columns = ALL_DATA_COMPILATION_MERGE.columns.str.upper()\n",
    "ALL_DATA_COMPILATION_MERGE = ALL_DATA_COMPILATION_MERGE.apply(lambda x: x.str.strip() if x.dtype == 'O' else x)\n",
    "ALL_DATA_COMPILATION_MERGE.columns = ALL_DATA_COMPILATION_MERGE.columns.str.strip()\n",
    "\n",
    "\n",
    "# CONVERT INTO DATETIME, SORT VALUES AND DROP DUPLICATES\n",
    "ALL_DATA_COMPILATION_MERGE['REPLACEMENT DATE'] = pd.to_datetime(ALL_DATA_COMPILATION_MERGE['REPLACEMENT DATE'])\n",
    "ALL_DATA_COMPILATION_MERGE.sort_values(by=['REPLACEMENT DATE'],ascending=False,inplace= True)\n",
    "\n",
    "# drop duplicate keep first , other drop\n",
    "\n",
    "ALL_DATA_COMPILATION_MERGE.drop_duplicates(subset=['NEW METER NO'], keep='first', inplace=True, ignore_index=True)\n"
   ]
  },
  {
   "cell_type": "code",
   "execution_count": 7,
   "metadata": {},
   "outputs": [
    {
     "data": {
      "text/html": [
       "<div>\n",
       "<style scoped>\n",
       "    .dataframe tbody tr th:only-of-type {\n",
       "        vertical-align: middle;\n",
       "    }\n",
       "\n",
       "    .dataframe tbody tr th {\n",
       "        vertical-align: top;\n",
       "    }\n",
       "\n",
       "    .dataframe thead th {\n",
       "        text-align: right;\n",
       "    }\n",
       "</style>\n",
       "<table border=\"1\" class=\"dataframe\">\n",
       "  <thead>\n",
       "    <tr style=\"text-align: right;\">\n",
       "      <th></th>\n",
       "      <th>SL</th>\n",
       "      <th>SECTION ID</th>\n",
       "      <th>CLUSTER</th>\n",
       "      <th>CATEGORY</th>\n",
       "      <th>WO STATUS</th>\n",
       "      <th>WORK ORDER TYPE</th>\n",
       "      <th>NEW METER NO</th>\n",
       "      <th>CONSUMER ID</th>\n",
       "      <th>INSTALLATION_NUMBER</th>\n",
       "      <th>NAME</th>\n",
       "      <th>ADDRESS</th>\n",
       "      <th>MOBILE NUMBER</th>\n",
       "      <th>UTILITY NAME</th>\n",
       "      <th>REPLACEMENT DATE</th>\n",
       "      <th>MRU</th>\n",
       "      <th>LAT</th>\n",
       "      <th>LONG</th>\n",
       "      <th>CATEGORY NAME</th>\n",
       "      <th>PHASE</th>\n",
       "      <th>TOWN</th>\n",
       "      <th>VENDOR NAME</th>\n",
       "      <th>SECTION</th>\n",
       "      <th>DIVISION</th>\n",
       "      <th>STATUS</th>\n",
       "      <th>VENDOR_MANAGER</th>\n",
       "      <th>VENDOR_PLANNER</th>\n",
       "      <th>DUPLICATE</th>\n",
       "      <th>SECTION_ID</th>\n",
       "    </tr>\n",
       "  </thead>\n",
       "  <tbody>\n",
       "  </tbody>\n",
       "</table>\n",
       "</div>"
      ],
      "text/plain": [
       "Empty DataFrame\n",
       "Columns: [SL, SECTION ID, CLUSTER, CATEGORY, WO STATUS, WORK ORDER TYPE, NEW METER NO, CONSUMER ID, INSTALLATION_NUMBER, NAME, ADDRESS, MOBILE NUMBER, UTILITY NAME, REPLACEMENT DATE, MRU, LAT, LONG, CATEGORY NAME, PHASE, TOWN, VENDOR NAME, SECTION, DIVISION, STATUS, VENDOR_MANAGER, VENDOR_PLANNER, DUPLICATE, SECTION_ID]\n",
       "Index: []"
      ]
     },
     "execution_count": 7,
     "metadata": {},
     "output_type": "execute_result"
    }
   ],
   "source": [
    "ALL_DATA_COMPILATION_MERGE[ALL_DATA_COMPILATION_MERGE.duplicated(subset=['NEW METER NO'],keep=False)].sort_values(by=['NEW METER NO','REPLACEMENT DATE'],ascending=[True,False]).head(10)"
   ]
  },
  {
   "cell_type": "code",
   "execution_count": 8,
   "metadata": {},
   "outputs": [],
   "source": [
    "\n",
    "# Custom function to update meter numbers\n",
    "def update_meter_number(meter_number):\n",
    "    if meter_number.startswith('GP') or meter_number.startswith('GL'):\n",
    "        return 'GOE' + meter_number\n",
    "    elif meter_number.startswith('LT'):\n",
    "        return 'LNT' + meter_number\n",
    "    else:\n",
    "        return meter_number\n",
    "\n",
    "# Apply the custom function to each element in the 'METER NO.' column\n",
    "ALL_DATA_COMPILATION_MERGE['FULL_METER_NUMBER'] = ALL_DATA_COMPILATION_MERGE['NEW METER NO'].apply(update_meter_number)\n"
   ]
  },
  {
   "cell_type": "code",
   "execution_count": 9,
   "metadata": {},
   "outputs": [
    {
     "data": {
      "text/plain": [
       "(1619407, 29)"
      ]
     },
     "execution_count": 9,
     "metadata": {},
     "output_type": "execute_result"
    }
   ],
   "source": [
    "ALL_DATA_COMPILATION_MERGE.shape"
   ]
  },
  {
   "cell_type": "code",
   "execution_count": 10,
   "metadata": {},
   "outputs": [
    {
     "name": "stderr",
     "output_type": "stream",
     "text": [
      "C:\\Users\\Ratan Kumar Jha\\AppData\\Local\\Temp\\ipykernel_26800\\3897579231.py:12: SettingWithCopyWarning: \n",
      "A value is trying to be set on a copy of a slice from a DataFrame.\n",
      "Try using .loc[row_indexer,col_indexer] = value instead\n",
      "\n",
      "See the caveats in the documentation: https://pandas.pydata.org/pandas-docs/stable/user_guide/indexing.html#returning-a-view-versus-a-copy\n",
      "  Modified_DISCONNECTION_RECONNECTION_REPORT_for_all_requests_not_null_close_time['day']=Modified_DISCONNECTION_RECONNECTION_REPORT_for_all_requests_not_null_close_time['CLOSE_TIME'].dt.day\n",
      "C:\\Users\\Ratan Kumar Jha\\AppData\\Local\\Temp\\ipykernel_26800\\3897579231.py:13: SettingWithCopyWarning: \n",
      "A value is trying to be set on a copy of a slice from a DataFrame.\n",
      "Try using .loc[row_indexer,col_indexer] = value instead\n",
      "\n",
      "See the caveats in the documentation: https://pandas.pydata.org/pandas-docs/stable/user_guide/indexing.html#returning-a-view-versus-a-copy\n",
      "  Modified_DISCONNECTION_RECONNECTION_REPORT_for_all_requests_not_null_close_time['previous day'] = (Modified_DISCONNECTION_RECONNECTION_REPORT_for_all_requests_not_null_close_time['CLOSE_TIME'] - pd.to_timedelta(1, unit='d')).dt.day\n",
      "C:\\Users\\Ratan Kumar Jha\\AppData\\Local\\Temp\\ipykernel_26800\\3897579231.py:17: SettingWithCopyWarning: \n",
      "A value is trying to be set on a copy of a slice from a DataFrame.\n",
      "Try using .loc[row_indexer,col_indexer] = value instead\n",
      "\n",
      "See the caveats in the documentation: https://pandas.pydata.org/pandas-docs/stable/user_guide/indexing.html#returning-a-view-versus-a-copy\n",
      "  Modified_DISCONNECTION_RECONNECTION_REPORT_for_all_requests_not_null_close_time['previous day']=Modified_DISCONNECTION_RECONNECTION_REPORT_for_all_requests_not_null_close_time['previous day'].astype('Int32')\n",
      "C:\\Users\\Ratan Kumar Jha\\AppData\\Local\\Temp\\ipykernel_26800\\3897579231.py:18: SettingWithCopyWarning: \n",
      "A value is trying to be set on a copy of a slice from a DataFrame.\n",
      "Try using .loc[row_indexer,col_indexer] = value instead\n",
      "\n",
      "See the caveats in the documentation: https://pandas.pydata.org/pandas-docs/stable/user_guide/indexing.html#returning-a-view-versus-a-copy\n",
      "  Modified_DISCONNECTION_RECONNECTION_REPORT_for_all_requests_not_null_close_time['day']=Modified_DISCONNECTION_RECONNECTION_REPORT_for_all_requests_not_null_close_time['day'].astype('Int32')\n"
     ]
    }
   ],
   "source": [
    "Modified_DISCONNECTION_RECONNECTION_REPORT_for_all_requests['OPEN_TIME'] = pd.to_datetime(Modified_DISCONNECTION_RECONNECTION_REPORT_for_all_requests['OPEN_TIME'])\n",
    "Modified_DISCONNECTION_RECONNECTION_REPORT_for_all_requests['CLOSE_TIME'] = pd.to_datetime(Modified_DISCONNECTION_RECONNECTION_REPORT_for_all_requests['CLOSE_TIME'])\n",
    "\n",
    "\n",
    "\n",
    "\n",
    "# fetch data where close time is not null\n",
    "Modified_DISCONNECTION_RECONNECTION_REPORT_for_all_requests_not_null_close_time_WITH_TODAY_YESTERDAY = Modified_DISCONNECTION_RECONNECTION_REPORT_for_all_requests[~Modified_DISCONNECTION_RECONNECTION_REPORT_for_all_requests['CLOSE_TIME'].isnull()]\n",
    "yesterday = datetime.now() - timedelta(days=1)\n",
    "yesterday_date = yesterday.date()\n",
    "Modified_DISCONNECTION_RECONNECTION_REPORT_for_all_requests_not_null_close_time = Modified_DISCONNECTION_RECONNECTION_REPORT_for_all_requests_not_null_close_time_WITH_TODAY_YESTERDAY[Modified_DISCONNECTION_RECONNECTION_REPORT_for_all_requests_not_null_close_time_WITH_TODAY_YESTERDAY['CLOSE_TIME'].dt.date == yesterday_date]\n",
    "Modified_DISCONNECTION_RECONNECTION_REPORT_for_all_requests_not_null_close_time['day']=Modified_DISCONNECTION_RECONNECTION_REPORT_for_all_requests_not_null_close_time['CLOSE_TIME'].dt.day \n",
    "Modified_DISCONNECTION_RECONNECTION_REPORT_for_all_requests_not_null_close_time['previous day'] = (Modified_DISCONNECTION_RECONNECTION_REPORT_for_all_requests_not_null_close_time['CLOSE_TIME'] - pd.to_timedelta(1, unit='d')).dt.day\n",
    "\n",
    "\n",
    "# convert into int type\n",
    "Modified_DISCONNECTION_RECONNECTION_REPORT_for_all_requests_not_null_close_time['previous day']=Modified_DISCONNECTION_RECONNECTION_REPORT_for_all_requests_not_null_close_time['previous day'].astype('Int32')\n",
    "Modified_DISCONNECTION_RECONNECTION_REPORT_for_all_requests_not_null_close_time['day']=Modified_DISCONNECTION_RECONNECTION_REPORT_for_all_requests_not_null_close_time['day'].astype('Int32')\n"
   ]
  },
  {
   "cell_type": "code",
   "execution_count": 11,
   "metadata": {},
   "outputs": [
    {
     "data": {
      "text/plain": [
       "<IntegerArray>\n",
       "[24]\n",
       "Length: 1, dtype: Int32"
      ]
     },
     "execution_count": 11,
     "metadata": {},
     "output_type": "execute_result"
    }
   ],
   "source": [
    "Modified_DISCONNECTION_RECONNECTION_REPORT_for_all_requests_not_null_close_time['day'].unique()"
   ]
  },
  {
   "cell_type": "markdown",
   "metadata": {},
   "source": [
    "# merge"
   ]
  },
  {
   "cell_type": "code",
   "execution_count": 12,
   "metadata": {},
   "outputs": [],
   "source": [
    "# merge data  : RC_DC  AND ALL DATA COMPILATION\n",
    "\n",
    "LEFT_JOIN_WITH_RC_DC_MODIFIED_ALL_DATA_COMPILATION = pd.merge(Modified_DISCONNECTION_RECONNECTION_REPORT_for_all_requests_not_null_close_time, ALL_DATA_COMPILATION_MERGE[['DIVISION','CATEGORY NAME','FULL_METER_NUMBER']], left_on=['UDC_ID_1'], right_on=['FULL_METER_NUMBER'], how='left')"
   ]
  },
  {
   "cell_type": "code",
   "execution_count": 13,
   "metadata": {},
   "outputs": [],
   "source": [
    "# NULL & NOT NULL ROWS\n",
    "\n",
    "LEFT_JOIN_WITH_RC_DC_MODIFIED_ALL_DATA_COMPILATION_NULL_ROWS=LEFT_JOIN_WITH_RC_DC_MODIFIED_ALL_DATA_COMPILATION[LEFT_JOIN_WITH_RC_DC_MODIFIED_ALL_DATA_COMPILATION['DIVISION'].isnull()]\n",
    "LEFT_JOIN_WITH_RC_DC_MODIFIED_ALL_DATA_COMPILATION_NOT_NULL= LEFT_JOIN_WITH_RC_DC_MODIFIED_ALL_DATA_COMPILATION[~LEFT_JOIN_WITH_RC_DC_MODIFIED_ALL_DATA_COMPILATION['DIVISION'].isnull()]"
   ]
  },
  {
   "cell_type": "markdown",
   "metadata": {},
   "source": [
    "# PRIVILAGE DATA"
   ]
  },
  {
   "cell_type": "code",
   "execution_count": 14,
   "metadata": {},
   "outputs": [
    {
     "data": {
      "text/plain": [
       "(1524771, 14)"
      ]
     },
     "execution_count": 14,
     "metadata": {},
     "output_type": "execute_result"
    }
   ],
   "source": [
    "\n",
    "# concat data  concat_Orgwise_Privilege_group_status_NB_SB\n",
    "concat_Orgwise_Privilege_group_status_NB_SB = pd.concat([Orgwise_Privilege_group_status_SB,Orgwise_Privilege_group_status_NB],ignore_index=True)\n",
    "\n",
    "# dop duplicate in  concat_Orgwise_Privilege_group_status_NB_SB\n",
    "concat_Orgwise_Privilege_group_status_NB_SB.drop_duplicates(subset=['METERNO'], keep='first', inplace=True, ignore_index=True)\n",
    "\n",
    "concat_Orgwise_Privilege_group_status_NB_SB.shape"
   ]
  },
  {
   "cell_type": "code",
   "execution_count": 15,
   "metadata": {},
   "outputs": [],
   "source": [
    "# upper letter\n",
    "concat_Orgwise_Privilege_group_status_NB_SB.columns = concat_Orgwise_Privilege_group_status_NB_SB.columns.str.upper()\n",
    "\n",
    "\n",
    "# Remove leading and trailing whitespaces from all columns where dtype is 'O'\n",
    "concat_Orgwise_Privilege_group_status_NB_SB = concat_Orgwise_Privilege_group_status_NB_SB.apply(lambda x: x.str.strip() if x.dtype == 'O' else x)\n",
    "\n",
    "\n"
   ]
  },
  {
   "cell_type": "markdown",
   "metadata": {},
   "source": [
    "# MERGE"
   ]
  },
  {
   "cell_type": "code",
   "execution_count": 16,
   "metadata": {},
   "outputs": [
    {
     "name": "stderr",
     "output_type": "stream",
     "text": [
      "C:\\Users\\Ratan Kumar Jha\\AppData\\Local\\Temp\\ipykernel_26800\\1625814828.py:3: SettingWithCopyWarning: \n",
      "A value is trying to be set on a copy of a slice from a DataFrame\n",
      "\n",
      "See the caveats in the documentation: https://pandas.pydata.org/pandas-docs/stable/user_guide/indexing.html#returning-a-view-versus-a-copy\n",
      "  LEFT_JOIN_WITH_RC_DC_MODIFIED_ALL_DATA_COMPILATION_NULL_ROWS.drop(['DIVISION', 'CATEGORY NAME','FULL_METER_NUMBER'], axis=1, inplace=True)\n"
     ]
    }
   ],
   "source": [
    "# DROP EXTRA COLUMN OF  LEFT_JOIN_WITH_RC_DC_MODIFIED_ALL_DATA_COMPILATION_NULL_ROWS\n",
    "\n",
    "LEFT_JOIN_WITH_RC_DC_MODIFIED_ALL_DATA_COMPILATION_NULL_ROWS.drop(['DIVISION', 'CATEGORY NAME','FULL_METER_NUMBER'], axis=1, inplace=True)\n",
    "\n",
    "# merge rc_Dc and privilege for division and category\n",
    "LEFT_JOIN_WITH_RC_DC_MODIFIED_ALL_DATA_COMPILATION_NULL_ROWS_PRIVILEGED=pd.merge(LEFT_JOIN_WITH_RC_DC_MODIFIED_ALL_DATA_COMPILATION_NULL_ROWS, concat_Orgwise_Privilege_group_status_NB_SB[['DIVISION','CATEGORY','METERNO']], left_on=['UDC_ID_1'], right_on=['METERNO'], how='left')\n",
    "\n"
   ]
  },
  {
   "cell_type": "code",
   "execution_count": 17,
   "metadata": {},
   "outputs": [
    {
     "data": {
      "text/plain": [
       "(0, 18)"
      ]
     },
     "execution_count": 17,
     "metadata": {},
     "output_type": "execute_result"
    }
   ],
   "source": [
    "LEFT_JOIN_WITH_RC_DC_MODIFIED_ALL_DATA_COMPILATION_NULL_ROWS_PRIVILEGED[LEFT_JOIN_WITH_RC_DC_MODIFIED_ALL_DATA_COMPILATION_NULL_ROWS_PRIVILEGED['DIVISION'].isnull()].shape"
   ]
  },
  {
   "cell_type": "code",
   "execution_count": 18,
   "metadata": {},
   "outputs": [],
   "source": [
    "LEFT_JOIN_WITH_RC_DC_MODIFIED_ALL_DATA_COMPILATION_NULL_ROWS_PRIVILEGED.rename(\n",
    "    columns={\"DIVISION\": \"DIVISION\", \"CATEGORY\": \"CATEGORY NAME\", \"METERNO\": \"FULL_METER_NUMBER\"},\n",
    "    inplace=True\n",
    ")\n"
   ]
  },
  {
   "cell_type": "code",
   "execution_count": 19,
   "metadata": {},
   "outputs": [
    {
     "data": {
      "text/plain": [
       "Index(['UDC_ID', 'UDC_ID_1', 'TYPE_CD', 'SUB_TYPE_CD', 'STATUS_CD',\n",
       "       'OUTCOME_CD', 'ALT_OUTCOME_REASON_CD', 'ORG_ID', 'OPEN_TIME',\n",
       "       'CLOSE_TIME', 'NAME', 'BALANCE', 'LOAD_STATUS', 'day', 'previous day',\n",
       "       'DIVISION', 'CATEGORY NAME', 'FULL_METER_NUMBER'],\n",
       "      dtype='object')"
      ]
     },
     "execution_count": 19,
     "metadata": {},
     "output_type": "execute_result"
    }
   ],
   "source": [
    "LEFT_JOIN_WITH_RC_DC_MODIFIED_ALL_DATA_COMPILATION_NULL_ROWS_PRIVILEGED.columns"
   ]
  },
  {
   "cell_type": "code",
   "execution_count": 20,
   "metadata": {},
   "outputs": [
    {
     "data": {
      "text/plain": [
       "Index(['UDC_ID', 'UDC_ID_1', 'TYPE_CD', 'SUB_TYPE_CD', 'STATUS_CD',\n",
       "       'OUTCOME_CD', 'ALT_OUTCOME_REASON_CD', 'ORG_ID', 'OPEN_TIME',\n",
       "       'CLOSE_TIME', 'NAME', 'BALANCE', 'LOAD_STATUS', 'day', 'previous day',\n",
       "       'DIVISION', 'CATEGORY NAME', 'FULL_METER_NUMBER'],\n",
       "      dtype='object')"
      ]
     },
     "execution_count": 20,
     "metadata": {},
     "output_type": "execute_result"
    }
   ],
   "source": [
    "LEFT_JOIN_WITH_RC_DC_MODIFIED_ALL_DATA_COMPILATION_NOT_NULL.columns"
   ]
  },
  {
   "cell_type": "code",
   "execution_count": 21,
   "metadata": {},
   "outputs": [],
   "source": [
    "CONCAT_NOT_NULL_AND_PRIVILAGE_MERGE_DATA = pd.concat([LEFT_JOIN_WITH_RC_DC_MODIFIED_ALL_DATA_COMPILATION_NOT_NULL, LEFT_JOIN_WITH_RC_DC_MODIFIED_ALL_DATA_COMPILATION_NULL_ROWS_PRIVILEGED], ignore_index=True)"
   ]
  },
  {
   "cell_type": "code",
   "execution_count": 22,
   "metadata": {},
   "outputs": [
    {
     "data": {
      "text/plain": [
       "(171752, 18)"
      ]
     },
     "execution_count": 22,
     "metadata": {},
     "output_type": "execute_result"
    }
   ],
   "source": [
    "CONCAT_NOT_NULL_AND_PRIVILAGE_MERGE_DATA.shape"
   ]
  },
  {
   "cell_type": "code",
   "execution_count": 23,
   "metadata": {},
   "outputs": [
    {
     "data": {
      "text/plain": [
       "array(['Load - Disconnect', 'Load - Hard Reconnect'], dtype=object)"
      ]
     },
     "execution_count": 23,
     "metadata": {},
     "output_type": "execute_result"
    }
   ],
   "source": [
    "CONCAT_NOT_NULL_AND_PRIVILAGE_MERGE_DATA['SUB_TYPE_CD'].unique()"
   ]
  },
  {
   "cell_type": "code",
   "execution_count": null,
   "metadata": {},
   "outputs": [],
   "source": []
  },
  {
   "cell_type": "markdown",
   "metadata": {},
   "source": [
    "#  disconnected part"
   ]
  },
  {
   "cell_type": "code",
   "execution_count": 24,
   "metadata": {},
   "outputs": [
    {
     "data": {
      "text/plain": [
       "array(['Load - Disconnect'], dtype=object)"
      ]
     },
     "execution_count": 24,
     "metadata": {},
     "output_type": "execute_result"
    }
   ],
   "source": [
    "# for disconnected part\n",
    "\n",
    "CONCAT_NOT_NULL_AND_PRIVILAGE_MERGE_DATA_DIS = CONCAT_NOT_NULL_AND_PRIVILAGE_MERGE_DATA[CONCAT_NOT_NULL_AND_PRIVILAGE_MERGE_DATA['SUB_TYPE_CD']=='Load - Disconnect']\n",
    "CONCAT_NOT_NULL_AND_PRIVILAGE_MERGE_DATA_DIS['SUB_TYPE_CD'].unique()"
   ]
  },
  {
   "cell_type": "code",
   "execution_count": 25,
   "metadata": {},
   "outputs": [
    {
     "name": "stderr",
     "output_type": "stream",
     "text": [
      "C:\\Users\\Ratan Kumar Jha\\AppData\\Local\\Temp\\ipykernel_26800\\325845283.py:1: SettingWithCopyWarning: \n",
      "A value is trying to be set on a copy of a slice from a DataFrame\n",
      "\n",
      "See the caveats in the documentation: https://pandas.pydata.org/pandas-docs/stable/user_guide/indexing.html#returning-a-view-versus-a-copy\n",
      "  CONCAT_NOT_NULL_AND_PRIVILAGE_MERGE_DATA_DIS.sort_values(by=['OUTCOME_CD'], ascending=False,inplace = True)\n"
     ]
    }
   ],
   "source": [
    "\n",
    "CONCAT_NOT_NULL_AND_PRIVILAGE_MERGE_DATA_DIS.sort_values(by=['OUTCOME_CD'], ascending=False,inplace = True)"
   ]
  },
  {
   "cell_type": "code",
   "execution_count": 26,
   "metadata": {},
   "outputs": [
    {
     "data": {
      "text/html": [
       "<div>\n",
       "<style scoped>\n",
       "    .dataframe tbody tr th:only-of-type {\n",
       "        vertical-align: middle;\n",
       "    }\n",
       "\n",
       "    .dataframe tbody tr th {\n",
       "        vertical-align: top;\n",
       "    }\n",
       "\n",
       "    .dataframe thead th {\n",
       "        text-align: right;\n",
       "    }\n",
       "</style>\n",
       "<table border=\"1\" class=\"dataframe\">\n",
       "  <thead>\n",
       "    <tr style=\"text-align: right;\">\n",
       "      <th></th>\n",
       "      <th>UDC_ID</th>\n",
       "      <th>UDC_ID_1</th>\n",
       "      <th>TYPE_CD</th>\n",
       "      <th>SUB_TYPE_CD</th>\n",
       "      <th>STATUS_CD</th>\n",
       "      <th>OUTCOME_CD</th>\n",
       "      <th>ALT_OUTCOME_REASON_CD</th>\n",
       "      <th>ORG_ID</th>\n",
       "      <th>OPEN_TIME</th>\n",
       "      <th>CLOSE_TIME</th>\n",
       "      <th>NAME</th>\n",
       "      <th>BALANCE</th>\n",
       "      <th>LOAD_STATUS</th>\n",
       "      <th>day</th>\n",
       "      <th>previous day</th>\n",
       "      <th>DIVISION</th>\n",
       "      <th>CATEGORY NAME</th>\n",
       "      <th>FULL_METER_NUMBER</th>\n",
       "    </tr>\n",
       "  </thead>\n",
       "  <tbody>\n",
       "    <tr>\n",
       "      <th>0</th>\n",
       "      <td>101615324</td>\n",
       "      <td>GOEGL8548500</td>\n",
       "      <td>Meter Service</td>\n",
       "      <td>Load - Disconnect</td>\n",
       "      <td>Done</td>\n",
       "      <td>Success</td>\n",
       "      <td>0</td>\n",
       "      <td>52</td>\n",
       "      <td>2024-01-24 13:04:40</td>\n",
       "      <td>2024-01-24 13:05:53</td>\n",
       "      <td>SBPDCL</td>\n",
       "      <td>-30.29</td>\n",
       "      <td>Y</td>\n",
       "      <td>24</td>\n",
       "      <td>23</td>\n",
       "      <td>BANKIPUR</td>\n",
       "      <td>NDS-IID(B)</td>\n",
       "      <td>GOEGL8548500</td>\n",
       "    </tr>\n",
       "  </tbody>\n",
       "</table>\n",
       "</div>"
      ],
      "text/plain": [
       "      UDC_ID      UDC_ID_1        TYPE_CD        SUB_TYPE_CD STATUS_CD  \\\n",
       "0  101615324  GOEGL8548500  Meter Service  Load - Disconnect      Done   \n",
       "\n",
       "  OUTCOME_CD ALT_OUTCOME_REASON_CD  ORG_ID           OPEN_TIME  \\\n",
       "0    Success                     0      52 2024-01-24 13:04:40   \n",
       "\n",
       "           CLOSE_TIME    NAME  BALANCE LOAD_STATUS  day  previous day  \\\n",
       "0 2024-01-24 13:05:53  SBPDCL   -30.29           Y   24            23   \n",
       "\n",
       "   DIVISION CATEGORY NAME FULL_METER_NUMBER  \n",
       "0  BANKIPUR    NDS-IID(B)      GOEGL8548500  "
      ]
     },
     "execution_count": 26,
     "metadata": {},
     "output_type": "execute_result"
    }
   ],
   "source": [
    "CONCAT_NOT_NULL_AND_PRIVILAGE_MERGE_DATA_DIS.head(1)"
   ]
  },
  {
   "cell_type": "code",
   "execution_count": 27,
   "metadata": {},
   "outputs": [
    {
     "name": "stderr",
     "output_type": "stream",
     "text": [
      "C:\\Users\\Ratan Kumar Jha\\AppData\\Local\\Temp\\ipykernel_26800\\4215491597.py:1: SettingWithCopyWarning: \n",
      "A value is trying to be set on a copy of a slice from a DataFrame\n",
      "\n",
      "See the caveats in the documentation: https://pandas.pydata.org/pandas-docs/stable/user_guide/indexing.html#returning-a-view-versus-a-copy\n",
      "  CONCAT_NOT_NULL_AND_PRIVILAGE_MERGE_DATA_DIS.drop_duplicates(keep='first', inplace=True)\n"
     ]
    }
   ],
   "source": [
    "CONCAT_NOT_NULL_AND_PRIVILAGE_MERGE_DATA_DIS.drop_duplicates(keep='first', inplace=True)"
   ]
  },
  {
   "cell_type": "code",
   "execution_count": 64,
   "metadata": {},
   "outputs": [
    {
     "data": {
      "text/html": [
       "<div>\n",
       "<style scoped>\n",
       "    .dataframe tbody tr th:only-of-type {\n",
       "        vertical-align: middle;\n",
       "    }\n",
       "\n",
       "    .dataframe tbody tr th {\n",
       "        vertical-align: top;\n",
       "    }\n",
       "\n",
       "    .dataframe thead th {\n",
       "        text-align: right;\n",
       "    }\n",
       "</style>\n",
       "<table border=\"1\" class=\"dataframe\">\n",
       "  <thead>\n",
       "    <tr style=\"text-align: right;\">\n",
       "      <th></th>\n",
       "      <th>UDC_ID</th>\n",
       "      <th>UDC_ID_1</th>\n",
       "      <th>TYPE_CD</th>\n",
       "      <th>SUB_TYPE_CD</th>\n",
       "      <th>STATUS_CD</th>\n",
       "      <th>OUTCOME_CD</th>\n",
       "      <th>ALT_OUTCOME_REASON_CD</th>\n",
       "      <th>ORG_ID</th>\n",
       "      <th>OPEN_TIME</th>\n",
       "      <th>CLOSE_TIME</th>\n",
       "      <th>NAME</th>\n",
       "      <th>BALANCE</th>\n",
       "      <th>LOAD_STATUS</th>\n",
       "      <th>day</th>\n",
       "      <th>previous day</th>\n",
       "      <th>DIVISION</th>\n",
       "      <th>CATEGORY NAME</th>\n",
       "      <th>FULL_METER_NUMBER</th>\n",
       "    </tr>\n",
       "  </thead>\n",
       "  <tbody>\n",
       "    <tr>\n",
       "      <th>0</th>\n",
       "      <td>101615324</td>\n",
       "      <td>GOEGL8548500</td>\n",
       "      <td>Meter Service</td>\n",
       "      <td>Load - Disconnect</td>\n",
       "      <td>Done</td>\n",
       "      <td>Success</td>\n",
       "      <td>0</td>\n",
       "      <td>52</td>\n",
       "      <td>2024-01-24 13:04:40</td>\n",
       "      <td>2024-01-24 13:05:53</td>\n",
       "      <td>SBPDCL</td>\n",
       "      <td>-30.29</td>\n",
       "      <td>Y</td>\n",
       "      <td>24</td>\n",
       "      <td>23</td>\n",
       "      <td>BANKIPUR</td>\n",
       "      <td>NDS-IID(B)</td>\n",
       "      <td>GOEGL8548500</td>\n",
       "    </tr>\n",
       "    <tr>\n",
       "      <th>122092</th>\n",
       "      <td>400703855</td>\n",
       "      <td>LNTLT0522865</td>\n",
       "      <td>Meter Service</td>\n",
       "      <td>Load - Disconnect</td>\n",
       "      <td>Done</td>\n",
       "      <td>Success</td>\n",
       "      <td>0</td>\n",
       "      <td>102</td>\n",
       "      <td>2024-01-24 11:57:41</td>\n",
       "      <td>2024-01-24 11:57:54</td>\n",
       "      <td>NBPDCL</td>\n",
       "      <td>28.19</td>\n",
       "      <td>Y</td>\n",
       "      <td>24</td>\n",
       "      <td>23</td>\n",
       "      <td>MADHUBANI</td>\n",
       "      <td>DS-IID</td>\n",
       "      <td>LNTLT0522865</td>\n",
       "    </tr>\n",
       "    <tr>\n",
       "      <th>122034</th>\n",
       "      <td>401990266</td>\n",
       "      <td>LNTLT0522197</td>\n",
       "      <td>Meter Service</td>\n",
       "      <td>Load - Disconnect</td>\n",
       "      <td>Done</td>\n",
       "      <td>Success</td>\n",
       "      <td>0</td>\n",
       "      <td>102</td>\n",
       "      <td>2024-01-24 10:38:42</td>\n",
       "      <td>2024-01-24 10:38:54</td>\n",
       "      <td>NBPDCL</td>\n",
       "      <td>221.54</td>\n",
       "      <td>Y</td>\n",
       "      <td>24</td>\n",
       "      <td>23</td>\n",
       "      <td>CHAPRA(WEST)</td>\n",
       "      <td>DS-IID</td>\n",
       "      <td>LNTLT0522197</td>\n",
       "    </tr>\n",
       "    <tr>\n",
       "      <th>122036</th>\n",
       "      <td>400181803</td>\n",
       "      <td>LNTLT0522225</td>\n",
       "      <td>Meter Service</td>\n",
       "      <td>Load - Disconnect</td>\n",
       "      <td>Done</td>\n",
       "      <td>Success</td>\n",
       "      <td>0</td>\n",
       "      <td>102</td>\n",
       "      <td>2024-01-24 11:39:38</td>\n",
       "      <td>2024-01-24 11:40:01</td>\n",
       "      <td>NBPDCL</td>\n",
       "      <td>-75.98</td>\n",
       "      <td>N</td>\n",
       "      <td>24</td>\n",
       "      <td>23</td>\n",
       "      <td>CHAPRA(WEST)</td>\n",
       "      <td>DS-IID</td>\n",
       "      <td>LNTLT0522225</td>\n",
       "    </tr>\n",
       "    <tr>\n",
       "      <th>122039</th>\n",
       "      <td>400442974</td>\n",
       "      <td>LNTLT0522354</td>\n",
       "      <td>Meter Service</td>\n",
       "      <td>Load - Disconnect</td>\n",
       "      <td>Done</td>\n",
       "      <td>Success</td>\n",
       "      <td>0</td>\n",
       "      <td>102</td>\n",
       "      <td>2024-01-24 10:38:02</td>\n",
       "      <td>2024-01-24 10:38:17</td>\n",
       "      <td>NBPDCL</td>\n",
       "      <td>46.26</td>\n",
       "      <td>Y</td>\n",
       "      <td>24</td>\n",
       "      <td>23</td>\n",
       "      <td>SITAMARHI</td>\n",
       "      <td>DS-IID</td>\n",
       "      <td>LNTLT0522354</td>\n",
       "    </tr>\n",
       "  </tbody>\n",
       "</table>\n",
       "</div>"
      ],
      "text/plain": [
       "           UDC_ID      UDC_ID_1        TYPE_CD        SUB_TYPE_CD STATUS_CD  \\\n",
       "0       101615324  GOEGL8548500  Meter Service  Load - Disconnect      Done   \n",
       "122092  400703855  LNTLT0522865  Meter Service  Load - Disconnect      Done   \n",
       "122034  401990266  LNTLT0522197  Meter Service  Load - Disconnect      Done   \n",
       "122036  400181803  LNTLT0522225  Meter Service  Load - Disconnect      Done   \n",
       "122039  400442974  LNTLT0522354  Meter Service  Load - Disconnect      Done   \n",
       "\n",
       "       OUTCOME_CD ALT_OUTCOME_REASON_CD  ORG_ID           OPEN_TIME  \\\n",
       "0         Success                     0      52 2024-01-24 13:04:40   \n",
       "122092    Success                     0     102 2024-01-24 11:57:41   \n",
       "122034    Success                     0     102 2024-01-24 10:38:42   \n",
       "122036    Success                     0     102 2024-01-24 11:39:38   \n",
       "122039    Success                     0     102 2024-01-24 10:38:02   \n",
       "\n",
       "                CLOSE_TIME    NAME  BALANCE LOAD_STATUS  day  previous day  \\\n",
       "0      2024-01-24 13:05:53  SBPDCL   -30.29           Y   24            23   \n",
       "122092 2024-01-24 11:57:54  NBPDCL    28.19           Y   24            23   \n",
       "122034 2024-01-24 10:38:54  NBPDCL   221.54           Y   24            23   \n",
       "122036 2024-01-24 11:40:01  NBPDCL   -75.98           N   24            23   \n",
       "122039 2024-01-24 10:38:17  NBPDCL    46.26           Y   24            23   \n",
       "\n",
       "            DIVISION CATEGORY NAME FULL_METER_NUMBER  \n",
       "0           BANKIPUR    NDS-IID(B)      GOEGL8548500  \n",
       "122092     MADHUBANI        DS-IID      LNTLT0522865  \n",
       "122034  CHAPRA(WEST)        DS-IID      LNTLT0522197  \n",
       "122036  CHAPRA(WEST)        DS-IID      LNTLT0522225  \n",
       "122039     SITAMARHI        DS-IID      LNTLT0522354  "
      ]
     },
     "execution_count": 64,
     "metadata": {},
     "output_type": "execute_result"
    }
   ],
   "source": [
    "CONCAT_NOT_NULL_AND_PRIVILAGE_MERGE_DATA_DIS.head()"
   ]
  },
  {
   "cell_type": "code",
   "execution_count": null,
   "metadata": {},
   "outputs": [],
   "source": [
    "# group by\n",
    "\n",
    "CONCAT_NOT_NULL_AND_PRIVILAGE_MERGE_DATA_DIS.groupby()\n",
    "#qtr_wise_status_bar_chart=ticket_df[ticket_df['year'].isin(option_year)].groupby(['year','yr_qtr','Status'])['Ticket No'].count()"
   ]
  },
  {
   "cell_type": "code",
   "execution_count": null,
   "metadata": {},
   "outputs": [],
   "source": []
  },
  {
   "cell_type": "markdown",
   "metadata": {},
   "source": [
    "# reconnection data"
   ]
  },
  {
   "cell_type": "code",
   "execution_count": 28,
   "metadata": {},
   "outputs": [
    {
     "data": {
      "text/plain": [
       "array(['Load - Hard Reconnect'], dtype=object)"
      ]
     },
     "execution_count": 28,
     "metadata": {},
     "output_type": "execute_result"
    }
   ],
   "source": [
    "# for disconnected part\n",
    "\n",
    "CONCAT_NOT_NULL_AND_PRIVILAGE_MERGE_DATA_RECONNECTION = CONCAT_NOT_NULL_AND_PRIVILAGE_MERGE_DATA[CONCAT_NOT_NULL_AND_PRIVILAGE_MERGE_DATA['SUB_TYPE_CD']=='Load - Hard Reconnect']\n",
    "CONCAT_NOT_NULL_AND_PRIVILAGE_MERGE_DATA_RECONNECTION['SUB_TYPE_CD'].unique()"
   ]
  },
  {
   "cell_type": "code",
   "execution_count": 29,
   "metadata": {},
   "outputs": [
    {
     "name": "stderr",
     "output_type": "stream",
     "text": [
      "C:\\Users\\Ratan Kumar Jha\\AppData\\Local\\Temp\\ipykernel_26800\\1006032248.py:1: SettingWithCopyWarning: \n",
      "A value is trying to be set on a copy of a slice from a DataFrame\n",
      "\n",
      "See the caveats in the documentation: https://pandas.pydata.org/pandas-docs/stable/user_guide/indexing.html#returning-a-view-versus-a-copy\n",
      "  CONCAT_NOT_NULL_AND_PRIVILAGE_MERGE_DATA_RECONNECTION.sort_values(by=['OUTCOME_CD'], ascending=False,inplace = True)\n",
      "C:\\Users\\Ratan Kumar Jha\\AppData\\Local\\Temp\\ipykernel_26800\\1006032248.py:2: SettingWithCopyWarning: \n",
      "A value is trying to be set on a copy of a slice from a DataFrame\n",
      "\n",
      "See the caveats in the documentation: https://pandas.pydata.org/pandas-docs/stable/user_guide/indexing.html#returning-a-view-versus-a-copy\n",
      "  CONCAT_NOT_NULL_AND_PRIVILAGE_MERGE_DATA_RECONNECTION.drop_duplicates(keep='first', inplace=True)\n"
     ]
    }
   ],
   "source": [
    "\n",
    "CONCAT_NOT_NULL_AND_PRIVILAGE_MERGE_DATA_RECONNECTION.sort_values(by=['OUTCOME_CD'], ascending=False,inplace = True)\n",
    "CONCAT_NOT_NULL_AND_PRIVILAGE_MERGE_DATA_RECONNECTION.drop_duplicates(keep='first', inplace=True)"
   ]
  },
  {
   "cell_type": "code",
   "execution_count": 30,
   "metadata": {},
   "outputs": [
    {
     "data": {
      "text/html": [
       "<div>\n",
       "<style scoped>\n",
       "    .dataframe tbody tr th:only-of-type {\n",
       "        vertical-align: middle;\n",
       "    }\n",
       "\n",
       "    .dataframe tbody tr th {\n",
       "        vertical-align: top;\n",
       "    }\n",
       "\n",
       "    .dataframe thead th {\n",
       "        text-align: right;\n",
       "    }\n",
       "</style>\n",
       "<table border=\"1\" class=\"dataframe\">\n",
       "  <thead>\n",
       "    <tr style=\"text-align: right;\">\n",
       "      <th></th>\n",
       "      <th>UDC_ID</th>\n",
       "      <th>UDC_ID_1</th>\n",
       "      <th>TYPE_CD</th>\n",
       "      <th>SUB_TYPE_CD</th>\n",
       "      <th>STATUS_CD</th>\n",
       "      <th>OUTCOME_CD</th>\n",
       "      <th>ALT_OUTCOME_REASON_CD</th>\n",
       "      <th>ORG_ID</th>\n",
       "      <th>OPEN_TIME</th>\n",
       "      <th>CLOSE_TIME</th>\n",
       "      <th>NAME</th>\n",
       "      <th>BALANCE</th>\n",
       "      <th>LOAD_STATUS</th>\n",
       "      <th>day</th>\n",
       "      <th>previous day</th>\n",
       "      <th>DIVISION</th>\n",
       "      <th>CATEGORY NAME</th>\n",
       "      <th>FULL_METER_NUMBER</th>\n",
       "    </tr>\n",
       "  </thead>\n",
       "  <tbody>\n",
       "    <tr>\n",
       "      <th>1</th>\n",
       "      <td>101615324</td>\n",
       "      <td>GOEGL8548500</td>\n",
       "      <td>Meter Service</td>\n",
       "      <td>Load - Hard Reconnect</td>\n",
       "      <td>Done</td>\n",
       "      <td>Success</td>\n",
       "      <td>0</td>\n",
       "      <td>52</td>\n",
       "      <td>2024-01-24 13:30:12</td>\n",
       "      <td>2024-01-24 13:31:07</td>\n",
       "      <td>SBPDCL</td>\n",
       "      <td>-30.29</td>\n",
       "      <td>Y</td>\n",
       "      <td>24</td>\n",
       "      <td>23</td>\n",
       "      <td>BANKIPUR</td>\n",
       "      <td>NDS-IID(B)</td>\n",
       "      <td>GOEGL8548500</td>\n",
       "    </tr>\n",
       "    <tr>\n",
       "      <th>97723</th>\n",
       "      <td>100709427</td>\n",
       "      <td>LNTLT0280240</td>\n",
       "      <td>Meter Service</td>\n",
       "      <td>Load - Hard Reconnect</td>\n",
       "      <td>Done</td>\n",
       "      <td>Success</td>\n",
       "      <td>0</td>\n",
       "      <td>52</td>\n",
       "      <td>2024-01-24 15:15:25</td>\n",
       "      <td>2024-01-24 15:18:16</td>\n",
       "      <td>SBPDCL</td>\n",
       "      <td>14.43</td>\n",
       "      <td>Y</td>\n",
       "      <td>24</td>\n",
       "      <td>23</td>\n",
       "      <td>GARDANIBAGH</td>\n",
       "      <td>NDS-IID(B)</td>\n",
       "      <td>LNTLT0280240</td>\n",
       "    </tr>\n",
       "  </tbody>\n",
       "</table>\n",
       "</div>"
      ],
      "text/plain": [
       "          UDC_ID      UDC_ID_1        TYPE_CD            SUB_TYPE_CD  \\\n",
       "1      101615324  GOEGL8548500  Meter Service  Load - Hard Reconnect   \n",
       "97723  100709427  LNTLT0280240  Meter Service  Load - Hard Reconnect   \n",
       "\n",
       "      STATUS_CD OUTCOME_CD ALT_OUTCOME_REASON_CD  ORG_ID           OPEN_TIME  \\\n",
       "1          Done    Success                     0      52 2024-01-24 13:30:12   \n",
       "97723      Done    Success                     0      52 2024-01-24 15:15:25   \n",
       "\n",
       "               CLOSE_TIME    NAME  BALANCE LOAD_STATUS  day  previous day  \\\n",
       "1     2024-01-24 13:31:07  SBPDCL   -30.29           Y   24            23   \n",
       "97723 2024-01-24 15:18:16  SBPDCL    14.43           Y   24            23   \n",
       "\n",
       "          DIVISION CATEGORY NAME FULL_METER_NUMBER  \n",
       "1         BANKIPUR    NDS-IID(B)      GOEGL8548500  \n",
       "97723  GARDANIBAGH    NDS-IID(B)      LNTLT0280240  "
      ]
     },
     "execution_count": 30,
     "metadata": {},
     "output_type": "execute_result"
    }
   ],
   "source": [
    "CONCAT_NOT_NULL_AND_PRIVILAGE_MERGE_DATA_RECONNECTION.head(2)"
   ]
  },
  {
   "cell_type": "code",
   "execution_count": 31,
   "metadata": {},
   "outputs": [
    {
     "name": "stderr",
     "output_type": "stream",
     "text": [
      "C:\\Users\\Ratan Kumar Jha\\AppData\\Local\\Temp\\ipykernel_26800\\3399034980.py:1: SettingWithCopyWarning: \n",
      "A value is trying to be set on a copy of a slice from a DataFrame.\n",
      "Try using .loc[row_indexer,col_indexer] = value instead\n",
      "\n",
      "See the caveats in the documentation: https://pandas.pydata.org/pandas-docs/stable/user_guide/indexing.html#returning-a-view-versus-a-copy\n",
      "  CONCAT_NOT_NULL_AND_PRIVILAGE_MERGE_DATA_RECONNECTION['DIFF_OPEN_CLOSE'] = CONCAT_NOT_NULL_AND_PRIVILAGE_MERGE_DATA_RECONNECTION['CLOSE_TIME'] - CONCAT_NOT_NULL_AND_PRIVILAGE_MERGE_DATA_RECONNECTION['OPEN_TIME']\n"
     ]
    }
   ],
   "source": [
    "CONCAT_NOT_NULL_AND_PRIVILAGE_MERGE_DATA_RECONNECTION['DIFF_OPEN_CLOSE'] = CONCAT_NOT_NULL_AND_PRIVILAGE_MERGE_DATA_RECONNECTION['CLOSE_TIME'] - CONCAT_NOT_NULL_AND_PRIVILAGE_MERGE_DATA_RECONNECTION['OPEN_TIME']"
   ]
  },
  {
   "cell_type": "code",
   "execution_count": 32,
   "metadata": {},
   "outputs": [
    {
     "data": {
      "text/html": [
       "<div>\n",
       "<style scoped>\n",
       "    .dataframe tbody tr th:only-of-type {\n",
       "        vertical-align: middle;\n",
       "    }\n",
       "\n",
       "    .dataframe tbody tr th {\n",
       "        vertical-align: top;\n",
       "    }\n",
       "\n",
       "    .dataframe thead th {\n",
       "        text-align: right;\n",
       "    }\n",
       "</style>\n",
       "<table border=\"1\" class=\"dataframe\">\n",
       "  <thead>\n",
       "    <tr style=\"text-align: right;\">\n",
       "      <th></th>\n",
       "      <th>UDC_ID</th>\n",
       "      <th>UDC_ID_1</th>\n",
       "      <th>TYPE_CD</th>\n",
       "      <th>SUB_TYPE_CD</th>\n",
       "      <th>STATUS_CD</th>\n",
       "      <th>OUTCOME_CD</th>\n",
       "      <th>ALT_OUTCOME_REASON_CD</th>\n",
       "      <th>ORG_ID</th>\n",
       "      <th>OPEN_TIME</th>\n",
       "      <th>CLOSE_TIME</th>\n",
       "      <th>NAME</th>\n",
       "      <th>BALANCE</th>\n",
       "      <th>LOAD_STATUS</th>\n",
       "      <th>day</th>\n",
       "      <th>previous day</th>\n",
       "      <th>DIVISION</th>\n",
       "      <th>CATEGORY NAME</th>\n",
       "      <th>FULL_METER_NUMBER</th>\n",
       "      <th>DIFF_OPEN_CLOSE</th>\n",
       "    </tr>\n",
       "  </thead>\n",
       "  <tbody>\n",
       "    <tr>\n",
       "      <th>1</th>\n",
       "      <td>101615324</td>\n",
       "      <td>GOEGL8548500</td>\n",
       "      <td>Meter Service</td>\n",
       "      <td>Load - Hard Reconnect</td>\n",
       "      <td>Done</td>\n",
       "      <td>Success</td>\n",
       "      <td>0</td>\n",
       "      <td>52</td>\n",
       "      <td>2024-01-24 13:30:12</td>\n",
       "      <td>2024-01-24 13:31:07</td>\n",
       "      <td>SBPDCL</td>\n",
       "      <td>-30.29</td>\n",
       "      <td>Y</td>\n",
       "      <td>24</td>\n",
       "      <td>23</td>\n",
       "      <td>BANKIPUR</td>\n",
       "      <td>NDS-IID(B)</td>\n",
       "      <td>GOEGL8548500</td>\n",
       "      <td>0 days 00:00:55</td>\n",
       "    </tr>\n",
       "    <tr>\n",
       "      <th>97723</th>\n",
       "      <td>100709427</td>\n",
       "      <td>LNTLT0280240</td>\n",
       "      <td>Meter Service</td>\n",
       "      <td>Load - Hard Reconnect</td>\n",
       "      <td>Done</td>\n",
       "      <td>Success</td>\n",
       "      <td>0</td>\n",
       "      <td>52</td>\n",
       "      <td>2024-01-24 15:15:25</td>\n",
       "      <td>2024-01-24 15:18:16</td>\n",
       "      <td>SBPDCL</td>\n",
       "      <td>14.43</td>\n",
       "      <td>Y</td>\n",
       "      <td>24</td>\n",
       "      <td>23</td>\n",
       "      <td>GARDANIBAGH</td>\n",
       "      <td>NDS-IID(B)</td>\n",
       "      <td>LNTLT0280240</td>\n",
       "      <td>0 days 00:02:51</td>\n",
       "    </tr>\n",
       "  </tbody>\n",
       "</table>\n",
       "</div>"
      ],
      "text/plain": [
       "          UDC_ID      UDC_ID_1        TYPE_CD            SUB_TYPE_CD  \\\n",
       "1      101615324  GOEGL8548500  Meter Service  Load - Hard Reconnect   \n",
       "97723  100709427  LNTLT0280240  Meter Service  Load - Hard Reconnect   \n",
       "\n",
       "      STATUS_CD OUTCOME_CD ALT_OUTCOME_REASON_CD  ORG_ID           OPEN_TIME  \\\n",
       "1          Done    Success                     0      52 2024-01-24 13:30:12   \n",
       "97723      Done    Success                     0      52 2024-01-24 15:15:25   \n",
       "\n",
       "               CLOSE_TIME    NAME  BALANCE LOAD_STATUS  day  previous day  \\\n",
       "1     2024-01-24 13:31:07  SBPDCL   -30.29           Y   24            23   \n",
       "97723 2024-01-24 15:18:16  SBPDCL    14.43           Y   24            23   \n",
       "\n",
       "          DIVISION CATEGORY NAME FULL_METER_NUMBER DIFF_OPEN_CLOSE  \n",
       "1         BANKIPUR    NDS-IID(B)      GOEGL8548500 0 days 00:00:55  \n",
       "97723  GARDANIBAGH    NDS-IID(B)      LNTLT0280240 0 days 00:02:51  "
      ]
     },
     "execution_count": 32,
     "metadata": {},
     "output_type": "execute_result"
    }
   ],
   "source": [
    "CONCAT_NOT_NULL_AND_PRIVILAGE_MERGE_DATA_RECONNECTION.head(2)"
   ]
  },
  {
   "cell_type": "code",
   "execution_count": null,
   "metadata": {},
   "outputs": [],
   "source": []
  },
  {
   "cell_type": "markdown",
   "metadata": {},
   "source": []
  },
  {
   "cell_type": "markdown",
   "metadata": {},
   "source": [
    "# Recharge data"
   ]
  },
  {
   "cell_type": "code",
   "execution_count": 33,
   "metadata": {},
   "outputs": [
    {
     "data": {
      "text/html": [
       "<div>\n",
       "<style scoped>\n",
       "    .dataframe tbody tr th:only-of-type {\n",
       "        vertical-align: middle;\n",
       "    }\n",
       "\n",
       "    .dataframe tbody tr th {\n",
       "        vertical-align: top;\n",
       "    }\n",
       "\n",
       "    .dataframe thead th {\n",
       "        text-align: right;\n",
       "    }\n",
       "</style>\n",
       "<table border=\"1\" class=\"dataframe\">\n",
       "  <thead>\n",
       "    <tr style=\"text-align: right;\">\n",
       "      <th></th>\n",
       "      <th>Org Name</th>\n",
       "      <th>Mobile</th>\n",
       "      <th>Meter No</th>\n",
       "      <th>TRANSACTION_ID</th>\n",
       "      <th>Amount</th>\n",
       "      <th>ACCOUNT_UDC_ID</th>\n",
       "      <th>Recharge Date</th>\n",
       "      <th>SECTION_NAME</th>\n",
       "      <th>DIVISION_NAME</th>\n",
       "      <th>SUBDIVISION_NAME</th>\n",
       "    </tr>\n",
       "  </thead>\n",
       "  <tbody>\n",
       "    <tr>\n",
       "      <th>0</th>\n",
       "      <td>SBPDCL</td>\n",
       "      <td>7050354904</td>\n",
       "      <td>GOEGP4460267</td>\n",
       "      <td>113152704621</td>\n",
       "      <td>500.0</td>\n",
       "      <td>101127160</td>\n",
       "      <td>1/23/2024 1:00:58 AM</td>\n",
       "      <td>Sec-Ashok Nagar</td>\n",
       "      <td>Kankarbagh</td>\n",
       "      <td>Karbigahiya</td>\n",
       "    </tr>\n",
       "    <tr>\n",
       "      <th>1</th>\n",
       "      <td>SBPDCL</td>\n",
       "      <td>8789368270</td>\n",
       "      <td>GOEGP5027287</td>\n",
       "      <td>113152703999</td>\n",
       "      <td>51.0</td>\n",
       "      <td>101158570</td>\n",
       "      <td>1/23/2024 1:00:58 AM</td>\n",
       "      <td>SEC - KUMHRAR</td>\n",
       "      <td>RAMKRISHNA NAGAR</td>\n",
       "      <td>GOPALPUR</td>\n",
       "    </tr>\n",
       "    <tr>\n",
       "      <th>2</th>\n",
       "      <td>SBPDCL</td>\n",
       "      <td>9430522222</td>\n",
       "      <td>GOEGP7614535</td>\n",
       "      <td>113152706055</td>\n",
       "      <td>1000.0</td>\n",
       "      <td>102500273</td>\n",
       "      <td>1/23/2024 1:00:58 AM</td>\n",
       "      <td>SEC-BAILEY ROAD</td>\n",
       "      <td>KHAGAUL</td>\n",
       "      <td>KHAGAUL</td>\n",
       "    </tr>\n",
       "    <tr>\n",
       "      <th>3</th>\n",
       "      <td>NBPDCL</td>\n",
       "      <td>9955832740</td>\n",
       "      <td>GOEGP7510218</td>\n",
       "      <td>113152706585</td>\n",
       "      <td>500.0</td>\n",
       "      <td>400898008</td>\n",
       "      <td>1/23/2024 1:00:58 AM</td>\n",
       "      <td>Sec-Begusarai(U)- I</td>\n",
       "      <td>Begusarai</td>\n",
       "      <td>Begusarai(U)</td>\n",
       "    </tr>\n",
       "    <tr>\n",
       "      <th>4</th>\n",
       "      <td>SBPDCL</td>\n",
       "      <td>7991165991</td>\n",
       "      <td>GOEGP5014038</td>\n",
       "      <td>113152705194</td>\n",
       "      <td>4000.0</td>\n",
       "      <td>101231151</td>\n",
       "      <td>1/23/2024 1:00:58 AM</td>\n",
       "      <td>Sec-P.S.S</td>\n",
       "      <td>Danapur</td>\n",
       "      <td>Danapur</td>\n",
       "    </tr>\n",
       "  </tbody>\n",
       "</table>\n",
       "</div>"
      ],
      "text/plain": [
       "  Org Name      Mobile      Meter No TRANSACTION_ID  Amount  ACCOUNT_UDC_ID  \\\n",
       "0   SBPDCL  7050354904  GOEGP4460267   113152704621   500.0       101127160   \n",
       "1   SBPDCL  8789368270  GOEGP5027287   113152703999    51.0       101158570   \n",
       "2   SBPDCL  9430522222  GOEGP7614535   113152706055  1000.0       102500273   \n",
       "3   NBPDCL  9955832740  GOEGP7510218   113152706585   500.0       400898008   \n",
       "4   SBPDCL  7991165991  GOEGP5014038   113152705194  4000.0       101231151   \n",
       "\n",
       "          Recharge Date         SECTION_NAME     DIVISION_NAME  \\\n",
       "0  1/23/2024 1:00:58 AM      Sec-Ashok Nagar        Kankarbagh   \n",
       "1  1/23/2024 1:00:58 AM        SEC - KUMHRAR  RAMKRISHNA NAGAR   \n",
       "2  1/23/2024 1:00:58 AM      SEC-BAILEY ROAD           KHAGAUL   \n",
       "3  1/23/2024 1:00:58 AM  Sec-Begusarai(U)- I         Begusarai   \n",
       "4  1/23/2024 1:00:58 AM            Sec-P.S.S           Danapur   \n",
       "\n",
       "  SUBDIVISION_NAME  \n",
       "0      Karbigahiya  \n",
       "1         GOPALPUR  \n",
       "2          KHAGAUL  \n",
       "3     Begusarai(U)  \n",
       "4          Danapur  "
      ]
     },
     "execution_count": 33,
     "metadata": {},
     "output_type": "execute_result"
    }
   ],
   "source": [
    "RECHARGE_DETAILS_FOR_ALL_WITHOUT_HIERARCHY.head()"
   ]
  },
  {
   "cell_type": "code",
   "execution_count": 34,
   "metadata": {},
   "outputs": [],
   "source": [
    "\n",
    "\n",
    "# changes in dataset like :- UPPER, SPACE REMOVAL , DATATYPE\n",
    "\n",
    "RECHARGE_DETAILS_FOR_ALL_WITHOUT_HIERARCHY = RECHARGE_DETAILS_FOR_ALL_WITHOUT_HIERARCHY.astype(str)\n",
    "RECHARGE_DETAILS_FOR_ALL_WITHOUT_HIERARCHY.columns = RECHARGE_DETAILS_FOR_ALL_WITHOUT_HIERARCHY.columns.str.upper()\n",
    "RECHARGE_DETAILS_FOR_ALL_WITHOUT_HIERARCHY = RECHARGE_DETAILS_FOR_ALL_WITHOUT_HIERARCHY.apply(lambda x: x.str.strip() if x.dtype == 'O' else x)\n",
    "RECHARGE_DETAILS_FOR_ALL_WITHOUT_HIERARCHY.columns = RECHARGE_DETAILS_FOR_ALL_WITHOUT_HIERARCHY.columns.str.strip()"
   ]
  },
  {
   "cell_type": "code",
   "execution_count": 35,
   "metadata": {},
   "outputs": [],
   "source": [
    "# change data type for recharge date\n",
    "\n",
    "RECHARGE_DETAILS_FOR_ALL_WITHOUT_HIERARCHY['RECHARGE DATE'] = pd.to_datetime(RECHARGE_DETAILS_FOR_ALL_WITHOUT_HIERARCHY['RECHARGE DATE'])"
   ]
  },
  {
   "cell_type": "code",
   "execution_count": 36,
   "metadata": {},
   "outputs": [],
   "source": [
    "yesterday = datetime.now() - timedelta(days=1)\n",
    "yesterday_date = yesterday.date()\n",
    "RECHARGE_DETAILS_FOR_ALL_WITHOUT_HIERARCHY_YESTERDAY = RECHARGE_DETAILS_FOR_ALL_WITHOUT_HIERARCHY[RECHARGE_DETAILS_FOR_ALL_WITHOUT_HIERARCHY['RECHARGE DATE'].dt.date == yesterday_date]"
   ]
  },
  {
   "cell_type": "code",
   "execution_count": 37,
   "metadata": {},
   "outputs": [
    {
     "data": {
      "text/html": [
       "<div>\n",
       "<style scoped>\n",
       "    .dataframe tbody tr th:only-of-type {\n",
       "        vertical-align: middle;\n",
       "    }\n",
       "\n",
       "    .dataframe tbody tr th {\n",
       "        vertical-align: top;\n",
       "    }\n",
       "\n",
       "    .dataframe thead th {\n",
       "        text-align: right;\n",
       "    }\n",
       "</style>\n",
       "<table border=\"1\" class=\"dataframe\">\n",
       "  <thead>\n",
       "    <tr style=\"text-align: right;\">\n",
       "      <th></th>\n",
       "      <th>ORG NAME</th>\n",
       "      <th>MOBILE</th>\n",
       "      <th>METER NO</th>\n",
       "      <th>TRANSACTION_ID</th>\n",
       "      <th>AMOUNT</th>\n",
       "      <th>ACCOUNT_UDC_ID</th>\n",
       "      <th>RECHARGE DATE</th>\n",
       "      <th>SECTION_NAME</th>\n",
       "      <th>DIVISION_NAME</th>\n",
       "      <th>SUBDIVISION_NAME</th>\n",
       "    </tr>\n",
       "  </thead>\n",
       "  <tbody>\n",
       "    <tr>\n",
       "      <th>91312</th>\n",
       "      <td>SBPDCL</td>\n",
       "      <td>7992219610</td>\n",
       "      <td>GOEGP7540354</td>\n",
       "      <td>113153768006</td>\n",
       "      <td>100.0</td>\n",
       "      <td>100781854</td>\n",
       "      <td>2024-01-24 01:00:59</td>\n",
       "      <td>Sec-Saidpur</td>\n",
       "      <td>Rajendra Nagar</td>\n",
       "      <td>Rajendra Nagar</td>\n",
       "    </tr>\n",
       "    <tr>\n",
       "      <th>91313</th>\n",
       "      <td>NBPDCL</td>\n",
       "      <td>6206702739</td>\n",
       "      <td>LNTLT0706880</td>\n",
       "      <td>113153769605</td>\n",
       "      <td>300.0</td>\n",
       "      <td>401641599</td>\n",
       "      <td>2024-01-24 01:00:59</td>\n",
       "      <td>Sec-Katihar (S)</td>\n",
       "      <td>Katihar</td>\n",
       "      <td>Katihar (U)</td>\n",
       "    </tr>\n",
       "    <tr>\n",
       "      <th>91314</th>\n",
       "      <td>SBPDCL</td>\n",
       "      <td>9234788496</td>\n",
       "      <td>GOEGP7632199</td>\n",
       "      <td>113153771743</td>\n",
       "      <td>1500.0</td>\n",
       "      <td>100776105</td>\n",
       "      <td>2024-01-24 01:00:59</td>\n",
       "      <td>Sec-Rajendra Nagar</td>\n",
       "      <td>Rajendra Nagar</td>\n",
       "      <td>Rajendra Nagar</td>\n",
       "    </tr>\n",
       "    <tr>\n",
       "      <th>91315</th>\n",
       "      <td>SBPDCL</td>\n",
       "      <td>9470985118</td>\n",
       "      <td>LNTLT0014532</td>\n",
       "      <td>113153769346</td>\n",
       "      <td>2000.0</td>\n",
       "      <td>240206374514</td>\n",
       "      <td>2024-01-24 01:00:59</td>\n",
       "      <td>WALMI</td>\n",
       "      <td>KHAGAUL</td>\n",
       "      <td>PHULWARISHARIF</td>\n",
       "    </tr>\n",
       "    <tr>\n",
       "      <th>91316</th>\n",
       "      <td>SBPDCL</td>\n",
       "      <td>9852266111</td>\n",
       "      <td>LNTLT0096031</td>\n",
       "      <td>113153769404</td>\n",
       "      <td>500.0</td>\n",
       "      <td>100249577</td>\n",
       "      <td>2024-01-24 01:00:59</td>\n",
       "      <td>Sec-Powerganj</td>\n",
       "      <td>Arrah</td>\n",
       "      <td>Arrah(urban)-I</td>\n",
       "    </tr>\n",
       "  </tbody>\n",
       "</table>\n",
       "</div>"
      ],
      "text/plain": [
       "      ORG NAME      MOBILE      METER NO TRANSACTION_ID  AMOUNT  \\\n",
       "91312   SBPDCL  7992219610  GOEGP7540354   113153768006   100.0   \n",
       "91313   NBPDCL  6206702739  LNTLT0706880   113153769605   300.0   \n",
       "91314   SBPDCL  9234788496  GOEGP7632199   113153771743  1500.0   \n",
       "91315   SBPDCL  9470985118  LNTLT0014532   113153769346  2000.0   \n",
       "91316   SBPDCL  9852266111  LNTLT0096031   113153769404   500.0   \n",
       "\n",
       "      ACCOUNT_UDC_ID       RECHARGE DATE        SECTION_NAME   DIVISION_NAME  \\\n",
       "91312      100781854 2024-01-24 01:00:59         Sec-Saidpur  Rajendra Nagar   \n",
       "91313      401641599 2024-01-24 01:00:59     Sec-Katihar (S)         Katihar   \n",
       "91314      100776105 2024-01-24 01:00:59  Sec-Rajendra Nagar  Rajendra Nagar   \n",
       "91315   240206374514 2024-01-24 01:00:59               WALMI         KHAGAUL   \n",
       "91316      100249577 2024-01-24 01:00:59       Sec-Powerganj           Arrah   \n",
       "\n",
       "      SUBDIVISION_NAME  \n",
       "91312   Rajendra Nagar  \n",
       "91313      Katihar (U)  \n",
       "91314   Rajendra Nagar  \n",
       "91315   PHULWARISHARIF  \n",
       "91316   Arrah(urban)-I  "
      ]
     },
     "execution_count": 37,
     "metadata": {},
     "output_type": "execute_result"
    }
   ],
   "source": [
    "RECHARGE_DETAILS_FOR_ALL_WITHOUT_HIERARCHY_YESTERDAY.head()"
   ]
  },
  {
   "cell_type": "code",
   "execution_count": 38,
   "metadata": {},
   "outputs": [
    {
     "name": "stderr",
     "output_type": "stream",
     "text": [
      "C:\\Users\\Ratan Kumar Jha\\AppData\\Local\\Temp\\ipykernel_26800\\4179711044.py:1: SettingWithCopyWarning: \n",
      "A value is trying to be set on a copy of a slice from a DataFrame.\n",
      "Try using .loc[row_indexer,col_indexer] = value instead\n",
      "\n",
      "See the caveats in the documentation: https://pandas.pydata.org/pandas-docs/stable/user_guide/indexing.html#returning-a-view-versus-a-copy\n",
      "  RECHARGE_DETAILS_FOR_ALL_WITHOUT_HIERARCHY_YESTERDAY['day_new']=RECHARGE_DETAILS_FOR_ALL_WITHOUT_HIERARCHY_YESTERDAY['RECHARGE DATE'].dt.day\n"
     ]
    },
    {
     "data": {
      "text/plain": [
       "array([24])"
      ]
     },
     "execution_count": 38,
     "metadata": {},
     "output_type": "execute_result"
    }
   ],
   "source": [
    "RECHARGE_DETAILS_FOR_ALL_WITHOUT_HIERARCHY_YESTERDAY['day_new']=RECHARGE_DETAILS_FOR_ALL_WITHOUT_HIERARCHY_YESTERDAY['RECHARGE DATE'].dt.day \n",
    "RECHARGE_DETAILS_FOR_ALL_WITHOUT_HIERARCHY_YESTERDAY['day_new'].unique()"
   ]
  },
  {
   "cell_type": "code",
   "execution_count": 39,
   "metadata": {},
   "outputs": [
    {
     "name": "stderr",
     "output_type": "stream",
     "text": [
      "C:\\Users\\Ratan Kumar Jha\\AppData\\Local\\Temp\\ipykernel_26800\\1893061207.py:3: SettingWithCopyWarning: \n",
      "A value is trying to be set on a copy of a slice from a DataFrame\n",
      "\n",
      "See the caveats in the documentation: https://pandas.pydata.org/pandas-docs/stable/user_guide/indexing.html#returning-a-view-versus-a-copy\n",
      "  RECHARGE_DETAILS_FOR_ALL_WITHOUT_HIERARCHY_YESTERDAY.sort_values(by=['RECHARGE DATE'], ascending=False,inplace=True)\n"
     ]
    }
   ],
   "source": [
    "# sort data based on recahrge date ,  latest to oldest\n",
    "\n",
    "RECHARGE_DETAILS_FOR_ALL_WITHOUT_HIERARCHY_YESTERDAY.sort_values(by=['RECHARGE DATE'], ascending=False,inplace=True)"
   ]
  },
  {
   "cell_type": "code",
   "execution_count": 40,
   "metadata": {},
   "outputs": [
    {
     "data": {
      "text/html": [
       "<div>\n",
       "<style scoped>\n",
       "    .dataframe tbody tr th:only-of-type {\n",
       "        vertical-align: middle;\n",
       "    }\n",
       "\n",
       "    .dataframe tbody tr th {\n",
       "        vertical-align: top;\n",
       "    }\n",
       "\n",
       "    .dataframe thead th {\n",
       "        text-align: right;\n",
       "    }\n",
       "</style>\n",
       "<table border=\"1\" class=\"dataframe\">\n",
       "  <thead>\n",
       "    <tr style=\"text-align: right;\">\n",
       "      <th></th>\n",
       "      <th>ORG NAME</th>\n",
       "      <th>MOBILE</th>\n",
       "      <th>METER NO</th>\n",
       "      <th>TRANSACTION_ID</th>\n",
       "      <th>AMOUNT</th>\n",
       "      <th>ACCOUNT_UDC_ID</th>\n",
       "      <th>RECHARGE DATE</th>\n",
       "      <th>SECTION_NAME</th>\n",
       "      <th>DIVISION_NAME</th>\n",
       "      <th>SUBDIVISION_NAME</th>\n",
       "      <th>day_new</th>\n",
       "    </tr>\n",
       "  </thead>\n",
       "  <tbody>\n",
       "    <tr>\n",
       "      <th>194761</th>\n",
       "      <td>SBPDCL</td>\n",
       "      <td>9771641004</td>\n",
       "      <td>GOEGP5862067</td>\n",
       "      <td>SBPS1000134601542</td>\n",
       "      <td>800.0</td>\n",
       "      <td>100780247</td>\n",
       "      <td>2024-01-24 22:59:56</td>\n",
       "      <td>Sec-Machuatoli</td>\n",
       "      <td>Rajendra Nagar</td>\n",
       "      <td>Machuatoli</td>\n",
       "      <td>24</td>\n",
       "    </tr>\n",
       "  </tbody>\n",
       "</table>\n",
       "</div>"
      ],
      "text/plain": [
       "       ORG NAME      MOBILE      METER NO     TRANSACTION_ID AMOUNT  \\\n",
       "194761   SBPDCL  9771641004  GOEGP5862067  SBPS1000134601542  800.0   \n",
       "\n",
       "       ACCOUNT_UDC_ID       RECHARGE DATE    SECTION_NAME   DIVISION_NAME  \\\n",
       "194761      100780247 2024-01-24 22:59:56  Sec-Machuatoli  Rajendra Nagar   \n",
       "\n",
       "       SUBDIVISION_NAME  day_new  \n",
       "194761       Machuatoli       24  "
      ]
     },
     "execution_count": 40,
     "metadata": {},
     "output_type": "execute_result"
    }
   ],
   "source": [
    "RECHARGE_DETAILS_FOR_ALL_WITHOUT_HIERARCHY_YESTERDAY.head(1)"
   ]
  },
  {
   "cell_type": "code",
   "execution_count": 41,
   "metadata": {},
   "outputs": [],
   "source": [
    "# merge with  CONCAT_NOT_NULL_AND_PRIVILAGE_MERGE_DATA_RECONNECTION & RECHARGE_DETAILS_FOR_ALL_WITHOUT_HIERARCHY_YESTERDAY\n",
    "\n",
    "CONCAT_NOT_NULL_AND_PRIVILAGE_MERGE_DATA_RECONNECTION_MERGE_RECHARGE=pd.merge(CONCAT_NOT_NULL_AND_PRIVILAGE_MERGE_DATA_RECONNECTION, RECHARGE_DETAILS_FOR_ALL_WITHOUT_HIERARCHY_YESTERDAY[['METER NO','RECHARGE DATE']], left_on=['UDC_ID_1'], right_on=['METER NO'], how='left')"
   ]
  },
  {
   "cell_type": "code",
   "execution_count": 42,
   "metadata": {},
   "outputs": [
    {
     "data": {
      "text/plain": [
       "Index(['UDC_ID', 'UDC_ID_1', 'TYPE_CD', 'SUB_TYPE_CD', 'STATUS_CD',\n",
       "       'OUTCOME_CD', 'ALT_OUTCOME_REASON_CD', 'ORG_ID', 'OPEN_TIME',\n",
       "       'CLOSE_TIME', 'NAME', 'BALANCE', 'LOAD_STATUS', 'day', 'previous day',\n",
       "       'DIVISION', 'CATEGORY NAME', 'FULL_METER_NUMBER', 'DIFF_OPEN_CLOSE',\n",
       "       'METER NO', 'RECHARGE DATE'],\n",
       "      dtype='object')"
      ]
     },
     "execution_count": 42,
     "metadata": {},
     "output_type": "execute_result"
    }
   ],
   "source": [
    "CONCAT_NOT_NULL_AND_PRIVILAGE_MERGE_DATA_RECONNECTION_MERGE_RECHARGE.columns"
   ]
  },
  {
   "cell_type": "code",
   "execution_count": 43,
   "metadata": {},
   "outputs": [
    {
     "data": {
      "text/html": [
       "<div>\n",
       "<style scoped>\n",
       "    .dataframe tbody tr th:only-of-type {\n",
       "        vertical-align: middle;\n",
       "    }\n",
       "\n",
       "    .dataframe tbody tr th {\n",
       "        vertical-align: top;\n",
       "    }\n",
       "\n",
       "    .dataframe thead th {\n",
       "        text-align: right;\n",
       "    }\n",
       "</style>\n",
       "<table border=\"1\" class=\"dataframe\">\n",
       "  <thead>\n",
       "    <tr style=\"text-align: right;\">\n",
       "      <th></th>\n",
       "      <th>UDC_ID</th>\n",
       "      <th>UDC_ID_1</th>\n",
       "      <th>TYPE_CD</th>\n",
       "      <th>SUB_TYPE_CD</th>\n",
       "      <th>STATUS_CD</th>\n",
       "      <th>OUTCOME_CD</th>\n",
       "      <th>ALT_OUTCOME_REASON_CD</th>\n",
       "      <th>ORG_ID</th>\n",
       "      <th>OPEN_TIME</th>\n",
       "      <th>CLOSE_TIME</th>\n",
       "      <th>NAME</th>\n",
       "      <th>BALANCE</th>\n",
       "      <th>LOAD_STATUS</th>\n",
       "      <th>day</th>\n",
       "      <th>previous day</th>\n",
       "      <th>DIVISION</th>\n",
       "      <th>CATEGORY NAME</th>\n",
       "      <th>FULL_METER_NUMBER</th>\n",
       "      <th>DIFF_OPEN_CLOSE</th>\n",
       "      <th>METER NO</th>\n",
       "      <th>RECHARGE DATE</th>\n",
       "    </tr>\n",
       "  </thead>\n",
       "  <tbody>\n",
       "    <tr>\n",
       "      <th>40153</th>\n",
       "      <td>401640887</td>\n",
       "      <td>GOEGL8616557</td>\n",
       "      <td>Meter Service</td>\n",
       "      <td>Load - Hard Reconnect</td>\n",
       "      <td>Done</td>\n",
       "      <td>Success</td>\n",
       "      <td>0</td>\n",
       "      <td>102</td>\n",
       "      <td>2024-01-24 13:30:41</td>\n",
       "      <td>2024-01-24 13:31:32</td>\n",
       "      <td>NBPDCL</td>\n",
       "      <td>441.26</td>\n",
       "      <td>Y</td>\n",
       "      <td>24</td>\n",
       "      <td>23</td>\n",
       "      <td>HAJIPUR</td>\n",
       "      <td>DS-IID</td>\n",
       "      <td>GOEGL8616557</td>\n",
       "      <td>0 days 00:00:51</td>\n",
       "      <td>GOEGL8616557</td>\n",
       "      <td>2024-01-24 13:26:58</td>\n",
       "    </tr>\n",
       "    <tr>\n",
       "      <th>40154</th>\n",
       "      <td>401640887</td>\n",
       "      <td>GOEGL8616557</td>\n",
       "      <td>Meter Service</td>\n",
       "      <td>Load - Hard Reconnect</td>\n",
       "      <td>Done</td>\n",
       "      <td>Success</td>\n",
       "      <td>0</td>\n",
       "      <td>102</td>\n",
       "      <td>2024-01-24 13:30:41</td>\n",
       "      <td>2024-01-24 13:31:32</td>\n",
       "      <td>NBPDCL</td>\n",
       "      <td>441.26</td>\n",
       "      <td>Y</td>\n",
       "      <td>24</td>\n",
       "      <td>23</td>\n",
       "      <td>HAJIPUR</td>\n",
       "      <td>DS-IID</td>\n",
       "      <td>GOEGL8616557</td>\n",
       "      <td>0 days 00:00:51</td>\n",
       "      <td>GOEGL8616557</td>\n",
       "      <td>2024-01-24 13:26:58</td>\n",
       "    </tr>\n",
       "    <tr>\n",
       "      <th>40151</th>\n",
       "      <td>401813106</td>\n",
       "      <td>GOEGL8616570</td>\n",
       "      <td>Meter Service</td>\n",
       "      <td>Load - Hard Reconnect</td>\n",
       "      <td>Done</td>\n",
       "      <td>Success</td>\n",
       "      <td>0</td>\n",
       "      <td>102</td>\n",
       "      <td>2024-01-24 15:41:57</td>\n",
       "      <td>2024-01-24 15:42:13</td>\n",
       "      <td>NBPDCL</td>\n",
       "      <td>839.55</td>\n",
       "      <td>Y</td>\n",
       "      <td>24</td>\n",
       "      <td>23</td>\n",
       "      <td>HAJIPUR</td>\n",
       "      <td>NDS-IID(B)</td>\n",
       "      <td>GOEGL8616570</td>\n",
       "      <td>0 days 00:00:16</td>\n",
       "      <td>GOEGL8616570</td>\n",
       "      <td>2024-01-24 15:41:57</td>\n",
       "    </tr>\n",
       "    <tr>\n",
       "      <th>40152</th>\n",
       "      <td>401813106</td>\n",
       "      <td>GOEGL8616570</td>\n",
       "      <td>Meter Service</td>\n",
       "      <td>Load - Hard Reconnect</td>\n",
       "      <td>Done</td>\n",
       "      <td>Success</td>\n",
       "      <td>0</td>\n",
       "      <td>102</td>\n",
       "      <td>2024-01-24 15:41:57</td>\n",
       "      <td>2024-01-24 15:42:13</td>\n",
       "      <td>NBPDCL</td>\n",
       "      <td>839.55</td>\n",
       "      <td>Y</td>\n",
       "      <td>24</td>\n",
       "      <td>23</td>\n",
       "      <td>HAJIPUR</td>\n",
       "      <td>NDS-IID(B)</td>\n",
       "      <td>GOEGL8616570</td>\n",
       "      <td>0 days 00:00:16</td>\n",
       "      <td>GOEGL8616570</td>\n",
       "      <td>2024-01-24 15:41:57</td>\n",
       "    </tr>\n",
       "    <tr>\n",
       "      <th>40145</th>\n",
       "      <td>400852830</td>\n",
       "      <td>GOEGL8616686</td>\n",
       "      <td>Meter Service</td>\n",
       "      <td>Load - Hard Reconnect</td>\n",
       "      <td>Done</td>\n",
       "      <td>Success</td>\n",
       "      <td>0</td>\n",
       "      <td>102</td>\n",
       "      <td>2024-01-24 10:00:57</td>\n",
       "      <td>2024-01-24 10:01:26</td>\n",
       "      <td>NBPDCL</td>\n",
       "      <td>-4.45</td>\n",
       "      <td>Y</td>\n",
       "      <td>24</td>\n",
       "      <td>23</td>\n",
       "      <td>HAJIPUR</td>\n",
       "      <td>NDS-IID(B)</td>\n",
       "      <td>GOEGL8616686</td>\n",
       "      <td>0 days 00:00:29</td>\n",
       "      <td>GOEGL8616686</td>\n",
       "      <td>2024-01-24 10:00:57</td>\n",
       "    </tr>\n",
       "  </tbody>\n",
       "</table>\n",
       "</div>"
      ],
      "text/plain": [
       "          UDC_ID      UDC_ID_1        TYPE_CD            SUB_TYPE_CD  \\\n",
       "40153  401640887  GOEGL8616557  Meter Service  Load - Hard Reconnect   \n",
       "40154  401640887  GOEGL8616557  Meter Service  Load - Hard Reconnect   \n",
       "40151  401813106  GOEGL8616570  Meter Service  Load - Hard Reconnect   \n",
       "40152  401813106  GOEGL8616570  Meter Service  Load - Hard Reconnect   \n",
       "40145  400852830  GOEGL8616686  Meter Service  Load - Hard Reconnect   \n",
       "\n",
       "      STATUS_CD OUTCOME_CD ALT_OUTCOME_REASON_CD  ORG_ID           OPEN_TIME  \\\n",
       "40153      Done    Success                     0     102 2024-01-24 13:30:41   \n",
       "40154      Done    Success                     0     102 2024-01-24 13:30:41   \n",
       "40151      Done    Success                     0     102 2024-01-24 15:41:57   \n",
       "40152      Done    Success                     0     102 2024-01-24 15:41:57   \n",
       "40145      Done    Success                     0     102 2024-01-24 10:00:57   \n",
       "\n",
       "               CLOSE_TIME    NAME  BALANCE LOAD_STATUS  day  previous day  \\\n",
       "40153 2024-01-24 13:31:32  NBPDCL   441.26           Y   24            23   \n",
       "40154 2024-01-24 13:31:32  NBPDCL   441.26           Y   24            23   \n",
       "40151 2024-01-24 15:42:13  NBPDCL   839.55           Y   24            23   \n",
       "40152 2024-01-24 15:42:13  NBPDCL   839.55           Y   24            23   \n",
       "40145 2024-01-24 10:01:26  NBPDCL    -4.45           Y   24            23   \n",
       "\n",
       "      DIVISION CATEGORY NAME FULL_METER_NUMBER DIFF_OPEN_CLOSE      METER NO  \\\n",
       "40153  HAJIPUR        DS-IID      GOEGL8616557 0 days 00:00:51  GOEGL8616557   \n",
       "40154  HAJIPUR        DS-IID      GOEGL8616557 0 days 00:00:51  GOEGL8616557   \n",
       "40151  HAJIPUR    NDS-IID(B)      GOEGL8616570 0 days 00:00:16  GOEGL8616570   \n",
       "40152  HAJIPUR    NDS-IID(B)      GOEGL8616570 0 days 00:00:16  GOEGL8616570   \n",
       "40145  HAJIPUR    NDS-IID(B)      GOEGL8616686 0 days 00:00:29  GOEGL8616686   \n",
       "\n",
       "            RECHARGE DATE  \n",
       "40153 2024-01-24 13:26:58  \n",
       "40154 2024-01-24 13:26:58  \n",
       "40151 2024-01-24 15:41:57  \n",
       "40152 2024-01-24 15:41:57  \n",
       "40145 2024-01-24 10:00:57  "
      ]
     },
     "execution_count": 43,
     "metadata": {},
     "output_type": "execute_result"
    }
   ],
   "source": [
    "CONCAT_NOT_NULL_AND_PRIVILAGE_MERGE_DATA_RECONNECTION_MERGE_RECHARGE[CONCAT_NOT_NULL_AND_PRIVILAGE_MERGE_DATA_RECONNECTION_MERGE_RECHARGE.duplicated(keep=False)].sort_values(by=['UDC_ID_1','RECHARGE DATE'], ascending=[True,False]).head()"
   ]
  },
  {
   "cell_type": "code",
   "execution_count": null,
   "metadata": {},
   "outputs": [],
   "source": []
  },
  {
   "cell_type": "code",
   "execution_count": 44,
   "metadata": {},
   "outputs": [
    {
     "data": {
      "text/html": [
       "<div>\n",
       "<style scoped>\n",
       "    .dataframe tbody tr th:only-of-type {\n",
       "        vertical-align: middle;\n",
       "    }\n",
       "\n",
       "    .dataframe tbody tr th {\n",
       "        vertical-align: top;\n",
       "    }\n",
       "\n",
       "    .dataframe thead th {\n",
       "        text-align: right;\n",
       "    }\n",
       "</style>\n",
       "<table border=\"1\" class=\"dataframe\">\n",
       "  <thead>\n",
       "    <tr style=\"text-align: right;\">\n",
       "      <th></th>\n",
       "      <th>UDC_ID</th>\n",
       "      <th>UDC_ID_1</th>\n",
       "      <th>TYPE_CD</th>\n",
       "      <th>SUB_TYPE_CD</th>\n",
       "      <th>STATUS_CD</th>\n",
       "      <th>OUTCOME_CD</th>\n",
       "      <th>ALT_OUTCOME_REASON_CD</th>\n",
       "      <th>ORG_ID</th>\n",
       "      <th>OPEN_TIME</th>\n",
       "      <th>CLOSE_TIME</th>\n",
       "      <th>NAME</th>\n",
       "      <th>BALANCE</th>\n",
       "      <th>LOAD_STATUS</th>\n",
       "      <th>day</th>\n",
       "      <th>previous day</th>\n",
       "      <th>DIVISION</th>\n",
       "      <th>CATEGORY NAME</th>\n",
       "      <th>FULL_METER_NUMBER</th>\n",
       "      <th>DIFF_OPEN_CLOSE</th>\n",
       "      <th>METER NO</th>\n",
       "      <th>RECHARGE DATE</th>\n",
       "    </tr>\n",
       "  </thead>\n",
       "  <tbody>\n",
       "    <tr>\n",
       "      <th>0</th>\n",
       "      <td>101615324</td>\n",
       "      <td>GOEGL8548500</td>\n",
       "      <td>Meter Service</td>\n",
       "      <td>Load - Hard Reconnect</td>\n",
       "      <td>Done</td>\n",
       "      <td>Success</td>\n",
       "      <td>0</td>\n",
       "      <td>52</td>\n",
       "      <td>2024-01-24 13:30:12</td>\n",
       "      <td>2024-01-24 13:31:07</td>\n",
       "      <td>SBPDCL</td>\n",
       "      <td>-30.29</td>\n",
       "      <td>Y</td>\n",
       "      <td>24</td>\n",
       "      <td>23</td>\n",
       "      <td>BANKIPUR</td>\n",
       "      <td>NDS-IID(B)</td>\n",
       "      <td>GOEGL8548500</td>\n",
       "      <td>0 days 00:00:55</td>\n",
       "      <td>GOEGL8548500</td>\n",
       "      <td>2024-01-24 13:17:59</td>\n",
       "    </tr>\n",
       "    <tr>\n",
       "      <th>1</th>\n",
       "      <td>100709427</td>\n",
       "      <td>LNTLT0280240</td>\n",
       "      <td>Meter Service</td>\n",
       "      <td>Load - Hard Reconnect</td>\n",
       "      <td>Done</td>\n",
       "      <td>Success</td>\n",
       "      <td>0</td>\n",
       "      <td>52</td>\n",
       "      <td>2024-01-24 15:15:25</td>\n",
       "      <td>2024-01-24 15:18:16</td>\n",
       "      <td>SBPDCL</td>\n",
       "      <td>14.43</td>\n",
       "      <td>Y</td>\n",
       "      <td>24</td>\n",
       "      <td>23</td>\n",
       "      <td>GARDANIBAGH</td>\n",
       "      <td>NDS-IID(B)</td>\n",
       "      <td>LNTLT0280240</td>\n",
       "      <td>0 days 00:02:51</td>\n",
       "      <td>LNTLT0280240</td>\n",
       "      <td>2024-01-24 15:09:56</td>\n",
       "    </tr>\n",
       "    <tr>\n",
       "      <th>2</th>\n",
       "      <td>108433017</td>\n",
       "      <td>LNTLT0279547</td>\n",
       "      <td>Meter Service</td>\n",
       "      <td>Load - Hard Reconnect</td>\n",
       "      <td>Done</td>\n",
       "      <td>Success</td>\n",
       "      <td>0</td>\n",
       "      <td>52</td>\n",
       "      <td>2024-01-24 15:15:15</td>\n",
       "      <td>2024-01-24 15:17:19</td>\n",
       "      <td>SBPDCL</td>\n",
       "      <td>258.83</td>\n",
       "      <td>Y</td>\n",
       "      <td>24</td>\n",
       "      <td>23</td>\n",
       "      <td>PATNA CITY</td>\n",
       "      <td>DS-IID</td>\n",
       "      <td>LNTLT0279547</td>\n",
       "      <td>0 days 00:02:04</td>\n",
       "      <td>LNTLT0279547</td>\n",
       "      <td>2024-01-24 15:01:57</td>\n",
       "    </tr>\n",
       "    <tr>\n",
       "      <th>3</th>\n",
       "      <td>100672252</td>\n",
       "      <td>LNTLT0279563</td>\n",
       "      <td>Meter Service</td>\n",
       "      <td>Load - Hard Reconnect</td>\n",
       "      <td>Done</td>\n",
       "      <td>Success</td>\n",
       "      <td>0</td>\n",
       "      <td>52</td>\n",
       "      <td>2024-01-24 13:52:56</td>\n",
       "      <td>2024-01-24 13:53:11</td>\n",
       "      <td>SBPDCL</td>\n",
       "      <td>106.71</td>\n",
       "      <td>Y</td>\n",
       "      <td>24</td>\n",
       "      <td>23</td>\n",
       "      <td>GARDANIBAGH</td>\n",
       "      <td>DS-IID</td>\n",
       "      <td>LNTLT0279563</td>\n",
       "      <td>0 days 00:00:15</td>\n",
       "      <td>LNTLT0279563</td>\n",
       "      <td>2024-01-24 13:52:56</td>\n",
       "    </tr>\n",
       "    <tr>\n",
       "      <th>4</th>\n",
       "      <td>108409512</td>\n",
       "      <td>LNTLT0279585</td>\n",
       "      <td>Meter Service</td>\n",
       "      <td>Load - Hard Reconnect</td>\n",
       "      <td>Done</td>\n",
       "      <td>Success</td>\n",
       "      <td>0</td>\n",
       "      <td>52</td>\n",
       "      <td>2024-01-24 10:42:57</td>\n",
       "      <td>2024-01-24 10:43:10</td>\n",
       "      <td>SBPDCL</td>\n",
       "      <td>707.60</td>\n",
       "      <td>Y</td>\n",
       "      <td>24</td>\n",
       "      <td>23</td>\n",
       "      <td>ASHIYANA</td>\n",
       "      <td>NDS-IID(B)</td>\n",
       "      <td>LNTLT0279585</td>\n",
       "      <td>0 days 00:00:13</td>\n",
       "      <td>LNTLT0279585</td>\n",
       "      <td>2024-01-24 10:42:57</td>\n",
       "    </tr>\n",
       "  </tbody>\n",
       "</table>\n",
       "</div>"
      ],
      "text/plain": [
       "      UDC_ID      UDC_ID_1        TYPE_CD            SUB_TYPE_CD STATUS_CD  \\\n",
       "0  101615324  GOEGL8548500  Meter Service  Load - Hard Reconnect      Done   \n",
       "1  100709427  LNTLT0280240  Meter Service  Load - Hard Reconnect      Done   \n",
       "2  108433017  LNTLT0279547  Meter Service  Load - Hard Reconnect      Done   \n",
       "3  100672252  LNTLT0279563  Meter Service  Load - Hard Reconnect      Done   \n",
       "4  108409512  LNTLT0279585  Meter Service  Load - Hard Reconnect      Done   \n",
       "\n",
       "  OUTCOME_CD ALT_OUTCOME_REASON_CD  ORG_ID           OPEN_TIME  \\\n",
       "0    Success                     0      52 2024-01-24 13:30:12   \n",
       "1    Success                     0      52 2024-01-24 15:15:25   \n",
       "2    Success                     0      52 2024-01-24 15:15:15   \n",
       "3    Success                     0      52 2024-01-24 13:52:56   \n",
       "4    Success                     0      52 2024-01-24 10:42:57   \n",
       "\n",
       "           CLOSE_TIME    NAME  BALANCE LOAD_STATUS  day  previous day  \\\n",
       "0 2024-01-24 13:31:07  SBPDCL   -30.29           Y   24            23   \n",
       "1 2024-01-24 15:18:16  SBPDCL    14.43           Y   24            23   \n",
       "2 2024-01-24 15:17:19  SBPDCL   258.83           Y   24            23   \n",
       "3 2024-01-24 13:53:11  SBPDCL   106.71           Y   24            23   \n",
       "4 2024-01-24 10:43:10  SBPDCL   707.60           Y   24            23   \n",
       "\n",
       "      DIVISION CATEGORY NAME FULL_METER_NUMBER DIFF_OPEN_CLOSE      METER NO  \\\n",
       "0     BANKIPUR    NDS-IID(B)      GOEGL8548500 0 days 00:00:55  GOEGL8548500   \n",
       "1  GARDANIBAGH    NDS-IID(B)      LNTLT0280240 0 days 00:02:51  LNTLT0280240   \n",
       "2   PATNA CITY        DS-IID      LNTLT0279547 0 days 00:02:04  LNTLT0279547   \n",
       "3  GARDANIBAGH        DS-IID      LNTLT0279563 0 days 00:00:15  LNTLT0279563   \n",
       "4     ASHIYANA    NDS-IID(B)      LNTLT0279585 0 days 00:00:13  LNTLT0279585   \n",
       "\n",
       "        RECHARGE DATE  \n",
       "0 2024-01-24 13:17:59  \n",
       "1 2024-01-24 15:09:56  \n",
       "2 2024-01-24 15:01:57  \n",
       "3 2024-01-24 13:52:56  \n",
       "4 2024-01-24 10:42:57  "
      ]
     },
     "execution_count": 44,
     "metadata": {},
     "output_type": "execute_result"
    }
   ],
   "source": [
    "CONCAT_NOT_NULL_AND_PRIVILAGE_MERGE_DATA_RECONNECTION_MERGE_RECHARGE.head()\n"
   ]
  },
  {
   "cell_type": "code",
   "execution_count": 45,
   "metadata": {},
   "outputs": [],
   "source": [
    "# SORT VALUES ON THE BASIS OF METER AND RECHARGE DATA\n",
    "CONCAT_NOT_NULL_AND_PRIVILAGE_MERGE_DATA_RECONNECTION_MERGE_RECHARGE.sort_values(by=['UDC_ID_1','RECHARGE DATE'], ascending=[True,False],inplace=True)\n",
    "#RECHARGE_DETAILS_FOR_ALL_WITHOUT_HIERARCHY_YESTERDAY.sort_values(by=['RECHARGE DATE'], ascending=False,inplace=True)\n",
    "\n",
    "\n",
    "# SAVING DATA AT OUTPUT FOLDER \n",
    "\n",
    "CONCAT_NOT_NULL_AND_PRIVILAGE_MERGE_DATA_RECONNECTION_MERGE_RECHARGE.to_csv (r\"C:\\Users\\Ratan Kumar Jha\\Desktop\\Daily progress report\\RC_DC_TRACKER\\OUTPUT FILE\\CONCAT_NOT_NULL_AND_PRIVILAGE_MERGE_DATA_RECONNECTION_MERGE_RECHARGE.csv\",index= False)\n",
    "\n",
    "\n",
    "# drop duplicate , and keep first\n",
    "\n",
    "CONCAT_NOT_NULL_AND_PRIVILAGE_MERGE_DATA_RECONNECTION_MERGE_RECHARGE.drop_duplicates(subset=['UDC_ID_1'], keep='first', inplace=True, ignore_index=True)"
   ]
  },
  {
   "cell_type": "code",
   "execution_count": 46,
   "metadata": {},
   "outputs": [
    {
     "data": {
      "text/plain": [
       "(40669, 21)"
      ]
     },
     "execution_count": 46,
     "metadata": {},
     "output_type": "execute_result"
    }
   ],
   "source": [
    "CONCAT_NOT_NULL_AND_PRIVILAGE_MERGE_DATA_RECONNECTION_MERGE_RECHARGE.shape\n"
   ]
  },
  {
   "cell_type": "code",
   "execution_count": 47,
   "metadata": {},
   "outputs": [],
   "source": [
    "# where diff in close and rechage data is is negative \n",
    "\n",
    "CONCAT_NOT_NULL_AND_PRIVILAGE_MERGE_DATA_RECONNECTION_MERGE_RECHARGE['DIFF_CLOSE_RECHARGE'] = CONCAT_NOT_NULL_AND_PRIVILAGE_MERGE_DATA_RECONNECTION_MERGE_RECHARGE['CLOSE_TIME'] - CONCAT_NOT_NULL_AND_PRIVILAGE_MERGE_DATA_RECONNECTION_MERGE_RECHARGE['RECHARGE DATE']\n",
    "\n"
   ]
  },
  {
   "cell_type": "code",
   "execution_count": null,
   "metadata": {},
   "outputs": [],
   "source": []
  },
  {
   "cell_type": "code",
   "execution_count": 48,
   "metadata": {},
   "outputs": [],
   "source": [
    "import pandas as pd\n",
    "\n",
    "# Assuming CONCAT_NOT_NULL_AND_PRIVILAGE_MERGE_DATA_RECONNECTION_MERGE_RECHARGE is your DataFrame\n",
    "# and 'DIFF_CLOSE_RECHARGE' is the timedelta column\n",
    "\n",
    "# Filter rows with positive diff\n",
    "POSITIVE_DIFF_CLOSE_RECHARGE_DATE = CONCAT_NOT_NULL_AND_PRIVILAGE_MERGE_DATA_RECONNECTION_MERGE_RECHARGE[\n",
    "    CONCAT_NOT_NULL_AND_PRIVILAGE_MERGE_DATA_RECONNECTION_MERGE_RECHARGE['DIFF_CLOSE_RECHARGE'] >= pd.Timedelta(0)]\n",
    "\n",
    "# Filter rows with negative diff\n",
    "NEGATIVE_DIFF_CLOSE_RECHARGE_DATE = CONCAT_NOT_NULL_AND_PRIVILAGE_MERGE_DATA_RECONNECTION_MERGE_RECHARGE[\n",
    "    CONCAT_NOT_NULL_AND_PRIVILAGE_MERGE_DATA_RECONNECTION_MERGE_RECHARGE['DIFF_CLOSE_RECHARGE'] < pd.Timedelta(0)]\n",
    "\n",
    "\n",
    "NULL_DATA_CLOSE_RECHARGE_DATE=CONCAT_NOT_NULL_AND_PRIVILAGE_MERGE_DATA_RECONNECTION_MERGE_RECHARGE[\n",
    "    CONCAT_NOT_NULL_AND_PRIVILAGE_MERGE_DATA_RECONNECTION_MERGE_RECHARGE['DIFF_CLOSE_RECHARGE'].isnull()]"
   ]
  },
  {
   "cell_type": "code",
   "execution_count": 49,
   "metadata": {},
   "outputs": [],
   "source": [
    "# DATA SAVE TO OUTPUT FOLDER\n",
    "\n",
    "CONCAT_NOT_NULL_AND_PRIVILAGE_MERGE_DATA_RECONNECTION_MERGE_RECHARGE.to_csv (r\"C:\\Users\\Ratan Kumar Jha\\Desktop\\Daily progress report\\RC_DC_TRACKER\\OUTPUT FILE\\CONCAT_NOT_NULL_AND_PRIVILAGE_MERGE_DATA_RECONNECTION_MERGE_RECHARGE.csv\",index= False)"
   ]
  },
  {
   "cell_type": "code",
   "execution_count": null,
   "metadata": {},
   "outputs": [],
   "source": []
  },
  {
   "cell_type": "markdown",
   "metadata": {},
   "source": [
    "# FOR NEGATIVE RECHARGE DATA"
   ]
  },
  {
   "cell_type": "code",
   "execution_count": 50,
   "metadata": {},
   "outputs": [
    {
     "data": {
      "text/html": [
       "<div>\n",
       "<style scoped>\n",
       "    .dataframe tbody tr th:only-of-type {\n",
       "        vertical-align: middle;\n",
       "    }\n",
       "\n",
       "    .dataframe tbody tr th {\n",
       "        vertical-align: top;\n",
       "    }\n",
       "\n",
       "    .dataframe thead th {\n",
       "        text-align: right;\n",
       "    }\n",
       "</style>\n",
       "<table border=\"1\" class=\"dataframe\">\n",
       "  <thead>\n",
       "    <tr style=\"text-align: right;\">\n",
       "      <th></th>\n",
       "      <th>ORG NAME</th>\n",
       "      <th>MOBILE</th>\n",
       "      <th>METER NO</th>\n",
       "      <th>TRANSACTION_ID</th>\n",
       "      <th>AMOUNT</th>\n",
       "      <th>ACCOUNT_UDC_ID</th>\n",
       "      <th>RECHARGE DATE</th>\n",
       "      <th>SECTION_NAME</th>\n",
       "      <th>DIVISION_NAME</th>\n",
       "      <th>SUBDIVISION_NAME</th>\n",
       "      <th>day_new</th>\n",
       "    </tr>\n",
       "  </thead>\n",
       "  <tbody>\n",
       "    <tr>\n",
       "      <th>194761</th>\n",
       "      <td>SBPDCL</td>\n",
       "      <td>9771641004</td>\n",
       "      <td>GOEGP5862067</td>\n",
       "      <td>SBPS1000134601542</td>\n",
       "      <td>800.0</td>\n",
       "      <td>100780247</td>\n",
       "      <td>2024-01-24 22:59:56</td>\n",
       "      <td>Sec-Machuatoli</td>\n",
       "      <td>Rajendra Nagar</td>\n",
       "      <td>Machuatoli</td>\n",
       "      <td>24</td>\n",
       "    </tr>\n",
       "    <tr>\n",
       "      <th>194721</th>\n",
       "      <td>SBPDCL</td>\n",
       "      <td>9431434237</td>\n",
       "      <td>LNTLT0200480</td>\n",
       "      <td>SBBD1000134601614</td>\n",
       "      <td>500.0</td>\n",
       "      <td>100254821</td>\n",
       "      <td>2024-01-24 22:59:56</td>\n",
       "      <td>Sec-HEADQUARTER</td>\n",
       "      <td>Arrah</td>\n",
       "      <td>Arrah(urban)-I</td>\n",
       "      <td>24</td>\n",
       "    </tr>\n",
       "    <tr>\n",
       "      <th>194732</th>\n",
       "      <td>SBPDCL</td>\n",
       "      <td>9625354045</td>\n",
       "      <td>LNTLT0605251</td>\n",
       "      <td>SBPS1000134601526</td>\n",
       "      <td>2000.0</td>\n",
       "      <td>102338173</td>\n",
       "      <td>2024-01-24 22:59:56</td>\n",
       "      <td>SEC-PADHRI KI HAWELI</td>\n",
       "      <td>Patna City</td>\n",
       "      <td>Patna City</td>\n",
       "      <td>24</td>\n",
       "    </tr>\n",
       "    <tr>\n",
       "      <th>194731</th>\n",
       "      <td>SBPDCL</td>\n",
       "      <td>9798493839</td>\n",
       "      <td>LNTLT0619766</td>\n",
       "      <td>SBPS1000134601597</td>\n",
       "      <td>500.0</td>\n",
       "      <td>100663737</td>\n",
       "      <td>2024-01-24 22:59:56</td>\n",
       "      <td>Sec-Nawada(E)</td>\n",
       "      <td>Nawadah</td>\n",
       "      <td>Nawadah</td>\n",
       "      <td>24</td>\n",
       "    </tr>\n",
       "    <tr>\n",
       "      <th>194730</th>\n",
       "      <td>SBPDCL</td>\n",
       "      <td>9386653673</td>\n",
       "      <td>LNTLT0570917</td>\n",
       "      <td>SBPS1000134601661</td>\n",
       "      <td>500.0</td>\n",
       "      <td>100905987</td>\n",
       "      <td>2024-01-24 22:59:56</td>\n",
       "      <td>Sec-Gaighat</td>\n",
       "      <td>Gulzarbagh</td>\n",
       "      <td>Gaighat</td>\n",
       "      <td>24</td>\n",
       "    </tr>\n",
       "  </tbody>\n",
       "</table>\n",
       "</div>"
      ],
      "text/plain": [
       "       ORG NAME      MOBILE      METER NO     TRANSACTION_ID  AMOUNT  \\\n",
       "194761   SBPDCL  9771641004  GOEGP5862067  SBPS1000134601542   800.0   \n",
       "194721   SBPDCL  9431434237  LNTLT0200480  SBBD1000134601614   500.0   \n",
       "194732   SBPDCL  9625354045  LNTLT0605251  SBPS1000134601526  2000.0   \n",
       "194731   SBPDCL  9798493839  LNTLT0619766  SBPS1000134601597   500.0   \n",
       "194730   SBPDCL  9386653673  LNTLT0570917  SBPS1000134601661   500.0   \n",
       "\n",
       "       ACCOUNT_UDC_ID       RECHARGE DATE          SECTION_NAME  \\\n",
       "194761      100780247 2024-01-24 22:59:56        Sec-Machuatoli   \n",
       "194721      100254821 2024-01-24 22:59:56       Sec-HEADQUARTER   \n",
       "194732      102338173 2024-01-24 22:59:56  SEC-PADHRI KI HAWELI   \n",
       "194731      100663737 2024-01-24 22:59:56         Sec-Nawada(E)   \n",
       "194730      100905987 2024-01-24 22:59:56           Sec-Gaighat   \n",
       "\n",
       "         DIVISION_NAME SUBDIVISION_NAME  day_new  \n",
       "194761  Rajendra Nagar       Machuatoli       24  \n",
       "194721           Arrah   Arrah(urban)-I       24  \n",
       "194732      Patna City       Patna City       24  \n",
       "194731         Nawadah          Nawadah       24  \n",
       "194730      Gulzarbagh          Gaighat       24  "
      ]
     },
     "execution_count": 50,
     "metadata": {},
     "output_type": "execute_result"
    }
   ],
   "source": [
    "RECHARGE_DETAILS_FOR_ALL_WITHOUT_HIERARCHY_YESTERDAY.head()"
   ]
  },
  {
   "cell_type": "code",
   "execution_count": 51,
   "metadata": {},
   "outputs": [
    {
     "data": {
      "text/html": [
       "<div>\n",
       "<style scoped>\n",
       "    .dataframe tbody tr th:only-of-type {\n",
       "        vertical-align: middle;\n",
       "    }\n",
       "\n",
       "    .dataframe tbody tr th {\n",
       "        vertical-align: top;\n",
       "    }\n",
       "\n",
       "    .dataframe thead th {\n",
       "        text-align: right;\n",
       "    }\n",
       "</style>\n",
       "<table border=\"1\" class=\"dataframe\">\n",
       "  <thead>\n",
       "    <tr style=\"text-align: right;\">\n",
       "      <th></th>\n",
       "      <th>UDC_ID</th>\n",
       "      <th>UDC_ID_1</th>\n",
       "      <th>TYPE_CD</th>\n",
       "      <th>SUB_TYPE_CD</th>\n",
       "      <th>STATUS_CD</th>\n",
       "      <th>OUTCOME_CD</th>\n",
       "      <th>ALT_OUTCOME_REASON_CD</th>\n",
       "      <th>ORG_ID</th>\n",
       "      <th>OPEN_TIME</th>\n",
       "      <th>CLOSE_TIME</th>\n",
       "      <th>NAME</th>\n",
       "      <th>BALANCE</th>\n",
       "      <th>LOAD_STATUS</th>\n",
       "      <th>day</th>\n",
       "      <th>previous day</th>\n",
       "      <th>DIVISION</th>\n",
       "      <th>CATEGORY NAME</th>\n",
       "      <th>FULL_METER_NUMBER</th>\n",
       "      <th>DIFF_OPEN_CLOSE</th>\n",
       "      <th>METER NO</th>\n",
       "      <th>RECHARGE DATE</th>\n",
       "      <th>DIFF_CLOSE_RECHARGE</th>\n",
       "    </tr>\n",
       "  </thead>\n",
       "  <tbody>\n",
       "    <tr>\n",
       "      <th>42</th>\n",
       "      <td>108519006</td>\n",
       "      <td>GOEGL8550449</td>\n",
       "      <td>Meter Service</td>\n",
       "      <td>Load - Hard Reconnect</td>\n",
       "      <td>Done</td>\n",
       "      <td>Success</td>\n",
       "      <td>0</td>\n",
       "      <td>52</td>\n",
       "      <td>2024-01-24 12:45:51</td>\n",
       "      <td>2024-01-24 12:48:48</td>\n",
       "      <td>SBPDCL</td>\n",
       "      <td>1174.29</td>\n",
       "      <td>Y</td>\n",
       "      <td>24</td>\n",
       "      <td>23</td>\n",
       "      <td>BANKIPUR</td>\n",
       "      <td>DS-IID</td>\n",
       "      <td>GOEGL8550449</td>\n",
       "      <td>0 days 00:02:57</td>\n",
       "      <td>GOEGL8550449</td>\n",
       "      <td>2024-01-24 12:50:58</td>\n",
       "      <td>-1 days +23:57:50</td>\n",
       "    </tr>\n",
       "    <tr>\n",
       "      <th>87</th>\n",
       "      <td>102150897</td>\n",
       "      <td>GOEGL8552598</td>\n",
       "      <td>Meter Service</td>\n",
       "      <td>Load - Hard Reconnect</td>\n",
       "      <td>Done</td>\n",
       "      <td>Success</td>\n",
       "      <td>0</td>\n",
       "      <td>52</td>\n",
       "      <td>2024-01-24 19:00:55</td>\n",
       "      <td>2024-01-24 19:16:57</td>\n",
       "      <td>SBPDCL</td>\n",
       "      <td>623.13</td>\n",
       "      <td>Y</td>\n",
       "      <td>24</td>\n",
       "      <td>23</td>\n",
       "      <td>KHAGAUL</td>\n",
       "      <td>DS-IID</td>\n",
       "      <td>GOEGL8552598</td>\n",
       "      <td>0 days 00:16:02</td>\n",
       "      <td>GOEGL8552598</td>\n",
       "      <td>2024-01-24 20:01:57</td>\n",
       "      <td>-1 days +23:15:00</td>\n",
       "    </tr>\n",
       "  </tbody>\n",
       "</table>\n",
       "</div>"
      ],
      "text/plain": [
       "       UDC_ID      UDC_ID_1        TYPE_CD            SUB_TYPE_CD STATUS_CD  \\\n",
       "42  108519006  GOEGL8550449  Meter Service  Load - Hard Reconnect      Done   \n",
       "87  102150897  GOEGL8552598  Meter Service  Load - Hard Reconnect      Done   \n",
       "\n",
       "   OUTCOME_CD ALT_OUTCOME_REASON_CD  ORG_ID           OPEN_TIME  \\\n",
       "42    Success                     0      52 2024-01-24 12:45:51   \n",
       "87    Success                     0      52 2024-01-24 19:00:55   \n",
       "\n",
       "            CLOSE_TIME    NAME  BALANCE LOAD_STATUS  day  previous day  \\\n",
       "42 2024-01-24 12:48:48  SBPDCL  1174.29           Y   24            23   \n",
       "87 2024-01-24 19:16:57  SBPDCL   623.13           Y   24            23   \n",
       "\n",
       "    DIVISION CATEGORY NAME FULL_METER_NUMBER DIFF_OPEN_CLOSE      METER NO  \\\n",
       "42  BANKIPUR        DS-IID      GOEGL8550449 0 days 00:02:57  GOEGL8550449   \n",
       "87   KHAGAUL        DS-IID      GOEGL8552598 0 days 00:16:02  GOEGL8552598   \n",
       "\n",
       "         RECHARGE DATE DIFF_CLOSE_RECHARGE  \n",
       "42 2024-01-24 12:50:58   -1 days +23:57:50  \n",
       "87 2024-01-24 20:01:57   -1 days +23:15:00  "
      ]
     },
     "execution_count": 51,
     "metadata": {},
     "output_type": "execute_result"
    }
   ],
   "source": [
    "NEGATIVE_DIFF_CLOSE_RECHARGE_DATE.head(2)"
   ]
  },
  {
   "cell_type": "code",
   "execution_count": 52,
   "metadata": {},
   "outputs": [
    {
     "name": "stderr",
     "output_type": "stream",
     "text": [
      "C:\\Users\\Ratan Kumar Jha\\AppData\\Local\\Temp\\ipykernel_26800\\475749551.py:1: SettingWithCopyWarning: \n",
      "A value is trying to be set on a copy of a slice from a DataFrame\n",
      "\n",
      "See the caveats in the documentation: https://pandas.pydata.org/pandas-docs/stable/user_guide/indexing.html#returning-a-view-versus-a-copy\n",
      "  RECHARGE_DETAILS_FOR_ALL_WITHOUT_HIERARCHY_YESTERDAY.sort_values(by=['RECHARGE DATE'], ascending=True,inplace=True)\n",
      "C:\\Users\\Ratan Kumar Jha\\AppData\\Local\\Temp\\ipykernel_26800\\475749551.py:6: SettingWithCopyWarning: \n",
      "A value is trying to be set on a copy of a slice from a DataFrame\n",
      "\n",
      "See the caveats in the documentation: https://pandas.pydata.org/pandas-docs/stable/user_guide/indexing.html#returning-a-view-versus-a-copy\n",
      "  NEGATIVE_DIFF_CLOSE_RECHARGE_DATE.drop(['METER NO', 'RECHARGE DATE','DIFF_CLOSE_RECHARGE'], axis=1, inplace=True)\n"
     ]
    }
   ],
   "source": [
    "\n",
    "RECHARGE_DETAILS_FOR_ALL_WITHOUT_HIERARCHY_YESTERDAY.sort_values(by=['RECHARGE DATE'], ascending=True,inplace=True)\n",
    "\n",
    "\n",
    "# DROP COLUMN FROM NEGATIVE_DIFF_CLOSE_RECHARGE_DATE\n",
    "\n",
    "NEGATIVE_DIFF_CLOSE_RECHARGE_DATE.drop(['METER NO', 'RECHARGE DATE','DIFF_CLOSE_RECHARGE'], axis=1, inplace=True)\n",
    "\n",
    "#-----------------------------------------------------------------------------------------------------------------------------------------------------------------------\n",
    "\n",
    "# merge with  NEGATIVE_DIFF_CLOSE_RECHARGE_DATE & RECHARGE_DETAILS_FOR_ALL_WITHOUT_HIERARCHY_YESTERDAY\n",
    "\n",
    "MERGE_NEGATIVE_DIFF_CLOSE_RECHARGE_DATE_RECHARGE_DETAIL=pd.merge(NEGATIVE_DIFF_CLOSE_RECHARGE_DATE, RECHARGE_DETAILS_FOR_ALL_WITHOUT_HIERARCHY_YESTERDAY[['METER NO','RECHARGE DATE']], left_on=['UDC_ID_1'], right_on=['METER NO'], how='left')\n",
    "\n",
    "\n",
    "#-----------------------------------------------------------------------------------------------------------------------------------------------------------------------\n",
    "\n",
    "# SORT VALUES ON THE BASIS OF METER AND RECHARGE DATA\n",
    "MERGE_NEGATIVE_DIFF_CLOSE_RECHARGE_DATE_RECHARGE_DETAIL.sort_values(by=['UDC_ID_1','RECHARGE DATE'], ascending=[True,True],inplace=True)\n",
    "\n",
    "MERGE_NEGATIVE_DIFF_CLOSE_RECHARGE_DATE_RECHARGE_DETAIL.drop_duplicates(subset=['UDC_ID_1'], keep='first', inplace=True, ignore_index=True)\n",
    "\n"
   ]
  },
  {
   "cell_type": "code",
   "execution_count": 53,
   "metadata": {},
   "outputs": [],
   "source": [
    "# where diff in close and rechage data is is negative \n",
    "\n",
    "MERGE_NEGATIVE_DIFF_CLOSE_RECHARGE_DATE_RECHARGE_DETAIL['DIFF_CLOSE_RECHARGE'] = MERGE_NEGATIVE_DIFF_CLOSE_RECHARGE_DATE_RECHARGE_DETAIL['CLOSE_TIME'] - MERGE_NEGATIVE_DIFF_CLOSE_RECHARGE_DATE_RECHARGE_DETAIL['RECHARGE DATE']\n",
    "\n"
   ]
  },
  {
   "cell_type": "code",
   "execution_count": 54,
   "metadata": {},
   "outputs": [],
   "source": [
    "# find the date diff\n",
    "\n",
    "POSITIVE_DIFF_CLOSE_RECHARGE_DATE_FOR_EARLIER_NEGATIVE = MERGE_NEGATIVE_DIFF_CLOSE_RECHARGE_DATE_RECHARGE_DETAIL[\n",
    "    MERGE_NEGATIVE_DIFF_CLOSE_RECHARGE_DATE_RECHARGE_DETAIL['DIFF_CLOSE_RECHARGE'] >= pd.Timedelta(0)]\n",
    "\n",
    "# Filter rows with negative diff\n",
    "NEGATIVE_DIFF_CLOSE_RECHARGE_DATE_FOR_EARLIER_NEGATIVE = MERGE_NEGATIVE_DIFF_CLOSE_RECHARGE_DATE_RECHARGE_DETAIL[\n",
    "    MERGE_NEGATIVE_DIFF_CLOSE_RECHARGE_DATE_RECHARGE_DETAIL['DIFF_CLOSE_RECHARGE'] < pd.Timedelta(0)]\n",
    "\n",
    "\n",
    "NULL_DATA_CLOSE_RECHARGE_DATE_FOR_EARLIER_NEGATIVE=MERGE_NEGATIVE_DIFF_CLOSE_RECHARGE_DATE_RECHARGE_DETAIL[\n",
    "    MERGE_NEGATIVE_DIFF_CLOSE_RECHARGE_DATE_RECHARGE_DETAIL['DIFF_CLOSE_RECHARGE'].isnull()]\n"
   ]
  },
  {
   "cell_type": "code",
   "execution_count": null,
   "metadata": {},
   "outputs": [],
   "source": []
  },
  {
   "cell_type": "markdown",
   "metadata": {},
   "source": [
    "# concat the data"
   ]
  },
  {
   "cell_type": "code",
   "execution_count": 55,
   "metadata": {},
   "outputs": [],
   "source": [
    "CONCAT_FINAL_DATA = pd.concat([POSITIVE_DIFF_CLOSE_RECHARGE_DATE, NULL_DATA_CLOSE_RECHARGE_DATE,MERGE_NEGATIVE_DIFF_CLOSE_RECHARGE_DATE_RECHARGE_DETAIL], ignore_index=True)"
   ]
  },
  {
   "cell_type": "code",
   "execution_count": 56,
   "metadata": {},
   "outputs": [
    {
     "data": {
      "text/html": [
       "<div>\n",
       "<style scoped>\n",
       "    .dataframe tbody tr th:only-of-type {\n",
       "        vertical-align: middle;\n",
       "    }\n",
       "\n",
       "    .dataframe tbody tr th {\n",
       "        vertical-align: top;\n",
       "    }\n",
       "\n",
       "    .dataframe thead th {\n",
       "        text-align: right;\n",
       "    }\n",
       "</style>\n",
       "<table border=\"1\" class=\"dataframe\">\n",
       "  <thead>\n",
       "    <tr style=\"text-align: right;\">\n",
       "      <th></th>\n",
       "      <th>UDC_ID</th>\n",
       "      <th>UDC_ID_1</th>\n",
       "      <th>TYPE_CD</th>\n",
       "      <th>SUB_TYPE_CD</th>\n",
       "      <th>STATUS_CD</th>\n",
       "      <th>OUTCOME_CD</th>\n",
       "      <th>ALT_OUTCOME_REASON_CD</th>\n",
       "      <th>ORG_ID</th>\n",
       "      <th>OPEN_TIME</th>\n",
       "      <th>CLOSE_TIME</th>\n",
       "      <th>NAME</th>\n",
       "      <th>BALANCE</th>\n",
       "      <th>LOAD_STATUS</th>\n",
       "      <th>day</th>\n",
       "      <th>previous day</th>\n",
       "      <th>DIVISION</th>\n",
       "      <th>CATEGORY NAME</th>\n",
       "      <th>FULL_METER_NUMBER</th>\n",
       "      <th>DIFF_OPEN_CLOSE</th>\n",
       "      <th>METER NO</th>\n",
       "      <th>RECHARGE DATE</th>\n",
       "      <th>DIFF_CLOSE_RECHARGE</th>\n",
       "    </tr>\n",
       "  </thead>\n",
       "  <tbody>\n",
       "    <tr>\n",
       "      <th>0</th>\n",
       "      <td>101615324</td>\n",
       "      <td>GOEGL8548500</td>\n",
       "      <td>Meter Service</td>\n",
       "      <td>Load - Hard Reconnect</td>\n",
       "      <td>Done</td>\n",
       "      <td>Success</td>\n",
       "      <td>0</td>\n",
       "      <td>52</td>\n",
       "      <td>2024-01-24 13:30:12</td>\n",
       "      <td>2024-01-24 13:31:07</td>\n",
       "      <td>SBPDCL</td>\n",
       "      <td>-30.29</td>\n",
       "      <td>Y</td>\n",
       "      <td>24</td>\n",
       "      <td>23</td>\n",
       "      <td>BANKIPUR</td>\n",
       "      <td>NDS-IID(B)</td>\n",
       "      <td>GOEGL8548500</td>\n",
       "      <td>0 days 00:00:55</td>\n",
       "      <td>GOEGL8548500</td>\n",
       "      <td>2024-01-24 13:17:59</td>\n",
       "      <td>0 days 00:13:08</td>\n",
       "    </tr>\n",
       "    <tr>\n",
       "      <th>1</th>\n",
       "      <td>101824660</td>\n",
       "      <td>GOEGL8548523</td>\n",
       "      <td>Meter Service</td>\n",
       "      <td>Load - Hard Reconnect</td>\n",
       "      <td>Done</td>\n",
       "      <td>Success</td>\n",
       "      <td>0</td>\n",
       "      <td>52</td>\n",
       "      <td>2024-01-24 14:15:56</td>\n",
       "      <td>2024-01-24 14:17:23</td>\n",
       "      <td>SBPDCL</td>\n",
       "      <td>801.91</td>\n",
       "      <td>Y</td>\n",
       "      <td>24</td>\n",
       "      <td>23</td>\n",
       "      <td>NAWADAH</td>\n",
       "      <td>DS-IID</td>\n",
       "      <td>GOEGL8548523</td>\n",
       "      <td>0 days 00:01:27</td>\n",
       "      <td>GOEGL8548523</td>\n",
       "      <td>2024-01-24 14:15:56</td>\n",
       "      <td>0 days 00:01:27</td>\n",
       "    </tr>\n",
       "  </tbody>\n",
       "</table>\n",
       "</div>"
      ],
      "text/plain": [
       "      UDC_ID      UDC_ID_1        TYPE_CD            SUB_TYPE_CD STATUS_CD  \\\n",
       "0  101615324  GOEGL8548500  Meter Service  Load - Hard Reconnect      Done   \n",
       "1  101824660  GOEGL8548523  Meter Service  Load - Hard Reconnect      Done   \n",
       "\n",
       "  OUTCOME_CD ALT_OUTCOME_REASON_CD  ORG_ID           OPEN_TIME  \\\n",
       "0    Success                     0      52 2024-01-24 13:30:12   \n",
       "1    Success                     0      52 2024-01-24 14:15:56   \n",
       "\n",
       "           CLOSE_TIME    NAME  BALANCE LOAD_STATUS  day  previous day  \\\n",
       "0 2024-01-24 13:31:07  SBPDCL   -30.29           Y   24            23   \n",
       "1 2024-01-24 14:17:23  SBPDCL   801.91           Y   24            23   \n",
       "\n",
       "   DIVISION CATEGORY NAME FULL_METER_NUMBER DIFF_OPEN_CLOSE      METER NO  \\\n",
       "0  BANKIPUR    NDS-IID(B)      GOEGL8548500 0 days 00:00:55  GOEGL8548500   \n",
       "1   NAWADAH        DS-IID      GOEGL8548523 0 days 00:01:27  GOEGL8548523   \n",
       "\n",
       "        RECHARGE DATE DIFF_CLOSE_RECHARGE  \n",
       "0 2024-01-24 13:17:59     0 days 00:13:08  \n",
       "1 2024-01-24 14:15:56     0 days 00:01:27  "
      ]
     },
     "execution_count": 56,
     "metadata": {},
     "output_type": "execute_result"
    }
   ],
   "source": [
    "CONCAT_FINAL_DATA.head(2)"
   ]
  },
  {
   "cell_type": "code",
   "execution_count": 57,
   "metadata": {},
   "outputs": [],
   "source": [
    "CONCAT_FINAL_DATA['days'] = CONCAT_FINAL_DATA['DIFF_CLOSE_RECHARGE'].dt.days\n",
    "CONCAT_FINAL_DATA['hours'] = (CONCAT_FINAL_DATA['DIFF_CLOSE_RECHARGE'].dt.seconds // 3600).fillna(0).astype(int)\n",
    "CONCAT_FINAL_DATA['minutes'] = ((CONCAT_FINAL_DATA['DIFF_CLOSE_RECHARGE'].dt.seconds // 60) % 60).fillna(0).astype(int)\n"
   ]
  },
  {
   "cell_type": "code",
   "execution_count": 58,
   "metadata": {},
   "outputs": [],
   "source": [
    "CONCAT_FINAL_DATA['days_new'] = CONCAT_FINAL_DATA['days'].apply(lambda x: int(x) if pd.notna(x) else x)"
   ]
  },
  {
   "cell_type": "code",
   "execution_count": 59,
   "metadata": {},
   "outputs": [
    {
     "data": {
      "text/html": [
       "<div>\n",
       "<style scoped>\n",
       "    .dataframe tbody tr th:only-of-type {\n",
       "        vertical-align: middle;\n",
       "    }\n",
       "\n",
       "    .dataframe tbody tr th {\n",
       "        vertical-align: top;\n",
       "    }\n",
       "\n",
       "    .dataframe thead th {\n",
       "        text-align: right;\n",
       "    }\n",
       "</style>\n",
       "<table border=\"1\" class=\"dataframe\">\n",
       "  <thead>\n",
       "    <tr style=\"text-align: right;\">\n",
       "      <th></th>\n",
       "      <th>UDC_ID</th>\n",
       "      <th>UDC_ID_1</th>\n",
       "      <th>TYPE_CD</th>\n",
       "      <th>SUB_TYPE_CD</th>\n",
       "      <th>STATUS_CD</th>\n",
       "      <th>OUTCOME_CD</th>\n",
       "      <th>ALT_OUTCOME_REASON_CD</th>\n",
       "      <th>ORG_ID</th>\n",
       "      <th>OPEN_TIME</th>\n",
       "      <th>CLOSE_TIME</th>\n",
       "      <th>NAME</th>\n",
       "      <th>BALANCE</th>\n",
       "      <th>LOAD_STATUS</th>\n",
       "      <th>day</th>\n",
       "      <th>previous day</th>\n",
       "      <th>DIVISION</th>\n",
       "      <th>CATEGORY NAME</th>\n",
       "      <th>FULL_METER_NUMBER</th>\n",
       "      <th>DIFF_OPEN_CLOSE</th>\n",
       "      <th>METER NO</th>\n",
       "      <th>RECHARGE DATE</th>\n",
       "      <th>DIFF_CLOSE_RECHARGE</th>\n",
       "      <th>days</th>\n",
       "      <th>hours</th>\n",
       "      <th>minutes</th>\n",
       "      <th>days_new</th>\n",
       "    </tr>\n",
       "  </thead>\n",
       "  <tbody>\n",
       "    <tr>\n",
       "      <th>0</th>\n",
       "      <td>101615324</td>\n",
       "      <td>GOEGL8548500</td>\n",
       "      <td>Meter Service</td>\n",
       "      <td>Load - Hard Reconnect</td>\n",
       "      <td>Done</td>\n",
       "      <td>Success</td>\n",
       "      <td>0</td>\n",
       "      <td>52</td>\n",
       "      <td>2024-01-24 13:30:12</td>\n",
       "      <td>2024-01-24 13:31:07</td>\n",
       "      <td>SBPDCL</td>\n",
       "      <td>-30.29</td>\n",
       "      <td>Y</td>\n",
       "      <td>24</td>\n",
       "      <td>23</td>\n",
       "      <td>BANKIPUR</td>\n",
       "      <td>NDS-IID(B)</td>\n",
       "      <td>GOEGL8548500</td>\n",
       "      <td>0 days 00:00:55</td>\n",
       "      <td>GOEGL8548500</td>\n",
       "      <td>2024-01-24 13:17:59</td>\n",
       "      <td>0 days 00:13:08</td>\n",
       "      <td>0.0</td>\n",
       "      <td>0</td>\n",
       "      <td>13</td>\n",
       "      <td>0.0</td>\n",
       "    </tr>\n",
       "  </tbody>\n",
       "</table>\n",
       "</div>"
      ],
      "text/plain": [
       "      UDC_ID      UDC_ID_1        TYPE_CD            SUB_TYPE_CD STATUS_CD  \\\n",
       "0  101615324  GOEGL8548500  Meter Service  Load - Hard Reconnect      Done   \n",
       "\n",
       "  OUTCOME_CD ALT_OUTCOME_REASON_CD  ORG_ID           OPEN_TIME  \\\n",
       "0    Success                     0      52 2024-01-24 13:30:12   \n",
       "\n",
       "           CLOSE_TIME    NAME  BALANCE LOAD_STATUS  day  previous day  \\\n",
       "0 2024-01-24 13:31:07  SBPDCL   -30.29           Y   24            23   \n",
       "\n",
       "   DIVISION CATEGORY NAME FULL_METER_NUMBER DIFF_OPEN_CLOSE      METER NO  \\\n",
       "0  BANKIPUR    NDS-IID(B)      GOEGL8548500 0 days 00:00:55  GOEGL8548500   \n",
       "\n",
       "        RECHARGE DATE DIFF_CLOSE_RECHARGE  days  hours  minutes  days_new  \n",
       "0 2024-01-24 13:17:59     0 days 00:13:08   0.0      0       13       0.0  "
      ]
     },
     "execution_count": 59,
     "metadata": {},
     "output_type": "execute_result"
    }
   ],
   "source": [
    "CONCAT_FINAL_DATA.head(1)"
   ]
  },
  {
   "cell_type": "code",
   "execution_count": 60,
   "metadata": {},
   "outputs": [],
   "source": [
    "def SLA_COLUMN(row):\n",
    "    if (pd.isna(row['METER NO'])) or (row['DIFF_CLOSE_RECHARGE'] < pd.Timedelta(0)) or (row['hours']>= 2) :\n",
    "        return '>= 2 hr'\n",
    "    elif (pd.notna(row['METER NO']) and (row['DIFF_CLOSE_RECHARGE'] >= pd.Timedelta(0)) and  (row['hours'] < 1))  and ((row['minutes'] <= 10 ) or (row['minutes'] == 0 )) :\n",
    "        return '<= 10 min'\n",
    "    \n",
    "    elif (pd.notna(row['METER NO']) and (row['DIFF_CLOSE_RECHARGE'] >= pd.Timedelta(0)) and  (row['hours'] < 1))  and (row['minutes'] > 10 ) :\n",
    "        return '<= 1 hr'\n",
    "    elif (pd.notna(row['METER NO']) and (row['DIFF_CLOSE_RECHARGE'] >= pd.Timedelta(0)) and  (row['hours'] >= 1) and (row['hours'] < 2) )  and (row['minutes'] <= 60 ) :\n",
    "        return '<= 2 hr'\n",
    "    else:\n",
    "        return 'other case'\n",
    "\n",
    "CONCAT_FINAL_DATA['SLA'] = CONCAT_FINAL_DATA.apply(SLA_COLUMN, axis=1)\n",
    "\n"
   ]
  },
  {
   "cell_type": "code",
   "execution_count": 61,
   "metadata": {},
   "outputs": [
    {
     "data": {
      "text/plain": [
       "array(['<= 1 hr', '<= 10 min', '<= 2 hr', '>= 2 hr'], dtype=object)"
      ]
     },
     "execution_count": 61,
     "metadata": {},
     "output_type": "execute_result"
    }
   ],
   "source": [
    "#CONCAT_FINAL_DATA[CONCAT_FINAL_DATA['DIFF_CLOSE_RECHARGE'] < pd.Timedelta(0)].head()\n",
    "#CONCAT_FINAL_DATA[CONCAT_FINAL_DATA['hours']>= 2]\n",
    "CONCAT_FINAL_DATA['SLA'].unique()"
   ]
  },
  {
   "cell_type": "code",
   "execution_count": 62,
   "metadata": {},
   "outputs": [
    {
     "data": {
      "text/html": [
       "<div>\n",
       "<style scoped>\n",
       "    .dataframe tbody tr th:only-of-type {\n",
       "        vertical-align: middle;\n",
       "    }\n",
       "\n",
       "    .dataframe tbody tr th {\n",
       "        vertical-align: top;\n",
       "    }\n",
       "\n",
       "    .dataframe thead th {\n",
       "        text-align: right;\n",
       "    }\n",
       "</style>\n",
       "<table border=\"1\" class=\"dataframe\">\n",
       "  <thead>\n",
       "    <tr style=\"text-align: right;\">\n",
       "      <th></th>\n",
       "      <th>UDC_ID</th>\n",
       "      <th>UDC_ID_1</th>\n",
       "      <th>TYPE_CD</th>\n",
       "      <th>SUB_TYPE_CD</th>\n",
       "      <th>STATUS_CD</th>\n",
       "      <th>OUTCOME_CD</th>\n",
       "      <th>ALT_OUTCOME_REASON_CD</th>\n",
       "      <th>ORG_ID</th>\n",
       "      <th>OPEN_TIME</th>\n",
       "      <th>CLOSE_TIME</th>\n",
       "      <th>NAME</th>\n",
       "      <th>BALANCE</th>\n",
       "      <th>LOAD_STATUS</th>\n",
       "      <th>day</th>\n",
       "      <th>previous day</th>\n",
       "      <th>DIVISION</th>\n",
       "      <th>CATEGORY NAME</th>\n",
       "      <th>FULL_METER_NUMBER</th>\n",
       "      <th>DIFF_OPEN_CLOSE</th>\n",
       "      <th>METER NO</th>\n",
       "      <th>RECHARGE DATE</th>\n",
       "      <th>DIFF_CLOSE_RECHARGE</th>\n",
       "      <th>days</th>\n",
       "      <th>hours</th>\n",
       "      <th>minutes</th>\n",
       "      <th>days_new</th>\n",
       "      <th>SLA</th>\n",
       "    </tr>\n",
       "  </thead>\n",
       "  <tbody>\n",
       "  </tbody>\n",
       "</table>\n",
       "</div>"
      ],
      "text/plain": [
       "Empty DataFrame\n",
       "Columns: [UDC_ID, UDC_ID_1, TYPE_CD, SUB_TYPE_CD, STATUS_CD, OUTCOME_CD, ALT_OUTCOME_REASON_CD, ORG_ID, OPEN_TIME, CLOSE_TIME, NAME, BALANCE, LOAD_STATUS, day, previous day, DIVISION, CATEGORY NAME, FULL_METER_NUMBER, DIFF_OPEN_CLOSE, METER NO, RECHARGE DATE, DIFF_CLOSE_RECHARGE, days, hours, minutes, days_new, SLA]\n",
       "Index: []"
      ]
     },
     "execution_count": 62,
     "metadata": {},
     "output_type": "execute_result"
    }
   ],
   "source": [
    "CONCAT_FINAL_DATA[CONCAT_FINAL_DATA['SLA']=='other case'].head()\n",
    "#CONCAT_FINAL_DATA[CONCAT_FINAL_DATA['METER NO'].isnull()].shape"
   ]
  },
  {
   "cell_type": "code",
   "execution_count": 63,
   "metadata": {},
   "outputs": [],
   "source": [
    "# save output data\n",
    "\n",
    "CONCAT_FINAL_DATA.to_csv(r\"C:\\Users\\Ratan Kumar Jha\\Desktop\\Daily progress report\\RC_DC_TRACKER\\OUTPUT FILE\\CONCAT_FINAL_DATA.csv\",index=False)"
   ]
  },
  {
   "cell_type": "code",
   "execution_count": null,
   "metadata": {},
   "outputs": [],
   "source": []
  },
  {
   "cell_type": "code",
   "execution_count": null,
   "metadata": {},
   "outputs": [],
   "source": []
  }
 ],
 "metadata": {
  "kernelspec": {
   "display_name": "Python 3",
   "language": "python",
   "name": "python3"
  },
  "language_info": {
   "codemirror_mode": {
    "name": "ipython",
    "version": 3
   },
   "file_extension": ".py",
   "mimetype": "text/x-python",
   "name": "python",
   "nbconvert_exporter": "python",
   "pygments_lexer": "ipython3",
   "version": "3.9.18"
  }
 },
 "nbformat": 4,
 "nbformat_minor": 2
}
