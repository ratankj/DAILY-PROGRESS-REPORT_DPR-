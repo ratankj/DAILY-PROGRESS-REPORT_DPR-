{
 "cells": [
  {
   "cell_type": "code",
   "execution_count": 1,
   "metadata": {},
   "outputs": [],
   "source": [
    "import pandas as pd\n",
    "import pandas as pd\n",
    "import numpy as np\n",
    "import os\n",
    "import sys\n",
    "from datetime import datetime, timedelta\n",
    "pd.set_option('display.max_columns', None)"
   ]
  },
  {
   "cell_type": "code",
   "execution_count": 2,
   "metadata": {},
   "outputs": [],
   "source": [
    "NC_TRACKER_28_JAN_24=pd.read_excel(r\"C:\\Users\\Ratan Kumar Jha\\Desktop\\Daily progress report\\NC_TRACKER\\PREVIOUS WEEK REPORT\\NC_TRACKER_28_JAN_24.xlsx\")\n",
    "NC_TRACKER_28_JAN_24.to_csv(r\"C:\\PYTHON\\EDF_CODE_AUTOMATION_PYTHON\\DAILY-PROGRESS-REPORT_DPR-\\OUTPUT_NC_TRACKER\\NC_TRACKER_28_JAN_24.csv\",index= False)\n",
    "NC_TRACKER_28_JAN_24=pd.read_csv(r\"C:\\PYTHON\\EDF_CODE_AUTOMATION_PYTHON\\DAILY-PROGRESS-REPORT_DPR-\\OUTPUT_NC_TRACKER\\NC_TRACKER_28_JAN_24.csv\")"
   ]
  },
  {
   "cell_type": "code",
   "execution_count": 3,
   "metadata": {},
   "outputs": [
    {
     "data": {
      "text/html": [
       "<div>\n",
       "<style scoped>\n",
       "    .dataframe tbody tr th:only-of-type {\n",
       "        vertical-align: middle;\n",
       "    }\n",
       "\n",
       "    .dataframe tbody tr th {\n",
       "        vertical-align: top;\n",
       "    }\n",
       "\n",
       "    .dataframe thead th {\n",
       "        text-align: right;\n",
       "    }\n",
       "</style>\n",
       "<table border=\"1\" class=\"dataframe\">\n",
       "  <thead>\n",
       "    <tr style=\"text-align: right;\">\n",
       "      <th></th>\n",
       "      <th>S.No</th>\n",
       "      <th>DeviceId</th>\n",
       "      <th>Email Time</th>\n",
       "      <th>Ticket Date</th>\n",
       "      <th>Vendor Resolution Plan Date</th>\n",
       "      <th>Vendor Resolved Date</th>\n",
       "      <th>New/OLD Cases</th>\n",
       "      <th>Jan- Plan</th>\n",
       "      <th>InstallationDatetime</th>\n",
       "      <th>Last DP Date</th>\n",
       "      <th>Last BP Date</th>\n",
       "      <th>Ip</th>\n",
       "      <th>Ping Status</th>\n",
       "      <th>Consumer ID</th>\n",
       "      <th>Installation No</th>\n",
       "      <th>Name</th>\n",
       "      <th>Address</th>\n",
       "      <th>Mobile Number</th>\n",
       "      <th>Utility Name</th>\n",
       "      <th>MRU</th>\n",
       "      <th>Lat</th>\n",
       "      <th>Long</th>\n",
       "      <th>Category Name</th>\n",
       "      <th>Phase</th>\n",
       "      <th>Town</th>\n",
       "      <th>Vendor Name</th>\n",
       "      <th>Section</th>\n",
       "      <th>Division</th>\n",
       "      <th>Cluster</th>\n",
       "      <th>Ageing</th>\n",
       "      <th>Tenure</th>\n",
       "      <th>Priority</th>\n",
       "      <th>Previous Field Remarks</th>\n",
       "      <th>Bucket</th>\n",
       "      <th>Responsibility</th>\n",
       "      <th>IT Issue</th>\n",
       "      <th>EESL Remarks 1</th>\n",
       "      <th>EESL Remarks</th>\n",
       "      <th>EESL Bucket</th>\n",
       "    </tr>\n",
       "  </thead>\n",
       "  <tbody>\n",
       "    <tr>\n",
       "      <th>0</th>\n",
       "      <td>1</td>\n",
       "      <td>LT8072490</td>\n",
       "      <td>6:00 P.M</td>\n",
       "      <td>2023-11-05</td>\n",
       "      <td>NaN</td>\n",
       "      <td>NaN</td>\n",
       "      <td>Old Case</td>\n",
       "      <td>Old Case</td>\n",
       "      <td>2023-10-10 18:53:52</td>\n",
       "      <td>2023-10-27</td>\n",
       "      <td>NaN</td>\n",
       "      <td>2405:0203:0535:216B:0000:0000:0000:0010</td>\n",
       "      <td>NaN</td>\n",
       "      <td>108709143</td>\n",
       "      <td>5004055256</td>\n",
       "      <td>MUKESH KUMAR</td>\n",
       "      <td>KHATA NO 162, WARD NO</td>\n",
       "      <td>9546520585</td>\n",
       "      <td>SBPD</td>\n",
       "      <td>0</td>\n",
       "      <td>25.553647</td>\n",
       "      <td>84.662457</td>\n",
       "      <td>NDS-IID(B)</td>\n",
       "      <td>3</td>\n",
       "      <td>Ara</td>\n",
       "      <td>Astute</td>\n",
       "      <td>SEC-HEADQUARTER</td>\n",
       "      <td>ARRAH</td>\n",
       "      <td>Rakesh Kumar</td>\n",
       "      <td>93</td>\n",
       "      <td>61-120 Days</td>\n",
       "      <td>P1</td>\n",
       "      <td>Error 3</td>\n",
       "      <td>VENDOR</td>\n",
       "      <td>Rakesh Kumar</td>\n",
       "      <td>NaN</td>\n",
       "      <td>TSP Issues</td>\n",
       "      <td>TSP Issues</td>\n",
       "      <td>EDF</td>\n",
       "    </tr>\n",
       "  </tbody>\n",
       "</table>\n",
       "</div>"
      ],
      "text/plain": [
       "   S.No   DeviceId Email Time Ticket Date  Vendor Resolution Plan Date  \\\n",
       "0     1  LT8072490   6:00 P.M  2023-11-05                          NaN   \n",
       "\n",
       "   Vendor Resolved Date New/OLD Cases Jan- Plan InstallationDatetime  \\\n",
       "0                   NaN      Old Case  Old Case  2023-10-10 18:53:52   \n",
       "\n",
       "  Last DP Date Last BP Date                                       Ip  \\\n",
       "0   2023-10-27          NaN  2405:0203:0535:216B:0000:0000:0000:0010   \n",
       "\n",
       "  Ping Status  Consumer ID Installation No          Name  \\\n",
       "0         NaN    108709143      5004055256  MUKESH KUMAR   \n",
       "\n",
       "                 Address  Mobile Number Utility Name MRU        Lat  \\\n",
       "0  KHATA NO 162, WARD NO     9546520585         SBPD   0  25.553647   \n",
       "\n",
       "        Long Category Name  Phase Town Vendor Name          Section Division  \\\n",
       "0  84.662457    NDS-IID(B)      3  Ara      Astute  SEC-HEADQUARTER    ARRAH   \n",
       "\n",
       "        Cluster  Ageing       Tenure Priority Previous Field Remarks  Bucket  \\\n",
       "0  Rakesh Kumar      93  61-120 Days       P1                Error 3  VENDOR   \n",
       "\n",
       "  Responsibility IT Issue EESL Remarks 1 EESL Remarks EESL Bucket  \n",
       "0   Rakesh Kumar      NaN     TSP Issues   TSP Issues         EDF  "
      ]
     },
     "execution_count": 3,
     "metadata": {},
     "output_type": "execute_result"
    }
   ],
   "source": [
    "NC_TRACKER_28_JAN_24.head(1)"
   ]
  },
  {
   "cell_type": "code",
   "execution_count": 4,
   "metadata": {},
   "outputs": [],
   "source": [
    "# INFRASTRUCTURE DATA\n",
    "\n",
    "Infrastructure_Devices_NB=pd.read_csv(r\"C:\\Users\\Ratan Kumar Jha\\Desktop\\Daily progress report\\NC_TRACKER\\INPUT_DATA\\Infrastructure_Devices_NB.csv\" , sep = ';')\n",
    "Infrastructure_Devices_SB=pd.read_csv(r\"C:\\Users\\Ratan Kumar Jha\\Desktop\\Daily progress report\\NC_TRACKER\\INPUT_DATA\\Infrastructure_Devices_SB.csv\" , sep = ';')\n"
   ]
  },
  {
   "cell_type": "code",
   "execution_count": 5,
   "metadata": {},
   "outputs": [],
   "source": [
    "Infrastructure_Devices_NB.drop(columns=['Unnamed: 13'],axis=1,inplace=True)\n",
    "Infrastructure_Devices_SB.drop(columns=['Unnamed: 13'],axis=1,inplace=True)"
   ]
  },
  {
   "cell_type": "code",
   "execution_count": null,
   "metadata": {},
   "outputs": [],
   "source": []
  },
  {
   "cell_type": "code",
   "execution_count": null,
   "metadata": {},
   "outputs": [],
   "source": []
  },
  {
   "cell_type": "code",
   "execution_count": 6,
   "metadata": {},
   "outputs": [
    {
     "name": "stderr",
     "output_type": "stream",
     "text": [
      "C:\\Users\\Ratan Kumar Jha\\AppData\\Local\\Temp\\ipykernel_23176\\567392238.py:1: DtypeWarning: Columns (7,11,15) have mixed types. Specify dtype option on import or set low_memory=False.\n",
      "  COMPILED_METER_2021=pd.read_csv(r\"C:\\PYTHON\\EDF_CODE_AUTOMATION_PYTHON\\DAILY-PROGRESS-REPORT_DPR-\\output_folder_data_compliation\\COMPILED_METER_2021.csv\")\n",
      "C:\\Users\\Ratan Kumar Jha\\AppData\\Local\\Temp\\ipykernel_23176\\567392238.py:2: DtypeWarning: Columns (7,11) have mixed types. Specify dtype option on import or set low_memory=False.\n",
      "  COMPLIED_METER_2022=pd.read_csv(r\"C:\\PYTHON\\EDF_CODE_AUTOMATION_PYTHON\\DAILY-PROGRESS-REPORT_DPR-\\output_folder_data_compliation\\COMPLIED_METER_2022.csv\")\n",
      "C:\\Users\\Ratan Kumar Jha\\AppData\\Local\\Temp\\ipykernel_23176\\567392238.py:3: DtypeWarning: Columns (18) have mixed types. Specify dtype option on import or set low_memory=False.\n",
      "  COMPLIED_METER_2023=pd.read_csv(r\"C:\\PYTHON\\EDF_CODE_AUTOMATION_PYTHON\\DAILY-PROGRESS-REPORT_DPR-\\output_folder_data_compliation\\COMPLIED_METER_2023.csv\")\n"
     ]
    }
   ],
   "source": [
    "COMPILED_METER_2021=pd.read_csv(r\"C:\\PYTHON\\EDF_CODE_AUTOMATION_PYTHON\\DAILY-PROGRESS-REPORT_DPR-\\output_folder_data_compliation\\COMPILED_METER_2021.csv\")\n",
    "COMPLIED_METER_2022=pd.read_csv(r\"C:\\PYTHON\\EDF_CODE_AUTOMATION_PYTHON\\DAILY-PROGRESS-REPORT_DPR-\\output_folder_data_compliation\\COMPLIED_METER_2022.csv\")\n",
    "COMPLIED_METER_2023=pd.read_csv(r\"C:\\PYTHON\\EDF_CODE_AUTOMATION_PYTHON\\DAILY-PROGRESS-REPORT_DPR-\\output_folder_data_compliation\\COMPLIED_METER_2023.csv\")\n",
    "COMPLIED_METER_2024=pd.read_csv(r\"C:\\PYTHON\\EDF_CODE_AUTOMATION_PYTHON\\DAILY-PROGRESS-REPORT_DPR-\\output_folder_data_compliation\\COMPLIED_METER_2024.csv\")"
   ]
  },
  {
   "cell_type": "code",
   "execution_count": 7,
   "metadata": {},
   "outputs": [
    {
     "data": {
      "text/plain": [
       "(1528269, 14)"
      ]
     },
     "execution_count": 7,
     "metadata": {},
     "output_type": "execute_result"
    }
   ],
   "source": [
    "# PRIVILAGE DATA\n",
    "\n",
    "\n",
    "Orgwise_Privilege_group_status_SB=pd.read_csv(r\"C:\\Users\\Ratan Kumar Jha\\Desktop\\Daily progress report\\RC_DC_TRACKER\\RC_DC_INPUT_FILE\\Orgwise_Privilege_group_status_SB.csv\")\n",
    "Orgwise_Privilege_group_status_NB=pd.read_csv(r\"C:\\Users\\Ratan Kumar Jha\\Desktop\\Daily progress report\\RC_DC_TRACKER\\RC_DC_INPUT_FILE\\Orgwise_Privilege_group_status_NB.csv\")\n",
    "\n",
    "\n",
    "# concat data  concat_Orgwise_Privilege_group_status_NB_SB\n",
    "concat_Orgwise_Privilege_group_status_NB_SB = pd.concat([Orgwise_Privilege_group_status_SB,Orgwise_Privilege_group_status_NB],ignore_index=True)\n",
    "\n",
    "# dop duplicate in  concat_Orgwise_Privilege_group_status_NB_SB\n",
    "concat_Orgwise_Privilege_group_status_NB_SB.drop_duplicates(subset=['METERNO'], keep='first', inplace=True, ignore_index=True)\n",
    "\n",
    "concat_Orgwise_Privilege_group_status_NB_SB.shape\n"
   ]
  },
  {
   "cell_type": "code",
   "execution_count": 8,
   "metadata": {},
   "outputs": [],
   "source": [
    "# upper letter\n",
    "concat_Orgwise_Privilege_group_status_NB_SB.columns = concat_Orgwise_Privilege_group_status_NB_SB.columns.str.upper()\n",
    "\n",
    "\n",
    "# Remove leading and trailing whitespaces from all columns where dtype is 'O'\n",
    "concat_Orgwise_Privilege_group_status_NB_SB = concat_Orgwise_Privilege_group_status_NB_SB.apply(lambda x: x.str.strip() if x.dtype == 'O' else x)\n",
    "\n",
    "\n"
   ]
  },
  {
   "cell_type": "code",
   "execution_count": null,
   "metadata": {},
   "outputs": [],
   "source": []
  },
  {
   "cell_type": "code",
   "execution_count": 9,
   "metadata": {},
   "outputs": [],
   "source": [
    "# compiled data\n",
    "ALL_DATA_COMPILATION_MERGE_2023 = pd.concat([COMPILED_METER_2021, COMPLIED_METER_2022,COMPLIED_METER_2023], ignore_index=True)\n",
    "\n",
    "# DATA COMPILATION MERGE\n",
    "\n",
    "ALL_DATA_COMPILATION_MERGE = pd.concat([ALL_DATA_COMPILATION_MERGE_2023,COMPLIED_METER_2024], ignore_index=True)\n",
    "\n",
    "\n",
    "# changes in dataset like :- UPPER, SPACE REMOVAL , DATATYPE\n",
    "\n",
    "ALL_DATA_COMPILATION_MERGE = ALL_DATA_COMPILATION_MERGE.astype(str)\n",
    "ALL_DATA_COMPILATION_MERGE.columns = ALL_DATA_COMPILATION_MERGE.columns.str.upper()\n",
    "ALL_DATA_COMPILATION_MERGE = ALL_DATA_COMPILATION_MERGE.apply(lambda x: x.str.strip() if x.dtype == 'O' else x)\n",
    "ALL_DATA_COMPILATION_MERGE.columns = ALL_DATA_COMPILATION_MERGE.columns.str.strip()\n",
    "\n",
    "\n",
    "# CONVERT INTO DATETIME, SORT VALUES AND DROP DUPLICATES\n",
    "ALL_DATA_COMPILATION_MERGE['REPLACEMENT DATE'] = pd.to_datetime(ALL_DATA_COMPILATION_MERGE['REPLACEMENT DATE'])\n",
    "ALL_DATA_COMPILATION_MERGE.sort_values(by=['REPLACEMENT DATE'],ascending=False,inplace= True)\n",
    "\n",
    "# drop duplicate keep first , other drop\n",
    "\n",
    "ALL_DATA_COMPILATION_MERGE.drop_duplicates(subset=['NEW METER NO'], keep='first', inplace=True, ignore_index=True)\n"
   ]
  },
  {
   "cell_type": "code",
   "execution_count": 10,
   "metadata": {},
   "outputs": [
    {
     "data": {
      "text/html": [
       "<div>\n",
       "<style scoped>\n",
       "    .dataframe tbody tr th:only-of-type {\n",
       "        vertical-align: middle;\n",
       "    }\n",
       "\n",
       "    .dataframe tbody tr th {\n",
       "        vertical-align: top;\n",
       "    }\n",
       "\n",
       "    .dataframe thead th {\n",
       "        text-align: right;\n",
       "    }\n",
       "</style>\n",
       "<table border=\"1\" class=\"dataframe\">\n",
       "  <thead>\n",
       "    <tr style=\"text-align: right;\">\n",
       "      <th></th>\n",
       "      <th>SL</th>\n",
       "      <th>SECTION ID</th>\n",
       "      <th>CLUSTER</th>\n",
       "      <th>CATEGORY</th>\n",
       "      <th>WO STATUS</th>\n",
       "      <th>WORK ORDER TYPE</th>\n",
       "      <th>NEW METER NO</th>\n",
       "      <th>CONSUMER ID</th>\n",
       "      <th>INSTALLATION_NUMBER</th>\n",
       "      <th>NAME</th>\n",
       "      <th>ADDRESS</th>\n",
       "      <th>MOBILE NUMBER</th>\n",
       "      <th>UTILITY NAME</th>\n",
       "      <th>REPLACEMENT DATE</th>\n",
       "      <th>MRU</th>\n",
       "      <th>LAT</th>\n",
       "      <th>LONG</th>\n",
       "      <th>CATEGORY NAME</th>\n",
       "      <th>PHASE</th>\n",
       "      <th>TOWN</th>\n",
       "      <th>VENDOR NAME</th>\n",
       "      <th>SECTION</th>\n",
       "      <th>DIVISION</th>\n",
       "      <th>STATUS</th>\n",
       "      <th>VENDOR_MANAGER</th>\n",
       "      <th>VENDOR_PLANNER</th>\n",
       "      <th>DUPLICATE</th>\n",
       "      <th>SECTION_ID</th>\n",
       "    </tr>\n",
       "  </thead>\n",
       "  <tbody>\n",
       "  </tbody>\n",
       "</table>\n",
       "</div>"
      ],
      "text/plain": [
       "Empty DataFrame\n",
       "Columns: [SL, SECTION ID, CLUSTER, CATEGORY, WO STATUS, WORK ORDER TYPE, NEW METER NO, CONSUMER ID, INSTALLATION_NUMBER, NAME, ADDRESS, MOBILE NUMBER, UTILITY NAME, REPLACEMENT DATE, MRU, LAT, LONG, CATEGORY NAME, PHASE, TOWN, VENDOR NAME, SECTION, DIVISION, STATUS, VENDOR_MANAGER, VENDOR_PLANNER, DUPLICATE, SECTION_ID]\n",
       "Index: []"
      ]
     },
     "execution_count": 10,
     "metadata": {},
     "output_type": "execute_result"
    }
   ],
   "source": [
    "ALL_DATA_COMPILATION_MERGE[ALL_DATA_COMPILATION_MERGE.duplicated(subset=['NEW METER NO'],keep=False)].sort_values(by=['NEW METER NO','REPLACEMENT DATE'],ascending=[True,False]).head(10)"
   ]
  },
  {
   "cell_type": "code",
   "execution_count": 11,
   "metadata": {},
   "outputs": [],
   "source": [
    "\n",
    "# Custom function to update meter numbers\n",
    "def update_meter_number(meter_number):\n",
    "    if meter_number.startswith('GP') or meter_number.startswith('GL'):\n",
    "        return 'GOE' + meter_number\n",
    "    elif meter_number.startswith('LT'):\n",
    "        return 'LNT' + meter_number\n",
    "    else:\n",
    "        return meter_number\n",
    "\n",
    "# Apply the custom function to each element in the 'METER NO.' column\n",
    "ALL_DATA_COMPILATION_MERGE['FULL_METER_NUMBER'] = ALL_DATA_COMPILATION_MERGE['NEW METER NO'].apply(update_meter_number)\n"
   ]
  },
  {
   "cell_type": "code",
   "execution_count": null,
   "metadata": {},
   "outputs": [],
   "source": []
  },
  {
   "cell_type": "code",
   "execution_count": 12,
   "metadata": {},
   "outputs": [],
   "source": [
    "COMPILE_DATA_NB_SB = pd.concat([Infrastructure_Devices_NB, Infrastructure_Devices_SB], ignore_index=True)"
   ]
  },
  {
   "cell_type": "code",
   "execution_count": 13,
   "metadata": {},
   "outputs": [
    {
     "data": {
      "text/html": [
       "<div>\n",
       "<style scoped>\n",
       "    .dataframe tbody tr th:only-of-type {\n",
       "        vertical-align: middle;\n",
       "    }\n",
       "\n",
       "    .dataframe tbody tr th {\n",
       "        vertical-align: top;\n",
       "    }\n",
       "\n",
       "    .dataframe thead th {\n",
       "        text-align: right;\n",
       "    }\n",
       "</style>\n",
       "<table border=\"1\" class=\"dataframe\">\n",
       "  <thead>\n",
       "    <tr style=\"text-align: right;\">\n",
       "      <th></th>\n",
       "      <th>InstallationDatetime</th>\n",
       "      <th>EntryDatetime</th>\n",
       "      <th>Utility</th>\n",
       "      <th>UtilitySiteId</th>\n",
       "      <th>UtilityDeviceId</th>\n",
       "      <th>SerialNumber</th>\n",
       "      <th>LastS05</th>\n",
       "      <th>LastS02</th>\n",
       "      <th>LastS04</th>\n",
       "      <th>CoordinateX</th>\n",
       "      <th>CoordinateY</th>\n",
       "      <th>StateName</th>\n",
       "      <th>Ip</th>\n",
       "    </tr>\n",
       "  </thead>\n",
       "  <tbody>\n",
       "    <tr>\n",
       "      <th>0</th>\n",
       "      <td>1/9/2024 1:13:57 PM</td>\n",
       "      <td>1/24/2023 6:19:05 PM</td>\n",
       "      <td>NBPDCL</td>\n",
       "      <td>5002505017</td>\n",
       "      <td>LNTLT8053415</td>\n",
       "      <td>LT8053415</td>\n",
       "      <td>2/4/2024 12:00:00 AM</td>\n",
       "      <td>NaN</td>\n",
       "      <td>2/1/2024 12:00:00 AM</td>\n",
       "      <td>86.78975</td>\n",
       "      <td>25.92445</td>\n",
       "      <td>Installed&amp;&amp;Imported</td>\n",
       "      <td>2405:0203:0531:8802:0000:0000:0000:0010</td>\n",
       "    </tr>\n",
       "  </tbody>\n",
       "</table>\n",
       "</div>"
      ],
      "text/plain": [
       "  InstallationDatetime         EntryDatetime Utility UtilitySiteId  \\\n",
       "0  1/9/2024 1:13:57 PM  1/24/2023 6:19:05 PM  NBPDCL    5002505017   \n",
       "\n",
       "  UtilityDeviceId SerialNumber               LastS05 LastS02  \\\n",
       "0    LNTLT8053415    LT8053415  2/4/2024 12:00:00 AM     NaN   \n",
       "\n",
       "                LastS04  CoordinateX  CoordinateY            StateName  \\\n",
       "0  2/1/2024 12:00:00 AM     86.78975     25.92445  Installed&&Imported   \n",
       "\n",
       "                                        Ip  \n",
       "0  2405:0203:0531:8802:0000:0000:0000:0010  "
      ]
     },
     "execution_count": 13,
     "metadata": {},
     "output_type": "execute_result"
    }
   ],
   "source": [
    "COMPILE_DATA_NB_SB.head(1)"
   ]
  },
  {
   "cell_type": "code",
   "execution_count": 14,
   "metadata": {},
   "outputs": [],
   "source": [
    "\n",
    "# Custom function to update meter numbers\n",
    "def update_meter_number(meter_number):\n",
    "    if meter_number.startswith('GP') or meter_number.startswith('GL'):\n",
    "        return 'GOE' + meter_number\n",
    "    elif meter_number.startswith('LT'):\n",
    "        return 'LNT' + meter_number\n",
    "    else:\n",
    "        return meter_number\n",
    "\n",
    "# Apply the custom function to each element in the 'METER NO.' column\n",
    "COMPILE_DATA_NB_SB['FULL_METER_NUMBER_INFRA'] = COMPILE_DATA_NB_SB['SerialNumber'].apply(update_meter_number)\n"
   ]
  },
  {
   "cell_type": "code",
   "execution_count": null,
   "metadata": {},
   "outputs": [],
   "source": []
  },
  {
   "cell_type": "markdown",
   "metadata": {},
   "source": [
    "# code"
   ]
  },
  {
   "cell_type": "code",
   "execution_count": 15,
   "metadata": {},
   "outputs": [
    {
     "data": {
      "text/html": [
       "<div>\n",
       "<style scoped>\n",
       "    .dataframe tbody tr th:only-of-type {\n",
       "        vertical-align: middle;\n",
       "    }\n",
       "\n",
       "    .dataframe tbody tr th {\n",
       "        vertical-align: top;\n",
       "    }\n",
       "\n",
       "    .dataframe thead th {\n",
       "        text-align: right;\n",
       "    }\n",
       "</style>\n",
       "<table border=\"1\" class=\"dataframe\">\n",
       "  <thead>\n",
       "    <tr style=\"text-align: right;\">\n",
       "      <th></th>\n",
       "      <th>InstallationDatetime</th>\n",
       "      <th>EntryDatetime</th>\n",
       "      <th>Utility</th>\n",
       "      <th>UtilitySiteId</th>\n",
       "      <th>UtilityDeviceId</th>\n",
       "      <th>SerialNumber</th>\n",
       "      <th>LastS05</th>\n",
       "      <th>LastS02</th>\n",
       "      <th>LastS04</th>\n",
       "      <th>CoordinateX</th>\n",
       "      <th>CoordinateY</th>\n",
       "      <th>StateName</th>\n",
       "      <th>Ip</th>\n",
       "      <th>FULL_METER_NUMBER_INFRA</th>\n",
       "    </tr>\n",
       "  </thead>\n",
       "  <tbody>\n",
       "    <tr>\n",
       "      <th>0</th>\n",
       "      <td>1/9/2024 1:13:57 PM</td>\n",
       "      <td>1/24/2023 6:19:05 PM</td>\n",
       "      <td>NBPDCL</td>\n",
       "      <td>5002505017</td>\n",
       "      <td>LNTLT8053415</td>\n",
       "      <td>LT8053415</td>\n",
       "      <td>2/4/2024 12:00:00 AM</td>\n",
       "      <td>NaN</td>\n",
       "      <td>2/1/2024 12:00:00 AM</td>\n",
       "      <td>86.78975</td>\n",
       "      <td>25.92445</td>\n",
       "      <td>Installed&amp;&amp;Imported</td>\n",
       "      <td>2405:0203:0531:8802:0000:0000:0000:0010</td>\n",
       "      <td>LNTLT8053415</td>\n",
       "    </tr>\n",
       "  </tbody>\n",
       "</table>\n",
       "</div>"
      ],
      "text/plain": [
       "  InstallationDatetime         EntryDatetime Utility UtilitySiteId  \\\n",
       "0  1/9/2024 1:13:57 PM  1/24/2023 6:19:05 PM  NBPDCL    5002505017   \n",
       "\n",
       "  UtilityDeviceId SerialNumber               LastS05 LastS02  \\\n",
       "0    LNTLT8053415    LT8053415  2/4/2024 12:00:00 AM     NaN   \n",
       "\n",
       "                LastS04  CoordinateX  CoordinateY            StateName  \\\n",
       "0  2/1/2024 12:00:00 AM     86.78975     25.92445  Installed&&Imported   \n",
       "\n",
       "                                        Ip FULL_METER_NUMBER_INFRA  \n",
       "0  2405:0203:0531:8802:0000:0000:0000:0010            LNTLT8053415  "
      ]
     },
     "execution_count": 15,
     "metadata": {},
     "output_type": "execute_result"
    }
   ],
   "source": [
    "COMPILE_DATA_NB_SB.head(1)"
   ]
  },
  {
   "cell_type": "code",
   "execution_count": 16,
   "metadata": {},
   "outputs": [
    {
     "name": "stderr",
     "output_type": "stream",
     "text": [
      "C:\\Users\\Ratan Kumar Jha\\AppData\\Local\\Temp\\ipykernel_23176\\3164480658.py:1: UserWarning: Could not infer format, so each element will be parsed individually, falling back to `dateutil`. To ensure parsing is consistent and as-expected, please specify a format.\n",
      "  COMPILE_DATA_NB_SB['InstallationDatetime'] = pd.to_datetime(COMPILE_DATA_NB_SB['InstallationDatetime'])\n",
      "C:\\Users\\Ratan Kumar Jha\\AppData\\Local\\Temp\\ipykernel_23176\\3164480658.py:2: UserWarning: Could not infer format, so each element will be parsed individually, falling back to `dateutil`. To ensure parsing is consistent and as-expected, please specify a format.\n",
      "  COMPILE_DATA_NB_SB['EntryDatetime'] = pd.to_datetime(COMPILE_DATA_NB_SB['EntryDatetime'])\n",
      "C:\\Users\\Ratan Kumar Jha\\AppData\\Local\\Temp\\ipykernel_23176\\3164480658.py:3: UserWarning: Could not infer format, so each element will be parsed individually, falling back to `dateutil`. To ensure parsing is consistent and as-expected, please specify a format.\n",
      "  COMPILE_DATA_NB_SB['LastS05'] = pd.to_datetime(COMPILE_DATA_NB_SB['LastS05'])\n",
      "C:\\Users\\Ratan Kumar Jha\\AppData\\Local\\Temp\\ipykernel_23176\\3164480658.py:4: UserWarning: Could not infer format, so each element will be parsed individually, falling back to `dateutil`. To ensure parsing is consistent and as-expected, please specify a format.\n",
      "  COMPILE_DATA_NB_SB['LastS02'] = pd.to_datetime(COMPILE_DATA_NB_SB['LastS02'])\n",
      "C:\\Users\\Ratan Kumar Jha\\AppData\\Local\\Temp\\ipykernel_23176\\3164480658.py:5: UserWarning: Could not infer format, so each element will be parsed individually, falling back to `dateutil`. To ensure parsing is consistent and as-expected, please specify a format.\n",
      "  COMPILE_DATA_NB_SB['LastS04'] = pd.to_datetime(COMPILE_DATA_NB_SB['LastS04'])\n"
     ]
    }
   ],
   "source": [
    "COMPILE_DATA_NB_SB['InstallationDatetime'] = pd.to_datetime(COMPILE_DATA_NB_SB['InstallationDatetime'])\n",
    "COMPILE_DATA_NB_SB['EntryDatetime'] = pd.to_datetime(COMPILE_DATA_NB_SB['EntryDatetime'])\n",
    "COMPILE_DATA_NB_SB['LastS05'] = pd.to_datetime(COMPILE_DATA_NB_SB['LastS05'])\n",
    "COMPILE_DATA_NB_SB['LastS02'] = pd.to_datetime(COMPILE_DATA_NB_SB['LastS02'])\n",
    "COMPILE_DATA_NB_SB['LastS04'] = pd.to_datetime(COMPILE_DATA_NB_SB['LastS04'])"
   ]
  },
  {
   "cell_type": "code",
   "execution_count": null,
   "metadata": {},
   "outputs": [],
   "source": []
  },
  {
   "cell_type": "code",
   "execution_count": 17,
   "metadata": {},
   "outputs": [],
   "source": [
    "COMPILE_DATA_NB_SB_NULL_DATA=COMPILE_DATA_NB_SB[COMPILE_DATA_NB_SB['LastS05'].isnull()]\n",
    "COMPILE_DATA_NB_SB_NOT_NULL_DATA=COMPILE_DATA_NB_SB[~COMPILE_DATA_NB_SB['LastS05'].isnull()]"
   ]
  },
  {
   "cell_type": "code",
   "execution_count": 18,
   "metadata": {},
   "outputs": [
    {
     "data": {
      "text/plain": [
       "(1524264, 14)"
      ]
     },
     "execution_count": 18,
     "metadata": {},
     "output_type": "execute_result"
    }
   ],
   "source": [
    "COMPILE_DATA_NB_SB_NOT_NULL_DATA.shape"
   ]
  },
  {
   "cell_type": "code",
   "execution_count": 19,
   "metadata": {},
   "outputs": [],
   "source": [
    "# days defined"
   ]
  },
  {
   "cell_type": "code",
   "execution_count": 20,
   "metadata": {},
   "outputs": [
    {
     "data": {
      "text/html": [
       "<div>\n",
       "<style scoped>\n",
       "    .dataframe tbody tr th:only-of-type {\n",
       "        vertical-align: middle;\n",
       "    }\n",
       "\n",
       "    .dataframe tbody tr th {\n",
       "        vertical-align: top;\n",
       "    }\n",
       "\n",
       "    .dataframe thead th {\n",
       "        text-align: right;\n",
       "    }\n",
       "</style>\n",
       "<table border=\"1\" class=\"dataframe\">\n",
       "  <thead>\n",
       "    <tr style=\"text-align: right;\">\n",
       "      <th></th>\n",
       "      <th>InstallationDatetime</th>\n",
       "      <th>EntryDatetime</th>\n",
       "      <th>Utility</th>\n",
       "      <th>UtilitySiteId</th>\n",
       "      <th>UtilityDeviceId</th>\n",
       "      <th>SerialNumber</th>\n",
       "      <th>LastS05</th>\n",
       "      <th>LastS02</th>\n",
       "      <th>LastS04</th>\n",
       "      <th>CoordinateX</th>\n",
       "      <th>CoordinateY</th>\n",
       "      <th>StateName</th>\n",
       "      <th>Ip</th>\n",
       "      <th>FULL_METER_NUMBER_INFRA</th>\n",
       "    </tr>\n",
       "  </thead>\n",
       "  <tbody>\n",
       "    <tr>\n",
       "      <th>81</th>\n",
       "      <td>2024-01-03 22:46:02</td>\n",
       "      <td>2023-01-24 18:12:40</td>\n",
       "      <td>NBPDCL</td>\n",
       "      <td>5002360361</td>\n",
       "      <td>LNTLT8052558</td>\n",
       "      <td>LT8052558</td>\n",
       "      <td>2024-01-13</td>\n",
       "      <td>NaT</td>\n",
       "      <td>2024-01-01</td>\n",
       "      <td>85.52303</td>\n",
       "      <td>26.56508</td>\n",
       "      <td>Imported&amp;&amp;Installed</td>\n",
       "      <td>2405:0203:0531:84A9:0000:0000:0000:0010</td>\n",
       "      <td>LNTLT8052558</td>\n",
       "    </tr>\n",
       "    <tr>\n",
       "      <th>283</th>\n",
       "      <td>2023-12-15 19:02:30</td>\n",
       "      <td>2023-01-24 18:09:23</td>\n",
       "      <td>NBPDCL</td>\n",
       "      <td>5003686609</td>\n",
       "      <td>LNTLT8051635</td>\n",
       "      <td>LT8051635</td>\n",
       "      <td>2024-01-27</td>\n",
       "      <td>NaT</td>\n",
       "      <td>2024-01-01</td>\n",
       "      <td>87.94367</td>\n",
       "      <td>26.08711</td>\n",
       "      <td>Imported&amp;&amp;Installed</td>\n",
       "      <td>2405:0203:0531:810E:0000:0000:0000:0010</td>\n",
       "      <td>LNTLT8051635</td>\n",
       "    </tr>\n",
       "    <tr>\n",
       "      <th>382</th>\n",
       "      <td>2023-10-15 21:13:23</td>\n",
       "      <td>2023-01-11 18:08:55</td>\n",
       "      <td>NBPDCL</td>\n",
       "      <td>5000056947</td>\n",
       "      <td>LNTLT8051401</td>\n",
       "      <td>LT8051401</td>\n",
       "      <td>2024-01-25</td>\n",
       "      <td>NaT</td>\n",
       "      <td>2024-01-01</td>\n",
       "      <td>87.48042</td>\n",
       "      <td>25.78156</td>\n",
       "      <td>Imported&amp;&amp;Installed</td>\n",
       "      <td>2405:0203:0531:6995:0000:0000:0000:0010</td>\n",
       "      <td>LNTLT8051401</td>\n",
       "    </tr>\n",
       "    <tr>\n",
       "      <th>481</th>\n",
       "      <td>2023-08-31 20:16:18</td>\n",
       "      <td>2023-01-11 18:07:57</td>\n",
       "      <td>NBPDCL</td>\n",
       "      <td>5000049325</td>\n",
       "      <td>LNTLT8051204</td>\n",
       "      <td>LT8051204</td>\n",
       "      <td>2023-12-02</td>\n",
       "      <td>2023-10-02</td>\n",
       "      <td>2023-10-01</td>\n",
       "      <td>87.47479</td>\n",
       "      <td>25.77657</td>\n",
       "      <td>Imported&amp;&amp;Installed</td>\n",
       "      <td>2405:0203:0531:68D0:0000:0000:0000:0010</td>\n",
       "      <td>LNTLT8051204</td>\n",
       "    </tr>\n",
       "    <tr>\n",
       "      <th>489</th>\n",
       "      <td>2023-11-28 18:13:43</td>\n",
       "      <td>2023-01-11 18:07:27</td>\n",
       "      <td>NBPDCL</td>\n",
       "      <td>5000060788</td>\n",
       "      <td>LNTLT8051185</td>\n",
       "      <td>LT8051185</td>\n",
       "      <td>2024-01-15</td>\n",
       "      <td>NaT</td>\n",
       "      <td>2024-01-01</td>\n",
       "      <td>87.46214</td>\n",
       "      <td>25.77425</td>\n",
       "      <td>Imported&amp;&amp;Installed</td>\n",
       "      <td>2405:0203:0531:68BD:0000:0000:0000:0010</td>\n",
       "      <td>LNTLT8051185</td>\n",
       "    </tr>\n",
       "  </tbody>\n",
       "</table>\n",
       "</div>"
      ],
      "text/plain": [
       "    InstallationDatetime       EntryDatetime Utility UtilitySiteId  \\\n",
       "81   2024-01-03 22:46:02 2023-01-24 18:12:40  NBPDCL    5002360361   \n",
       "283  2023-12-15 19:02:30 2023-01-24 18:09:23  NBPDCL    5003686609   \n",
       "382  2023-10-15 21:13:23 2023-01-11 18:08:55  NBPDCL    5000056947   \n",
       "481  2023-08-31 20:16:18 2023-01-11 18:07:57  NBPDCL    5000049325   \n",
       "489  2023-11-28 18:13:43 2023-01-11 18:07:27  NBPDCL    5000060788   \n",
       "\n",
       "    UtilityDeviceId SerialNumber    LastS05    LastS02    LastS04  \\\n",
       "81     LNTLT8052558    LT8052558 2024-01-13        NaT 2024-01-01   \n",
       "283    LNTLT8051635    LT8051635 2024-01-27        NaT 2024-01-01   \n",
       "382    LNTLT8051401    LT8051401 2024-01-25        NaT 2024-01-01   \n",
       "481    LNTLT8051204    LT8051204 2023-12-02 2023-10-02 2023-10-01   \n",
       "489    LNTLT8051185    LT8051185 2024-01-15        NaT 2024-01-01   \n",
       "\n",
       "     CoordinateX  CoordinateY            StateName  \\\n",
       "81      85.52303     26.56508  Imported&&Installed   \n",
       "283     87.94367     26.08711  Imported&&Installed   \n",
       "382     87.48042     25.78156  Imported&&Installed   \n",
       "481     87.47479     25.77657  Imported&&Installed   \n",
       "489     87.46214     25.77425  Imported&&Installed   \n",
       "\n",
       "                                          Ip FULL_METER_NUMBER_INFRA  \n",
       "81   2405:0203:0531:84A9:0000:0000:0000:0010            LNTLT8052558  \n",
       "283  2405:0203:0531:810E:0000:0000:0000:0010            LNTLT8051635  \n",
       "382  2405:0203:0531:6995:0000:0000:0000:0010            LNTLT8051401  \n",
       "481  2405:0203:0531:68D0:0000:0000:0000:0010            LNTLT8051204  \n",
       "489  2405:0203:0531:68BD:0000:0000:0000:0010            LNTLT8051185  "
      ]
     },
     "execution_count": 20,
     "metadata": {},
     "output_type": "execute_result"
    }
   ],
   "source": [
    "# Calculate the date 7 days ago\n",
    "seven_days_ago = datetime.now() - timedelta(days=7)\n",
    "\n",
    "\n",
    "# Filter the DataFrame to keep only rows before the last 7 days\n",
    "COMPILE_DATA_NB_SB_NOT_NULL_DATA_LAST_7_DAY = COMPILE_DATA_NB_SB_NOT_NULL_DATA[COMPILE_DATA_NB_SB_NOT_NULL_DATA['LastS05'] < seven_days_ago]\n",
    "\n",
    "# Display the filtered DataFrame\n",
    "COMPILE_DATA_NB_SB_NOT_NULL_DATA_LAST_7_DAY.head()"
   ]
  },
  {
   "cell_type": "code",
   "execution_count": 21,
   "metadata": {},
   "outputs": [
    {
     "data": {
      "text/plain": [
       "(98194, 14)"
      ]
     },
     "execution_count": 21,
     "metadata": {},
     "output_type": "execute_result"
    }
   ],
   "source": [
    "COMPILE_DATA_NB_SB_NOT_NULL_DATA_LAST_7_DAY.shape"
   ]
  },
  {
   "cell_type": "code",
   "execution_count": 22,
   "metadata": {},
   "outputs": [
    {
     "name": "stderr",
     "output_type": "stream",
     "text": [
      "C:\\Users\\Ratan Kumar Jha\\AppData\\Local\\Temp\\ipykernel_23176\\203340176.py:1: SettingWithCopyWarning: \n",
      "A value is trying to be set on a copy of a slice from a DataFrame.\n",
      "Try using .loc[row_indexer,col_indexer] = value instead\n",
      "\n",
      "See the caveats in the documentation: https://pandas.pydata.org/pandas-docs/stable/user_guide/indexing.html#returning-a-view-versus-a-copy\n",
      "  COMPILE_DATA_NB_SB_NOT_NULL_DATA_LAST_7_DAY['day']=COMPILE_DATA_NB_SB_NOT_NULL_DATA_LAST_7_DAY['LastS05'].dt.day\n",
      "C:\\Users\\Ratan Kumar Jha\\AppData\\Local\\Temp\\ipykernel_23176\\203340176.py:2: SettingWithCopyWarning: \n",
      "A value is trying to be set on a copy of a slice from a DataFrame.\n",
      "Try using .loc[row_indexer,col_indexer] = value instead\n",
      "\n",
      "See the caveats in the documentation: https://pandas.pydata.org/pandas-docs/stable/user_guide/indexing.html#returning-a-view-versus-a-copy\n",
      "  COMPILE_DATA_NB_SB_NOT_NULL_DATA_LAST_7_DAY['month']=COMPILE_DATA_NB_SB_NOT_NULL_DATA_LAST_7_DAY['LastS05'].dt.month\n",
      "C:\\Users\\Ratan Kumar Jha\\AppData\\Local\\Temp\\ipykernel_23176\\203340176.py:3: SettingWithCopyWarning: \n",
      "A value is trying to be set on a copy of a slice from a DataFrame.\n",
      "Try using .loc[row_indexer,col_indexer] = value instead\n",
      "\n",
      "See the caveats in the documentation: https://pandas.pydata.org/pandas-docs/stable/user_guide/indexing.html#returning-a-view-versus-a-copy\n",
      "  COMPILE_DATA_NB_SB_NOT_NULL_DATA_LAST_7_DAY['year']=COMPILE_DATA_NB_SB_NOT_NULL_DATA_LAST_7_DAY['LastS05'].dt.year\n"
     ]
    }
   ],
   "source": [
    "COMPILE_DATA_NB_SB_NOT_NULL_DATA_LAST_7_DAY['day']=COMPILE_DATA_NB_SB_NOT_NULL_DATA_LAST_7_DAY['LastS05'].dt.day \n",
    "COMPILE_DATA_NB_SB_NOT_NULL_DATA_LAST_7_DAY['month']=COMPILE_DATA_NB_SB_NOT_NULL_DATA_LAST_7_DAY['LastS05'].dt.month\n",
    "COMPILE_DATA_NB_SB_NOT_NULL_DATA_LAST_7_DAY['year']=COMPILE_DATA_NB_SB_NOT_NULL_DATA_LAST_7_DAY['LastS05'].dt.year  "
   ]
  },
  {
   "cell_type": "code",
   "execution_count": 23,
   "metadata": {},
   "outputs": [
    {
     "data": {
      "text/plain": [
       "array([13, 27, 25,  2, 15, 18,  1, 10, 29,  4,  8,  5, 23, 28, 12, 30, 14,\n",
       "       19, 24,  6,  3, 22, 21, 11,  9, 16, 26,  7, 20, 17, 31])"
      ]
     },
     "execution_count": 23,
     "metadata": {},
     "output_type": "execute_result"
    }
   ],
   "source": [
    "COMPILE_DATA_NB_SB_NOT_NULL_DATA_LAST_7_DAY['day'].unique()"
   ]
  },
  {
   "cell_type": "code",
   "execution_count": 24,
   "metadata": {},
   "outputs": [],
   "source": [
    "# CODE TO CHECK LAST 7 DAY DATA PRESENT IN DATAFRAME OR NOT\n",
    "\n",
    "#COMPILE_DATA_NB_SB_NOT_NULL_DATA_LAST_7_DAY[(COMPILE_DATA_NB_SB_NOT_NULL_DATA_LAST_7_DAY['day']==22) & (COMPILE_DATA_NB_SB_NOT_NULL_DATA_LAST_7_DAY['month']==1) & (COMPILE_DATA_NB_SB_NOT_NULL_DATA_LAST_7_DAY['year']==2024) ]"
   ]
  },
  {
   "cell_type": "code",
   "execution_count": 25,
   "metadata": {},
   "outputs": [
    {
     "data": {
      "text/plain": [
       "Index(['InstallationDatetime', 'EntryDatetime', 'Utility', 'UtilitySiteId',\n",
       "       'UtilityDeviceId', 'SerialNumber', 'LastS05', 'LastS02', 'LastS04',\n",
       "       'CoordinateX', 'CoordinateY', 'StateName', 'Ip',\n",
       "       'FULL_METER_NUMBER_INFRA', 'day', 'month', 'year'],\n",
       "      dtype='object')"
      ]
     },
     "execution_count": 25,
     "metadata": {},
     "output_type": "execute_result"
    }
   ],
   "source": [
    "COMPILE_DATA_NB_SB_NOT_NULL_DATA_LAST_7_DAY.columns"
   ]
  },
  {
   "cell_type": "code",
   "execution_count": 26,
   "metadata": {},
   "outputs": [
    {
     "name": "stderr",
     "output_type": "stream",
     "text": [
      "C:\\Users\\Ratan Kumar Jha\\AppData\\Local\\Temp\\ipykernel_23176\\178613027.py:3: SettingWithCopyWarning: \n",
      "A value is trying to be set on a copy of a slice from a DataFrame.\n",
      "Try using .loc[row_indexer,col_indexer] = value instead\n",
      "\n",
      "See the caveats in the documentation: https://pandas.pydata.org/pandas-docs/stable/user_guide/indexing.html#returning-a-view-versus-a-copy\n",
      "  COMPILE_DATA_NB_SB_NOT_NULL_DATA_LAST_7_DAY['SUB_LASTSO5_INSTALLATION'] = COMPILE_DATA_NB_SB_NOT_NULL_DATA_LAST_7_DAY['LastS05'] - COMPILE_DATA_NB_SB_NOT_NULL_DATA_LAST_7_DAY['InstallationDatetime']\n"
     ]
    }
   ],
   "source": [
    "#  INSTALLATION DATE AND LastS05  \n",
    "\n",
    "COMPILE_DATA_NB_SB_NOT_NULL_DATA_LAST_7_DAY['SUB_LASTSO5_INSTALLATION'] = COMPILE_DATA_NB_SB_NOT_NULL_DATA_LAST_7_DAY['LastS05'] - COMPILE_DATA_NB_SB_NOT_NULL_DATA_LAST_7_DAY['InstallationDatetime']"
   ]
  },
  {
   "cell_type": "code",
   "execution_count": 27,
   "metadata": {},
   "outputs": [],
   "source": [
    "import pandas as pd\n",
    "\n",
    "# Assuming CONCAT_NOT_NULL_AND_PRIVILAGE_MERGE_DATA_RECONNECTION_MERGE_RECHARGE is your DataFrame\n",
    "# and 'DIFF_CLOSE_RECHARGE' is the timedelta column\n",
    "\n",
    "# Filter rows with positive diff\n",
    "POSITIVE_DIFF_COMPILE_DATA_NB_SB_NOT_NULL_DATA_LAST_7_DAY = COMPILE_DATA_NB_SB_NOT_NULL_DATA_LAST_7_DAY[\n",
    "    COMPILE_DATA_NB_SB_NOT_NULL_DATA_LAST_7_DAY['SUB_LASTSO5_INSTALLATION'] >= pd.Timedelta(0)]\n",
    "\n",
    "# Filter rows with negative diff\n",
    "NEGATIVE_DIFF_COMPILE_DATA_NB_SB_NOT_NULL_DATA_LAST_7_DAY = COMPILE_DATA_NB_SB_NOT_NULL_DATA_LAST_7_DAY[\n",
    "    COMPILE_DATA_NB_SB_NOT_NULL_DATA_LAST_7_DAY['SUB_LASTSO5_INSTALLATION'] < pd.Timedelta(0)]\n",
    "\n",
    "\n",
    "NULL_DATA_COMPILE_DATA_NB_SB_NOT_NULL_DATA_LAST_7_DAY=COMPILE_DATA_NB_SB_NOT_NULL_DATA_LAST_7_DAY[\n",
    "    COMPILE_DATA_NB_SB_NOT_NULL_DATA_LAST_7_DAY['SUB_LASTSO5_INSTALLATION'].isnull()]"
   ]
  },
  {
   "cell_type": "code",
   "execution_count": 28,
   "metadata": {},
   "outputs": [
    {
     "data": {
      "text/plain": [
       "(94129, 18)"
      ]
     },
     "execution_count": 28,
     "metadata": {},
     "output_type": "execute_result"
    }
   ],
   "source": [
    "POSITIVE_DIFF_COMPILE_DATA_NB_SB_NOT_NULL_DATA_LAST_7_DAY.shape"
   ]
  },
  {
   "cell_type": "code",
   "execution_count": null,
   "metadata": {},
   "outputs": [],
   "source": []
  },
  {
   "cell_type": "markdown",
   "metadata": {},
   "source": [
    "### compilation data"
   ]
  },
  {
   "cell_type": "code",
   "execution_count": 29,
   "metadata": {},
   "outputs": [
    {
     "data": {
      "text/html": [
       "<div>\n",
       "<style scoped>\n",
       "    .dataframe tbody tr th:only-of-type {\n",
       "        vertical-align: middle;\n",
       "    }\n",
       "\n",
       "    .dataframe tbody tr th {\n",
       "        vertical-align: top;\n",
       "    }\n",
       "\n",
       "    .dataframe thead th {\n",
       "        text-align: right;\n",
       "    }\n",
       "</style>\n",
       "<table border=\"1\" class=\"dataframe\">\n",
       "  <thead>\n",
       "    <tr style=\"text-align: right;\">\n",
       "      <th></th>\n",
       "      <th>SL</th>\n",
       "      <th>SECTION ID</th>\n",
       "      <th>CLUSTER</th>\n",
       "      <th>CATEGORY</th>\n",
       "      <th>WO STATUS</th>\n",
       "      <th>WORK ORDER TYPE</th>\n",
       "      <th>NEW METER NO</th>\n",
       "      <th>CONSUMER ID</th>\n",
       "      <th>INSTALLATION_NUMBER</th>\n",
       "      <th>NAME</th>\n",
       "      <th>ADDRESS</th>\n",
       "      <th>MOBILE NUMBER</th>\n",
       "      <th>UTILITY NAME</th>\n",
       "      <th>REPLACEMENT DATE</th>\n",
       "      <th>MRU</th>\n",
       "      <th>LAT</th>\n",
       "      <th>LONG</th>\n",
       "      <th>CATEGORY NAME</th>\n",
       "      <th>PHASE</th>\n",
       "      <th>TOWN</th>\n",
       "      <th>VENDOR NAME</th>\n",
       "      <th>SECTION</th>\n",
       "      <th>DIVISION</th>\n",
       "      <th>STATUS</th>\n",
       "      <th>VENDOR_MANAGER</th>\n",
       "      <th>VENDOR_PLANNER</th>\n",
       "      <th>DUPLICATE</th>\n",
       "      <th>SECTION_ID</th>\n",
       "      <th>FULL_METER_NUMBER</th>\n",
       "    </tr>\n",
       "  </thead>\n",
       "  <tbody>\n",
       "    <tr>\n",
       "      <th>0</th>\n",
       "      <td>23049</td>\n",
       "      <td>nan</td>\n",
       "      <td>NBPDCL-East</td>\n",
       "      <td>End To End</td>\n",
       "      <td>FW NMI Complete</td>\n",
       "      <td>New Meter Installation</td>\n",
       "      <td>GL9070666</td>\n",
       "      <td>nan</td>\n",
       "      <td>522212541032</td>\n",
       "      <td>SARVAN DAS</td>\n",
       "      <td>WARD 3, SALEMPUR TITU</td>\n",
       "      <td>6200599605</td>\n",
       "      <td>NBPD</td>\n",
       "      <td>2024-02-07</td>\n",
       "      <td>nan</td>\n",
       "      <td>25.4659093</td>\n",
       "      <td>85.9815537</td>\n",
       "      <td>DS2D</td>\n",
       "      <td>1.0</td>\n",
       "      <td>Begusarai</td>\n",
       "      <td>hirent</td>\n",
       "      <td>TEGHRA</td>\n",
       "      <td>BARAUNI</td>\n",
       "      <td>Open</td>\n",
       "      <td>hirent_vm_teghra</td>\n",
       "      <td>hirent_tegh_vp1</td>\n",
       "      <td>1.0</td>\n",
       "      <td>11621</td>\n",
       "      <td>GOEGL9070666</td>\n",
       "    </tr>\n",
       "  </tbody>\n",
       "</table>\n",
       "</div>"
      ],
      "text/plain": [
       "      SL SECTION ID      CLUSTER    CATEGORY        WO STATUS  \\\n",
       "0  23049        nan  NBPDCL-East  End To End  FW NMI Complete   \n",
       "\n",
       "          WORK ORDER TYPE NEW METER NO CONSUMER ID INSTALLATION_NUMBER  \\\n",
       "0  New Meter Installation    GL9070666         nan        522212541032   \n",
       "\n",
       "         NAME                ADDRESS MOBILE NUMBER UTILITY NAME  \\\n",
       "0  SARVAN DAS  WARD 3, SALEMPUR TITU    6200599605         NBPD   \n",
       "\n",
       "  REPLACEMENT DATE  MRU         LAT        LONG CATEGORY NAME PHASE  \\\n",
       "0       2024-02-07  nan  25.4659093  85.9815537          DS2D   1.0   \n",
       "\n",
       "        TOWN VENDOR NAME SECTION DIVISION STATUS    VENDOR_MANAGER  \\\n",
       "0  Begusarai      hirent  TEGHRA  BARAUNI   Open  hirent_vm_teghra   \n",
       "\n",
       "    VENDOR_PLANNER DUPLICATE SECTION_ID FULL_METER_NUMBER  \n",
       "0  hirent_tegh_vp1       1.0      11621      GOEGL9070666  "
      ]
     },
     "execution_count": 29,
     "metadata": {},
     "output_type": "execute_result"
    }
   ],
   "source": [
    "ALL_DATA_COMPILATION_MERGE.head(1)"
   ]
  },
  {
   "cell_type": "code",
   "execution_count": 30,
   "metadata": {},
   "outputs": [
    {
     "data": {
      "text/plain": [
       "Index(['SL', 'SECTION ID', 'CLUSTER', 'CATEGORY', 'WO STATUS',\n",
       "       'WORK ORDER TYPE', 'NEW METER NO', 'CONSUMER ID', 'INSTALLATION_NUMBER',\n",
       "       'NAME', 'ADDRESS', 'MOBILE NUMBER', 'UTILITY NAME', 'REPLACEMENT DATE',\n",
       "       'MRU', 'LAT', 'LONG', 'CATEGORY NAME', 'PHASE', 'TOWN', 'VENDOR NAME',\n",
       "       'SECTION', 'DIVISION', 'STATUS', 'VENDOR_MANAGER', 'VENDOR_PLANNER',\n",
       "       'DUPLICATE', 'SECTION_ID', 'FULL_METER_NUMBER'],\n",
       "      dtype='object')"
      ]
     },
     "execution_count": 30,
     "metadata": {},
     "output_type": "execute_result"
    }
   ],
   "source": [
    "ALL_DATA_COMPILATION_MERGE.columns"
   ]
  },
  {
   "cell_type": "code",
   "execution_count": 31,
   "metadata": {},
   "outputs": [
    {
     "data": {
      "text/html": [
       "<div>\n",
       "<style scoped>\n",
       "    .dataframe tbody tr th:only-of-type {\n",
       "        vertical-align: middle;\n",
       "    }\n",
       "\n",
       "    .dataframe tbody tr th {\n",
       "        vertical-align: top;\n",
       "    }\n",
       "\n",
       "    .dataframe thead th {\n",
       "        text-align: right;\n",
       "    }\n",
       "</style>\n",
       "<table border=\"1\" class=\"dataframe\">\n",
       "  <thead>\n",
       "    <tr style=\"text-align: right;\">\n",
       "      <th></th>\n",
       "      <th>InstallationDatetime</th>\n",
       "      <th>EntryDatetime</th>\n",
       "      <th>Utility</th>\n",
       "      <th>UtilitySiteId</th>\n",
       "      <th>UtilityDeviceId</th>\n",
       "      <th>SerialNumber</th>\n",
       "      <th>LastS05</th>\n",
       "      <th>LastS02</th>\n",
       "      <th>LastS04</th>\n",
       "      <th>CoordinateX</th>\n",
       "      <th>CoordinateY</th>\n",
       "      <th>StateName</th>\n",
       "      <th>Ip</th>\n",
       "      <th>FULL_METER_NUMBER_INFRA</th>\n",
       "      <th>day</th>\n",
       "      <th>month</th>\n",
       "      <th>year</th>\n",
       "      <th>SUB_LASTSO5_INSTALLATION</th>\n",
       "    </tr>\n",
       "  </thead>\n",
       "  <tbody>\n",
       "    <tr>\n",
       "      <th>81</th>\n",
       "      <td>2024-01-03 22:46:02</td>\n",
       "      <td>2023-01-24 18:12:40</td>\n",
       "      <td>NBPDCL</td>\n",
       "      <td>5002360361</td>\n",
       "      <td>LNTLT8052558</td>\n",
       "      <td>LT8052558</td>\n",
       "      <td>2024-01-13</td>\n",
       "      <td>NaT</td>\n",
       "      <td>2024-01-01</td>\n",
       "      <td>85.52303</td>\n",
       "      <td>26.56508</td>\n",
       "      <td>Imported&amp;&amp;Installed</td>\n",
       "      <td>2405:0203:0531:84A9:0000:0000:0000:0010</td>\n",
       "      <td>LNTLT8052558</td>\n",
       "      <td>13</td>\n",
       "      <td>1</td>\n",
       "      <td>2024</td>\n",
       "      <td>9 days 01:13:58</td>\n",
       "    </tr>\n",
       "  </tbody>\n",
       "</table>\n",
       "</div>"
      ],
      "text/plain": [
       "   InstallationDatetime       EntryDatetime Utility UtilitySiteId  \\\n",
       "81  2024-01-03 22:46:02 2023-01-24 18:12:40  NBPDCL    5002360361   \n",
       "\n",
       "   UtilityDeviceId SerialNumber    LastS05 LastS02    LastS04  CoordinateX  \\\n",
       "81    LNTLT8052558    LT8052558 2024-01-13     NaT 2024-01-01     85.52303   \n",
       "\n",
       "    CoordinateY            StateName                                       Ip  \\\n",
       "81     26.56508  Imported&&Installed  2405:0203:0531:84A9:0000:0000:0000:0010   \n",
       "\n",
       "   FULL_METER_NUMBER_INFRA  day  month  year SUB_LASTSO5_INSTALLATION  \n",
       "81            LNTLT8052558   13      1  2024          9 days 01:13:58  "
      ]
     },
     "execution_count": 31,
     "metadata": {},
     "output_type": "execute_result"
    }
   ],
   "source": [
    "POSITIVE_DIFF_COMPILE_DATA_NB_SB_NOT_NULL_DATA_LAST_7_DAY.head(1)"
   ]
  },
  {
   "cell_type": "code",
   "execution_count": 32,
   "metadata": {},
   "outputs": [],
   "source": [
    "\"\"\"\n",
    "MERGE_POS_DATA_AND_COMPILATION_DATA = pd.merge(POSITIVE_DIFF_COMPILE_DATA_NB_SB_NOT_NULL_DATA_LAST_7_DAY,ALL_DATA_COMPILATION_MERGE[['NEW METER NO', 'CONSUMER ID', 'INSTALLATION_NUMBER',\n",
    "       'NAME', 'ADDRESS', 'MOBILE NUMBER', 'UTILITY NAME', 'REPLACEMENT DATE',\n",
    "       'MRU', 'LAT', 'LONG', 'CATEGORY NAME', 'PHASE', 'TOWN', 'VENDOR NAME',\n",
    "       'SECTION', 'DIVISION', 'STATUS']], left_on=['SerialNumber'], right_on=['NEW METER NO'], how='left')\n",
    "\"\"\"\n",
    "\n",
    "MERGE_POS_DATA_AND_COMPILATION_DATA = pd.merge(POSITIVE_DIFF_COMPILE_DATA_NB_SB_NOT_NULL_DATA_LAST_7_DAY,ALL_DATA_COMPILATION_MERGE[['NEW METER NO','STATUS','CATEGORY NAME']], left_on=['SerialNumber'], right_on=['NEW METER NO'], how='left')"
   ]
  },
  {
   "cell_type": "code",
   "execution_count": 33,
   "metadata": {},
   "outputs": [
    {
     "data": {
      "text/plain": [
       "(94129, 21)"
      ]
     },
     "execution_count": 33,
     "metadata": {},
     "output_type": "execute_result"
    }
   ],
   "source": [
    "MERGE_POS_DATA_AND_COMPILATION_DATA.shape"
   ]
  },
  {
   "cell_type": "code",
   "execution_count": 34,
   "metadata": {},
   "outputs": [
    {
     "data": {
      "text/html": [
       "<div>\n",
       "<style scoped>\n",
       "    .dataframe tbody tr th:only-of-type {\n",
       "        vertical-align: middle;\n",
       "    }\n",
       "\n",
       "    .dataframe tbody tr th {\n",
       "        vertical-align: top;\n",
       "    }\n",
       "\n",
       "    .dataframe thead th {\n",
       "        text-align: right;\n",
       "    }\n",
       "</style>\n",
       "<table border=\"1\" class=\"dataframe\">\n",
       "  <thead>\n",
       "    <tr style=\"text-align: right;\">\n",
       "      <th></th>\n",
       "      <th>InstallationDatetime</th>\n",
       "      <th>EntryDatetime</th>\n",
       "      <th>Utility</th>\n",
       "      <th>UtilitySiteId</th>\n",
       "      <th>UtilityDeviceId</th>\n",
       "      <th>SerialNumber</th>\n",
       "      <th>LastS05</th>\n",
       "      <th>LastS02</th>\n",
       "      <th>LastS04</th>\n",
       "      <th>CoordinateX</th>\n",
       "      <th>CoordinateY</th>\n",
       "      <th>StateName</th>\n",
       "      <th>Ip</th>\n",
       "      <th>FULL_METER_NUMBER_INFRA</th>\n",
       "      <th>day</th>\n",
       "      <th>month</th>\n",
       "      <th>year</th>\n",
       "      <th>SUB_LASTSO5_INSTALLATION</th>\n",
       "      <th>NEW METER NO</th>\n",
       "      <th>STATUS</th>\n",
       "      <th>CATEGORY NAME</th>\n",
       "    </tr>\n",
       "  </thead>\n",
       "  <tbody>\n",
       "    <tr>\n",
       "      <th>0</th>\n",
       "      <td>2024-01-03 22:46:02</td>\n",
       "      <td>2023-01-24 18:12:40</td>\n",
       "      <td>NBPDCL</td>\n",
       "      <td>5002360361</td>\n",
       "      <td>LNTLT8052558</td>\n",
       "      <td>LT8052558</td>\n",
       "      <td>2024-01-13</td>\n",
       "      <td>NaT</td>\n",
       "      <td>2024-01-01</td>\n",
       "      <td>85.52303</td>\n",
       "      <td>26.56508</td>\n",
       "      <td>Imported&amp;&amp;Installed</td>\n",
       "      <td>2405:0203:0531:84A9:0000:0000:0000:0010</td>\n",
       "      <td>LNTLT8052558</td>\n",
       "      <td>13</td>\n",
       "      <td>1</td>\n",
       "      <td>2024</td>\n",
       "      <td>9 days 01:13:58</td>\n",
       "      <td>LT8052558</td>\n",
       "      <td>Open</td>\n",
       "      <td>NDS-IID(B)</td>\n",
       "    </tr>\n",
       "    <tr>\n",
       "      <th>1</th>\n",
       "      <td>2023-12-15 19:02:30</td>\n",
       "      <td>2023-01-24 18:09:23</td>\n",
       "      <td>NBPDCL</td>\n",
       "      <td>5003686609</td>\n",
       "      <td>LNTLT8051635</td>\n",
       "      <td>LT8051635</td>\n",
       "      <td>2024-01-27</td>\n",
       "      <td>NaT</td>\n",
       "      <td>2024-01-01</td>\n",
       "      <td>87.94367</td>\n",
       "      <td>26.08711</td>\n",
       "      <td>Imported&amp;&amp;Installed</td>\n",
       "      <td>2405:0203:0531:810E:0000:0000:0000:0010</td>\n",
       "      <td>LNTLT8051635</td>\n",
       "      <td>27</td>\n",
       "      <td>1</td>\n",
       "      <td>2024</td>\n",
       "      <td>42 days 04:57:30</td>\n",
       "      <td>LT8051635</td>\n",
       "      <td>Closed</td>\n",
       "      <td>nan</td>\n",
       "    </tr>\n",
       "  </tbody>\n",
       "</table>\n",
       "</div>"
      ],
      "text/plain": [
       "  InstallationDatetime       EntryDatetime Utility UtilitySiteId  \\\n",
       "0  2024-01-03 22:46:02 2023-01-24 18:12:40  NBPDCL    5002360361   \n",
       "1  2023-12-15 19:02:30 2023-01-24 18:09:23  NBPDCL    5003686609   \n",
       "\n",
       "  UtilityDeviceId SerialNumber    LastS05 LastS02    LastS04  CoordinateX  \\\n",
       "0    LNTLT8052558    LT8052558 2024-01-13     NaT 2024-01-01     85.52303   \n",
       "1    LNTLT8051635    LT8051635 2024-01-27     NaT 2024-01-01     87.94367   \n",
       "\n",
       "   CoordinateY            StateName                                       Ip  \\\n",
       "0     26.56508  Imported&&Installed  2405:0203:0531:84A9:0000:0000:0000:0010   \n",
       "1     26.08711  Imported&&Installed  2405:0203:0531:810E:0000:0000:0000:0010   \n",
       "\n",
       "  FULL_METER_NUMBER_INFRA  day  month  year SUB_LASTSO5_INSTALLATION  \\\n",
       "0            LNTLT8052558   13      1  2024          9 days 01:13:58   \n",
       "1            LNTLT8051635   27      1  2024         42 days 04:57:30   \n",
       "\n",
       "  NEW METER NO  STATUS CATEGORY NAME  \n",
       "0    LT8052558    Open    NDS-IID(B)  \n",
       "1    LT8051635  Closed           nan  "
      ]
     },
     "execution_count": 34,
     "metadata": {},
     "output_type": "execute_result"
    }
   ],
   "source": [
    "MERGE_POS_DATA_AND_COMPILATION_DATA.head(2)"
   ]
  },
  {
   "cell_type": "code",
   "execution_count": 35,
   "metadata": {},
   "outputs": [
    {
     "name": "stdout",
     "output_type": "stream",
     "text": [
      " DATA SAHAPE IS CORRECT NO DUPLICATE VALUE\n"
     ]
    }
   ],
   "source": [
    "if MERGE_POS_DATA_AND_COMPILATION_DATA.shape[0] ==  POSITIVE_DIFF_COMPILE_DATA_NB_SB_NOT_NULL_DATA_LAST_7_DAY.shape[0]:\n",
    "    print(\" DATA SAHAPE IS CORRECT NO DUPLICATE VALUE\")\n",
    "else:\n",
    "    sys.exit(\"Data shapes are not equal. Exiting the script.\")\n",
    "\n"
   ]
  },
  {
   "cell_type": "code",
   "execution_count": 36,
   "metadata": {},
   "outputs": [],
   "source": [
    "MERGE_POS_DATA_AND_COMPILATION_DATA_CAT_NAN = MERGE_POS_DATA_AND_COMPILATION_DATA[(MERGE_POS_DATA_AND_COMPILATION_DATA['CATEGORY NAME']=='nan') ]\n",
    "MERGE_POS_DATA_AND_COMPILATION_DATA_CAT_NOT_NAN = MERGE_POS_DATA_AND_COMPILATION_DATA[~(MERGE_POS_DATA_AND_COMPILATION_DATA['CATEGORY NAME']=='nan') ]"
   ]
  },
  {
   "cell_type": "code",
   "execution_count": 37,
   "metadata": {},
   "outputs": [
    {
     "data": {
      "text/html": [
       "<div>\n",
       "<style scoped>\n",
       "    .dataframe tbody tr th:only-of-type {\n",
       "        vertical-align: middle;\n",
       "    }\n",
       "\n",
       "    .dataframe tbody tr th {\n",
       "        vertical-align: top;\n",
       "    }\n",
       "\n",
       "    .dataframe thead th {\n",
       "        text-align: right;\n",
       "    }\n",
       "</style>\n",
       "<table border=\"1\" class=\"dataframe\">\n",
       "  <thead>\n",
       "    <tr style=\"text-align: right;\">\n",
       "      <th></th>\n",
       "      <th>InstallationDatetime</th>\n",
       "      <th>EntryDatetime</th>\n",
       "      <th>Utility</th>\n",
       "      <th>UtilitySiteId</th>\n",
       "      <th>UtilityDeviceId</th>\n",
       "      <th>SerialNumber</th>\n",
       "      <th>LastS05</th>\n",
       "      <th>LastS02</th>\n",
       "      <th>LastS04</th>\n",
       "      <th>CoordinateX</th>\n",
       "      <th>CoordinateY</th>\n",
       "      <th>StateName</th>\n",
       "      <th>Ip</th>\n",
       "      <th>FULL_METER_NUMBER_INFRA</th>\n",
       "      <th>day</th>\n",
       "      <th>month</th>\n",
       "      <th>year</th>\n",
       "      <th>SUB_LASTSO5_INSTALLATION</th>\n",
       "      <th>NEW METER NO</th>\n",
       "      <th>STATUS</th>\n",
       "      <th>CATEGORY NAME</th>\n",
       "    </tr>\n",
       "  </thead>\n",
       "  <tbody>\n",
       "    <tr>\n",
       "      <th>1</th>\n",
       "      <td>2023-12-15 19:02:30</td>\n",
       "      <td>2023-01-24 18:09:23</td>\n",
       "      <td>NBPDCL</td>\n",
       "      <td>5003686609</td>\n",
       "      <td>LNTLT8051635</td>\n",
       "      <td>LT8051635</td>\n",
       "      <td>2024-01-27</td>\n",
       "      <td>NaT</td>\n",
       "      <td>2024-01-01</td>\n",
       "      <td>87.94367</td>\n",
       "      <td>26.08711</td>\n",
       "      <td>Imported&amp;&amp;Installed</td>\n",
       "      <td>2405:0203:0531:810E:0000:0000:0000:0010</td>\n",
       "      <td>LNTLT8051635</td>\n",
       "      <td>27</td>\n",
       "      <td>1</td>\n",
       "      <td>2024</td>\n",
       "      <td>42 days 04:57:30</td>\n",
       "      <td>LT8051635</td>\n",
       "      <td>Closed</td>\n",
       "      <td>nan</td>\n",
       "    </tr>\n",
       "  </tbody>\n",
       "</table>\n",
       "</div>"
      ],
      "text/plain": [
       "  InstallationDatetime       EntryDatetime Utility UtilitySiteId  \\\n",
       "1  2023-12-15 19:02:30 2023-01-24 18:09:23  NBPDCL    5003686609   \n",
       "\n",
       "  UtilityDeviceId SerialNumber    LastS05 LastS02    LastS04  CoordinateX  \\\n",
       "1    LNTLT8051635    LT8051635 2024-01-27     NaT 2024-01-01     87.94367   \n",
       "\n",
       "   CoordinateY            StateName                                       Ip  \\\n",
       "1     26.08711  Imported&&Installed  2405:0203:0531:810E:0000:0000:0000:0010   \n",
       "\n",
       "  FULL_METER_NUMBER_INFRA  day  month  year SUB_LASTSO5_INSTALLATION  \\\n",
       "1            LNTLT8051635   27      1  2024         42 days 04:57:30   \n",
       "\n",
       "  NEW METER NO  STATUS CATEGORY NAME  \n",
       "1    LT8051635  Closed           nan  "
      ]
     },
     "execution_count": 37,
     "metadata": {},
     "output_type": "execute_result"
    }
   ],
   "source": [
    "MERGE_POS_DATA_AND_COMPILATION_DATA_CAT_NAN.head(1)"
   ]
  },
  {
   "cell_type": "code",
   "execution_count": 38,
   "metadata": {},
   "outputs": [
    {
     "data": {
      "text/plain": [
       "(6455, 21)"
      ]
     },
     "execution_count": 38,
     "metadata": {},
     "output_type": "execute_result"
    }
   ],
   "source": [
    "MERGE_POS_DATA_AND_COMPILATION_DATA_CAT_NAN.shape"
   ]
  },
  {
   "cell_type": "code",
   "execution_count": 39,
   "metadata": {},
   "outputs": [
    {
     "data": {
      "text/html": [
       "<div>\n",
       "<style scoped>\n",
       "    .dataframe tbody tr th:only-of-type {\n",
       "        vertical-align: middle;\n",
       "    }\n",
       "\n",
       "    .dataframe tbody tr th {\n",
       "        vertical-align: top;\n",
       "    }\n",
       "\n",
       "    .dataframe thead th {\n",
       "        text-align: right;\n",
       "    }\n",
       "</style>\n",
       "<table border=\"1\" class=\"dataframe\">\n",
       "  <thead>\n",
       "    <tr style=\"text-align: right;\">\n",
       "      <th></th>\n",
       "      <th>UTILITY</th>\n",
       "      <th>INSTALLATIONNUMBER</th>\n",
       "      <th>CONSUMERNO</th>\n",
       "      <th>METERNO</th>\n",
       "      <th>INSTALLATIONDATE</th>\n",
       "      <th>CONSUMERTYPE</th>\n",
       "      <th>PRIVILEGEGROUP</th>\n",
       "      <th>CURRENTBALANCE</th>\n",
       "      <th>CONNECTEDSTATUS</th>\n",
       "      <th>NETMETERING</th>\n",
       "      <th>LASTRECHARGEDATE</th>\n",
       "      <th>LASTRECHARGEAMOUNT</th>\n",
       "      <th>DIVISION</th>\n",
       "      <th>CATEGORY</th>\n",
       "    </tr>\n",
       "  </thead>\n",
       "  <tbody>\n",
       "    <tr>\n",
       "      <th>0</th>\n",
       "      <td>SBPDCL</td>\n",
       "      <td>ARL19065</td>\n",
       "      <td>23230051120</td>\n",
       "      <td>GOEGP4878170</td>\n",
       "      <td>9/12/2019 12:00:00 AM</td>\n",
       "      <td>Prepaid</td>\n",
       "      <td>N</td>\n",
       "      <td>453.84</td>\n",
       "      <td>Y</td>\n",
       "      <td>N</td>\n",
       "      <td>2/6/2024 8:12:57 PM</td>\n",
       "      <td>500.0</td>\n",
       "      <td>ARWAL</td>\n",
       "      <td>DS2D</td>\n",
       "    </tr>\n",
       "  </tbody>\n",
       "</table>\n",
       "</div>"
      ],
      "text/plain": [
       "  UTILITY INSTALLATIONNUMBER   CONSUMERNO       METERNO  \\\n",
       "0  SBPDCL           ARL19065  23230051120  GOEGP4878170   \n",
       "\n",
       "        INSTALLATIONDATE CONSUMERTYPE PRIVILEGEGROUP  CURRENTBALANCE  \\\n",
       "0  9/12/2019 12:00:00 AM      Prepaid              N          453.84   \n",
       "\n",
       "  CONNECTEDSTATUS NETMETERING     LASTRECHARGEDATE  LASTRECHARGEAMOUNT  \\\n",
       "0               Y           N  2/6/2024 8:12:57 PM               500.0   \n",
       "\n",
       "  DIVISION CATEGORY  \n",
       "0    ARWAL     DS2D  "
      ]
     },
     "execution_count": 39,
     "metadata": {},
     "output_type": "execute_result"
    }
   ],
   "source": [
    "concat_Orgwise_Privilege_group_status_NB_SB.head(1)"
   ]
  },
  {
   "cell_type": "code",
   "execution_count": 40,
   "metadata": {},
   "outputs": [
    {
     "data": {
      "text/html": [
       "<div>\n",
       "<style scoped>\n",
       "    .dataframe tbody tr th:only-of-type {\n",
       "        vertical-align: middle;\n",
       "    }\n",
       "\n",
       "    .dataframe tbody tr th {\n",
       "        vertical-align: top;\n",
       "    }\n",
       "\n",
       "    .dataframe thead th {\n",
       "        text-align: right;\n",
       "    }\n",
       "</style>\n",
       "<table border=\"1\" class=\"dataframe\">\n",
       "  <thead>\n",
       "    <tr style=\"text-align: right;\">\n",
       "      <th></th>\n",
       "      <th>InstallationDatetime</th>\n",
       "      <th>EntryDatetime</th>\n",
       "      <th>Utility</th>\n",
       "      <th>UtilitySiteId</th>\n",
       "      <th>UtilityDeviceId</th>\n",
       "      <th>SerialNumber</th>\n",
       "      <th>LastS05</th>\n",
       "      <th>LastS02</th>\n",
       "      <th>LastS04</th>\n",
       "      <th>CoordinateX</th>\n",
       "      <th>CoordinateY</th>\n",
       "      <th>StateName</th>\n",
       "      <th>Ip</th>\n",
       "      <th>FULL_METER_NUMBER_INFRA</th>\n",
       "      <th>day</th>\n",
       "      <th>month</th>\n",
       "      <th>year</th>\n",
       "      <th>SUB_LASTSO5_INSTALLATION</th>\n",
       "      <th>NEW METER NO</th>\n",
       "      <th>STATUS</th>\n",
       "      <th>CATEGORY NAME</th>\n",
       "    </tr>\n",
       "  </thead>\n",
       "  <tbody>\n",
       "    <tr>\n",
       "      <th>0</th>\n",
       "      <td>2024-01-03 22:46:02</td>\n",
       "      <td>2023-01-24 18:12:40</td>\n",
       "      <td>NBPDCL</td>\n",
       "      <td>5002360361</td>\n",
       "      <td>LNTLT8052558</td>\n",
       "      <td>LT8052558</td>\n",
       "      <td>2024-01-13</td>\n",
       "      <td>NaT</td>\n",
       "      <td>2024-01-01</td>\n",
       "      <td>85.52303</td>\n",
       "      <td>26.56508</td>\n",
       "      <td>Imported&amp;&amp;Installed</td>\n",
       "      <td>2405:0203:0531:84A9:0000:0000:0000:0010</td>\n",
       "      <td>LNTLT8052558</td>\n",
       "      <td>13</td>\n",
       "      <td>1</td>\n",
       "      <td>2024</td>\n",
       "      <td>9 days 01:13:58</td>\n",
       "      <td>LT8052558</td>\n",
       "      <td>Open</td>\n",
       "      <td>NDS-IID(B)</td>\n",
       "    </tr>\n",
       "  </tbody>\n",
       "</table>\n",
       "</div>"
      ],
      "text/plain": [
       "  InstallationDatetime       EntryDatetime Utility UtilitySiteId  \\\n",
       "0  2024-01-03 22:46:02 2023-01-24 18:12:40  NBPDCL    5002360361   \n",
       "\n",
       "  UtilityDeviceId SerialNumber    LastS05 LastS02    LastS04  CoordinateX  \\\n",
       "0    LNTLT8052558    LT8052558 2024-01-13     NaT 2024-01-01     85.52303   \n",
       "\n",
       "   CoordinateY            StateName                                       Ip  \\\n",
       "0     26.56508  Imported&&Installed  2405:0203:0531:84A9:0000:0000:0000:0010   \n",
       "\n",
       "  FULL_METER_NUMBER_INFRA  day  month  year SUB_LASTSO5_INSTALLATION  \\\n",
       "0            LNTLT8052558   13      1  2024          9 days 01:13:58   \n",
       "\n",
       "  NEW METER NO STATUS CATEGORY NAME  \n",
       "0    LT8052558   Open    NDS-IID(B)  "
      ]
     },
     "execution_count": 40,
     "metadata": {},
     "output_type": "execute_result"
    }
   ],
   "source": [
    "MERGE_POS_DATA_AND_COMPILATION_DATA_CAT_NOT_NAN.head(1)"
   ]
  },
  {
   "cell_type": "code",
   "execution_count": 41,
   "metadata": {},
   "outputs": [
    {
     "name": "stderr",
     "output_type": "stream",
     "text": [
      "C:\\Users\\Ratan Kumar Jha\\AppData\\Local\\Temp\\ipykernel_23176\\3239429604.py:6: SettingWithCopyWarning: \n",
      "A value is trying to be set on a copy of a slice from a DataFrame\n",
      "\n",
      "See the caveats in the documentation: https://pandas.pydata.org/pandas-docs/stable/user_guide/indexing.html#returning-a-view-versus-a-copy\n",
      "  MERGE_POS_DATA_AND_COMPILATION_DATA_CAT_NAN.drop(['CATEGORY NAME'], axis=1, inplace=True)\n"
     ]
    }
   ],
   "source": [
    "# MERGE WITH PRIVILAGE DATA\n",
    "\n",
    "# MERGE_POS_DATA_AND_COMPILATION_DATA_CAT_NAN   - AND  -   concat_Orgwise_Privilege_group_status_NB_SB  \n",
    "\n",
    "\n",
    "MERGE_POS_DATA_AND_COMPILATION_DATA_CAT_NAN.drop(['CATEGORY NAME'], axis=1, inplace=True)\n",
    "\n",
    "MERGE_POS_DATA_AND_COMPILATION_DATA_CAT_NAN_CONCAT_ORGWISE_PRIVILEGE = pd.merge(MERGE_POS_DATA_AND_COMPILATION_DATA_CAT_NAN,concat_Orgwise_Privilege_group_status_NB_SB[['CATEGORY','METERNO']], left_on=['FULL_METER_NUMBER_INFRA'], right_on=['METERNO'], how='left')\n",
    "\n",
    "\n",
    "# rename\n",
    "\n",
    "MERGE_POS_DATA_AND_COMPILATION_DATA_CAT_NAN_CONCAT_ORGWISE_PRIVILEGE.rename(\n",
    "    columns = {\"CATEGORY\":\"CATEGORY NAME\"},\n",
    "    inplace=True\n",
    ")\n",
    "\n",
    "\n",
    "\n",
    "# dropping meterno from the dataframe\n",
    "\n",
    "MERGE_POS_DATA_AND_COMPILATION_DATA_CAT_NAN_CONCAT_ORGWISE_PRIVILEGE.drop(['METERNO'], axis=1, inplace=True)"
   ]
  },
  {
   "cell_type": "code",
   "execution_count": 42,
   "metadata": {},
   "outputs": [
    {
     "data": {
      "text/plain": [
       "(6455, 21)"
      ]
     },
     "execution_count": 42,
     "metadata": {},
     "output_type": "execute_result"
    }
   ],
   "source": [
    "MERGE_POS_DATA_AND_COMPILATION_DATA_CAT_NAN_CONCAT_ORGWISE_PRIVILEGE.shape"
   ]
  },
  {
   "cell_type": "code",
   "execution_count": 43,
   "metadata": {},
   "outputs": [
    {
     "data": {
      "text/plain": [
       "Index(['InstallationDatetime', 'EntryDatetime', 'Utility', 'UtilitySiteId',\n",
       "       'UtilityDeviceId', 'SerialNumber', 'LastS05', 'LastS02', 'LastS04',\n",
       "       'CoordinateX', 'CoordinateY', 'StateName', 'Ip',\n",
       "       'FULL_METER_NUMBER_INFRA', 'day', 'month', 'year',\n",
       "       'SUB_LASTSO5_INSTALLATION', 'NEW METER NO', 'STATUS', 'CATEGORY NAME'],\n",
       "      dtype='object')"
      ]
     },
     "execution_count": 43,
     "metadata": {},
     "output_type": "execute_result"
    }
   ],
   "source": [
    "MERGE_POS_DATA_AND_COMPILATION_DATA_CAT_NOT_NAN.columns"
   ]
  },
  {
   "cell_type": "code",
   "execution_count": 44,
   "metadata": {},
   "outputs": [
    {
     "data": {
      "text/html": [
       "<div>\n",
       "<style scoped>\n",
       "    .dataframe tbody tr th:only-of-type {\n",
       "        vertical-align: middle;\n",
       "    }\n",
       "\n",
       "    .dataframe tbody tr th {\n",
       "        vertical-align: top;\n",
       "    }\n",
       "\n",
       "    .dataframe thead th {\n",
       "        text-align: right;\n",
       "    }\n",
       "</style>\n",
       "<table border=\"1\" class=\"dataframe\">\n",
       "  <thead>\n",
       "    <tr style=\"text-align: right;\">\n",
       "      <th></th>\n",
       "      <th>InstallationDatetime</th>\n",
       "      <th>EntryDatetime</th>\n",
       "      <th>Utility</th>\n",
       "      <th>UtilitySiteId</th>\n",
       "      <th>UtilityDeviceId</th>\n",
       "      <th>SerialNumber</th>\n",
       "      <th>LastS05</th>\n",
       "      <th>LastS02</th>\n",
       "      <th>LastS04</th>\n",
       "      <th>CoordinateX</th>\n",
       "      <th>CoordinateY</th>\n",
       "      <th>StateName</th>\n",
       "      <th>Ip</th>\n",
       "      <th>FULL_METER_NUMBER_INFRA</th>\n",
       "      <th>day</th>\n",
       "      <th>month</th>\n",
       "      <th>year</th>\n",
       "      <th>SUB_LASTSO5_INSTALLATION</th>\n",
       "      <th>NEW METER NO</th>\n",
       "      <th>STATUS</th>\n",
       "      <th>CATEGORY NAME</th>\n",
       "    </tr>\n",
       "  </thead>\n",
       "  <tbody>\n",
       "    <tr>\n",
       "      <th>0</th>\n",
       "      <td>2023-12-15 19:02:30</td>\n",
       "      <td>2023-01-24 18:09:23</td>\n",
       "      <td>NBPDCL</td>\n",
       "      <td>5003686609</td>\n",
       "      <td>LNTLT8051635</td>\n",
       "      <td>LT8051635</td>\n",
       "      <td>2024-01-27</td>\n",
       "      <td>NaT</td>\n",
       "      <td>2024-01-01</td>\n",
       "      <td>87.94367</td>\n",
       "      <td>26.08711</td>\n",
       "      <td>Imported&amp;&amp;Installed</td>\n",
       "      <td>2405:0203:0531:810E:0000:0000:0000:0010</td>\n",
       "      <td>LNTLT8051635</td>\n",
       "      <td>27</td>\n",
       "      <td>1</td>\n",
       "      <td>2024</td>\n",
       "      <td>42 days 04:57:30</td>\n",
       "      <td>LT8051635</td>\n",
       "      <td>Closed</td>\n",
       "      <td>NDS-IID(B)</td>\n",
       "    </tr>\n",
       "    <tr>\n",
       "      <th>1</th>\n",
       "      <td>2023-12-27 18:35:44</td>\n",
       "      <td>2023-01-11 18:05:53</td>\n",
       "      <td>NBPDCL</td>\n",
       "      <td>5000613058</td>\n",
       "      <td>LNTLT8051000</td>\n",
       "      <td>LT8051000</td>\n",
       "      <td>2024-01-01</td>\n",
       "      <td>NaT</td>\n",
       "      <td>2024-01-01</td>\n",
       "      <td>84.46917</td>\n",
       "      <td>27.11346</td>\n",
       "      <td>Imported&amp;&amp;Installed</td>\n",
       "      <td>2405:0203:0531:6804:0000:0000:0000:0010</td>\n",
       "      <td>LNTLT8051000</td>\n",
       "      <td>1</td>\n",
       "      <td>1</td>\n",
       "      <td>2024</td>\n",
       "      <td>4 days 05:24:16</td>\n",
       "      <td>LT8051000</td>\n",
       "      <td>Closed</td>\n",
       "      <td>DS-IID</td>\n",
       "    </tr>\n",
       "  </tbody>\n",
       "</table>\n",
       "</div>"
      ],
      "text/plain": [
       "  InstallationDatetime       EntryDatetime Utility UtilitySiteId  \\\n",
       "0  2023-12-15 19:02:30 2023-01-24 18:09:23  NBPDCL    5003686609   \n",
       "1  2023-12-27 18:35:44 2023-01-11 18:05:53  NBPDCL    5000613058   \n",
       "\n",
       "  UtilityDeviceId SerialNumber    LastS05 LastS02    LastS04  CoordinateX  \\\n",
       "0    LNTLT8051635    LT8051635 2024-01-27     NaT 2024-01-01     87.94367   \n",
       "1    LNTLT8051000    LT8051000 2024-01-01     NaT 2024-01-01     84.46917   \n",
       "\n",
       "   CoordinateY            StateName                                       Ip  \\\n",
       "0     26.08711  Imported&&Installed  2405:0203:0531:810E:0000:0000:0000:0010   \n",
       "1     27.11346  Imported&&Installed  2405:0203:0531:6804:0000:0000:0000:0010   \n",
       "\n",
       "  FULL_METER_NUMBER_INFRA  day  month  year SUB_LASTSO5_INSTALLATION  \\\n",
       "0            LNTLT8051635   27      1  2024         42 days 04:57:30   \n",
       "1            LNTLT8051000    1      1  2024          4 days 05:24:16   \n",
       "\n",
       "  NEW METER NO  STATUS CATEGORY NAME  \n",
       "0    LT8051635  Closed    NDS-IID(B)  \n",
       "1    LT8051000  Closed        DS-IID  "
      ]
     },
     "execution_count": 44,
     "metadata": {},
     "output_type": "execute_result"
    }
   ],
   "source": [
    "MERGE_POS_DATA_AND_COMPILATION_DATA_CAT_NAN_CONCAT_ORGWISE_PRIVILEGE.head(2)"
   ]
  },
  {
   "cell_type": "code",
   "execution_count": 45,
   "metadata": {},
   "outputs": [],
   "source": [
    "# CONCATE THE DATA\n",
    "\n",
    "CONCAT_CAT_NAN_AND_NOT_NAN = pd.concat([MERGE_POS_DATA_AND_COMPILATION_DATA_CAT_NOT_NAN,MERGE_POS_DATA_AND_COMPILATION_DATA_CAT_NAN_CONCAT_ORGWISE_PRIVILEGE],ignore_index= True)\n",
    "#concat_Orgwise_Privilege_group_status_NB_SB = pd.concat([Orgwise_Privilege_group_status_SB,Orgwise_Privilege_group_status_NB],ignore_index=True)\n",
    "\n"
   ]
  },
  {
   "cell_type": "code",
   "execution_count": 46,
   "metadata": {},
   "outputs": [
    {
     "data": {
      "text/plain": [
       "(94129, 21)"
      ]
     },
     "execution_count": 46,
     "metadata": {},
     "output_type": "execute_result"
    }
   ],
   "source": [
    "CONCAT_CAT_NAN_AND_NOT_NAN.shape"
   ]
  },
  {
   "cell_type": "code",
   "execution_count": 47,
   "metadata": {},
   "outputs": [],
   "source": [
    "# CATEGORY WITH  HGN AND IAS1\n",
    "\n",
    "CONCAT_CAT_NAN_AND_NOT_NAN_CAT_WITH_HGN_IAS1=CONCAT_CAT_NAN_AND_NOT_NAN[(CONCAT_CAT_NAN_AND_NOT_NAN['CATEGORY NAME']=='IAS1') |  (CONCAT_CAT_NAN_AND_NOT_NAN['CATEGORY NAME']=='HGN')]\n",
    "\n",
    "# CATEGORY WITHOUT  HGN AND IAS1\n",
    "CONCAT_CAT_NAN_AND_NOT_NAN_CAT_WITHOUT_HGN_IAS1=CONCAT_CAT_NAN_AND_NOT_NAN[~((CONCAT_CAT_NAN_AND_NOT_NAN['CATEGORY NAME']=='IAS1') |  (CONCAT_CAT_NAN_AND_NOT_NAN['CATEGORY NAME']=='HGN'))]"
   ]
  },
  {
   "cell_type": "code",
   "execution_count": 48,
   "metadata": {},
   "outputs": [
    {
     "data": {
      "text/plain": [
       "(69320, 21)"
      ]
     },
     "execution_count": 48,
     "metadata": {},
     "output_type": "execute_result"
    }
   ],
   "source": [
    "CONCAT_CAT_NAN_AND_NOT_NAN_CAT_WITHOUT_HGN_IAS1.shape"
   ]
  },
  {
   "cell_type": "code",
   "execution_count": 49,
   "metadata": {},
   "outputs": [],
   "source": [
    "CONCAT_CAT_NAN_AND_NOT_NAN_CAT_WITHOUT_HGN_IAS1.to_csv(r\"C:\\Users\\Ratan Kumar Jha\\Desktop\\Daily progress report\\NC_TRACKER\\OUTPUT FILE DATA\\CONCAT_CAT_NAN_AND_NOT_NAN_CAT_WITHOUT_HGN_IAS1.csv\",index=False)"
   ]
  },
  {
   "cell_type": "code",
   "execution_count": 50,
   "metadata": {},
   "outputs": [
    {
     "data": {
      "text/html": [
       "<div>\n",
       "<style scoped>\n",
       "    .dataframe tbody tr th:only-of-type {\n",
       "        vertical-align: middle;\n",
       "    }\n",
       "\n",
       "    .dataframe tbody tr th {\n",
       "        vertical-align: top;\n",
       "    }\n",
       "\n",
       "    .dataframe thead th {\n",
       "        text-align: right;\n",
       "    }\n",
       "</style>\n",
       "<table border=\"1\" class=\"dataframe\">\n",
       "  <thead>\n",
       "    <tr style=\"text-align: right;\">\n",
       "      <th></th>\n",
       "      <th>InstallationDatetime</th>\n",
       "      <th>EntryDatetime</th>\n",
       "      <th>Utility</th>\n",
       "      <th>UtilitySiteId</th>\n",
       "      <th>UtilityDeviceId</th>\n",
       "      <th>SerialNumber</th>\n",
       "      <th>LastS05</th>\n",
       "      <th>LastS02</th>\n",
       "      <th>LastS04</th>\n",
       "      <th>CoordinateX</th>\n",
       "      <th>CoordinateY</th>\n",
       "      <th>StateName</th>\n",
       "      <th>Ip</th>\n",
       "      <th>FULL_METER_NUMBER_INFRA</th>\n",
       "      <th>day</th>\n",
       "      <th>month</th>\n",
       "      <th>year</th>\n",
       "      <th>SUB_LASTSO5_INSTALLATION</th>\n",
       "      <th>NEW METER NO</th>\n",
       "      <th>STATUS</th>\n",
       "      <th>CATEGORY NAME</th>\n",
       "    </tr>\n",
       "  </thead>\n",
       "  <tbody>\n",
       "    <tr>\n",
       "      <th>78031</th>\n",
       "      <td>2019-09-18 22:40:23</td>\n",
       "      <td>2019-09-07 20:11:47</td>\n",
       "      <td>SBPDCL</td>\n",
       "      <td>ARWARL14271</td>\n",
       "      <td>GOEGP4966307</td>\n",
       "      <td>GP4966307</td>\n",
       "      <td>2024-01-27</td>\n",
       "      <td>2023-05-08</td>\n",
       "      <td>2024-01-01</td>\n",
       "      <td>84.68417</td>\n",
       "      <td>25.22774</td>\n",
       "      <td>Imported&amp;&amp;Installed</td>\n",
       "      <td>2001:4490:0800:B137:0000:0000:0000:0001</td>\n",
       "      <td>GOEGP4966307</td>\n",
       "      <td>27</td>\n",
       "      <td>1</td>\n",
       "      <td>2024</td>\n",
       "      <td>1591 days 01:19:37</td>\n",
       "      <td>NaN</td>\n",
       "      <td>NaN</td>\n",
       "      <td>NaN</td>\n",
       "    </tr>\n",
       "  </tbody>\n",
       "</table>\n",
       "</div>"
      ],
      "text/plain": [
       "      InstallationDatetime       EntryDatetime Utility UtilitySiteId  \\\n",
       "78031  2019-09-18 22:40:23 2019-09-07 20:11:47  SBPDCL   ARWARL14271   \n",
       "\n",
       "      UtilityDeviceId SerialNumber    LastS05    LastS02    LastS04  \\\n",
       "78031    GOEGP4966307    GP4966307 2024-01-27 2023-05-08 2024-01-01   \n",
       "\n",
       "       CoordinateX  CoordinateY            StateName  \\\n",
       "78031     84.68417     25.22774  Imported&&Installed   \n",
       "\n",
       "                                            Ip FULL_METER_NUMBER_INFRA  day  \\\n",
       "78031  2001:4490:0800:B137:0000:0000:0000:0001            GOEGP4966307   27   \n",
       "\n",
       "       month  year SUB_LASTSO5_INSTALLATION NEW METER NO STATUS CATEGORY NAME  \n",
       "78031      1  2024       1591 days 01:19:37          NaN    NaN           NaN  "
      ]
     },
     "execution_count": 50,
     "metadata": {},
     "output_type": "execute_result"
    }
   ],
   "source": [
    "CONCAT_CAT_NAN_AND_NOT_NAN_CAT_WITHOUT_HGN_IAS1[CONCAT_CAT_NAN_AND_NOT_NAN_CAT_WITHOUT_HGN_IAS1['SerialNumber']=='GP4966307']"
   ]
  },
  {
   "cell_type": "markdown",
   "metadata": {},
   "source": [
    "### KEEP  ONLY CLOSE STATUS "
   ]
  },
  {
   "cell_type": "code",
   "execution_count": 51,
   "metadata": {},
   "outputs": [],
   "source": [
    "# ONLY CLOSED DATA\n",
    "\n",
    "CONCAT_CAT_NAN_AND_NOT_NAN_CAT_WITHOUT_HGN_IAS1_ONLY_CLOSED=CONCAT_CAT_NAN_AND_NOT_NAN_CAT_WITHOUT_HGN_IAS1[CONCAT_CAT_NAN_AND_NOT_NAN_CAT_WITHOUT_HGN_IAS1['STATUS']=='Closed']"
   ]
  },
  {
   "cell_type": "code",
   "execution_count": 52,
   "metadata": {},
   "outputs": [
    {
     "data": {
      "text/plain": [
       "(69224, 21)"
      ]
     },
     "execution_count": 52,
     "metadata": {},
     "output_type": "execute_result"
    }
   ],
   "source": [
    "CONCAT_CAT_NAN_AND_NOT_NAN_CAT_WITHOUT_HGN_IAS1_ONLY_CLOSED.shape"
   ]
  },
  {
   "cell_type": "code",
   "execution_count": 53,
   "metadata": {},
   "outputs": [
    {
     "name": "stderr",
     "output_type": "stream",
     "text": [
      "C:\\Users\\Ratan Kumar Jha\\AppData\\Local\\Temp\\ipykernel_23176\\3923284556.py:1: SettingWithCopyWarning: \n",
      "A value is trying to be set on a copy of a slice from a DataFrame\n",
      "\n",
      "See the caveats in the documentation: https://pandas.pydata.org/pandas-docs/stable/user_guide/indexing.html#returning-a-view-versus-a-copy\n",
      "  CONCAT_CAT_NAN_AND_NOT_NAN_CAT_WITHOUT_HGN_IAS1_ONLY_CLOSED.drop(['NEW METER NO'], axis=1, inplace=True)\n"
     ]
    }
   ],
   "source": [
    "CONCAT_CAT_NAN_AND_NOT_NAN_CAT_WITHOUT_HGN_IAS1_ONLY_CLOSED.drop(['NEW METER NO'], axis=1, inplace=True)"
   ]
  },
  {
   "cell_type": "code",
   "execution_count": 54,
   "metadata": {},
   "outputs": [],
   "source": [
    "\n",
    "MERGE_CAT_WITHOUT_HGN_IAS1_ONLY_CLOSED_AND_COMPILATION_DATA = pd.merge(CONCAT_CAT_NAN_AND_NOT_NAN_CAT_WITHOUT_HGN_IAS1_ONLY_CLOSED,ALL_DATA_COMPILATION_MERGE[['NEW METER NO', 'CONSUMER ID', 'INSTALLATION_NUMBER',\n",
    "       'NAME', 'ADDRESS', 'MOBILE NUMBER', 'UTILITY NAME', 'REPLACEMENT DATE',\n",
    "       'MRU', 'LAT', 'LONG', 'PHASE', 'TOWN', 'VENDOR NAME',\n",
    "       'SECTION', 'DIVISION']], left_on=['SerialNumber'], right_on=['NEW METER NO'], how='left')\n"
   ]
  },
  {
   "cell_type": "code",
   "execution_count": 55,
   "metadata": {},
   "outputs": [],
   "source": [
    "# CREATE A NEW COLUMN IN WHICH THERE ARE AGEING "
   ]
  },
  {
   "cell_type": "code",
   "execution_count": 56,
   "metadata": {},
   "outputs": [],
   "source": [
    "from datetime import datetime, timedelta\n",
    "MERGE_CAT_WITHOUT_HGN_IAS1_ONLY_CLOSED_AND_COMPILATION_DATA['TODAY_DATE']= datetime.now()\n",
    "\n",
    "\n",
    "#  CONVERT INTO DATE TIME\n",
    "\n",
    "MERGE_CAT_WITHOUT_HGN_IAS1_ONLY_CLOSED_AND_COMPILATION_DATA['TODAY_DATE'] = pd.to_datetime(MERGE_CAT_WITHOUT_HGN_IAS1_ONLY_CLOSED_AND_COMPILATION_DATA['TODAY_DATE'])\n",
    "\n",
    "\n",
    "\n",
    "# AGEING ==  TODAY - LASTSO5\n",
    "\n",
    "MERGE_CAT_WITHOUT_HGN_IAS1_ONLY_CLOSED_AND_COMPILATION_DATA['AGEING'] = MERGE_CAT_WITHOUT_HGN_IAS1_ONLY_CLOSED_AND_COMPILATION_DATA['TODAY_DATE'] - MERGE_CAT_WITHOUT_HGN_IAS1_ONLY_CLOSED_AND_COMPILATION_DATA['LastS05']"
   ]
  },
  {
   "cell_type": "code",
   "execution_count": 57,
   "metadata": {},
   "outputs": [],
   "source": [
    "# days from date data\n",
    "\n",
    "MERGE_CAT_WITHOUT_HGN_IAS1_ONLY_CLOSED_AND_COMPILATION_DATA['AGEING_DAYS']=MERGE_CAT_WITHOUT_HGN_IAS1_ONLY_CLOSED_AND_COMPILATION_DATA['AGEING'].dt.days\n"
   ]
  },
  {
   "cell_type": "code",
   "execution_count": 58,
   "metadata": {},
   "outputs": [],
   "source": [
    "# ageing data\n",
    "def SLA_COLUMN_AGEING(row):\n",
    "    if row['AGEING_DAYS'] >= 7  and row['AGEING_DAYS'] <= 15:\n",
    "        return '7-15 days'\n",
    "    elif row['AGEING_DAYS'] >= 16  and row['AGEING_DAYS'] <= 30:\n",
    "        return '16-30 days'\n",
    "    elif row['AGEING_DAYS'] >= 31  and row['AGEING_DAYS'] <= 60:\n",
    "        return '31-60 days'\n",
    "    elif row['AGEING_DAYS'] >= 61  and row['AGEING_DAYS'] <= 120:\n",
    "        return '61-120 days'\n",
    "    elif row['AGEING_DAYS'] >= 121  and row['AGEING_DAYS'] <= 180:\n",
    "        return '121-180 days'\n",
    "    else: \n",
    "        return '> 180 days'\n",
    "    \n",
    "MERGE_CAT_WITHOUT_HGN_IAS1_ONLY_CLOSED_AND_COMPILATION_DATA['SLA_AGEING'] = MERGE_CAT_WITHOUT_HGN_IAS1_ONLY_CLOSED_AND_COMPILATION_DATA.apply(SLA_COLUMN_AGEING, axis=1)\n",
    "\n"
   ]
  },
  {
   "cell_type": "code",
   "execution_count": 59,
   "metadata": {},
   "outputs": [],
   "source": [
    "# DATAFRAME WITH OTHER AND NOT PATNA\n",
    "\n",
    "\n",
    "MERGE_CAT_WITHOUT_HGN_IAS1_ONLY_CLOSED_AND_COMPILATION_DATA_OTHERS_AND_NOT_PATNA=MERGE_CAT_WITHOUT_HGN_IAS1_ONLY_CLOSED_AND_COMPILATION_DATA[(MERGE_CAT_WITHOUT_HGN_IAS1_ONLY_CLOSED_AND_COMPILATION_DATA['VENDOR NAME']=='Others') & (MERGE_CAT_WITHOUT_HGN_IAS1_ONLY_CLOSED_AND_COMPILATION_DATA['TOWN'] != 'Patna')]\n",
    "\n",
    "\n",
    "# DROP ROWS FROM DATAFRAME  WHERE VENDOR  = OTHERS AND TOWN NOT = PATNA\n",
    "\n",
    "MERGE_CAT_WITHOUT_HGN_IAS1_ONLY_CLOSED_AND_COMPILATION_DATA_REMOVE_OTHERS_AND_NOT_PATNA=MERGE_CAT_WITHOUT_HGN_IAS1_ONLY_CLOSED_AND_COMPILATION_DATA.drop(MERGE_CAT_WITHOUT_HGN_IAS1_ONLY_CLOSED_AND_COMPILATION_DATA[(MERGE_CAT_WITHOUT_HGN_IAS1_ONLY_CLOSED_AND_COMPILATION_DATA['VENDOR NAME']=='Others') & (MERGE_CAT_WITHOUT_HGN_IAS1_ONLY_CLOSED_AND_COMPILATION_DATA['TOWN'] != 'Patna')].index)"
   ]
  },
  {
   "cell_type": "code",
   "execution_count": 60,
   "metadata": {},
   "outputs": [
    {
     "name": "stdout",
     "output_type": "stream",
     "text": [
      " DATAFRAME IS WITH EQUAL SHAPE\n"
     ]
    }
   ],
   "source": [
    "if (MERGE_CAT_WITHOUT_HGN_IAS1_ONLY_CLOSED_AND_COMPILATION_DATA_OTHERS_AND_NOT_PATNA.shape[0] + MERGE_CAT_WITHOUT_HGN_IAS1_ONLY_CLOSED_AND_COMPILATION_DATA_REMOVE_OTHERS_AND_NOT_PATNA.shape[0]) == MERGE_CAT_WITHOUT_HGN_IAS1_ONLY_CLOSED_AND_COMPILATION_DATA.shape[0]:\n",
    "    print(\" DATAFRAME IS WITH EQUAL SHAPE\")\n",
    "else:\n",
    "    sys.exit(\"Data shapes are not equal. Exiting the script.\")\n"
   ]
  },
  {
   "cell_type": "code",
   "execution_count": 61,
   "metadata": {},
   "outputs": [
    {
     "name": "stdout",
     "output_type": "stream",
     "text": [
      "SHAPE OF MERGE_CAT_WITHOUT_HGN_IAS1_ONLY_CLOSED_AND_COMPILATION_DATA_OTHERS_AND_NOT_PATNA IS  : (1409, 40)\n",
      "SHAPE OF MERGE_CAT_WITHOUT_HGN_IAS1_ONLY_CLOSED_AND_COMPILATION_DATA IS  : (69224, 40)\n",
      "SHAPE OF MERGE_CAT_WITHOUT_HGN_IAS1_ONLY_CLOSED_AND_COMPILATION_DATA_REMOVE_OTHERS_AND_NOT_PATNA IS  : (67815, 40)\n"
     ]
    }
   ],
   "source": [
    "print(f\"SHAPE OF MERGE_CAT_WITHOUT_HGN_IAS1_ONLY_CLOSED_AND_COMPILATION_DATA_OTHERS_AND_NOT_PATNA IS  : {MERGE_CAT_WITHOUT_HGN_IAS1_ONLY_CLOSED_AND_COMPILATION_DATA_OTHERS_AND_NOT_PATNA.shape}\")\n",
    "print(f\"SHAPE OF MERGE_CAT_WITHOUT_HGN_IAS1_ONLY_CLOSED_AND_COMPILATION_DATA IS  : {MERGE_CAT_WITHOUT_HGN_IAS1_ONLY_CLOSED_AND_COMPILATION_DATA.shape}\")\n",
    "print(f\"SHAPE OF MERGE_CAT_WITHOUT_HGN_IAS1_ONLY_CLOSED_AND_COMPILATION_DATA_REMOVE_OTHERS_AND_NOT_PATNA IS  : {MERGE_CAT_WITHOUT_HGN_IAS1_ONLY_CLOSED_AND_COMPILATION_DATA_REMOVE_OTHERS_AND_NOT_PATNA.shape}\")"
   ]
  },
  {
   "cell_type": "code",
   "execution_count": 62,
   "metadata": {},
   "outputs": [],
   "source": [
    "# DATA SET SAVE TO OUTPUT FOLDER PATH\n",
    "\n",
    "MERGE_CAT_WITHOUT_HGN_IAS1_ONLY_CLOSED_AND_COMPILATION_DATA_REMOVE_OTHERS_AND_NOT_PATNA.to_csv(r\"C:\\Users\\Ratan Kumar Jha\\Desktop\\Daily progress report\\NC_TRACKER\\OUTPUT FILE DATA\\MERGE_CAT_WITHOUT_HGN_IAS1_ONLY_CLOSED_AND_COMPILATION_DATA_REMOVE_OTHERS_AND_NOT_PATNA.csv\",index=False)\n",
    "\n",
    "# FINAL  DATA SET SAVE TO OUTPUT FOLDER PATH\n",
    "\n",
    "FINAL_DATASET =  MERGE_CAT_WITHOUT_HGN_IAS1_ONLY_CLOSED_AND_COMPILATION_DATA_REMOVE_OTHERS_AND_NOT_PATNA\n",
    "FINAL_DATASET.to_csv(r\"C:\\Users\\Ratan Kumar Jha\\Desktop\\Daily progress report\\NC_TRACKER\\OUTPUT FILE DATA\\FINAL_DATASET.csv\",index=False)"
   ]
  },
  {
   "cell_type": "markdown",
   "metadata": {},
   "source": [
    "# FINAL_DATASET"
   ]
  },
  {
   "cell_type": "code",
   "execution_count": 63,
   "metadata": {},
   "outputs": [
    {
     "data": {
      "text/html": [
       "<div>\n",
       "<style scoped>\n",
       "    .dataframe tbody tr th:only-of-type {\n",
       "        vertical-align: middle;\n",
       "    }\n",
       "\n",
       "    .dataframe tbody tr th {\n",
       "        vertical-align: top;\n",
       "    }\n",
       "\n",
       "    .dataframe thead th {\n",
       "        text-align: right;\n",
       "    }\n",
       "</style>\n",
       "<table border=\"1\" class=\"dataframe\">\n",
       "  <thead>\n",
       "    <tr style=\"text-align: right;\">\n",
       "      <th></th>\n",
       "      <th>InstallationDatetime</th>\n",
       "      <th>EntryDatetime</th>\n",
       "      <th>Utility</th>\n",
       "      <th>UtilitySiteId</th>\n",
       "      <th>UtilityDeviceId</th>\n",
       "      <th>SerialNumber</th>\n",
       "      <th>LastS05</th>\n",
       "      <th>LastS02</th>\n",
       "      <th>LastS04</th>\n",
       "      <th>CoordinateX</th>\n",
       "      <th>CoordinateY</th>\n",
       "      <th>StateName</th>\n",
       "      <th>Ip</th>\n",
       "      <th>FULL_METER_NUMBER_INFRA</th>\n",
       "      <th>day</th>\n",
       "      <th>month</th>\n",
       "      <th>year</th>\n",
       "      <th>SUB_LASTSO5_INSTALLATION</th>\n",
       "      <th>STATUS</th>\n",
       "      <th>CATEGORY NAME</th>\n",
       "      <th>NEW METER NO</th>\n",
       "      <th>CONSUMER ID</th>\n",
       "      <th>INSTALLATION_NUMBER</th>\n",
       "      <th>NAME</th>\n",
       "      <th>ADDRESS</th>\n",
       "      <th>MOBILE NUMBER</th>\n",
       "      <th>UTILITY NAME</th>\n",
       "      <th>REPLACEMENT DATE</th>\n",
       "      <th>MRU</th>\n",
       "      <th>LAT</th>\n",
       "      <th>LONG</th>\n",
       "      <th>PHASE</th>\n",
       "      <th>TOWN</th>\n",
       "      <th>VENDOR NAME</th>\n",
       "      <th>SECTION</th>\n",
       "      <th>DIVISION</th>\n",
       "      <th>TODAY_DATE</th>\n",
       "      <th>AGEING</th>\n",
       "      <th>AGEING_DAYS</th>\n",
       "      <th>SLA_AGEING</th>\n",
       "    </tr>\n",
       "  </thead>\n",
       "  <tbody>\n",
       "    <tr>\n",
       "      <th>0</th>\n",
       "      <td>2023-10-15 21:13:23</td>\n",
       "      <td>2023-01-11 18:08:55</td>\n",
       "      <td>NBPDCL</td>\n",
       "      <td>5000056947</td>\n",
       "      <td>LNTLT8051401</td>\n",
       "      <td>LT8051401</td>\n",
       "      <td>2024-01-25</td>\n",
       "      <td>NaT</td>\n",
       "      <td>2024-01-01</td>\n",
       "      <td>87.48042</td>\n",
       "      <td>25.78156</td>\n",
       "      <td>Imported&amp;&amp;Installed</td>\n",
       "      <td>2405:0203:0531:6995:0000:0000:0000:0010</td>\n",
       "      <td>LNTLT8051401</td>\n",
       "      <td>25</td>\n",
       "      <td>1</td>\n",
       "      <td>2024</td>\n",
       "      <td>101 days 02:46:37</td>\n",
       "      <td>Closed</td>\n",
       "      <td>LTIS-ID</td>\n",
       "      <td>LT8051401</td>\n",
       "      <td>400025978.0</td>\n",
       "      <td>5000056947</td>\n",
       "      <td>M/S KISHAN ENTERPRISES</td>\n",
       "      <td>S/O T.PRASAD, NEAR AZAD T     PURNIA_U PURNIA ...</td>\n",
       "      <td>9546200212</td>\n",
       "      <td>NBPD</td>\n",
       "      <td>2023-10-14</td>\n",
       "      <td>GBECL3PH</td>\n",
       "      <td>25.7815624</td>\n",
       "      <td>87.4804234</td>\n",
       "      <td>3</td>\n",
       "      <td>Purnea</td>\n",
       "      <td>edf</td>\n",
       "      <td>PURNEA(TOWN I)</td>\n",
       "      <td>PURNEA(W)</td>\n",
       "      <td>2024-02-08 15:48:23.087199</td>\n",
       "      <td>14 days 15:48:23.087199</td>\n",
       "      <td>14</td>\n",
       "      <td>7-15 days</td>\n",
       "    </tr>\n",
       "  </tbody>\n",
       "</table>\n",
       "</div>"
      ],
      "text/plain": [
       "  InstallationDatetime       EntryDatetime Utility UtilitySiteId  \\\n",
       "0  2023-10-15 21:13:23 2023-01-11 18:08:55  NBPDCL    5000056947   \n",
       "\n",
       "  UtilityDeviceId SerialNumber    LastS05 LastS02    LastS04  CoordinateX  \\\n",
       "0    LNTLT8051401    LT8051401 2024-01-25     NaT 2024-01-01     87.48042   \n",
       "\n",
       "   CoordinateY            StateName                                       Ip  \\\n",
       "0     25.78156  Imported&&Installed  2405:0203:0531:6995:0000:0000:0000:0010   \n",
       "\n",
       "  FULL_METER_NUMBER_INFRA  day  month  year SUB_LASTSO5_INSTALLATION  STATUS  \\\n",
       "0            LNTLT8051401   25      1  2024        101 days 02:46:37  Closed   \n",
       "\n",
       "  CATEGORY NAME NEW METER NO  CONSUMER ID INSTALLATION_NUMBER  \\\n",
       "0       LTIS-ID    LT8051401  400025978.0          5000056947   \n",
       "\n",
       "                     NAME                                            ADDRESS  \\\n",
       "0  M/S KISHAN ENTERPRISES  S/O T.PRASAD, NEAR AZAD T     PURNIA_U PURNIA ...   \n",
       "\n",
       "  MOBILE NUMBER UTILITY NAME REPLACEMENT DATE       MRU         LAT  \\\n",
       "0    9546200212         NBPD       2023-10-14  GBECL3PH  25.7815624   \n",
       "\n",
       "         LONG PHASE    TOWN VENDOR NAME         SECTION   DIVISION  \\\n",
       "0  87.4804234     3  Purnea         edf  PURNEA(TOWN I)  PURNEA(W)   \n",
       "\n",
       "                  TODAY_DATE                  AGEING  AGEING_DAYS SLA_AGEING  \n",
       "0 2024-02-08 15:48:23.087199 14 days 15:48:23.087199           14  7-15 days  "
      ]
     },
     "execution_count": 63,
     "metadata": {},
     "output_type": "execute_result"
    }
   ],
   "source": [
    "FINAL_DATASET.head(1)"
   ]
  },
  {
   "cell_type": "code",
   "execution_count": 64,
   "metadata": {},
   "outputs": [
    {
     "data": {
      "text/html": [
       "<div>\n",
       "<style scoped>\n",
       "    .dataframe tbody tr th:only-of-type {\n",
       "        vertical-align: middle;\n",
       "    }\n",
       "\n",
       "    .dataframe tbody tr th {\n",
       "        vertical-align: top;\n",
       "    }\n",
       "\n",
       "    .dataframe thead th {\n",
       "        text-align: right;\n",
       "    }\n",
       "</style>\n",
       "<table border=\"1\" class=\"dataframe\">\n",
       "  <thead>\n",
       "    <tr style=\"text-align: right;\">\n",
       "      <th></th>\n",
       "      <th>S.No</th>\n",
       "      <th>DeviceId</th>\n",
       "      <th>Email Time</th>\n",
       "      <th>Ticket Date</th>\n",
       "      <th>Vendor Resolution Plan Date</th>\n",
       "      <th>Vendor Resolved Date</th>\n",
       "      <th>New/OLD Cases</th>\n",
       "      <th>Jan- Plan</th>\n",
       "      <th>InstallationDatetime</th>\n",
       "      <th>Last DP Date</th>\n",
       "      <th>Last BP Date</th>\n",
       "      <th>Ip</th>\n",
       "      <th>Ping Status</th>\n",
       "      <th>Consumer ID</th>\n",
       "      <th>Installation No</th>\n",
       "      <th>Name</th>\n",
       "      <th>Address</th>\n",
       "      <th>Mobile Number</th>\n",
       "      <th>Utility Name</th>\n",
       "      <th>MRU</th>\n",
       "      <th>Lat</th>\n",
       "      <th>Long</th>\n",
       "      <th>Category Name</th>\n",
       "      <th>Phase</th>\n",
       "      <th>Town</th>\n",
       "      <th>Vendor Name</th>\n",
       "      <th>Section</th>\n",
       "      <th>Division</th>\n",
       "      <th>Cluster</th>\n",
       "      <th>Ageing</th>\n",
       "      <th>Tenure</th>\n",
       "      <th>Priority</th>\n",
       "      <th>Previous Field Remarks</th>\n",
       "      <th>Bucket</th>\n",
       "      <th>Responsibility</th>\n",
       "      <th>IT Issue</th>\n",
       "      <th>EESL Remarks 1</th>\n",
       "      <th>EESL Remarks</th>\n",
       "      <th>EESL Bucket</th>\n",
       "    </tr>\n",
       "  </thead>\n",
       "  <tbody>\n",
       "    <tr>\n",
       "      <th>0</th>\n",
       "      <td>1</td>\n",
       "      <td>LT8072490</td>\n",
       "      <td>6:00 P.M</td>\n",
       "      <td>2023-11-05</td>\n",
       "      <td>NaN</td>\n",
       "      <td>NaN</td>\n",
       "      <td>Old Case</td>\n",
       "      <td>Old Case</td>\n",
       "      <td>2023-10-10 18:53:52</td>\n",
       "      <td>2023-10-27</td>\n",
       "      <td>NaN</td>\n",
       "      <td>2405:0203:0535:216B:0000:0000:0000:0010</td>\n",
       "      <td>NaN</td>\n",
       "      <td>108709143</td>\n",
       "      <td>5004055256</td>\n",
       "      <td>MUKESH KUMAR</td>\n",
       "      <td>KHATA NO 162, WARD NO</td>\n",
       "      <td>9546520585</td>\n",
       "      <td>SBPD</td>\n",
       "      <td>0</td>\n",
       "      <td>25.553647</td>\n",
       "      <td>84.662457</td>\n",
       "      <td>NDS-IID(B)</td>\n",
       "      <td>3</td>\n",
       "      <td>Ara</td>\n",
       "      <td>Astute</td>\n",
       "      <td>SEC-HEADQUARTER</td>\n",
       "      <td>ARRAH</td>\n",
       "      <td>Rakesh Kumar</td>\n",
       "      <td>93</td>\n",
       "      <td>61-120 Days</td>\n",
       "      <td>P1</td>\n",
       "      <td>Error 3</td>\n",
       "      <td>VENDOR</td>\n",
       "      <td>Rakesh Kumar</td>\n",
       "      <td>NaN</td>\n",
       "      <td>TSP Issues</td>\n",
       "      <td>TSP Issues</td>\n",
       "      <td>EDF</td>\n",
       "    </tr>\n",
       "  </tbody>\n",
       "</table>\n",
       "</div>"
      ],
      "text/plain": [
       "   S.No   DeviceId Email Time Ticket Date  Vendor Resolution Plan Date  \\\n",
       "0     1  LT8072490   6:00 P.M  2023-11-05                          NaN   \n",
       "\n",
       "   Vendor Resolved Date New/OLD Cases Jan- Plan InstallationDatetime  \\\n",
       "0                   NaN      Old Case  Old Case  2023-10-10 18:53:52   \n",
       "\n",
       "  Last DP Date Last BP Date                                       Ip  \\\n",
       "0   2023-10-27          NaN  2405:0203:0535:216B:0000:0000:0000:0010   \n",
       "\n",
       "  Ping Status  Consumer ID Installation No          Name  \\\n",
       "0         NaN    108709143      5004055256  MUKESH KUMAR   \n",
       "\n",
       "                 Address  Mobile Number Utility Name MRU        Lat  \\\n",
       "0  KHATA NO 162, WARD NO     9546520585         SBPD   0  25.553647   \n",
       "\n",
       "        Long Category Name  Phase Town Vendor Name          Section Division  \\\n",
       "0  84.662457    NDS-IID(B)      3  Ara      Astute  SEC-HEADQUARTER    ARRAH   \n",
       "\n",
       "        Cluster  Ageing       Tenure Priority Previous Field Remarks  Bucket  \\\n",
       "0  Rakesh Kumar      93  61-120 Days       P1                Error 3  VENDOR   \n",
       "\n",
       "  Responsibility IT Issue EESL Remarks 1 EESL Remarks EESL Bucket  \n",
       "0   Rakesh Kumar      NaN     TSP Issues   TSP Issues         EDF  "
      ]
     },
     "execution_count": 64,
     "metadata": {},
     "output_type": "execute_result"
    }
   ],
   "source": [
    "NC_TRACKER_28_JAN_24.head(1)"
   ]
  },
  {
   "cell_type": "code",
   "execution_count": 65,
   "metadata": {},
   "outputs": [],
   "source": [
    "MERGE_NC_TRACKER_MERGE_NEW_OLD_DATA = pd.merge(FINAL_DATASET,NC_TRACKER_28_JAN_24[['Ticket Date','DeviceId']], left_on=['SerialNumber'], right_on=['DeviceId'], how='left')\n",
    "#MERGE_POS_DATA_AND_COMPILATION_DATA = pd.merge(POSITIVE_DIFF_COMPILE_DATA_NB_SB_NOT_NULL_DATA_LAST_7_DAY,ALL_DATA_COMPILATION_MERGE[['NEW METER NO','STATUS','CATEGORY NAME']], left_on=['SerialNumber'], right_on=['NEW METER NO'], how='left')"
   ]
  },
  {
   "cell_type": "code",
   "execution_count": 66,
   "metadata": {},
   "outputs": [
    {
     "data": {
      "text/plain": [
       "(5436, 42)"
      ]
     },
     "execution_count": 66,
     "metadata": {},
     "output_type": "execute_result"
    }
   ],
   "source": [
    "MERGE_NC_TRACKER_MERGE_NEW_OLD_DATA[MERGE_NC_TRACKER_MERGE_NEW_OLD_DATA['Ticket Date'].isnull()].shape\n",
    "\n"
   ]
  },
  {
   "cell_type": "code",
   "execution_count": 67,
   "metadata": {},
   "outputs": [
    {
     "name": "stdout",
     "output_type": "stream",
     "text": [
      "Current Time: 2024-02-08\n"
     ]
    }
   ],
   "source": [
    "current_time = datetime.now()\n",
    "formatted_time = current_time.strftime('%Y-%m-%d')\n",
    "\n",
    "print('Current Time:', formatted_time)"
   ]
  },
  {
   "cell_type": "code",
   "execution_count": 68,
   "metadata": {},
   "outputs": [],
   "source": [
    "MERGE_NC_TRACKER_MERGE_NEW_OLD_DATA['Ticket Date'] = MERGE_NC_TRACKER_MERGE_NEW_OLD_DATA['Ticket Date'].fillna(formatted_time)"
   ]
  },
  {
   "cell_type": "code",
   "execution_count": 69,
   "metadata": {},
   "outputs": [],
   "source": [
    "MERGE_NC_TRACKER_MERGE_NEW_OLD_DATA.to_csv(r\"C:\\Users\\Ratan Kumar Jha\\Desktop\\Daily progress report\\NC_TRACKER\\OUTPUT FILE DATA\\MERGE_NC_TRACKER_MERGE_NEW_OLD_DATA.csv\",index=False)"
   ]
  },
  {
   "cell_type": "code",
   "execution_count": 70,
   "metadata": {},
   "outputs": [
    {
     "data": {
      "text/plain": [
       "(0, 42)"
      ]
     },
     "execution_count": 70,
     "metadata": {},
     "output_type": "execute_result"
    }
   ],
   "source": [
    "#MERGE_NC_TRACKER_MERGE_NEW_OLD_DATA['Ticket Date'] = MERGE_NC_TRACKER_MERGE_NEW_OLD_DATA['Ticket Date'].fillna(pd.to_datetime(datetime.now().strftime('%Y-%m-%d')))\n",
    "\n",
    "MERGE_NC_TRACKER_MERGE_NEW_OLD_DATA[MERGE_NC_TRACKER_MERGE_NEW_OLD_DATA['Ticket Date'].isnull()].shape"
   ]
  },
  {
   "cell_type": "code",
   "execution_count": 71,
   "metadata": {},
   "outputs": [],
   "source": [
    "# drop deviceid column\n",
    "\n",
    "MERGE_NC_TRACKER_MERGE_NEW_OLD_DATA.drop(['DeviceId'], axis=1, inplace=True)\n",
    "\n",
    "\n",
    "# create a new column with email time \n",
    "MERGE_NC_TRACKER_MERGE_NEW_OLD_DATA['Email Time'] = '6:00 P.M'\n",
    "\n",
    "# CRAETE A NEW COLUMN WITH CURRENT DATE\n",
    "MERGE_NC_TRACKER_MERGE_NEW_OLD_DATA['CURRENT DATE'] = formatted_time"
   ]
  },
  {
   "cell_type": "code",
   "execution_count": 72,
   "metadata": {},
   "outputs": [
    {
     "data": {
      "text/plain": [
       "(0, 43)"
      ]
     },
     "execution_count": 72,
     "metadata": {},
     "output_type": "execute_result"
    }
   ],
   "source": [
    "MERGE_NC_TRACKER_MERGE_NEW_OLD_DATA[MERGE_NC_TRACKER_MERGE_NEW_OLD_DATA['Ticket Date']=='2024-01-31'].shape"
   ]
  },
  {
   "cell_type": "code",
   "execution_count": 73,
   "metadata": {},
   "outputs": [],
   "source": [
    "# OLD AND NEW CASES\n",
    "\n",
    "def old_new_data(row):\n",
    "    if row['Ticket Date'] == row['CURRENT DATE']:\n",
    "        return 'New Case'\n",
    "    else:\n",
    "        return 'Old Case'\n",
    "\n",
    "MERGE_NC_TRACKER_MERGE_NEW_OLD_DATA['New/OLD Cases'] = MERGE_NC_TRACKER_MERGE_NEW_OLD_DATA.apply(old_new_data,axis=1)"
   ]
  },
  {
   "cell_type": "code",
   "execution_count": 74,
   "metadata": {},
   "outputs": [
    {
     "data": {
      "text/html": [
       "<div>\n",
       "<style scoped>\n",
       "    .dataframe tbody tr th:only-of-type {\n",
       "        vertical-align: middle;\n",
       "    }\n",
       "\n",
       "    .dataframe tbody tr th {\n",
       "        vertical-align: top;\n",
       "    }\n",
       "\n",
       "    .dataframe thead th {\n",
       "        text-align: right;\n",
       "    }\n",
       "</style>\n",
       "<table border=\"1\" class=\"dataframe\">\n",
       "  <thead>\n",
       "    <tr style=\"text-align: right;\">\n",
       "      <th></th>\n",
       "      <th>InstallationDatetime</th>\n",
       "      <th>EntryDatetime</th>\n",
       "      <th>Utility</th>\n",
       "      <th>UtilitySiteId</th>\n",
       "      <th>UtilityDeviceId</th>\n",
       "      <th>SerialNumber</th>\n",
       "      <th>LastS05</th>\n",
       "      <th>LastS02</th>\n",
       "      <th>LastS04</th>\n",
       "      <th>CoordinateX</th>\n",
       "      <th>CoordinateY</th>\n",
       "      <th>StateName</th>\n",
       "      <th>Ip</th>\n",
       "      <th>FULL_METER_NUMBER_INFRA</th>\n",
       "      <th>day</th>\n",
       "      <th>month</th>\n",
       "      <th>year</th>\n",
       "      <th>SUB_LASTSO5_INSTALLATION</th>\n",
       "      <th>STATUS</th>\n",
       "      <th>CATEGORY NAME</th>\n",
       "      <th>NEW METER NO</th>\n",
       "      <th>CONSUMER ID</th>\n",
       "      <th>INSTALLATION_NUMBER</th>\n",
       "      <th>NAME</th>\n",
       "      <th>ADDRESS</th>\n",
       "      <th>MOBILE NUMBER</th>\n",
       "      <th>UTILITY NAME</th>\n",
       "      <th>REPLACEMENT DATE</th>\n",
       "      <th>MRU</th>\n",
       "      <th>LAT</th>\n",
       "      <th>LONG</th>\n",
       "      <th>PHASE</th>\n",
       "      <th>TOWN</th>\n",
       "      <th>VENDOR NAME</th>\n",
       "      <th>SECTION</th>\n",
       "      <th>DIVISION</th>\n",
       "      <th>TODAY_DATE</th>\n",
       "      <th>AGEING</th>\n",
       "      <th>AGEING_DAYS</th>\n",
       "      <th>SLA_AGEING</th>\n",
       "      <th>Ticket Date</th>\n",
       "      <th>Email Time</th>\n",
       "      <th>CURRENT DATE</th>\n",
       "      <th>New/OLD Cases</th>\n",
       "    </tr>\n",
       "  </thead>\n",
       "  <tbody>\n",
       "    <tr>\n",
       "      <th>0</th>\n",
       "      <td>2023-10-15 21:13:23</td>\n",
       "      <td>2023-01-11 18:08:55</td>\n",
       "      <td>NBPDCL</td>\n",
       "      <td>5000056947</td>\n",
       "      <td>LNTLT8051401</td>\n",
       "      <td>LT8051401</td>\n",
       "      <td>2024-01-25</td>\n",
       "      <td>NaT</td>\n",
       "      <td>2024-01-01</td>\n",
       "      <td>87.48042</td>\n",
       "      <td>25.78156</td>\n",
       "      <td>Imported&amp;&amp;Installed</td>\n",
       "      <td>2405:0203:0531:6995:0000:0000:0000:0010</td>\n",
       "      <td>LNTLT8051401</td>\n",
       "      <td>25</td>\n",
       "      <td>1</td>\n",
       "      <td>2024</td>\n",
       "      <td>101 days 02:46:37</td>\n",
       "      <td>Closed</td>\n",
       "      <td>LTIS-ID</td>\n",
       "      <td>LT8051401</td>\n",
       "      <td>400025978.0</td>\n",
       "      <td>5000056947</td>\n",
       "      <td>M/S KISHAN ENTERPRISES</td>\n",
       "      <td>S/O T.PRASAD, NEAR AZAD T     PURNIA_U PURNIA ...</td>\n",
       "      <td>9546200212</td>\n",
       "      <td>NBPD</td>\n",
       "      <td>2023-10-14</td>\n",
       "      <td>GBECL3PH</td>\n",
       "      <td>25.7815624</td>\n",
       "      <td>87.4804234</td>\n",
       "      <td>3</td>\n",
       "      <td>Purnea</td>\n",
       "      <td>edf</td>\n",
       "      <td>PURNEA(TOWN I)</td>\n",
       "      <td>PURNEA(W)</td>\n",
       "      <td>2024-02-08 15:48:23.087199</td>\n",
       "      <td>14 days 15:48:23.087199</td>\n",
       "      <td>14</td>\n",
       "      <td>7-15 days</td>\n",
       "      <td>2024-02-08</td>\n",
       "      <td>6:00 P.M</td>\n",
       "      <td>2024-02-08</td>\n",
       "      <td>New Case</td>\n",
       "    </tr>\n",
       "  </tbody>\n",
       "</table>\n",
       "</div>"
      ],
      "text/plain": [
       "  InstallationDatetime       EntryDatetime Utility UtilitySiteId  \\\n",
       "0  2023-10-15 21:13:23 2023-01-11 18:08:55  NBPDCL    5000056947   \n",
       "\n",
       "  UtilityDeviceId SerialNumber    LastS05 LastS02    LastS04  CoordinateX  \\\n",
       "0    LNTLT8051401    LT8051401 2024-01-25     NaT 2024-01-01     87.48042   \n",
       "\n",
       "   CoordinateY            StateName                                       Ip  \\\n",
       "0     25.78156  Imported&&Installed  2405:0203:0531:6995:0000:0000:0000:0010   \n",
       "\n",
       "  FULL_METER_NUMBER_INFRA  day  month  year SUB_LASTSO5_INSTALLATION  STATUS  \\\n",
       "0            LNTLT8051401   25      1  2024        101 days 02:46:37  Closed   \n",
       "\n",
       "  CATEGORY NAME NEW METER NO  CONSUMER ID INSTALLATION_NUMBER  \\\n",
       "0       LTIS-ID    LT8051401  400025978.0          5000056947   \n",
       "\n",
       "                     NAME                                            ADDRESS  \\\n",
       "0  M/S KISHAN ENTERPRISES  S/O T.PRASAD, NEAR AZAD T     PURNIA_U PURNIA ...   \n",
       "\n",
       "  MOBILE NUMBER UTILITY NAME REPLACEMENT DATE       MRU         LAT  \\\n",
       "0    9546200212         NBPD       2023-10-14  GBECL3PH  25.7815624   \n",
       "\n",
       "         LONG PHASE    TOWN VENDOR NAME         SECTION   DIVISION  \\\n",
       "0  87.4804234     3  Purnea         edf  PURNEA(TOWN I)  PURNEA(W)   \n",
       "\n",
       "                  TODAY_DATE                  AGEING  AGEING_DAYS SLA_AGEING  \\\n",
       "0 2024-02-08 15:48:23.087199 14 days 15:48:23.087199           14  7-15 days   \n",
       "\n",
       "  Ticket Date Email Time CURRENT DATE New/OLD Cases  \n",
       "0  2024-02-08   6:00 P.M   2024-02-08      New Case  "
      ]
     },
     "execution_count": 74,
     "metadata": {},
     "output_type": "execute_result"
    }
   ],
   "source": [
    "MERGE_NC_TRACKER_MERGE_NEW_OLD_DATA.head(1)"
   ]
  },
  {
   "cell_type": "code",
   "execution_count": 75,
   "metadata": {},
   "outputs": [],
   "source": [
    "MERGE_NC_TRACKER_MERGE_NEW_OLD_DATA['ADDRESS'] = MERGE_NC_TRACKER_MERGE_NEW_OLD_DATA['ADDRESS'].str.replace(',', ';')\n",
    "MERGE_NC_TRACKER_MERGE_NEW_OLD_DATA['NAME'] = MERGE_NC_TRACKER_MERGE_NEW_OLD_DATA['NAME'].str.replace(',', ';')"
   ]
  },
  {
   "cell_type": "code",
   "execution_count": 76,
   "metadata": {},
   "outputs": [],
   "source": [
    "MERGE_NC_TRACKER_MERGE_NEW_OLD_DATA.to_csv(r\"C:\\Users\\Ratan Kumar Jha\\Desktop\\Daily progress report\\NC_TRACKER\\OUTPUT FILE DATA\\MERGE_NC_TRACKER_MERGE_NEW_OLD_DATA.csv\",index=False)\n",
    "\n",
    "NC_TRACKER_FINAL_DATA =  MERGE_NC_TRACKER_MERGE_NEW_OLD_DATA"
   ]
  },
  {
   "cell_type": "code",
   "execution_count": 77,
   "metadata": {},
   "outputs": [],
   "source": [
    "MERGE_NC_TRACKER_MERGE_NEW_OLD_DATA.to_csv(r\"C:\\PYTHON\\EDF_CODE_AUTOMATION_PYTHON\\DAILY-PROGRESS-REPORT_DPR-\\OUTPUT_NC_TRACKER\\MERGE_NC_TRACKER_MERGE_NEW_OLD_DATA.csv\",index=False)"
   ]
  },
  {
   "cell_type": "code",
   "execution_count": 78,
   "metadata": {},
   "outputs": [
    {
     "data": {
      "text/html": [
       "<div>\n",
       "<style scoped>\n",
       "    .dataframe tbody tr th:only-of-type {\n",
       "        vertical-align: middle;\n",
       "    }\n",
       "\n",
       "    .dataframe tbody tr th {\n",
       "        vertical-align: top;\n",
       "    }\n",
       "\n",
       "    .dataframe thead th {\n",
       "        text-align: right;\n",
       "    }\n",
       "</style>\n",
       "<table border=\"1\" class=\"dataframe\">\n",
       "  <thead>\n",
       "    <tr style=\"text-align: right;\">\n",
       "      <th></th>\n",
       "      <th>InstallationDatetime</th>\n",
       "      <th>EntryDatetime</th>\n",
       "      <th>Utility</th>\n",
       "      <th>UtilitySiteId</th>\n",
       "      <th>UtilityDeviceId</th>\n",
       "      <th>SerialNumber</th>\n",
       "      <th>LastS05</th>\n",
       "      <th>LastS02</th>\n",
       "      <th>LastS04</th>\n",
       "      <th>CoordinateX</th>\n",
       "      <th>CoordinateY</th>\n",
       "      <th>StateName</th>\n",
       "      <th>Ip</th>\n",
       "      <th>FULL_METER_NUMBER_INFRA</th>\n",
       "      <th>day</th>\n",
       "      <th>month</th>\n",
       "      <th>year</th>\n",
       "      <th>SUB_LASTSO5_INSTALLATION</th>\n",
       "      <th>STATUS</th>\n",
       "      <th>CATEGORY NAME</th>\n",
       "      <th>NEW METER NO</th>\n",
       "      <th>CONSUMER ID</th>\n",
       "      <th>INSTALLATION_NUMBER</th>\n",
       "      <th>NAME</th>\n",
       "      <th>ADDRESS</th>\n",
       "      <th>MOBILE NUMBER</th>\n",
       "      <th>UTILITY NAME</th>\n",
       "      <th>REPLACEMENT DATE</th>\n",
       "      <th>MRU</th>\n",
       "      <th>LAT</th>\n",
       "      <th>LONG</th>\n",
       "      <th>PHASE</th>\n",
       "      <th>TOWN</th>\n",
       "      <th>VENDOR NAME</th>\n",
       "      <th>SECTION</th>\n",
       "      <th>DIVISION</th>\n",
       "      <th>TODAY_DATE</th>\n",
       "      <th>AGEING</th>\n",
       "      <th>AGEING_DAYS</th>\n",
       "      <th>SLA_AGEING</th>\n",
       "      <th>Ticket Date</th>\n",
       "      <th>Email Time</th>\n",
       "      <th>CURRENT DATE</th>\n",
       "      <th>New/OLD Cases</th>\n",
       "    </tr>\n",
       "  </thead>\n",
       "  <tbody>\n",
       "    <tr>\n",
       "      <th>0</th>\n",
       "      <td>2023-10-15 21:13:23</td>\n",
       "      <td>2023-01-11 18:08:55</td>\n",
       "      <td>NBPDCL</td>\n",
       "      <td>5000056947</td>\n",
       "      <td>LNTLT8051401</td>\n",
       "      <td>LT8051401</td>\n",
       "      <td>2024-01-25</td>\n",
       "      <td>NaT</td>\n",
       "      <td>2024-01-01</td>\n",
       "      <td>87.48042</td>\n",
       "      <td>25.78156</td>\n",
       "      <td>Imported&amp;&amp;Installed</td>\n",
       "      <td>2405:0203:0531:6995:0000:0000:0000:0010</td>\n",
       "      <td>LNTLT8051401</td>\n",
       "      <td>25</td>\n",
       "      <td>1</td>\n",
       "      <td>2024</td>\n",
       "      <td>101 days 02:46:37</td>\n",
       "      <td>Closed</td>\n",
       "      <td>LTIS-ID</td>\n",
       "      <td>LT8051401</td>\n",
       "      <td>400025978.0</td>\n",
       "      <td>5000056947</td>\n",
       "      <td>M/S KISHAN ENTERPRISES</td>\n",
       "      <td>S/O T.PRASAD; NEAR AZAD T     PURNIA_U PURNIA ...</td>\n",
       "      <td>9546200212</td>\n",
       "      <td>NBPD</td>\n",
       "      <td>2023-10-14</td>\n",
       "      <td>GBECL3PH</td>\n",
       "      <td>25.7815624</td>\n",
       "      <td>87.4804234</td>\n",
       "      <td>3</td>\n",
       "      <td>Purnea</td>\n",
       "      <td>edf</td>\n",
       "      <td>PURNEA(TOWN I)</td>\n",
       "      <td>PURNEA(W)</td>\n",
       "      <td>2024-02-08 15:48:23.087199</td>\n",
       "      <td>14 days 15:48:23.087199</td>\n",
       "      <td>14</td>\n",
       "      <td>7-15 days</td>\n",
       "      <td>2024-02-08</td>\n",
       "      <td>6:00 P.M</td>\n",
       "      <td>2024-02-08</td>\n",
       "      <td>New Case</td>\n",
       "    </tr>\n",
       "  </tbody>\n",
       "</table>\n",
       "</div>"
      ],
      "text/plain": [
       "  InstallationDatetime       EntryDatetime Utility UtilitySiteId  \\\n",
       "0  2023-10-15 21:13:23 2023-01-11 18:08:55  NBPDCL    5000056947   \n",
       "\n",
       "  UtilityDeviceId SerialNumber    LastS05 LastS02    LastS04  CoordinateX  \\\n",
       "0    LNTLT8051401    LT8051401 2024-01-25     NaT 2024-01-01     87.48042   \n",
       "\n",
       "   CoordinateY            StateName                                       Ip  \\\n",
       "0     25.78156  Imported&&Installed  2405:0203:0531:6995:0000:0000:0000:0010   \n",
       "\n",
       "  FULL_METER_NUMBER_INFRA  day  month  year SUB_LASTSO5_INSTALLATION  STATUS  \\\n",
       "0            LNTLT8051401   25      1  2024        101 days 02:46:37  Closed   \n",
       "\n",
       "  CATEGORY NAME NEW METER NO  CONSUMER ID INSTALLATION_NUMBER  \\\n",
       "0       LTIS-ID    LT8051401  400025978.0          5000056947   \n",
       "\n",
       "                     NAME                                            ADDRESS  \\\n",
       "0  M/S KISHAN ENTERPRISES  S/O T.PRASAD; NEAR AZAD T     PURNIA_U PURNIA ...   \n",
       "\n",
       "  MOBILE NUMBER UTILITY NAME REPLACEMENT DATE       MRU         LAT  \\\n",
       "0    9546200212         NBPD       2023-10-14  GBECL3PH  25.7815624   \n",
       "\n",
       "         LONG PHASE    TOWN VENDOR NAME         SECTION   DIVISION  \\\n",
       "0  87.4804234     3  Purnea         edf  PURNEA(TOWN I)  PURNEA(W)   \n",
       "\n",
       "                  TODAY_DATE                  AGEING  AGEING_DAYS SLA_AGEING  \\\n",
       "0 2024-02-08 15:48:23.087199 14 days 15:48:23.087199           14  7-15 days   \n",
       "\n",
       "  Ticket Date Email Time CURRENT DATE New/OLD Cases  \n",
       "0  2024-02-08   6:00 P.M   2024-02-08      New Case  "
      ]
     },
     "execution_count": 78,
     "metadata": {},
     "output_type": "execute_result"
    }
   ],
   "source": [
    "NC_TRACKER_FINAL_DATA.head(1)"
   ]
  },
  {
   "cell_type": "code",
   "execution_count": 79,
   "metadata": {},
   "outputs": [],
   "source": [
    "NC_TRACKER_FINAL_DATA['ADDRESS'] = NC_TRACKER_FINAL_DATA['ADDRESS'].str.replace(',', ';')\n",
    "NC_TRACKER_FINAL_DATA['NAME'] = NC_TRACKER_FINAL_DATA['NAME'].str.replace(',', ';')\n"
   ]
  },
  {
   "cell_type": "code",
   "execution_count": 80,
   "metadata": {},
   "outputs": [],
   "source": [
    "NC_TRACKER_FINAL_DATA.to_csv(r\"C:\\Users\\Ratan Kumar Jha\\Desktop\\Daily progress report\\NC_TRACKER\\OUTPUT FILE DATA\\NC_TRACKER_FINAL_DATA.csv\",index=False)"
   ]
  },
  {
   "cell_type": "code",
   "execution_count": null,
   "metadata": {},
   "outputs": [],
   "source": []
  }
 ],
 "metadata": {
  "kernelspec": {
   "display_name": "Python 3",
   "language": "python",
   "name": "python3"
  },
  "language_info": {
   "codemirror_mode": {
    "name": "ipython",
    "version": 3
   },
   "file_extension": ".py",
   "mimetype": "text/x-python",
   "name": "python",
   "nbconvert_exporter": "python",
   "pygments_lexer": "ipython3",
   "version": "3.9.18"
  }
 },
 "nbformat": 4,
 "nbformat_minor": 2
}
