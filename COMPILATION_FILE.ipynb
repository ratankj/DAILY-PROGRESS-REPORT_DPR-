{
 "cells": [
  {
   "cell_type": "code",
   "execution_count": 1,
   "metadata": {},
   "outputs": [],
   "source": [
    "import pandas as pd"
   ]
  },
  {
   "cell_type": "code",
   "execution_count": 2,
   "metadata": {},
   "outputs": [
    {
     "name": "stdout",
     "output_type": "stream",
     "text": [
      "2021 data is done\n",
      "2022 data is done\n",
      "2023 data is done\n",
      "2024 data is done\n"
     ]
    }
   ],
   "source": [
    "# METER COMPILATION DATA\n",
    "\n",
    "\n",
    "COMPILED_METER_2021=pd.read_excel(r\"C:\\Users\\Ratan Kumar Jha\\Desktop\\Daily progress report\\RC_DC_TRACKER\\COMPILED_METER_INSTALLATION_ALL\\compiled_Data_2021.xlsx\")\n",
    "print(\"2021 data is done\")\n",
    "COMPLIED_METER_2022=pd.read_excel(r\"C:\\Users\\Ratan Kumar Jha\\Desktop\\Daily progress report\\RC_DC_TRACKER\\COMPILED_METER_INSTALLATION_ALL\\compiled_Data_2022.xlsx\")\n",
    "print(\"2022 data is done\")\n",
    "COMPLIED_METER_2023=pd.read_excel(r\"C:\\Users\\Ratan Kumar Jha\\Desktop\\Daily progress report\\RC_DC_TRACKER\\COMPILED_METER_INSTALLATION_ALL\\compiled_Data_2023.xlsx\")\n",
    "print(\"2023 data is done\")\n",
    "COMPLIED_METER_2024=pd.read_excel(r\"C:\\Users\\Ratan Kumar Jha\\Desktop\\Daily progress report\\RC_DC_TRACKER\\COMPILED_METER_INSTALLATION_ALL\\complied_Data_2024.xlsx\")\n",
    "print(\"2024 data is done\")\n",
    "\n",
    "\n",
    "\n",
    "\n",
    "#convert to csv\n",
    "\n",
    "\n",
    "COMPILED_METER_2021.to_csv(r\"C:\\PYTHON\\EDF_CODE_AUTOMATION_PYTHON\\DAILY-PROGRESS-REPORT_DPR-\\output_folder_data_compliation\\COMPILED_METER_2021.csv\",index=False)\n",
    "COMPLIED_METER_2022.to_csv(r\"C:\\PYTHON\\EDF_CODE_AUTOMATION_PYTHON\\DAILY-PROGRESS-REPORT_DPR-\\output_folder_data_compliation\\COMPLIED_METER_2022.csv\",index=False)\n",
    "COMPLIED_METER_2023.to_csv(r\"C:\\PYTHON\\EDF_CODE_AUTOMATION_PYTHON\\DAILY-PROGRESS-REPORT_DPR-\\output_folder_data_compliation\\COMPLIED_METER_2023.csv\",index=False)\n",
    "COMPLIED_METER_2024.to_csv(r\"C:\\PYTHON\\EDF_CODE_AUTOMATION_PYTHON\\DAILY-PROGRESS-REPORT_DPR-\\output_folder_data_compliation\\COMPLIED_METER_2024.csv\",index=False)\n",
    "\n",
    "\n"
   ]
  },
  {
   "cell_type": "code",
   "execution_count": null,
   "metadata": {},
   "outputs": [],
   "source": []
  }
 ],
 "metadata": {
  "kernelspec": {
   "display_name": "Python 3",
   "language": "python",
   "name": "python3"
  },
  "language_info": {
   "codemirror_mode": {
    "name": "ipython",
    "version": 3
   },
   "file_extension": ".py",
   "mimetype": "text/x-python",
   "name": "python",
   "nbconvert_exporter": "python",
   "pygments_lexer": "ipython3",
   "version": "3.9.18"
  }
 },
 "nbformat": 4,
 "nbformat_minor": 2
}
